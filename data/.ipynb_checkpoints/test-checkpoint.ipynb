{
 "cells": [
  {
   "cell_type": "code",
   "execution_count": 71,
   "metadata": {},
   "outputs": [],
   "source": [
    "%use kotlin-statistics, krangl, kravis"
   ]
  },
  {
   "cell_type": "code",
   "execution_count": 25,
   "metadata": {},
   "outputs": [],
   "source": [
    "import kotlin.text.*"
   ]
  },
  {
   "cell_type": "code",
   "execution_count": 106,
   "metadata": {},
   "outputs": [],
   "source": [
    "var df = DataFrame.readTSV(\"sh_sessions_multi.tsv\")"
   ]
  },
  {
   "cell_type": "code",
   "execution_count": 145,
   "metadata": {},
   "outputs": [
    {
     "data": {
      "text/html": [
       "<html><body><table><tr><th style=\"text-align:left\">session_id</th><th style=\"text-align:left\">start_time</th><th style=\"text-align:left\">sec</th><th style=\"text-align:left\">min</th><th style=\"text-align:left\">category</th><th style=\"text-align:left\">events</th></tr><tr><td style=\"text-align:left\" title=\"1305192621b4643-a1d4-4288-9cb2-9ece426a01f1_1\">1305192621b4643-a1d4-4288-9cb2-9ece426a01f1_1</td><td style=\"text-align:left\" title=\"26.08.2019 10:28\">26.08.2019 10:28</td><td style=\"text-align:left\" title=\"164\">164</td><td style=\"text-align:left\" title=\"2\">2</td><td style=\"text-align:left\" title=\"Coding, VCS\">Coding, VCS</td><td style=\"text-align:left\" title=\"actions_Find , actions_com.intellij.find.SearchReplaceComponent$10 , actions_com.intellij.openapi.fileEditor.impl.EditorTabbedContainer$CloseTab , toolwindow_Project , actions_FindInPath , ui.dialogs_com.intellij.find.impl.FindPopupPanel$2 , actions_com.intellij.find.impl.FindPopupPanel$MyEnterAction , ui.dialogs_com.intellij.find.impl.FindPopupPanel$2 , file.types.usage_JAVA , actions_GotoDeclaration , productivity_navigation.goto.declaration , file.types.usage_JAVA , productivity_editing.select.word , actions_Find , actions_NextOccurence , actions_com.intellij.find.SearchReplaceComponent$10 , actions_GotoDeclaration , productivity_navigation.goto.declaration , productivity_editing.select.word , actions_EditorCopy , actions_Back , actions_Vcs.ShowTabbedFileHistory , toolwindow_Version_Control , toolbar_Vcs.ShowTabbedFileHistory , actions_Diff.ShowDiff , actions_HideActiveWindow , toolbar_HideActiveWindow , actions_FindInPath , ui.dialogs_com.intellij.find.impl.FindPopupPanel$2 , ui.dialogs_com.intellij.find.impl.FindPopupPanel$2 , actions_GotoDeclaration , productivity_navigation.goto.declaration , file.types.usage_JAVA , actions_GotoDeclaration , productivity_navigation.goto.declaration , file.types.usage_JAVA , gutter.icon.click_implementedMethod , actions_com.intellij.codeInsight.daemon.NavigateAction , file.types.usage_JAVA , actions_Back , productivity_editing.select.word , actions_GotoDeclaration , productivity_navigation.goto.declaration , file.types.usage_JAVA , actions_com.intellij.codeInsight.daemon.NavigateAction , gutter.icon.click_implementedMethod , file.types.usage_JAVA , productivity_editing.select.word , actions_GotoDeclaration , productivity_navigation.goto.declaration , file.types.usage_JAVA , actions_EditorCopy\">actions_Find , actions_com.intellij.find.Search...</td></tr><tr><td style=\"text-align:left\" title=\"0104192bd9b36a1-98c7-4a5e-817d-313d69be0ba3_1\">0104192bd9b36a1-98c7-4a5e-817d-313d69be0ba3_1</td><td style=\"text-align:left\" title=\"30.08.2019 20:16\">30.08.2019 20:16</td><td style=\"text-align:left\" title=\"66\">66</td><td style=\"text-align:left\" title=\"1\">1</td><td style=\"text-align:left\" title=\"Coding\">Coding</td><td style=\"text-align:left\" title=\"actions_FindInPath , toolwindow_Find , ui.dialogs_com.intellij.find.impl.FindPopupPanel$2 , ui.dialogs_com.intellij.find.impl.FindPopupPanel$2 , actions_GotoDeclaration , productivity_navigation.goto.declaration , file.types.usage_JAVA\">actions_FindInPath , toolwindow_Find , ui.dialo...</td></tr><tr><td style=\"text-align:left\" title=\"0304192f4244c10-88fc-4a38-992b-28bf8ffcfb58_0\">0304192f4244c10-88fc-4a38-992b-28bf8ffcfb58_0</td><td style=\"text-align:left\" title=\"27.08.2019 6:18\">27.08.2019 6:18</td><td style=\"text-align:left\" title=\"11\">11</td><td style=\"text-align:left\" title=\"0\">0</td><td style=\"text-align:left\" title=\"Ide start, Ide close\">Ide start, Ide close</td><td style=\"text-align:left\" title=\"event.log_whitelist.loaded , lifecycle_ide.start , ui.dialogs_com.intellij.openapi.progress.util.ProgressDialog$MyDialogWrapper , lifecycle_project.opened , toolwindow_Project , ui.tips_dialog.shown , ui.dialogs_com.intellij.ide.util.TipDialog , ui.dialogs_com.intellij.openapi.progress.util.ProgressDialog$MyDialogWrapper , lifecycle_ide.close , lifecycle_project.closed\">event.log_whitelist.loaded , lifecycle_ide.star...</td></tr><tr><td style=\"text-align:left\" title=\"0905192c46ec682-3f47-4af1-b313-755dbfcfe1fa_4\">0905192c46ec682-3f47-4af1-b313-755dbfcfe1fa_4</td><td style=\"text-align:left\" title=\"27.08.2019 11:24\">27.08.2019 11:24</td><td style=\"text-align:left\" title=\"748\">748</td><td style=\"text-align:left\" title=\"12\">12</td><td style=\"text-align:left\" title=\"Coding\">Coding</td><td style=\"text-align:left\" title=\"toolwindow_Project , file.types.usage_JAVA , actions_EditorCopy , actions_EditorCopy\">toolwindow_Project , file.types.usage_JAVA , ac...</td></tr><tr><td style=\"text-align:left\" title=\"1404192054d7ef6-857b-4fd3-9084-333d5eb67b73_27\">1404192054d7ef6-857b-4fd3-9084-333d5eb67b73_27</td><td style=\"text-align:left\" title=\"30.08.2019 10:04\">30.08.2019 10:04</td><td style=\"text-align:left\" title=\"489\">489</td><td style=\"text-align:left\" title=\"8\">8</td><td style=\"text-align:left\" title=\"Coding\">Coding</td><td style=\"text-align:left\" title=\"productivity_SearchEverywhere , searchEverywhere_dialogOpen , actions_GotoClass , actions_EditorPaste , actions_third.party , file.types.usage_JAVA , actions_Find , actions_EditorPaste , actions_com.intellij.find.SearchReplaceComponent$10 , productivity_editing.select.word , productivity_editing.select.word , actions_CallHierarchy , toolwindow_Hierarchy , file.types.usage_JAVA , productivity_editing.select.word , actions_EditorCopy , actions_validation.unmatched_rule , actions_EditorPaste , productivity_navigation.popup.camelprefix , file.types.usage_JAVA , productivity_editing.select.word , actions_Back , productivity_editing.select.word , actions_validation.unmatched_rule , productivity_navigation.popup.camelprefix , productivity_editing.select.word , actions_GotoImplementation , productivity_navigation.goto.implementation , file.types.usage_JAVA , actions_FindInPath , find_FindInPath.FileFilterOn , ui.dialogs_com.intellij.find.impl.FindPopupPanel$2 , actions_EditorPaste , find_FindPopupPanel$ToggleFileFilter , ui.dialogs_com.intellij.find.impl.FindPopupPanel$2 , actions_CallHierarchy , toolwindow_Hierarchy , productivity_editing.select.word , actions_GotoDeclaration , productivity_navigation.goto.declaration , productivity_editing.select.word , actions_validation.unmatched_rule , productivity_navigation.popup.camelprefix , actions_GotoDeclaration , productivity_navigation.goto.declaration , productivity_editing.select.word , productivity_editing.select.word , actions_FindInPath , ui.dialogs_com.intellij.find.impl.FindPopupPanel$2 , ui.dialogs_com.intellij.find.impl.FindPopupPanel$2 , actions_third.party , productivity_editing.select.word , actions_GotoDeclaration , productivity_navigation.goto.declaration , file.types.usage_JAVA , actions_com.intellij.ide.projectView.impl.ProjectViewImpl$ScrollFromSourceAction , toolbar_com.intellij.ide.projectView.impl.ProjectViewImpl$ScrollFromSourceAction , toolbar_com.intellij.ide.projectView.impl.ProjectViewImpl$ScrollFromSourceAction , actions_com.intellij.ide.projectView.impl.ProjectViewImpl$ScrollFromSourceAction , actions_Back , productivity_editing.select.word , productivity_editing.select.word , productivity_editing.select.word\">productivity_SearchEverywhere , searchEverywher...</td></tr></table></body></html>"
      ]
     },
     "execution_count": 145,
     "metadata": {},
     "output_type": "execute_result"
    }
   ],
   "source": [
    "df.head()"
   ]
  },
  {
   "cell_type": "code",
   "execution_count": 120,
   "metadata": {},
   "outputs": [],
   "source": [
    "val s = df[\"events\"]"
   ]
  },
  {
   "cell_type": "code",
   "execution_count": 60,
   "metadata": {},
   "outputs": [],
   "source": [
    "var sid = df[\"session_id\"][0]"
   ]
  },
  {
   "cell_type": "code",
   "execution_count": 244,
   "metadata": {},
   "outputs": [],
   "source": [
    "fun getMostFrequentEvents(events:krangl.DataCol, limit: Int = 100): MutableMap<String, Int> {\n",
    "    var eventsMap: MutableMap<String, Int> = HashMap<String, Int>()\n",
    "    for (i in 0..events.length - 1) {\n",
    "        for (ev in events[i].toString().split(\" , \")) {\n",
    "            if (eventsMap.containsKey(ev)) {\n",
    "                eventsMap.set(ev, eventsMap.getValue(ev) + 1)\n",
    "            }\n",
    "            else {\n",
    "                eventsMap.put(ev, 1)\n",
    "            }\n",
    "        }\n",
    "    }\n",
    "    val realLimit = if (eventsMap.size > limit) limit else eventsMap.size\n",
    "    return eventsMap\n",
    "//     return eventsMap.toSortedMap(compareBy { eventsMap[it]?.times(-1) }).keys.toList().sli\n",
    "//     return eventsMap.toSortedMap(compareBy { eventsMap[it]?.times(-1) }).keys.toList().slice(0..realLimit-1)\n",
    "}"
   ]
  },
  {
   "cell_type": "code",
   "execution_count": 245,
   "metadata": {},
   "outputs": [],
   "source": [
    "val evs = getMostFrequentEvents(s, 100)"
   ]
  },
  {
   "cell_type": "code",
   "execution_count": 254,
   "metadata": {},
   "outputs": [
    {
     "data": {
      "text/plain": [
       "{ui.dialogs_com.intellij.openapi.progress.util.ProgressDialog$MyDialogWrapper=251, actions_EditorBackSpace=237, productivity_editing.select.word=153, file.types.usage_JAVA=148, actions_GotoDeclaration=112, toolwindow_Project=111, productivity_navigation.goto.declaration=107, actions_EditorEnter=105, actions_EditorPaste=100, actions_EditorCopy=95, actions_EditorDown=87, lifecycle_project.opened=82, lifecycle_project.opening.finished=81, productivity_editing.completion.basic=76, ui.dialogs_com.intellij.find.impl.FindPopupPanel$2=67, actions_EditorRight=66, lifecycle_project.closed=63, actions_EditorUp=62, actions_EditorChooseLookupItem=59, toolwindow_Run=57, searchEverywhere_dialogOpen=55, actions_EditorLeft=54, actions_SaveAll=52, actions_Back=48, actions_com.intellij.openapi.actionSystem.EmptyAction$MyDelegatingAction=45, productivity_SearchEverywhere=42, toolwindow_Terminal=41, kotlin.gradle.target_MPP.js.js=40, actions_$Undo=38, file.types.usage_YAML=35, actions_third.party=33, productivity_editor.delete.line=32, toolwindow_Version_Control=31, toolwindow_unknown=30, actions_FindInPath=29, event.log_whitelist.loaded=28, actions_EditorDelete=27, kotlin.gradle.target_kotlin-platform-jvm=26, actions_SearchEverywhere=25, actions_Find=22, file.types.usage_Kotlin=21, actions_HideActiveWindow=20, kotlin.jps.target_jvm=19, terminalShell_local.exec=18, toolwindow_Messages=17, ui.dialogs_com.intellij.openapi.vcs.update.ActionInfo$1$1=16, kotlin.maven.target_jvm=15, ui.dialogs_com.intellij.openapi.vcs.changes.ui.DefaultCommitChangeListDialog=14, actions_Rerun=13, actions_GotoFile=12, file.types.usage_JavaScript=11, toolwindow_third.party=10, actions_tooltip.actions.execute=9, file.types.usage_Markdown=8, file.types.usage_third.party=7, actions_com.intellij.find.impl.FindPopupPanel$MyEnterAction=6, actions_com.intellij.ui.ScrollingUtil$12=5, actions_com.intellij.openapi.ui.DialogWrapper$5=4, actions_EditorPageUp=3, ui.dialogs_com.intellij.refactoring.safeDelete.UnsafeUsagesDialog=2, run.configuration.exec_TestNG=1}"
      ]
     },
     "execution_count": 254,
     "metadata": {},
     "output_type": "execute_result"
    }
   ],
   "source": [
    "evs.toSortedMap(compareBy { evs[it]?.times(-1) })"
   ]
  },
  {
   "cell_type": "code",
   "execution_count": null,
   "metadata": {},
   "outputs": [],
   "source": [
    "evs.toSortedMap(compareBy { evs[it] }).size"
   ]
  },
  {
   "cell_type": "code",
   "execution_count": 228,
   "metadata": {},
   "outputs": [
    {
     "data": {
      "text/plain": [
       "class krangl.StringCol"
      ]
     },
     "execution_count": 228,
     "metadata": {},
     "output_type": "execute_result"
    }
   ],
   "source": [
    "s::class"
   ]
  },
  {
   "cell_type": "code",
   "execution_count": 203,
   "metadata": {},
   "outputs": [
    {
     "data": {
      "text/plain": [
       "175"
      ]
     },
     "execution_count": 203,
     "metadata": {},
     "output_type": "execute_result"
    }
   ],
   "source": [
    "s.length"
   ]
  },
  {
   "cell_type": "code",
   "execution_count": 199,
   "metadata": {},
   "outputs": [],
   "source": [
    "var events: MutableMap<String, Int> = HashMap<String, Int>()"
   ]
  },
  {
   "cell_type": "code",
   "execution_count": 200,
   "metadata": {
    "scrolled": true
   },
   "outputs": [],
   "source": [
    "for (i in 0..174) {\n",
    "    for (ev in s[i].toString().split(\" , \")) {\n",
    "        if (events.containsKey(ev)) {\n",
    "            events.set(ev, events.getValue(ev) + 1)\n",
    "        }\n",
    "        else {\n",
    "            events.put(ev, 1)\n",
    "        }\n",
    "    }\n",
    "}"
   ]
  },
  {
   "cell_type": "code",
   "execution_count": 220,
   "metadata": {},
   "outputs": [],
   "source": [
    "var lim = if (events.size > 1000) 1000 else events.size"
   ]
  },
  {
   "cell_type": "code",
   "execution_count": 221,
   "metadata": {},
   "outputs": [
    {
     "data": {
      "text/plain": [
       "454"
      ]
     },
     "execution_count": 221,
     "metadata": {},
     "output_type": "execute_result"
    }
   ],
   "source": [
    "lim"
   ]
  },
  {
   "cell_type": "code",
   "execution_count": 223,
   "metadata": {},
   "outputs": [
    {
     "data": {
      "text/plain": [
       "[ui.dialogs_com.intellij.openapi.progress.util.ProgressDialog$MyDialogWrapper, actions_EditorBackSpace]"
      ]
     },
     "execution_count": 223,
     "metadata": {},
     "output_type": "execute_result"
    }
   ],
   "source": [
    "events.toSortedMap(compareBy { events[it]?.times(-1) }).keys.toList().slice(0..1)"
   ]
  },
  {
   "cell_type": "code",
   "execution_count": 208,
   "metadata": {},
   "outputs": [
    {
     "data": {
      "text/plain": [
       "{ui.dialogs_com.intellij.openapi.progress.util.ProgressDialog$MyDialogWrapper=251, actions_EditorBackSpace=237, productivity_editing.select.word=153, file.types.usage_JAVA=148, actions_GotoDeclaration=112, toolwindow_Project=111, productivity_navigation.goto.declaration=107, actions_EditorEnter=105, actions_EditorPaste=100, actions_EditorCopy=95, actions_EditorDown=87, lifecycle_project.opened=82, lifecycle_project.opening.finished=81, productivity_editing.completion.basic=76, ui.dialogs_com.intellij.find.impl.FindPopupPanel$2=67, actions_EditorRight=66, lifecycle_project.closed=63, actions_EditorUp=62, actions_EditorChooseLookupItem=59, toolwindow_Run=57, searchEverywhere_dialogOpen=55, actions_EditorLeft=54, actions_SaveAll=52, actions_Back=48, actions_com.intellij.openapi.actionSystem.EmptyAction$MyDelegatingAction=45, productivity_SearchEverywhere=42, toolwindow_Terminal=41, kotlin.gradle.target_MPP.js.js=40, actions_$Undo=38, file.types.usage_YAML=35, actions_third.party=33, productivity_editor.delete.line=32, toolwindow_Version_Control=31, toolwindow_unknown=30, actions_FindInPath=29, event.log_whitelist.loaded=28, actions_EditorDelete=27, kotlin.gradle.target_kotlin-platform-jvm=26, actions_SearchEverywhere=25, actions_Find=22, file.types.usage_Kotlin=21, actions_HideActiveWindow=20, kotlin.jps.target_jvm=19, terminalShell_local.exec=18, toolwindow_Messages=17, ui.dialogs_com.intellij.openapi.vcs.update.ActionInfo$1$1=16, kotlin.maven.target_jvm=15, ui.dialogs_com.intellij.openapi.vcs.changes.ui.DefaultCommitChangeListDialog=14, actions_Rerun=13, actions_GotoFile=12, file.types.usage_JavaScript=11, toolwindow_third.party=10, actions_tooltip.actions.execute=9, file.types.usage_Markdown=8, file.types.usage_third.party=7, actions_com.intellij.find.impl.FindPopupPanel$MyEnterAction=6, actions_com.intellij.ui.ScrollingUtil$12=5, actions_com.intellij.openapi.ui.DialogWrapper$5=4, actions_EditorPageUp=3, ui.dialogs_com.intellij.refactoring.safeDelete.UnsafeUsagesDialog=2, run.configuration.exec_TestNG=1}"
      ]
     },
     "execution_count": 208,
     "metadata": {},
     "output_type": "execute_result"
    }
   ],
   "source": [
    "events.toSortedMap(compareBy { events[it]?.times(-1) })"
   ]
  },
  {
   "cell_type": "code",
   "execution_count": 242,
   "metadata": {},
   "outputs": [
    {
     "data": {
      "text/plain": [
       "454"
      ]
     },
     "execution_count": 242,
     "metadata": {},
     "output_type": "execute_result"
    }
   ],
   "source": [
    "events.size"
   ]
  },
  {
   "cell_type": "code",
   "execution_count": 198,
   "metadata": {},
   "outputs": [
    {
     "data": {
      "text/plain": [
       "-3"
      ]
     },
     "execution_count": 198,
     "metadata": {},
     "output_type": "execute_result"
    }
   ],
   "source": [
    "events[\"actions_EditorPageUp\"]?.times(1)"
   ]
  },
  {
   "cell_type": "code",
   "execution_count": 166,
   "metadata": {},
   "outputs": [
    {
     "data": {
      "text/plain": [
       "1"
      ]
     },
     "execution_count": 166,
     "metadata": {},
     "output_type": "execute_result"
    }
   ],
   "source": [
    "events[\"lik\"]"
   ]
  },
  {
   "cell_type": "code",
   "execution_count": 148,
   "metadata": {},
   "outputs": [
    {
     "data": {
      "text/plain": [
       "[file.types.usage_Markdown, run.configuration.exec_TestNG, toolwindow_third.party, toolbar_Compare.SameVersion, actions_com.intellij.openapi.ui.DialogWrapper$5, actions_git4idea.ui.branch.GitBranchPopupActions$LocalBranchActions$CheckoutAction, ui.dialogs_com.intellij.refactoring.safeDelete.UnsafeUsagesDialog, actions_com.intellij.ui.tabs.newImpl.JBTabsImpl$SelectNextAction, actions_EditorChooseLookupItem, statistics.go.inspection.reports.trigger_imports.are.not.sorted, ui.dialogs_com.intellij.openapi.vcs.changes.ui.DefaultCommitChangeListDialog, ui.dialogs_com.intellij.ide.util.MemberChooser, actions_GotoFile, actions_FileStructurePopup, actions_org.jetbrains.plugins.terminal.TerminalView$1, file.types.usage_third.party, actions_EditorPageUp, file.types.usage_JavaScript, file.types.usage_Ruby, toolbar_com.intellij.find.FindAllAction, ui.dialogs_com.intellij.debugger.ui.RunHotswapDialog, kotlin.gradle.target_MPP.js.js, actions_ReformatCode, actions_com.intellij.find.impl.FindPopupPanel$MyEnterAction, run.configuration.exec_validation.unmatched_rule, productivity_scratch, build.maven.packagesearch_packagesearch.success, toolbar_CheckinProject, toolbar_org.jetbrains.plugins.terminal.TerminalView$1, build.maven.packagesearch_packagesearch.error, actions_UsageView.Rerun, actions_OverrideMethods, ui.dialogs_com.intellij.openapi.progress.util.ProgressDialog$MyDialogWrapper, actions_com.intellij.ui.ScrollingUtil$12, toolbar_com.intellij.execution.impl.ConsoleViewImpl$ClearThisConsoleAction, actions_Back, actions_Reload_Classes, toolwindow_Ant, debugger.breakpoints.usage_breakpoint.added, actions_com.intellij.find.SearchReplaceComponent$10, ui.dialogs_com.intellij.find.findUsages.FindClassUsagesDialog, toolwindow_Project, actions_CollapseRegion, actions_com.intellij.ide.fileTemplates.actions.CreateFromTemplateAction, actions_Rerun, intentions_org.jetbrains.kotlin.idea.quickfix.AddModifierFix, actions_Generate, actions_ShowReformatFileDialog, toolwindow_Services, actions_WelcomeScreen.ImportProject, toolwindow_sbt-shell-toolwindow, event.log_whitelist.loaded, actions_EditorUp, go.programming.errors_inspection.found.problem, productivity_navigation.goto.usages, actions_com.intellij.find.impl.FindPopupPanel$14, intentions_com.jetbrains.python.codeInsight.intentions.PyQuotedStringIntention, file.types.usage_JAVA, actions_FindInPath, toolbar_Console.Transaction.Commit, actions_validation.unmatched_rule, searchEverywhere_dialogOpen, ui.dialogs_com.intellij.ide.projectWizard.NewProjectWizard, actions_EditorCodeBlockStart, actions_com.intellij.ui.ScrollingUtil$11, actions_SaveAll, kotlin.maven.target_jvm, educational.counters_peek.solution, statistics.go.inspection.reports.trigger_unused.result:.<code>#ref<\\/code>, toolbar_FileChooser.NewFolder, actions_$Paste, actions_EditorDelete, actions_Debug, kotlin.gradle.target_kotlin-platform-jvm, actions_CheckForUpdate, actions_com.intellij.ide.util.FileStructurePopup$6, actions_ExpandLiveTemplateByTab, actions_EditorScrollUp, actions_com.intellij.execution.impl.ConsoleViewImpl$ClearThisConsoleAction, actions_tooltip.actions.execute, actions_Find, productivity_codeassists.comment.block, file.types.usage_Shell_Script, toolbar_XDebugger.MuteBreakpoints, lifecycle_ide.close, actions_com.intellij.framework.detection.impl.FrameworkDetectionManager$3, productivity_codeassists.comment.line, ui.dialogs_com.intellij.dvcs.push.ui.VcsPushDialog, intentions_org.jetbrains.kotlin.idea.quickfix.QuickFixWithDelegateFactory, js.language.service.starts_TypeScriptServerServiceImpl, actions_NextTemplateVariable, toolwindow_Debug, actions_EditorLineStartWithSelection, actions_Vcs.QuickListPopupAction, toolwindow_Ant_Build, actions_com.intellij.find.editorHeaderActions.SwitchToFind, ide.self.update_notification.clicked, ui.dialogs_com.intellij.ide.fileTemplates.ui.CreateFromTemplateDialog, actions_EditorEnter, actions_OpenFile, build.maven.actions_ReimportProjectAction, ui.dialogs_com.intellij.find.impl.FindPopupPanel$2, toolbar_Vcs.UpdateProject, actions_ParameterInfo, live.templates_psvm, toolbar_RunConfiguration, toolbar_Resume, file.types.usage_Properties, file.types.usage_Play2, actions_$Copy, actions_Git.Commit.And.Push.Executor, toolbar_Maven.RunBuild, toolbar_CompileDirty, actions_CompileDirty, file.types.usage_Kotlin, actions_com.intellij.openapi.externalSystem.service.project.autoimport.ExternalSystemProjectsWatcherImpl$MyNotification$1, ui.tips_dialog.shown, ui.dialogs_com.intellij.ide.actions.CreateFileFromTemplateDialog, ui.settings_com.intellij.openapi.project.impl.UndefinedMacrosConfigurable, actions_ShowUsages, actions_com.intellij.diagnostic.WindowsDefenderFixAction, file.types.usage_Cucumber, run.configuration.exec_MavenRunConfiguration, ui.dialogs_com.intellij.util.ui.ConfirmationDialog, toolbar_Back, productivity_db.table.editor, intentions_com.intellij.lang.javascript.validation.fixes.ChangeLanguageLevelFix, ui.settings_com.chrisrm.idea.config.MTCustomThemeConfigurable, actions_HideAllWindows, ui.dialogs_com.intellij.openapi.vcs.update.ActionInfo$1$1, toolbar_com.intellij.find.impl.FindPopupPanel$MySelectScopeToggleAction, actions_com.intellij.execution.actions.RunContextAction, actions_com.intellij.find.impl.FindPopupPanel$MySelectScopeToggleAction, ui.dialogs_com.intellij.openapi.vcs.merge.MultipleFileMergeDialog, toolwindow_Messages, toolbar_com.intellij.ide.actions.CollapseAllToolbarAction, lifecycle_ide.start, ui.settings_com.intellij.ide.plugins.PluginManagerConfigurableProxy, actions_Tree-selectPrevious, gutter.icon.click_mybatis_xml, actions_ManageRecentProjects, actions_com.intellij.openapi.fileEditor.impl.EditorTabbedContainer$CloseTab, run.configuration.exec_PythonConfigurationType, ui.event_HectorPopupDisplayed, ui.dialogs_com.intellij.openapi.vcs.changes.ui.RollbackChangesDialog, searchEverywhere_contributorItemChosen, actions_Compare.SameVersion, lifecycle_project.opening.finished, productivity_refactoring.introduceVariable.incompleteStatement, actions_FindUsages, productivity_editing.completion.replace, actions_Vcs.ShowTabbedFileHistory, actions_CollapseAll, actions_Vcs.Push, actions_com.intellij.openapi.wm.impl.ToolWindowHeader$HideAction, terminalShell_local.exec, actions_HideActiveWindow, file.types.usage_Vue.js, actions_IntroduceVariable, educational.counters_link.clicked, productivity_db.console, ui.dialogs_org.jetbrains.plugins.cucumber.inspections.ui.CreateStepDefinitionFileDialog, productivity_navigation.goto.implementation, file.types.usage_PLAIN_TEXT, actions_Console.Execute, actions_Educational.CompareWithAnswer, gutter.icon.click_mybatis_java, actions_EditorTab, actions_EditorDown, actions_DialogOkAction, actions_Console.Transaction.Rollback, actions_$SelectAll, toolwindow_??, actions_Stop, find_FindInPath.WholeWordsOn, kotlin.gradle.target_MPP.common.metadata, actions_HippieCompletion, run.configuration.exec_JetRunConfigurationType, file.types.usage_RHTML, productivity_navigation.goto.declaration, actions_EditorScrollDown, actions_EditorLeftWithSelection, actions_ActivateVersionControlToolWindow, actions_GotoClass, find_FindPopupPanel$ToggleWholeWords, actions_EditorBackSpace, actions_com.intellij.ide.actions.CollapseAllToolbarAction, actions_EditorLineEnd, gutter.icon.click_implementedMethod, actions_com.intellij.openapi.project.DumbAwareAction$1, find_FindInPath.MatchCaseOn, actions_Maven.ReimportProject, productivity_editor.delete.line, lifecycle_project.closed, actions_FileChooser.NewFolder, actions_EditorLineEndWithSelection, file.types.usage_SQL, build.tools.actions_RunExternalSystemTaskAction, kotlin.jps.target_jvm, toolwindow_Task, productivity_switcher, actions_PreviousOccurence, actions_GotoDeclaration, actions_com.intellij.execution.lineMarker.ExecutorAction, actions_com.intellij.ide.projectView.impl.ProjectViewImpl$ScrollFromSourceAction, ui.dialogs_com.intellij.find.findUsages.CommonFindUsagesDialog, actions_$Redo, productivity_editing.completion.second.basic, ui.dialogs_com.intellij.openapi.ui.Messages$InputDialog, run.configuration.exec_GradleRunConfiguration, ui.dialogs_com.intellij.openapi.updateSettings.impl.UpdateInfoDialog, actions_GotoAction, toolwindow_Version_Control, actions_com.maddyhome.idea.vim.ui.ExShortcutKeyAction, actions_com.intellij.find.editorHeaderActions.NextOccurrenceAction, debugger.breakpoints.usage_new.java-line, debugger.breakpoints.usage_breakpoint.verified, actions_Switcher, actions_CollapseAllRegions, actions_CloseProject, actions_org.jetbrains.idea.maven.utils.MavenImportNotifier$3, lifecycle_project.opened, actions_Console.Transaction.Commit, intentions_org.jetbrains.kotlin.idea.inspections.AbstractApplicabilityBasedInspection$LocalFix, actions_ConsoleView.ClearAll, toolwindow_unknown, intentions_com.intellij.lang.javascript.linter.tslint.fix.TsLintErrorFixAction, actions_$LRU, toolbar_Stop, file.types.usage_Python, ui.dialogs_com.intellij.refactoring.copy.CopyFilesOrDirectoriesDialog, actions_ExecuteInPyConsoleAction, actions_com.intellij.lang.ant.config.explorer.AntExplorer$RunAction, actions_com.intellij.openapi.vcs.ex.LocalLineStatusTracker$LocalLineStatusMarkerRenderer$RollbackLineStatusRangeAction, actions_EditorDeleteLine, toolwindow_Run, new.project.wizard_finish, productivity_editing.completion.variable.name, ui.dialogs_com.intellij.openapi.vcs.readOnlyHandler.ReadOnlyStatusDialog, actions_NewScratchFile, file.types.usage_HOCON, ui.settings_com.intellij.openapi.options.ex.SortedConfigurableGroup, toolwindow_Gradle, actions_CloseAllEditorsButActive, file.types.usage_PHP, actions_$Delete, file.types.usage_YAML, file.types.usage_TypeScript, ui.dialogs_com.intellij.framework.detection.impl.ui.ConfigureDetectedFrameworksDialog, find_FindPopupPanel$ToggleFileFilter, toolbar_com.intellij.openapi.actionSystem.ex.DefaultCustomComponentAction, actions_EditorPreviousWord, productivity_navigation.popup.camelprefix, actions_EditorRightWithSelection, actions_EditorPreviousWordWithSelection, kotlin.gradle.target_unknown, actions_CodeCompletion, find_FindInPath.RegexOn, actions_EditorPageDown, run.configuration.exec_Application, actions_EditorCopy, actions_Maven.RunBuild, productivity_editing.completion.basic, actions_ExpandRegionRecursively, ui.dialogs_com.intellij.openapi.fileChooser.ex.FileChooserDialogImpl, actions_MoveLineDown, toolbar_NextOccurence, intentions_com.intellij.spellchecker.quickfixes.RenameTo, productivity_codeassists.quickjavadoc.lookup, actions_EditorRight, ui.dialogs_com.intellij.application.options.pathMacros.PathMacroEditor, actions_Progress_Paused, gutter.icon.click_showAutowiredDependencies, actions_EditSource, actions_Annotate, intentions_com.intellij.lang.typescript.intentions.TypeScriptAddImportStatementFix, toolbar_com.intellij.openapi.wm.impl.ToolWindowHeader$HideAction, actions_CommentByBlockComment, actions_com.intellij.openapi.wm.impl.ProjectWindowAction, ide.self.update_dialog.shown, file.types.usage_Groovy, toolwindow_Find, actions_$Undo, actions_com.intellij.execution.actions.RunConfigurationsComboBoxAction$SelectConfigAction, actions_com.intellij.vcs.log.history.FileHistoryPanel$3, ui.dialogs_git4idea.ui.GitStashDialog, build.ant.actions_RunSelectedBuild, actions_Diff.ShowDiff, productivity_editing.select.word, actions_Git.Stash, gutter.icon.click_db_verified_breakpoint, actions_CompileProject, ui.dialogs_com.intellij.diff.merge.MergeWindow$MyDialog, actions_com.intellij.openapi.wm.impl.welcomeScreen.FlatWelcomeFrame$FlatWelcomeScreen$4, actions_EditorChooseLookupItemReplace, toolbar_Vcs.ToggleAmendCommitMode, actions_CommentByLineComment, actions_EditorDownWithSelection, ui.dialogs_com.intellij.openapi.ui.messages.MessageDialog, file.types.usage_Scala, productivity_SearchEverywhere, actions_EditorLeft, actions_NewFile, ui.dialogs_com.intellij.openapi.vcs.changes.ui.ChangeListViewerDialog, actions_com.intellij.xdebugger.impl.breakpoints.RemoveBreakpointGutterIconAction, actions_ChangesView.Revert, actions_OpenModuleSettings, intentions_org.jetbrains.plugins.cucumber.inspections.CucumberCreateStepFix, actions_RunAnything, ui.dialogs_com.intellij.openapi.ui.DialogBuilder$MyDialogWrapper, actions_EditorPaste, actions_CheckinProject, actions_EditorDuplicate, actions_Vcs.ShowDiffWithLocal, ui.dialogs_com.intellij.ide.util.newProjectWizard.AddModuleWizard, toolwindow_Hierarchy, run.configuration.exec_JUnit, run.configuration.exec_SpringBootApplicationConfigurationType, actions_EditorLineStart, actions_$Cut, actions_Tree-selectParent, actions_Vcs.ToggleAmendCommitMode, vcs.log.trigger_history.CompareRevisionsFromFolderHistoryActionProvider, actions_NextOccurence, ui.dialogs_com.intellij.ide.util.TipDialog, actions_MoveLineUp, actions_DoubleShortcut, actions_CallHierarchy, toolbar_com.intellij.lang.properties.editor.NewPropertyAction, toolwindow_Bean_Validation, actions_third.party, toolbar_HideActiveWindow, actions_Compile, actions_com.intellij.find.FindAllAction, actions_StepOver, actions_GotoSymbol, toolbar_Debug, toolbar_Rerun, ui.dialogs_com.intellij.openapi.updateSettings.impl.PluginUpdateInfoDialog, ui.dialogs_com.intellij.openapi.options.newEditor.SettingsDialog, ui.dialogs_com.intellij.openapi.ui.WindowWrapperBuilder$DialogWindowWrapper$MyDialogWrapper, ui.dialogs_git4idea.checkin.GitPushAfterCommitDialog, file.types.usage_HTML, actions_NewProject, actions_RunDashboard.Debug, toolwindow_File_Transfer, toolwindow_Terminal, actions_Tree-selectNext, actions_EditorUpWithSelection, actions_ActivateProjectToolWindow, actions_EditorNextWord, actions_com.intellij.ide.projectView.actions.MarkSourceRootAction, actions_WindowMenu, productivity_editing.completion.camelHumps, ui.dialogs_com.intellij.util.net.ssl.CertificateWarningDialog, toolwindow_Build, js.language.service.starts_VueTypeScriptService, productivity_navigation.popup.file.structure, vcs.back.forward.trigger_editor, file.types.usage_JSON, actions_ShowSettings, actions_Vcs.UpdateProject, file.types.usage_Dockerfile, kotlin.gradle.target_MPP.jvm.jvm, actions_RunClass, toolbar_com.intellij.ui.CommonActionsPanel$MyActionButton, debugger.breakpoints.usage_new.breakpoint, find_FindInPath.FileFilterOn, actions_GotoImplementation, toolwindow_Run_Dashboard, actions_com.intellij.ide.ReopenProjectAction, actions_CloseAllEditors, actions_SearchEverywhere, find_FindInEditor.RegexOn, ui.settings_com.intellij.ide.ui.AppearanceConfigurable, actions_Resume, productivity_codeassists.quickjavadoc, productivity_ui.tree.speedsearch, ui.dialogs_com.intellij.openapi.vcs.changes.ui.CommitChangeListDialog, actions_Progress_Resumed, toolbar_com.intellij.lang.ant.config.explorer.AntExplorer$RunAction, toolbar_PreviousOccurence, ui.dialogs_com.intellij.ide.util.projectWizard.JdkChooserPanel$MyDialog, file.types.usage_Go, actions_com.intellij.openapi.editor.impl.EditorGutterComponentImpl$CloseAnnotationsAction, vcs.log.trigger_tab.navigated, actions_EditorIndentSelection, file.types.usage_XML, json.schema_completion.by.schema.invoked, actions_Run, ide.self.update_dialog.update.started, ui.tips_shown.automatically, actions_EditorNextWordWithSelection, new.project.wizard_attempt, actions_EditorDeleteToWordStart, actions_com.intellij.execution.ExecutorRegistryImpl$ExecutorAction, ui.dialogs_com.intellij.codeInsight.actions.LayoutCodeDialog, run.configuration.exec_#com.intellij.j2ee.web.tomcat.TomcatRunConfigurationFactory, toolbar_com.intellij.execution.ExecutorRegistryImpl$ExecutorAction, productivity_refactoring.rename, productivity_refactoring.introduceVariable, actions_com.intellij.ui.ScrollingUtil$5, actions_com.intellij.ui.ScrollingUtil$6, toolbar_Console.Transaction.Rollback, find_FindInEditor.MatchCaseOn, actions_EditorCutLineEnd, actions_CheckinFiles, actions_NewElement, intentions_com.jetbrains.clones.languagescope.common.NavigateToDuplicateFix, toolbar_Console.Jdbc.Execute, ui.dialogs_de.halirutan.keypromoterx.tips.KPXStartupDialog, toolbar_Run, run.configuration.exec_tests, toolbar_UsageView.Rerun, actions_com.intellij.openapi.actionSystem.EmptyAction$MyDelegatingAction, actions_Tree-selectChild, toolbar_ShowSettings, statistics.go.inspection.reports.trigger_unused.parameter.<code>#ref<\\/code>, toolwindow_Spring, actions_Vcs.CherryPick, actions_ShowIntentionActions, actions_ActivateDebugToolWindow, file.types.usage_Scratch, actions_EditorUnindentSelection, toolbar_CollapseAll, actions_com.intellij.lang.properties.editor.NewPropertyAction, actions_NewClass, toolwindow_Event_Log, ui.dialogs_com.intellij.ide.util.DeleteHandler$2, actions_tooltip.actions.show.all, actions_ToggleLineBreakpoint, productivity_db.console.run.intention, vcs.log.trigger_TabNavigation, actions_Replace, toolbar_com.intellij.openapi.vcs.ex.LocalLineStatusTracker$LocalLineStatusMarkerRenderer$RollbackLineStatusRangeAction, actions_com.intellij.codeInsight.daemon.NavigateAction, actions_Console.Jdbc.Execute, vcs.log.trigger_history.shown, actions_EditorCut, actions_NewDir, actions_QuickJavaDoc, toolbar_com.intellij.ide.projectView.impl.ProjectViewImpl$ScrollFromSourceAction, toolbar_SearchEverywhere, actions_Git.Fetch, actions_com.intellij.ui.CommonActionsPanel$MyActionButton, actions_XDebugger.MuteBreakpoints, file.types.usage_CLASS, actions_Jdbc.OpenEditor, educational.counters_check.task, toolwindow_Database, actions_EditorEscape, toolbar_Vcs.ShowTabbedFileHistory, actions_Git.ResolveConflicts, actions_EditorSelectWord]"
      ]
     },
     "execution_count": 148,
     "metadata": {},
     "output_type": "execute_result"
    }
   ],
   "source": [
    "events"
   ]
  },
  {
   "cell_type": "code",
   "execution_count": 127,
   "metadata": {},
   "outputs": [
    {
     "name": "stdout",
     "output_type": "stream",
     "text": [
      "actions_Find\n",
      "actions_com.intellij.find.SearchReplaceComponent$10\n",
      "actions_com.intellij.openapi.fileEditor.impl.EditorTabbedContainer$CloseTab\n",
      "toolwindow_Project\n",
      "actions_FindInPath\n",
      "ui.dialogs_com.intellij.find.impl.FindPopupPanel$2\n",
      "actions_com.intellij.find.impl.FindPopupPanel$MyEnterAction\n",
      "ui.dialogs_com.intellij.find.impl.FindPopupPanel$2\n",
      "file.types.usage_JAVA\n",
      "actions_GotoDeclaration\n",
      "productivity_navigation.goto.declaration\n",
      "file.types.usage_JAVA\n",
      "productivity_editing.select.word\n",
      "actions_Find\n",
      "actions_NextOccurence\n",
      "actions_com.intellij.find.SearchReplaceComponent$10\n",
      "actions_GotoDeclaration\n",
      "productivity_navigation.goto.declaration\n",
      "productivity_editing.select.word\n",
      "actions_EditorCopy\n",
      "actions_Back\n",
      "actions_Vcs.ShowTabbedFileHistory\n",
      "toolwindow_Version_Control\n",
      "toolbar_Vcs.ShowTabbedFileHistory\n",
      "actions_Diff.ShowDiff\n",
      "actions_HideActiveWindow\n",
      "toolbar_HideActiveWindow\n",
      "actions_FindInPath\n",
      "ui.dialogs_com.intellij.find.impl.FindPopupPanel$2\n",
      "ui.dialogs_com.intellij.find.impl.FindPopupPanel$2\n",
      "actions_GotoDeclaration\n",
      "productivity_navigation.goto.declaration\n",
      "file.types.usage_JAVA\n",
      "actions_GotoDeclaration\n",
      "productivity_navigation.goto.declaration\n",
      "file.types.usage_JAVA\n",
      "gutter.icon.click_implementedMethod\n",
      "actions_com.intellij.codeInsight.daemon.NavigateAction\n",
      "file.types.usage_JAVA\n",
      "actions_Back\n",
      "productivity_editing.select.word\n",
      "actions_GotoDeclaration\n",
      "productivity_navigation.goto.declaration\n",
      "file.types.usage_JAVA\n",
      "actions_com.intellij.codeInsight.daemon.NavigateAction\n",
      "gutter.icon.click_implementedMethod\n",
      "file.types.usage_JAVA\n",
      "productivity_editing.select.word\n",
      "actions_GotoDeclaration\n",
      "productivity_navigation.goto.declaration\n",
      "file.types.usage_JAVA\n",
      "actions_EditorCopy\n"
     ]
    }
   ],
   "source": [
    "for (i in s[0].toString().split(\" , \")) {\n",
    "    println(i)\n",
    "}"
   ]
  },
  {
   "cell_type": "code",
   "execution_count": null,
   "metadata": {},
   "outputs": [],
   "source": []
  }
 ],
 "metadata": {
  "kernelspec": {
   "display_name": "Kotlin",
   "language": "kotlin",
   "name": "kotlin"
  },
  "language_info": {
   "codemirror_mode": "text/x-kotlin",
   "file_extension": "kt",
   "name": "kotlin"
  }
 },
 "nbformat": 4,
 "nbformat_minor": 2
}
