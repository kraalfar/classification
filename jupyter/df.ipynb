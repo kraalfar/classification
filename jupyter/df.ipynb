{
 "cells": [
  {
   "cell_type": "code",
   "execution_count": 1,
   "metadata": {},
   "outputs": [
    {
     "data": {
      "text/html": [
       "   <div id=\"FrGLyU\"></div>\n",
       "   <script type=\"text/javascript\">\n",
       "       if(!window.letsPlotCallQueue) {\n",
       "           window.letsPlotCallQueue = [];\n",
       "       }; \n",
       "       window.letsPlotCall = function(f) {\n",
       "           window.letsPlotCallQueue.push(f);\n",
       "       };\n",
       "       (function() {\n",
       "           var script = document.createElement(\"script\");\n",
       "           script.type = \"text/javascript\";\n",
       "           script.src = \"https://dl.bintray.com/jetbrains/lets-plot/lets-plot-1.0.0.min.js\";\n",
       "           script.onload = function() {\n",
       "               window.letsPlotCall = function(f) {f();};\n",
       "               window.letsPlotCallQueue.forEach(function(f) {f();});\n",
       "               window.letsPlotCallQueue = [];\n",
       "               \n",
       "               \n",
       "           };\n",
       "           script.onerror = function(event) {\n",
       "               window.letsPlotCall = function(f) {};\n",
       "               window.letsPlotCallQueue = [];\n",
       "               var div = document.createElement(\"div\");\n",
       "               div.style.color = 'darkred';\n",
       "               div.textContent = 'Error loading Lets-Plot JS';\n",
       "               document.getElementById(\"FrGLyU\").appendChild(div);\n",
       "           };\n",
       "           var e = document.getElementById(\"FrGLyU\");\n",
       "           e.appendChild(script);\n",
       "       })();\n",
       "   </script>"
      ]
     },
     "metadata": {},
     "output_type": "display_data"
    }
   ],
   "source": [
    "%use kotlin-statistics, krangl, kravis, lets-plot"
   ]
  },
  {
   "cell_type": "code",
   "execution_count": 2,
   "metadata": {},
   "outputs": [],
   "source": [
    "import kotlin.math.*"
   ]
  },
  {
   "cell_type": "code",
   "execution_count": 3,
   "metadata": {},
   "outputs": [],
   "source": [
    "@file:Repository(\"https://dl.bintray.com/kyonifer/maven\")\n",
    "@file:DependsOn(\"com.kyonifer:koma-core-ejml:0.12\")\n",
    "@file:DependsOn(\"com.kyonifer:koma-plotting:0.12\")"
   ]
  },
  {
   "cell_type": "code",
   "execution_count": 4,
   "metadata": {},
   "outputs": [],
   "source": [
    "import koma.extensions.*\n",
    "import koma.*"
   ]
  },
  {
   "cell_type": "code",
   "execution_count": 5,
   "metadata": {},
   "outputs": [
    {
     "data": {
      "text/html": [
       "   <div id=\"YZ8XmJ\"></div>\n",
       "   <script type=\"text/javascript\">\n",
       "       if(!window.letsPlotCallQueue) {\n",
       "           window.letsPlotCallQueue = [];\n",
       "       }; \n",
       "       window.letsPlotCall = function(f) {\n",
       "           window.letsPlotCallQueue.push(f);\n",
       "       };\n",
       "       (function() {\n",
       "           var script = document.createElement(\"script\");\n",
       "           script.type = \"text/javascript\";\n",
       "           script.src = \"https://dl.bintray.com/jetbrains/lets-plot/lets-plot-1.0.0.min.js\";\n",
       "           script.onload = function() {\n",
       "               window.letsPlotCall = function(f) {f();};\n",
       "               window.letsPlotCallQueue.forEach(function(f) {f();});\n",
       "               window.letsPlotCallQueue = [];\n",
       "               \n",
       "               \n",
       "           };\n",
       "           script.onerror = function(event) {\n",
       "               window.letsPlotCall = function(f) {};\n",
       "               window.letsPlotCallQueue = [];\n",
       "               var div = document.createElement(\"div\");\n",
       "               div.style.color = 'darkred';\n",
       "               div.textContent = 'Error loading Lets-Plot JS';\n",
       "               document.getElementById(\"YZ8XmJ\").appendChild(div);\n",
       "           };\n",
       "           var e = document.getElementById(\"YZ8XmJ\");\n",
       "           e.appendChild(script);\n",
       "       })();\n",
       "   </script>"
      ]
     },
     "metadata": {},
     "output_type": "display_data"
    }
   ],
   "source": [
    "%use lets-plot"
   ]
  },
  {
   "cell_type": "code",
   "execution_count": 5,
   "metadata": {},
   "outputs": [],
   "source": [
    "fun trainTestSplit(path: String, fraction: Double = 0.8): Pair<DataFrame, DataFrame> {\n",
    "    val df = DataFrame.readTSV(path)\n",
    "    val trainCount: Int = kotlin.math.ceil(fraction * df.nrow).toInt()\n",
    "    val shuffledDf = df.shuffle()\n",
    "    return Pair(shuffledDf.slice(0..trainCount), shuffledDf.slice(trainCount + 1..shuffledDf.nrow))\n",
    "}"
   ]
  },
  {
   "cell_type": "code",
   "execution_count": 6,
   "metadata": {},
   "outputs": [],
   "source": [
    "class BoW(private val limit: Int = 100) {\n",
    "\n",
    "    private var voc: Map<String, Int> = HashMap()\n",
    "\n",
    "    fun initialize(df: DataFrame) {\n",
    "        val events = df[\"events\"]\n",
    "        val eventsMap: MutableMap<String, Int> = HashMap()\n",
    "        for (i in 0 until events.length) {\n",
    "            for (ev in events[i].toString().split(\" , \")) {\n",
    "                if (eventsMap.containsKey(ev)) {\n",
    "                    eventsMap[ev] = eventsMap.getValue(ev) + 1\n",
    "                } else {\n",
    "                    eventsMap[ev] = 1\n",
    "                }\n",
    "            }\n",
    "        }\n",
    "        val realLimit = if (eventsMap.size > limit) limit else eventsMap.size\n",
    "        voc = eventsMap.toSortedMap(compareBy({ eventsMap[it]?.times(-1) }, { it })).keys.toList()\n",
    "            .slice(0 until realLimit).withIndex().toList().associate {it.value to it.index}\n",
    "    }\n",
    "\n",
    "    fun transform(df: DataFrame): Pair<koma.matrix.Matrix<Double>, List<String>> {\n",
    "        val mat = zeros(df.nrow, voc.size + 2)\n",
    "        val label = ArrayList<String>()\n",
    "        for (i in 0 until df.nrow) {\n",
    "            mat[i, voc.size] = df[\"min\"][i] as Int\n",
    "            mat[i, voc.size + 1] = df[\"events\"][i].toString().split(\" , \").size\n",
    "            label.add(df[\"category\"][i].toString())\n",
    "            for (event in df[\"events\"][i].toString().split(\" , \")) {\n",
    "                if (voc.containsKey(event)) {\n",
    "                    mat[i, voc[event] as Int] += 1\n",
    "                }\n",
    "            }\n",
    "        }\n",
    "        return Pair(mat, label)\n",
    "    }\n",
    "\n",
    "}"
   ]
  },
  {
   "cell_type": "code",
   "execution_count": 7,
   "metadata": {},
   "outputs": [],
   "source": [
    "class NaiveBayes(private val alpha:Double = 1e-5) {\n",
    "\n",
    "    private var classProb: MutableMap<String, Double> = HashMap()\n",
    "    private var classes: MutableList<String> = ArrayList()\n",
    "    private var probs: MutableMap<String, DoubleArray> = HashMap()\n",
    "\n",
    "\n",
    "\n",
    "    fun fit(X: koma.matrix.Matrix<Double>, y: List<String>) {\n",
    "        for (i in y.indices) {\n",
    "            for (cls in y[i].toLowerCase().split(\", \")) {\n",
    "                if (!classProb.containsKey(cls)) {\n",
    "                    classProb[cls] = 1.0 / y.size\n",
    "                    classes.add(cls)\n",
    "                    probs[cls] = DoubleArray(X.shape()[1] - 2) {alpha}\n",
    "                } else {\n",
    "                    classProb[cls] = classProb.getValue(cls) + 1.0 / y.size\n",
    "                }\n",
    "                for (j in 0 until X.shape()[1] - 2) {\n",
    "                    probs.getOrDefault(cls, DoubleArray(0))[j] += X[i, j]\n",
    "                }\n",
    "            }\n",
    "\n",
    "        }\n",
    "        for (cls in classes) {\n",
    "            val den = probs.getOrDefault(cls, DoubleArray(0)).sum()\n",
    "            for (j in 0 until X.shape()[1] - 2) {\n",
    "                probs.getOrDefault(cls, DoubleArray(0))[j] /= den\n",
    "            }\n",
    "        }\n",
    "    }\n",
    "\n",
    "    fun logProb(X: koma.matrix.Matrix<Double>): koma.matrix.Matrix<Double> {\n",
    "        val ans = zeros(X.shape()[0], classes.size)\n",
    "        for (i in 0 until X.shape()[0]) {\n",
    "            for (j in classes.indices) {\n",
    "                val cls = classes[j]\n",
    "                ans[i, j] = kotlin.math.ln(classProb.getOrDefault(cls, alpha))\n",
    "                for (k in 0 until X.shape()[1] - 2) {\n",
    "                    ans[i, j] += X[i, k] * kotlin.math.ln(probs.getOrDefault(cls, DoubleArray(0))[k])\n",
    "                }\n",
    "            }\n",
    "        }\n",
    "        return ans\n",
    "    }\n",
    "\n",
    "    fun predict(X: koma.matrix.Matrix<Double>): List<String> {\n",
    "        val probs = logProb(X)\n",
    "        val ans = ArrayList<String>()\n",
    "\n",
    "        probs.forEachRow { ans.add(classes[it.argMax()]) }\n",
    "        return ans\n",
    "    }\n",
    "}"
   ]
  },
  {
   "cell_type": "code",
   "execution_count": 13,
   "metadata": {},
   "outputs": [],
   "source": [
    "val (train, test) = trainTestSplit(\"../data/sh_sessions_multi.tsv\")"
   ]
  },
  {
   "cell_type": "code",
   "execution_count": 14,
   "metadata": {},
   "outputs": [],
   "source": [
    "fun testPrecisionRecall(cat: String=\"coding\"): Triple<ArrayList<Double>, ArrayList<Double>, ArrayList<Int>> {\n",
    "    val rec = ArrayList<Double>()\n",
    "    val prec = ArrayList<Double>()\n",
    "    val x = ArrayList<Int>()\n",
    "    for (i in 10 until 450 step 10) {\n",
    "        val bow = BoW(i)\n",
    "        bow.initialize(train)\n",
    "\n",
    "        val (X_bow, y_bow) = bow.transform(train)\n",
    "        val (X_bow_test, y_bow_test) = bow.transform(test)\n",
    "        val classificator = NaiveBayes(1e-4)\n",
    "        classificator.fit(X_bow, y_bow)\n",
    "\n",
    "        val ans = classificator.predict(X_bow_test)\n",
    "        var TP = 0.0\n",
    "        var FN = 0.0\n",
    "        var FP = 0.0\n",
    "\n",
    "        for(i in y_bow_test.indices) {\n",
    "\n",
    "            if (y_bow_test[i].toLowerCase().contains(cat) && ans[i].contains(cat)) {\n",
    "                TP += 1\n",
    "            }\n",
    "\n",
    "            if (y_bow_test[i].toLowerCase().contains(cat) && !ans[i].contains(cat)) {\n",
    "                FN += 1\n",
    "            }\n",
    "\n",
    "            if (!y_bow_test[i].toLowerCase().contains(cat) && ans[i].contains(cat)) {\n",
    "                FP += 1\n",
    "            }\n",
    "        }\n",
    "        rec.add(TP / (TP + FN))\n",
    "        prec.add(TP / (TP + FP))\n",
    "\n",
    "\n",
    "        x.add(i)\n",
    "    }\n",
    "    return Triple(rec, prec, x)\n",
    "}"
   ]
  },
  {
   "cell_type": "code",
   "execution_count": 15,
   "metadata": {},
   "outputs": [],
   "source": [
    "val res = ArrayList<Double>()\n",
    "val x = ArrayList<Int>()"
   ]
  },
  {
   "cell_type": "code",
   "execution_count": 16,
   "metadata": {},
   "outputs": [],
   "source": [
    "for (i in 10 until 450 step 10) {\n",
    "    val bow = BoW(i)\n",
    "    bow.initialize(train)\n",
    "\n",
    "    val (X_bow, y_bow) = bow.transform(train)\n",
    "    val (X_bow_test, y_bow_test) = bow.transform(test)\n",
    "    val classificator = NaiveBayes(1e-4)\n",
    "    classificator.fit(X_bow, y_bow)\n",
    "\n",
    "    val ans = classificator.predict(X_bow_test)\n",
    "    var tot = 0.0\n",
    "    var TP = 0.0\n",
    "    var FN = 0.0\n",
    "    var FP = 0.0\n",
    "\n",
    "    for(i in y_bow_test.indices) {\n",
    "        if (y_bow_test[i].toLowerCase().contains(ans[i])) {\n",
    "            tot += 1\n",
    "        }\n",
    "    }\n",
    "    res.add(tot / y_bow_test.size)\n",
    "    x.add(i)\n",
    "}"
   ]
  },
  {
   "cell_type": "code",
   "execution_count": 17,
   "metadata": {},
   "outputs": [
    {
     "data": {
      "text/html": [
       "   <div id=\"b0O8VL\"></div>\n",
       "   <script type=\"text/javascript\">\n",
       "       (function() {\n",
       "           var plotSpec={\n",
       "'mapping':{\n",
       "'x':\"x\",\n",
       "'y':\"y\"\n",
       "},\n",
       "'data':{\n",
       "'x':[10.0,20.0,30.0,40.0,50.0,60.0,70.0,80.0,90.0,100.0,110.0,120.0,130.0,140.0,150.0,160.0,170.0,180.0,190.0,200.0,210.0,220.0,230.0,240.0,250.0,260.0,270.0,280.0,290.0,300.0,310.0,320.0,330.0,340.0,350.0,360.0,370.0,380.0,390.0,400.0,410.0,420.0,430.0,440.0],\n",
       "'y':[0.6285714285714286,0.6,0.7714285714285715,0.7428571428571429,0.7142857142857143,0.7428571428571429,0.7142857142857143,0.7428571428571429,0.7142857142857143,0.7428571428571429,0.7428571428571429,0.7428571428571429,0.7714285714285715,0.7714285714285715,0.8,0.8,0.7714285714285715,0.8,0.8,0.8,0.8,0.8,0.8571428571428571,0.8857142857142857,0.8857142857142857,0.8857142857142857,0.8857142857142857,0.8857142857142857,0.8857142857142857,0.8857142857142857,0.8857142857142857,0.8857142857142857,0.8857142857142857,0.8857142857142857,0.8857142857142857,0.8857142857142857,0.8857142857142857,0.8857142857142857,0.8857142857142857,0.8857142857142857,0.8857142857142857,0.8857142857142857,0.8857142857142857,0.8857142857142857]\n",
       "},\n",
       "'kind':\"plot\",\n",
       "'scales':[],\n",
       "'layers':[{\n",
       "'stat':\"identity\",\n",
       "'mapping':{\n",
       "},\n",
       "'data':{\n",
       "},\n",
       "'position':\"identity\",\n",
       "'geom':\"line\"\n",
       "}]\n",
       "};\n",
       "           var plotContainer = document.getElementById(\"b0O8VL\");\n",
       "           window.letsPlotCall(function() {{\n",
       "               LetsPlot.buildPlotFromProcessedSpecs(plotSpec, -1, -1, plotContainer);\n",
       "           }});\n",
       "       })();    \n",
       "   </script>"
      ]
     },
     "execution_count": 17,
     "metadata": {},
     "output_type": "execute_result"
    }
   ],
   "source": [
    "val df = mapOf(\"x\" to x, \"y\" to res )\n",
    "val p = lets_plot(df) {x = \"x\"; y = \"y\"}\n",
    "p + geom_line()"
   ]
  },
  {
   "cell_type": "code",
   "execution_count": 18,
   "metadata": {},
   "outputs": [],
   "source": [
    "var (rec, prec, x) = testPrecisionRecall(\"coding\")"
   ]
  },
  {
   "cell_type": "code",
   "execution_count": 19,
   "metadata": {},
   "outputs": [
    {
     "data": {
      "text/html": [
       "   <div id=\"TltZyK\"></div>\n",
       "   <script type=\"text/javascript\">\n",
       "       (function() {\n",
       "           var plotSpec={\n",
       "'mapping':{\n",
       "'x':\"x\",\n",
       "'y':\"y\"\n",
       "},\n",
       "'data':{\n",
       "'x':[10.0,20.0,30.0,40.0,50.0,60.0,70.0,80.0,90.0,100.0,110.0,120.0,130.0,140.0,150.0,160.0,170.0,180.0,190.0,200.0,210.0,220.0,230.0,240.0,250.0,260.0,270.0,280.0,290.0,300.0,310.0,320.0,330.0,340.0,350.0,360.0,370.0,380.0,390.0,400.0,410.0,420.0,430.0,440.0],\n",
       "'y':[0.6842105263157895,0.6666666666666666,0.9090909090909091,0.8888888888888888,0.8571428571428571,0.875,0.875,0.8888888888888888,0.8888888888888888,0.9090909090909091,0.9090909090909091,0.9090909090909091,0.9166666666666666,0.9166666666666666,0.9230769230769231,0.9230769230769231,0.9285714285714286,0.9333333333333333,0.9333333333333333,0.9333333333333333,0.9333333333333333,0.9333333333333333,0.9375,0.9411764705882353,0.9411764705882353,0.9411764705882353,0.9411764705882353,0.9411764705882353,0.9411764705882353,0.9411764705882353,0.9411764705882353,0.9411764705882353,0.9411764705882353,0.9411764705882353,0.9411764705882353,0.9411764705882353,0.9411764705882353,0.9411764705882353,0.9411764705882353,0.9411764705882353,0.9411764705882353,0.9411764705882353,0.9411764705882353,0.9411764705882353]\n",
       "},\n",
       "'kind':\"plot\",\n",
       "'scales':[],\n",
       "'layers':[{\n",
       "'stat':\"identity\",\n",
       "'mapping':{\n",
       "},\n",
       "'data':{\n",
       "},\n",
       "'position':\"identity\",\n",
       "'geom':\"line\"\n",
       "}]\n",
       "};\n",
       "           var plotContainer = document.getElementById(\"TltZyK\");\n",
       "           window.letsPlotCall(function() {{\n",
       "               LetsPlot.buildPlotFromProcessedSpecs(plotSpec, -1, -1, plotContainer);\n",
       "           }});\n",
       "       })();    \n",
       "   </script>"
      ]
     },
     "execution_count": 19,
     "metadata": {},
     "output_type": "execute_result"
    }
   ],
   "source": [
    "val df = mapOf(\"x\" to x, \"y\" to prec)\n",
    "val p = lets_plot(df) {x = \"x\"; y = \"y\"}\n",
    "p + geom_line()"
   ]
  },
  {
   "cell_type": "code",
   "execution_count": 20,
   "metadata": {},
   "outputs": [
    {
     "data": {
      "text/html": [
       "   <div id=\"8yCzqT\"></div>\n",
       "   <script type=\"text/javascript\">\n",
       "       (function() {\n",
       "           var plotSpec={\n",
       "'mapping':{\n",
       "'x':\"x\",\n",
       "'y':\"y\"\n",
       "},\n",
       "'data':{\n",
       "'x':[10.0,20.0,30.0,40.0,50.0,60.0,70.0,80.0,90.0,100.0,110.0,120.0,130.0,140.0,150.0,160.0,170.0,180.0,190.0,200.0,210.0,220.0,230.0,240.0,250.0,260.0,270.0,280.0,290.0,300.0,310.0,320.0,330.0,340.0,350.0,360.0,370.0,380.0,390.0,400.0,410.0,420.0,430.0,440.0],\n",
       "'y':[0.5652173913043478,0.5217391304347826,0.43478260869565216,0.34782608695652173,0.2608695652173913,0.30434782608695654,0.30434782608695654,0.34782608695652173,0.34782608695652173,0.43478260869565216,0.43478260869565216,0.43478260869565216,0.4782608695652174,0.4782608695652174,0.5217391304347826,0.5217391304347826,0.5652173913043478,0.6086956521739131,0.6086956521739131,0.6086956521739131,0.6086956521739131,0.6086956521739131,0.6521739130434783,0.6956521739130435,0.6956521739130435,0.6956521739130435,0.6956521739130435,0.6956521739130435,0.6956521739130435,0.6956521739130435,0.6956521739130435,0.6956521739130435,0.6956521739130435,0.6956521739130435,0.6956521739130435,0.6956521739130435,0.6956521739130435,0.6956521739130435,0.6956521739130435,0.6956521739130435,0.6956521739130435,0.6956521739130435,0.6956521739130435,0.6956521739130435]\n",
       "},\n",
       "'kind':\"plot\",\n",
       "'scales':[],\n",
       "'layers':[{\n",
       "'stat':\"identity\",\n",
       "'mapping':{\n",
       "},\n",
       "'data':{\n",
       "},\n",
       "'position':\"identity\",\n",
       "'geom':\"line\"\n",
       "}]\n",
       "};\n",
       "           var plotContainer = document.getElementById(\"8yCzqT\");\n",
       "           window.letsPlotCall(function() {{\n",
       "               LetsPlot.buildPlotFromProcessedSpecs(plotSpec, -1, -1, plotContainer);\n",
       "           }});\n",
       "       })();    \n",
       "   </script>"
      ]
     },
     "execution_count": 20,
     "metadata": {},
     "output_type": "execute_result"
    }
   ],
   "source": [
    "val df = mapOf<String, Any>(\"x\" to x, \"y\" to rec )\n",
    "val p = lets_plot(df) {x = \"x\"; y = \"y\"}\n",
    "p + geom_line()"
   ]
  },
  {
   "cell_type": "code",
   "execution_count": 21,
   "metadata": {},
   "outputs": [],
   "source": [
    "var (rec, prec, x) = testPrecisionRecall(\"ide start\")"
   ]
  },
  {
   "cell_type": "code",
   "execution_count": 22,
   "metadata": {},
   "outputs": [
    {
     "data": {
      "text/html": [
       "   <div id=\"hk3zPG\"></div>\n",
       "   <script type=\"text/javascript\">\n",
       "       (function() {\n",
       "           var plotSpec={\n",
       "'mapping':{\n",
       "'x':\"x\",\n",
       "'y':\"y\"\n",
       "},\n",
       "'data':{\n",
       "'x':[10.0,20.0,30.0,40.0,50.0,60.0,70.0,80.0,90.0,100.0,110.0,120.0,130.0,140.0,150.0,160.0,170.0,180.0,190.0,200.0,210.0,220.0,230.0,240.0,250.0,260.0,270.0,280.0,290.0,300.0,310.0,320.0,330.0,340.0,350.0,360.0,370.0,380.0,390.0,400.0,410.0,420.0,430.0,440.0],\n",
       "'y':[1.0,1.0,1.0,1.0,0.8571428571428571,0.8333333333333334,0.8333333333333334,0.7142857142857143,0.75,0.875,0.875,0.875,0.875,0.875,0.875,0.875,0.875,0.875,0.875,0.875,0.875,0.875,0.875,0.875,0.875,0.875,0.875,0.875,0.875,0.875,0.875,0.875,0.875,0.875,0.875,0.875,0.875,0.875,0.875,0.875,0.875,0.875,0.875,0.875]\n",
       "},\n",
       "'kind':\"plot\",\n",
       "'scales':[],\n",
       "'layers':[{\n",
       "'stat':\"identity\",\n",
       "'mapping':{\n",
       "},\n",
       "'data':{\n",
       "},\n",
       "'position':\"identity\",\n",
       "'geom':\"line\"\n",
       "}]\n",
       "};\n",
       "           var plotContainer = document.getElementById(\"hk3zPG\");\n",
       "           window.letsPlotCall(function() {{\n",
       "               LetsPlot.buildPlotFromProcessedSpecs(plotSpec, -1, -1, plotContainer);\n",
       "           }});\n",
       "       })();    \n",
       "   </script>"
      ]
     },
     "execution_count": 22,
     "metadata": {},
     "output_type": "execute_result"
    }
   ],
   "source": [
    "val df = mapOf(\"x\" to x, \"y\" to prec)\n",
    "val p = lets_plot(df) {x = \"x\"; y = \"y\"}\n",
    "p + geom_line()"
   ]
  },
  {
   "cell_type": "code",
   "execution_count": 23,
   "metadata": {},
   "outputs": [
    {
     "data": {
      "text/html": [
       "   <div id=\"nhwoQ5\"></div>\n",
       "   <script type=\"text/javascript\">\n",
       "       (function() {\n",
       "           var plotSpec={\n",
       "'mapping':{\n",
       "'x':\"x\",\n",
       "'y':\"y\"\n",
       "},\n",
       "'data':{\n",
       "'x':[10.0,20.0,30.0,40.0,50.0,60.0,70.0,80.0,90.0,100.0,110.0,120.0,130.0,140.0,150.0,160.0,170.0,180.0,190.0,200.0,210.0,220.0,230.0,240.0,250.0,260.0,270.0,280.0,290.0,300.0,310.0,320.0,330.0,340.0,350.0,360.0,370.0,380.0,390.0,400.0,410.0,420.0,430.0,440.0],\n",
       "'y':[0.9,0.8,0.6,0.6,0.6,0.5,0.5,0.5,0.6,0.7,0.7,0.7,0.7,0.7,0.7,0.7,0.7,0.7,0.7,0.7,0.7,0.7,0.7,0.7,0.7,0.7,0.7,0.7,0.7,0.7,0.7,0.7,0.7,0.7,0.7,0.7,0.7,0.7,0.7,0.7,0.7,0.7,0.7,0.7]\n",
       "},\n",
       "'kind':\"plot\",\n",
       "'scales':[],\n",
       "'layers':[{\n",
       "'stat':\"identity\",\n",
       "'mapping':{\n",
       "},\n",
       "'data':{\n",
       "},\n",
       "'position':\"identity\",\n",
       "'geom':\"line\"\n",
       "}]\n",
       "};\n",
       "           var plotContainer = document.getElementById(\"nhwoQ5\");\n",
       "           window.letsPlotCall(function() {{\n",
       "               LetsPlot.buildPlotFromProcessedSpecs(plotSpec, -1, -1, plotContainer);\n",
       "           }});\n",
       "       })();    \n",
       "   </script>"
      ]
     },
     "execution_count": 23,
     "metadata": {},
     "output_type": "execute_result"
    }
   ],
   "source": [
    "val df = mapOf(\"x\" to x, \"y\" to rec)\n",
    "val p = lets_plot(df) {x = \"x\"; y = \"y\"}\n",
    "p + geom_line()"
   ]
  },
  {
   "cell_type": "code",
   "execution_count": 24,
   "metadata": {},
   "outputs": [],
   "source": [
    "var (rec, prec, x) = testPrecisionRecall(\"ide close\")"
   ]
  },
  {
   "cell_type": "code",
   "execution_count": 25,
   "metadata": {},
   "outputs": [
    {
     "data": {
      "text/html": [
       "   <div id=\"2qAyG7\"></div>\n",
       "   <script type=\"text/javascript\">\n",
       "       (function() {\n",
       "           var plotSpec={\n",
       "'mapping':{\n",
       "'x':\"x\",\n",
       "'y':\"y\"\n",
       "},\n",
       "'data':{\n",
       "'x':[10.0,20.0,30.0,40.0,50.0,60.0,70.0,80.0,90.0,100.0,110.0,120.0,130.0,140.0,150.0,160.0,170.0,180.0,190.0,200.0,210.0,220.0,230.0,240.0,250.0,260.0,270.0,280.0,290.0,300.0,310.0,320.0,330.0,340.0,350.0,360.0,370.0,380.0,390.0,400.0,410.0,420.0,430.0,440.0],\n",
       "'y':[0.0,0.0,0.8571428571428571,0.8571428571428571,0.8571428571428571,1.0,1.0,1.0,0.7142857142857143,0.42857142857142855,0.42857142857142855,0.42857142857142855,0.42857142857142855,0.42857142857142855,0.42857142857142855,0.42857142857142855,0.42857142857142855,0.42857142857142855,0.42857142857142855,0.42857142857142855,0.42857142857142855,0.42857142857142855,0.42857142857142855,0.42857142857142855,0.42857142857142855,0.42857142857142855,0.42857142857142855,0.42857142857142855,0.42857142857142855,0.42857142857142855,0.42857142857142855,0.42857142857142855,0.42857142857142855,0.42857142857142855,0.42857142857142855,0.42857142857142855,0.42857142857142855,0.42857142857142855,0.42857142857142855,0.42857142857142855,0.42857142857142855,0.42857142857142855,0.42857142857142855,0.42857142857142855]\n",
       "},\n",
       "'kind':\"plot\",\n",
       "'scales':[],\n",
       "'layers':[{\n",
       "'stat':\"identity\",\n",
       "'mapping':{\n",
       "},\n",
       "'data':{\n",
       "},\n",
       "'position':\"identity\",\n",
       "'geom':\"line\"\n",
       "}]\n",
       "};\n",
       "           var plotContainer = document.getElementById(\"2qAyG7\");\n",
       "           window.letsPlotCall(function() {{\n",
       "               LetsPlot.buildPlotFromProcessedSpecs(plotSpec, -1, -1, plotContainer);\n",
       "           }});\n",
       "       })();    \n",
       "   </script>"
      ]
     },
     "execution_count": 25,
     "metadata": {},
     "output_type": "execute_result"
    }
   ],
   "source": [
    "val df = mapOf(\"x\" to x, \"y\" to rec)\n",
    "val p = lets_plot(df) {x = \"x\"; y = \"y\"}\n",
    "p + geom_line()"
   ]
  },
  {
   "cell_type": "code",
   "execution_count": 26,
   "metadata": {},
   "outputs": [
    {
     "data": {
      "text/html": [
       "   <div id=\"YcJoUB\"></div>\n",
       "   <script type=\"text/javascript\">\n",
       "       (function() {\n",
       "           var plotSpec={\n",
       "'mapping':{\n",
       "'x':\"x\",\n",
       "'y':\"y\"\n",
       "},\n",
       "'data':{\n",
       "'x':[10.0,20.0,30.0,40.0,50.0,60.0,70.0,80.0,90.0,100.0,110.0,120.0,130.0,140.0,150.0,160.0,170.0,180.0,190.0,200.0,210.0,220.0,230.0,240.0,250.0,260.0,270.0,280.0,290.0,300.0,310.0,320.0,330.0,340.0,350.0,360.0,370.0,380.0,390.0,400.0,410.0,420.0,430.0,440.0],\n",
       "'y':[0.0,0.0,0.8571428571428571,0.75,0.75,0.875,0.7777777777777778,0.875,0.8333333333333334,0.75,0.75,0.75,1.0,1.0,1.0,1.0,1.0,1.0,1.0,1.0,1.0,1.0,1.0,1.0,1.0,1.0,1.0,1.0,1.0,1.0,1.0,1.0,1.0,1.0,1.0,1.0,1.0,1.0,1.0,1.0,1.0,1.0,1.0,1.0]\n",
       "},\n",
       "'kind':\"plot\",\n",
       "'scales':[],\n",
       "'layers':[{\n",
       "'stat':\"identity\",\n",
       "'mapping':{\n",
       "},\n",
       "'data':{\n",
       "},\n",
       "'position':\"identity\",\n",
       "'geom':\"line\"\n",
       "}]\n",
       "};\n",
       "           var plotContainer = document.getElementById(\"YcJoUB\");\n",
       "           window.letsPlotCall(function() {{\n",
       "               LetsPlot.buildPlotFromProcessedSpecs(plotSpec, -1, -1, plotContainer);\n",
       "           }});\n",
       "       })();    \n",
       "   </script>"
      ]
     },
     "execution_count": 26,
     "metadata": {},
     "output_type": "execute_result"
    }
   ],
   "source": [
    "val df = mapOf(\"x\" to x, \"y\" to prec)\n",
    "val p = lets_plot(df) {x = \"x\"; y = \"y\"}\n",
    "p + geom_line()"
   ]
  },
  {
   "cell_type": "code",
   "execution_count": null,
   "metadata": {},
   "outputs": [],
   "source": []
  }
 ],
 "metadata": {
  "kernelspec": {
   "display_name": "Kotlin",
   "language": "kotlin",
   "name": "kotlin"
  },
  "language_info": {
   "codemirror_mode": "text/x-kotlin",
   "file_extension": "kt",
   "name": "kotlin"
  }
 },
 "nbformat": 4,
 "nbformat_minor": 2
}
