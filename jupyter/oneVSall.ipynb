{
 "cells": [
  {
   "cell_type": "code",
   "execution_count": 1,
   "metadata": {},
   "outputs": [
    {
     "data": {
      "text/html": [
       "   <div id=\"NSwtHC\"></div>\n",
       "   <script type=\"text/javascript\">\n",
       "       if(!window.letsPlotCallQueue) {\n",
       "           window.letsPlotCallQueue = [];\n",
       "       }; \n",
       "       window.letsPlotCall = function(f) {\n",
       "           window.letsPlotCallQueue.push(f);\n",
       "       };\n",
       "       (function() {\n",
       "           var script = document.createElement(\"script\");\n",
       "           script.type = \"text/javascript\";\n",
       "           script.src = \"https://dl.bintray.com/jetbrains/lets-plot/lets-plot-1.0.0.min.js\";\n",
       "           script.onload = function() {\n",
       "               window.letsPlotCall = function(f) {f();};\n",
       "               window.letsPlotCallQueue.forEach(function(f) {f();});\n",
       "               window.letsPlotCallQueue = [];\n",
       "               \n",
       "               \n",
       "           };\n",
       "           script.onerror = function(event) {\n",
       "               window.letsPlotCall = function(f) {};\n",
       "               window.letsPlotCallQueue = [];\n",
       "               var div = document.createElement(\"div\");\n",
       "               div.style.color = 'darkred';\n",
       "               div.textContent = 'Error loading Lets-Plot JS';\n",
       "               document.getElementById(\"NSwtHC\").appendChild(div);\n",
       "           };\n",
       "           var e = document.getElementById(\"NSwtHC\");\n",
       "           e.appendChild(script);\n",
       "       })();\n",
       "   </script>"
      ]
     },
     "metadata": {},
     "output_type": "display_data"
    }
   ],
   "source": [
    "%use kotlin-statistics, krangl, kravis, lets-plot"
   ]
  },
  {
   "cell_type": "code",
   "execution_count": 2,
   "metadata": {},
   "outputs": [],
   "source": [
    "import kotlin.math.*"
   ]
  },
  {
   "cell_type": "code",
   "execution_count": 3,
   "metadata": {},
   "outputs": [],
   "source": [
    "@file:Repository(\"https://dl.bintray.com/kyonifer/maven\")\n",
    "@file:DependsOn(\"com.kyonifer:koma-core-ejml:0.12\")\n",
    "@file:DependsOn(\"com.kyonifer:koma-plotting:0.12\")"
   ]
  },
  {
   "cell_type": "code",
   "execution_count": 4,
   "metadata": {},
   "outputs": [],
   "source": [
    "import koma.extensions.*\n",
    "import koma.*"
   ]
  },
  {
   "cell_type": "code",
   "execution_count": 5,
   "metadata": {},
   "outputs": [],
   "source": [
    "fun trainTestSplit(path: String, fraction: Double = 0.8): Pair<DataFrame, DataFrame> {\n",
    "    val df = DataFrame.readTSV(path)\n",
    "    val trainCount: Int = kotlin.math.ceil(fraction * df.nrow).toInt()\n",
    "    val shuffledDf = df.shuffle()\n",
    "    return Pair(shuffledDf.slice(0..trainCount), shuffledDf.slice(trainCount + 1..shuffledDf.nrow))\n",
    "}"
   ]
  },
  {
   "cell_type": "code",
   "execution_count": 6,
   "metadata": {},
   "outputs": [],
   "source": [
    "class BoW(private val limit: Int = 5, private val n: Int = 1) {\n",
    "\n",
    "    public var voc: Map<String, Int> = HashMap()\n",
    "    public var eventsMap: MutableMap<String, Int> = HashMap()\n",
    "    public lateinit var id2word: List<String>\n",
    "\n",
    "\n",
    "    \n",
    "    fun initialize(df: DataFrame) {\n",
    "        val events = df[\"events\"]\n",
    "        for (i in 0 until events.length) {\n",
    "            val events_arr = df[\"events\"][i].toString().split(\" , \")\n",
    "            for (j in 0 until events_arr.size - n + 1) {\n",
    "                val ev = events_arr.slice(j..j + n - 1).joinToString()\n",
    "                if (eventsMap.containsKey(ev)) {\n",
    "                    eventsMap[ev] = eventsMap.getValue(ev) + 1\n",
    "                } else {\n",
    "                    eventsMap[ev] = 1\n",
    "                }\n",
    "            }\n",
    "        }\n",
    "\n",
    "        id2word = eventsMap.filter { it.value > limit}.toSortedMap(compareBy({ eventsMap[it]?.times(-1) }, { it }))\n",
    "                    .keys.toList()\n",
    "        \n",
    "        voc = id2word.withIndex().toList().associate {it.value to it.index}\n",
    "    }\n",
    "\n",
    "    fun transform(df: DataFrame): Pair<koma.matrix.Matrix<Double>, List<String>> {\n",
    "        val mat = zeros(df.nrow, voc.size + 2)\n",
    "        val label = ArrayList<String>()\n",
    "        for (i in 0 until df.nrow) {\n",
    "            mat[i, voc.size] = df[\"ms\"][i] as Int\n",
    "            mat[i, voc.size + 1] = df[\"events\"][i].toString().split(\" , \").size\n",
    "            label.add(df[\"Category\"][i].toString())\n",
    "            \n",
    "            val events_arr = df[\"events\"][i].toString().split(\" , \")\n",
    "            for (j in 0 until events_arr.size - n + 1) {\n",
    "                val event = events_arr.slice(j..j + n - 1).joinToString()\n",
    "                if (voc.containsKey(event)) {\n",
    "                    mat[i, voc[event] as Int] += 1\n",
    "                }\n",
    "            }\n",
    "        }\n",
    "        return Pair(mat, label)\n",
    "    }\n",
    "    \n",
    "}"
   ]
  },
  {
   "cell_type": "code",
   "execution_count": 7,
   "metadata": {},
   "outputs": [],
   "source": [
    "val (train, test) = trainTestSplit(\"../data/test/test_data.tsv\")"
   ]
  },
  {
   "cell_type": "code",
   "execution_count": 8,
   "metadata": {},
   "outputs": [],
   "source": [
    "val bow = BoW(n=1)\n",
    "bow.initialize(train)"
   ]
  },
  {
   "cell_type": "code",
   "execution_count": null,
   "metadata": {},
   "outputs": [],
   "source": []
  },
  {
   "cell_type": "code",
   "execution_count": 66,
   "metadata": {},
   "outputs": [],
   "source": [
    "class NaiveBayes( private val alpha: Double = 1e-5, val cat: String = \"coding\") {\n",
    "\n",
    "    public var p: Double = 0.0\n",
    "    public var probs: ArrayList<koma.matrix.Matrix<Double>> = ArrayList()\n",
    "\n",
    "\n",
    "    fun fit(X: koma.matrix.Matrix<Double>, y: List<String>) {\n",
    "        probs.add(ones(X.shape()[1] - 2, 11) * alpha)\n",
    "        probs.add(ones(X.shape()[1] - 2, 11) * alpha)\n",
    "\n",
    "        for (i in y.indices) {\n",
    "            var cls = 0\n",
    "            if (!y[i].toLowerCase().contains(cat))\n",
    "                cls = 1\n",
    "            else\n",
    "                p++\n",
    "\n",
    "\n",
    "            for (j in 0 until X.shape()[1] - 2) {\n",
    "                val ind:Int = if (X[i, j] < 10.0) X[i, j].toInt() else 10\n",
    "                probs[cls][j, ind] += 1\n",
    "\n",
    "            }\n",
    "\n",
    "        }\n",
    "\n",
    "        p /= y.size\n",
    "        for (cls in 0 until 2) {\n",
    "            var probsMatrix = probs[cls]\n",
    "            val den = (1 + alpha) * probsMatrix.getRow(0).elementSum().toInt()\n",
    "            probsMatrix /= den\n",
    "            probs[cls] = probsMatrix\n",
    "        }\n",
    "    }\n",
    "\n",
    "\n",
    "\n",
    "\n",
    "    fun logProb(X: koma.matrix.Matrix<Double>): List<Double> {\n",
    "        var ans = zeros(X.shape()[0], 2)\n",
    "        for (i in 0 until X.shape()[0]) {\n",
    "            for (cls in 0 until 2) {\n",
    "                ans[i, cls] = kotlin.math.ln(p * (1 - cls) + (1 - p) * cls)\n",
    "                for (k in 0 until X.shape()[1] - 2) {\n",
    "                    val ind = if (X[i, k] < 10.0) X[i, k].toInt() else 10\n",
    "                    ans[i, cls] += kotlin.math.ln(probs[cls][k, ind])\n",
    "                }\n",
    "            }\n",
    "        }\n",
    "        val q = fill(ans.shape()[0], ans.shape()[1]) {i, j -> 1 / (exp(ans[i, 0..ans.shape()[1]-1] - ans[i, j]).mean() * ans.shape()[1]) }\n",
    "        return q.getCol(0).toList()\n",
    "    }\n",
    "    \n",
    "    fun logProbExpl(X: koma.matrix.Matrix<Double>): ArrayList<List<Double>> {\n",
    "        var ans = ArrayList<List<Double>> ()\n",
    "        \n",
    "        for (i in 0 until X.shape()[0]) {\n",
    "            var semi = zeros(X.shape()[1] - 2, 1)\n",
    "            \n",
    "            for (k in 0 until X.shape()[1] - 2) {\n",
    "                val ind = if (X[i, k] < 10.0) X[i, k].toInt() else 10\n",
    "                semi[k] += kotlin.math.ln(probs[0][k, ind]) - kotlin.math.ln(probs[1][k, ind])\n",
    "            }\n",
    "            ans.add(semi.toList())\n",
    "        }\n",
    "        \n",
    "        return ans\n",
    "    }\n",
    "    \n",
    "}"
   ]
  },
  {
   "cell_type": "code",
   "execution_count": 67,
   "metadata": {},
   "outputs": [],
   "source": [
    "val classificator = NaiveBayes(cat=\"reading\")"
   ]
  },
  {
   "cell_type": "code",
   "execution_count": 11,
   "metadata": {},
   "outputs": [],
   "source": [
    "val (X_bow, y_bow) = bow.transform(train)"
   ]
  },
  {
   "cell_type": "code",
   "execution_count": 12,
   "metadata": {},
   "outputs": [],
   "source": [
    "val (X_bow_test, y_bow_test) = bow.transform(test)"
   ]
  },
  {
   "cell_type": "code",
   "execution_count": 68,
   "metadata": {},
   "outputs": [],
   "source": [
    "classificator.fit(X_bow, y_bow)"
   ]
  },
  {
   "cell_type": "code",
   "execution_count": 69,
   "metadata": {},
   "outputs": [],
   "source": [
    "val pred = classificator.logProbExpl(X_bow)"
   ]
  },
  {
   "cell_type": "code",
   "execution_count": 70,
   "metadata": {},
   "outputs": [],
   "source": [
    "val pred2 = classificator.logProb(X_bow)"
   ]
  },
  {
   "cell_type": "code",
   "execution_count": 113,
   "metadata": {},
   "outputs": [],
   "source": [
    "val cv = ArrayList<Pair<String, Double>>()"
   ]
  },
  {
   "cell_type": "code",
   "execution_count": 114,
   "metadata": {},
   "outputs": [],
   "source": [
    "for (i in bow.id2word.indices) {\n",
    "    cv.add(Pair(bow.id2word[i], pred[1][i]))\n",
    "}"
   ]
  },
  {
   "cell_type": "code",
   "execution_count": 112,
   "metadata": {},
   "outputs": [
    {
     "data": {
      "text/plain": [
       "0.999999733862698"
      ]
     },
     "execution_count": 112,
     "metadata": {},
     "output_type": "execute_result"
    }
   ],
   "source": [
    "pred2[1]"
   ]
  },
  {
   "cell_type": "code",
   "execution_count": 115,
   "metadata": {},
   "outputs": [],
   "source": [
    "cv.sortBy {-it.second}"
   ]
  },
  {
   "cell_type": "code",
   "execution_count": 123,
   "metadata": {},
   "outputs": [
    {
     "data": {
      "text/plain": [
       "[(tooltip.action.events_execute_execute, -0.42744401482694006), (actions_action.invoked_EditorBackSpace, -0.6898082792944309), (file.types.usage_edit_JAVA, -0.8104362670830456), (actions_action.invoked_EditorChooseLookupItem, -1.2159013751912102), (productivity_feature.used_editing.completion.basic, -1.52605630349505)]"
      ]
     },
     "execution_count": 123,
     "metadata": {},
     "output_type": "execute_result"
    }
   ],
   "source": [
    "cv.slice(cv.size - 5 until  cv.size)"
   ]
  },
  {
   "cell_type": "code",
   "execution_count": null,
   "metadata": {},
   "outputs": [],
   "source": []
  },
  {
   "cell_type": "code",
   "execution_count": 98,
   "metadata": {
    "collapsed": true
   },
   "outputs": [
    {
     "data": {
      "text/plain": [
       "{vcs_fetch.started_fetch.started=65, actions_action.invoked_GotoDeclaration=26, file.types.usage_open_JAVA=23, productivity_feature.used_editing.select.word=6, actions_action.invoked_Find=45, actions_action.invoked_Back=60, ui.dialogs_close_com.intellij.find.impl.FindPopupPanel$2=59, actions_action.invoked_EditorCopy=14, find_search.session.started_FindInFile=47, find_search.session.started_FindInPath=71, actions_action.invoked_FindInPath=72, productivity_feature.used_SearchEverywhere=77, actions_action.invoked_NextOccurence=35, actions_action.invoked_third.party=62, searchEverywhere_contributorItemChosen_contributorItemChosen=86, actions_custom.action.invoked_DoubleShortcut=117, searchEverywhere_dialogClosed_dialogClosed=94, gutter.icon.click_clicked_implementedMethod=239, actions_action.invoked_com.intellij.find.SearchReplaceComponent$11=85, actions_action.invoked_com.intellij.codeInsight.daemon.NavigateAction=158, actions_action.invoked_com.intellij.ui.ScrollingUtil$12=142, actions_action.invoked_com.intellij.find.impl.FindPopupPanel$MyEnterAction=230, actions_action.invoked_com.intellij.openapi.fileEditor.impl.EditorTabbedContainer$CloseTab=195, editor.notification.panel_shown_shown=12, actions_action.invoked_ToggleLineBreakpoint=127, toolbar_clicked_NextOccurence=44, file.types.usage_open_JavaScript=108, actions_action.invoked_com.intellij.ide.projectView.impl.ProjectViewImpl$ScrollFromSourceAction=162, actions_action.invoked_GotoImplementation=241, debugger.breakpoints.usage_breakpoint.added_java-line=144, actions_action.invoked_EditorEscape=53, file.types.usage_open_Properties=235, ui.event_BreadcrumbShowTooltip_BreadcrumbShowTooltip=19, actions_action.invoked_Tree-selectNext=205, actions_action.invoked_PreviousOccurence=208, file.types.usage_open_HTML=188, go.programming.errors_inspection.found.problem_inspection.found.problem=238, file.types.usage_open_YAML=122, actions_action.invoked_StepOver=237, actions_action.invoked_RunAnything=228, actions_action.invoked_Replace=132, gutter.icon.click_clicked_db_verified_breakpoint=173, file.types.usage_edit_third.party=232, actions_action.invoked_com.intellij.xdebugger.impl.breakpoints.RemoveBreakpointGutterIconAction=111, debugger.breakpoints.usage_breakpoint.verified_breakpoint.verified=179, build.maven.packagesearch_packagesearch.success_suggestPrefix=240, file.types.usage_open_XML=103, file.types.usage_edit_JSP=243, actions_action.invoked_Diff.ShowDiff=245, productivity_feature.used_editing.completion.finishByDotEtc=233, actions_action.invoked_$Copy=110, actions_action.invoked_CodeCompletion=141, actions_action.invoked_CheckinProject=231, grazi.count_typo.found_typo.found=220, actions_action.invoked_Resume=24, actions_action.invoked_EditorDeleteLine=138, actions_action.invoked_$Delete=219, kotlin.ide.editor_Completion_Completion=244, actions_action.invoked_EditorRightWithSelection=101, file.types.usage_edit_Scala=133, actions_action.invoked_NewDir=201, productivity_feature.used_db.table.editor=247, actions_action.invoked_EditorLineEndWithSelection=98, actions_action.invoked_EditorChooseLookupItemReplace=181, actions_action.invoked_com.intellij.ui.CommonActionsPanel$MyActionButton=227, toolwindow_activated_Terminal=73, actions_action.invoked_Vcs.UpdateProject=167, actions_action.invoked_Switcher=242, actions_action.invoked_EditorPreviousWord=82, actions_action.invoked_EditorPreviousWordWithSelection=129, actions_action.invoked_HideAllWindows=172, actions_action.invoked_EditorLineStart=74, actions_action.invoked_com.intellij.openapi.actionSystem.EmptyAction$MyDelegatingAction=105, grazi.count_language.detected_language.detected=187, actions_action.invoked_CommentByLineComment=54, actions_action.invoked_EditorDelete=81, lifecycle_ide.close_ide.close=135, toolbar_clicked_Vcs.UpdateProject=185, actions_action.invoked_ShowIntentionActions=48, vfs_refreshed_refreshed=68, toolbar_clicked_RunConfiguration=104, startup_appInit_appInit=125, actions_action.invoked_com.maddyhome.idea.vim.ui.ExShortcutKeyAction=106, toolwindow_activated_Debug=51, actions_action.invoked_EditorTab=69, toolbar_clicked_Stop=80, actions_action.invoked_EditorLineStartWithSelection=102, actions_action.invoked_Stop=75, ui.dialogs_show_com.intellij.openapi.ui.messages.MessageDialog=87, toolwindow_activated_Messages=96, actions_action.invoked_EditorCut=40, actions_action.invoked_HideActiveWindow=64, startup_totalDuration_totalDuration=109, lifecycle_project.opened_project.opened=56, actions_action.invoked_EditorLineEnd=33, actions_action.invoked_EditorUp=20, event.log_whitelist.loaded_whitelist.loaded=95, project.import_started_started=3, actions_action.invoked_Debug=91, file.types.usage_edit_JavaScript=46, ui.dialogs_close_com.intellij.openapi.progress.util.ProgressDialog$MyDialogWrapper=34, actions_action.invoked_$Undo=38, ui.dialogs_show_com.intellij.openapi.progress.util.ProgressDialog$MyDialogWrapper=32, toolwindow_activated_Project=31, productivity_feature.used_editing.completion.variable.name=11, actions_action.invoked_EditorPaste=9, toolbar_clicked_Run=43, vcs_fetch.finished_fetch.finished=50, actions_action.invoked_SaveAll=16, actions_action.invoked_Run=39, actions_action.invoked_EditorLeft=18, actions_action.invoked_EditorDown=13, toolwindow_activated_Run=30, actions_action.invoked_EditorRight=15, run.configuration.exec_finished_finished=28, actions_action.invoked_EditorChooseLookupItem=7, run.configuration.exec_ui.shown_ui.shown=29, file.types.usage_edit_JAVA=17, run.configuration.exec_started_started=27, build_started_started=22, productivity_feature.used_editing.completion.basic=4, actions_action.invoked_EditorBackSpace=1, actions_action.invoked_EditorEnter=5, completion_finished_finished=0}"
      ]
     },
     "execution_count": 98,
     "metadata": {},
     "output_type": "execute_result"
    }
   ],
   "source": [
    "bow.voc.toSortedMap(compareBy({ pred[0][bow.voc.getOrDefault(it, 0)] }))"
   ]
  },
  {
   "cell_type": "code",
   "execution_count": 71,
   "metadata": {},
   "outputs": [],
   "source": [
    "val nexs = ArrayList<Double>()\n",
    "val pexs = ArrayList<Double>()"
   ]
  },
  {
   "cell_type": "code",
   "execution_count": 73,
   "metadata": {},
   "outputs": [],
   "source": [
    "val a =  ArrayList<Pair<Double, Int>>()"
   ]
  },
  {
   "cell_type": "code",
   "execution_count": 74,
   "metadata": {},
   "outputs": [],
   "source": [
    "for (i in y_bow.indices) {\n",
    "        if (y_bow[i].toLowerCase().contains(\"reading\"))\n",
    "            a.add(Pair(pred2[i], 1))\n",
    "        else\n",
    "            a.add(Pair(pred2[i], 0))\n",
    "    }"
   ]
  },
  {
   "cell_type": "code",
   "execution_count": 75,
   "metadata": {
    "scrolled": false
   },
   "outputs": [],
   "source": [
    "a.sortBy { it.first }"
   ]
  },
  {
   "cell_type": "code",
   "execution_count": 76,
   "metadata": {},
   "outputs": [],
   "source": [
    "var c = 0.01\n",
    "var z = DoubleArray(2)"
   ]
  },
  {
   "cell_type": "code",
   "execution_count": 77,
   "metadata": {},
   "outputs": [
    {
     "data": {
      "text/plain": [
       "true"
      ]
     },
     "execution_count": 77,
     "metadata": {},
     "output_type": "execute_result"
    }
   ],
   "source": [
    "nexs.add(0.0)\n",
    "pexs.add(0.0)"
   ]
  },
  {
   "cell_type": "code",
   "execution_count": 78,
   "metadata": {},
   "outputs": [],
   "source": [
    "for (v in a) {\n",
    "    if (v.first > c) {\n",
    "        c += 0.01\n",
    "        nexs.add(z[0])\n",
    "        pexs.add(z[1])\n",
    "    }\n",
    "    z[v.second]++\n",
    "}"
   ]
  },
  {
   "cell_type": "code",
   "execution_count": 79,
   "metadata": {},
   "outputs": [
    {
     "data": {
      "text/plain": [
       "true"
      ]
     },
     "execution_count": 79,
     "metadata": {},
     "output_type": "execute_result"
    }
   ],
   "source": [
    "nexs.add(z[0])\n",
    "pexs.add(z[1])"
   ]
  },
  {
   "cell_type": "code",
   "execution_count": 80,
   "metadata": {},
   "outputs": [],
   "source": [
    "var pe = pexs[pexs.size-1]\n",
    "var ne = nexs[nexs.size-1]"
   ]
  },
  {
   "cell_type": "code",
   "execution_count": 81,
   "metadata": {},
   "outputs": [],
   "source": [
    "for (i in pexs.indices) {\n",
    "    pexs[i] = pe - pexs[i]\n",
    "}"
   ]
  },
  {
   "cell_type": "code",
   "execution_count": 82,
   "metadata": {},
   "outputs": [],
   "source": [
    "for (i in nexs.indices) {\n",
    "    nexs[i] = ne - nexs[i]\n",
    "}"
   ]
  },
  {
   "cell_type": "code",
   "execution_count": 83,
   "metadata": {},
   "outputs": [],
   "source": [
    "val rec = ArrayList<Double>()\n",
    "val prec = ArrayList<Double>()"
   ]
  },
  {
   "cell_type": "code",
   "execution_count": 84,
   "metadata": {},
   "outputs": [],
   "source": [
    "for (i in pexs.indices) {\n",
    "    rec.add(pexs[i] / pexs[0])\n",
    "}"
   ]
  },
  {
   "cell_type": "code",
   "execution_count": 85,
   "metadata": {},
   "outputs": [],
   "source": [
    "for (i in pexs.indices) {\n",
    "    if (pexs[i] + nexs[i] == 0.0)\n",
    "        prec.add(1.0)\n",
    "    else\n",
    "        prec.add(pexs[i] / (nexs[i] + pexs[i]))\n",
    "}"
   ]
  },
  {
   "cell_type": "code",
   "execution_count": 121,
   "metadata": {},
   "outputs": [
    {
     "data": {
      "text/plain": [
       "class java.util.ArrayList"
      ]
     },
     "execution_count": 121,
     "metadata": {},
     "output_type": "execute_result"
    }
   ],
   "source": [
    "rec::class"
   ]
  },
  {
   "cell_type": "code",
   "execution_count": 120,
   "metadata": {},
   "outputs": [
    {
     "data": {
      "text/plain": [
       "class java.util.LinkedHashMap"
      ]
     },
     "execution_count": 120,
     "metadata": {},
     "output_type": "execute_result"
    }
   ],
   "source": [
    "df::class"
   ]
  },
  {
   "cell_type": "code",
   "execution_count": 86,
   "metadata": {},
   "outputs": [],
   "source": [
    "val df  = mapOf(\"recall\" to rec, \"precision\" to prec)\n",
    "var p = lets_plot(df) {x = \"recall\"; y = \"precision\"}\n",
    "p += geom_line()"
   ]
  },
  {
   "cell_type": "code",
   "execution_count": 87,
   "metadata": {},
   "outputs": [
    {
     "data": {
      "text/html": [
       "   <div id=\"iDjBgx\"></div>\n",
       "   <script type=\"text/javascript\">\n",
       "       (function() {\n",
       "           var plotSpec={\n",
       "'mapping':{\n",
       "'x':\"recall\",\n",
       "'y':\"precision\"\n",
       "},\n",
       "'data':{\n",
       "'recall':[1.0,0.9855072463768116,0.9855072463768116,0.9855072463768116,0.9855072463768116,0.9855072463768116,0.9855072463768116,0.9855072463768116,0.9855072463768116,0.9855072463768116,0.9782608695652174,0.9782608695652174,0.9782608695652174,0.9782608695652174,0.9782608695652174,0.9782608695652174,0.9782608695652174,0.9782608695652174,0.9782608695652174,0.9782608695652174,0.9782608695652174,0.9782608695652174,0.9782608695652174,0.9782608695652174,0.9782608695652174,0.9782608695652174,0.9782608695652174,0.9782608695652174,0.9710144927536232,0.9710144927536232,0.9710144927536232,0.9710144927536232,0.9710144927536232,0.9710144927536232,0.9710144927536232,0.9710144927536232,0.9710144927536232,0.9710144927536232,0.9710144927536232,0.9710144927536232,0.9637681159420289,0.9637681159420289,0.9637681159420289,0.9637681159420289,0.9565217391304348,0.9492753623188406,0.9420289855072463,0.9420289855072463,0.9420289855072463,0.9420289855072463,0.9420289855072463,0.9347826086956522,0.927536231884058,0.927536231884058,0.927536231884058,0.927536231884058,0.927536231884058,0.927536231884058,0.9202898550724637,0.9202898550724637,0.9130434782608695,0.9130434782608695,0.9057971014492754,0.9057971014492754,0.8985507246376812,0.8985507246376812,0.8985507246376812,0.8985507246376812,0.8913043478260869,0.8913043478260869,0.8840579710144928,0.8840579710144928,0.8768115942028986,0.8768115942028986,0.8695652173913043,0.8695652173913043,0.8695652173913043,0.8623188405797102,0.8405797101449275,0.8333333333333334,0.8115942028985508,0.8043478260869565,0.8043478260869565,0.7971014492753623,0.7898550724637681,0.7898550724637681,0.782608695652174,0.7753623188405797,0.7681159420289855,0.7608695652173914,0.7536231884057971,0.7463768115942029,0.7463768115942029,0.7391304347826086,0.7318840579710145,0.7318840579710145,0.7246376811594203,0.717391304347826,0.717391304347826,0.717391304347826,0.0],\n",
       "'precision':[0.23469387755102042,0.5528455284552846,0.5666666666666667,0.5714285714285714,0.5862068965517241,0.5964912280701754,0.6098654708520179,0.6153846153846154,0.6267281105990783,0.6355140186915887,0.6367924528301887,0.6398104265402843,0.6428571428571429,0.6650246305418719,0.6716417910447762,0.675,0.678391959798995,0.6818181818181818,0.6923076923076923,0.6958762886597938,0.6994818652849741,0.7068062827225131,0.7105263157894737,0.7142857142857143,0.7180851063829787,0.7219251336898396,0.7258064516129032,0.75,0.7486033519553073,0.7570621468926554,0.7657142857142857,0.7701149425287356,0.7745664739884393,0.7790697674418605,0.783625730994152,0.788235294117647,0.7928994082840237,0.7976190476190477,0.8023952095808383,0.8072289156626506,0.806060606060606,0.8109756097560976,0.8159509202453987,0.8209876543209876,0.8198757763975155,0.81875,0.8176100628930818,0.8227848101265823,0.8280254777070064,0.8333333333333334,0.8387096774193549,0.8376623376623377,0.8366013071895425,0.8421052631578947,0.847682119205298,0.8533333333333334,0.8590604026845637,0.8648648648648649,0.8639455782312925,0.8698630136986302,0.8689655172413793,0.875,0.8741258741258742,0.8802816901408451,0.8794326241134752,0.8857142857142857,0.8920863309352518,0.8985507246376812,0.8978102189781022,0.9044117647058824,0.9037037037037037,0.9104477611940298,0.9097744360902256,0.9166666666666666,0.916030534351145,0.9230769230769231,0.9302325581395349,0.9296875,0.928,0.9349593495934959,0.9333333333333333,0.9327731092436975,0.940677966101695,0.9401709401709402,0.9396551724137931,0.9478260869565217,0.9473684210526315,0.9469026548672567,0.9464285714285714,0.9459459459459459,0.9454545454545454,0.944954128440367,0.9537037037037037,0.9532710280373832,0.9528301886792453,0.9619047619047619,0.9615384615384616,0.9611650485436893,0.9705882352941176,0.9801980198019802,1.0]\n",
       "},\n",
       "'kind':\"plot\",\n",
       "'scales':[],\n",
       "'layers':[{\n",
       "'stat':\"identity\",\n",
       "'mapping':{\n",
       "},\n",
       "'data':{\n",
       "},\n",
       "'position':\"identity\",\n",
       "'geom':\"line\"\n",
       "}]\n",
       "};\n",
       "           var plotContainer = document.getElementById(\"iDjBgx\");\n",
       "           window.letsPlotCall(function() {{\n",
       "               LetsPlot.buildPlotFromProcessedSpecs(plotSpec, -1, -1, plotContainer);\n",
       "           }});\n",
       "       })();    \n",
       "   </script>"
      ]
     },
     "execution_count": 87,
     "metadata": {},
     "output_type": "execute_result"
    }
   ],
   "source": [
    "p"
   ]
  },
  {
   "cell_type": "code",
   "execution_count": 92,
   "metadata": {},
   "outputs": [
    {
     "data": {
      "text/plain": [
       "[0.23469387755102042, 0.5528455284552846, 0.5666666666666667, 0.5714285714285714, 0.5862068965517241, 0.5964912280701754, 0.6098654708520179, 0.6153846153846154, 0.6267281105990783, 0.6355140186915887, 0.6367924528301887, 0.6398104265402843, 0.6428571428571429, 0.6650246305418719, 0.6716417910447762, 0.675, 0.678391959798995, 0.6818181818181818, 0.6923076923076923, 0.6958762886597938, 0.6994818652849741, 0.7068062827225131, 0.7105263157894737, 0.7142857142857143, 0.7180851063829787, 0.7219251336898396, 0.7258064516129032, 0.75, 0.7486033519553073, 0.7570621468926554, 0.7657142857142857, 0.7701149425287356, 0.7745664739884393, 0.7790697674418605, 0.783625730994152, 0.788235294117647, 0.7928994082840237, 0.7976190476190477, 0.8023952095808383, 0.8072289156626506, 0.806060606060606, 0.8109756097560976, 0.8159509202453987, 0.8209876543209876, 0.8198757763975155, 0.81875, 0.8176100628930818, 0.8227848101265823, 0.8280254777070064, 0.8333333333333334, 0.8387096774193549, 0.8376623376623377, 0.8366013071895425, 0.8421052631578947, 0.847682119205298, 0.8533333333333334, 0.8590604026845637, 0.8648648648648649, 0.8639455782312925, 0.8698630136986302, 0.8689655172413793, 0.875, 0.8741258741258742, 0.8802816901408451, 0.8794326241134752, 0.8857142857142857, 0.8920863309352518, 0.8985507246376812, 0.8978102189781022, 0.9044117647058824, 0.9037037037037037, 0.9104477611940298, 0.9097744360902256, 0.9166666666666666, 0.916030534351145, 0.9230769230769231, 0.9302325581395349, 0.9296875, 0.928, 0.9349593495934959, 0.9333333333333333, 0.9327731092436975, 0.940677966101695, 0.9401709401709402, 0.9396551724137931, 0.9478260869565217, 0.9473684210526315, 0.9469026548672567, 0.9464285714285714, 0.9459459459459459, 0.9454545454545454, 0.944954128440367, 0.9537037037037037, 0.9532710280373832, 0.9528301886792453, 0.9619047619047619, 0.9615384615384616, 0.9611650485436893, 0.9705882352941176, 0.9801980198019802, 1.0]"
      ]
     },
     "execution_count": 92,
     "metadata": {},
     "output_type": "execute_result"
    }
   ],
   "source": [
    "prec"
   ]
  },
  {
   "cell_type": "code",
   "execution_count": 88,
   "metadata": {},
   "outputs": [],
   "source": [
    "fun integrate(x: ArrayList<Double>, y: ArrayList<Double>): Double {\n",
    "    var res = 0.0\n",
    "    for (i in 0 until y.size - 1) {\n",
    "        res -= (x[i+1] - x[i]) * (y[i+1] + y[i]) / 2\n",
    "    }\n",
    "    return res\n",
    "}"
   ]
  },
  {
   "cell_type": "code",
   "execution_count": 91,
   "metadata": {},
   "outputs": [
    {
     "data": {
      "text/plain": [
       "0.9566777051200045"
      ]
     },
     "execution_count": 91,
     "metadata": {},
     "output_type": "execute_result"
    }
   ],
   "source": [
    "integrate(rec, prec)"
   ]
  },
  {
   "cell_type": "code",
   "execution_count": 128,
   "metadata": {},
   "outputs": [
    {
     "data": {
      "text/plain": [
       "mat[ 0,00013816248317,  0,99986183751683 ]"
      ]
     },
     "execution_count": 128,
     "metadata": {},
     "output_type": "execute_result"
    }
   ],
   "source": [
    "pred2.getRow(41)"
   ]
  },
  {
   "cell_type": "code",
   "execution_count": 69,
   "metadata": {},
   "outputs": [],
   "source": [
    "val vl: MutableMap<String, Double> = HashMap()"
   ]
  },
  {
   "cell_type": "code",
   "execution_count": 129,
   "metadata": {},
   "outputs": [
    {
     "data": {
      "text/plain": [
       "RDB"
      ]
     },
     "execution_count": 129,
     "metadata": {},
     "output_type": "execute_result"
    }
   ],
   "source": [
    "y_bow[41]"
   ]
  },
  {
   "cell_type": "code",
   "execution_count": 70,
   "metadata": {
    "scrolled": true
   },
   "outputs": [],
   "source": [
    "for (i in bow.id2word.indices){\n",
    "    vl[bow.id2word[i]] = pred[1][i]\n",
    "}"
   ]
  },
  {
   "cell_type": "code",
   "execution_count": 71,
   "metadata": {
    "scrolled": false
   },
   "outputs": [
    {
     "data": {
      "text/plain": [
       "{file.types.usage_edit_JAVA=14.759013853363316, actions_action.invoked_EditorUp=14.43050978639128, completion_finished_finished=14.025044678283114, actions_action.invoked_EditorEnter=12.926432389615005, productivity_feature.used_editing.completion.variable.name=11.540138028495114, actions_action.invoked_EditorBackSpace=3.8114021974431465, actions_action.invoked_EditorDown=2.9716515426913253, productivity_feature.used_editing.completion.basic=2.735262764627095, actions_action.invoked_EditorChooseLookupItem=2.4251078363232557, actions_action.invoked_EditorPaste=1.723661852948615, tooltip.action.events_execute_execute=1.6366504759589855, actions_action.invoked_EditorCopy=1.1060222248968148, productivity_feature.used_editing.select.word=0.7691499082542621, actions_action.invoked_GotoDeclaration=0.18973149302265968, productivity_feature.used_navigation.goto.declaration=0.18973149302265968, ui.dialogs_show_com.intellij.openapi.progress.util.ProgressDialog$MyDialogWrapper=0.0869317982265071, lifecycle_project.opened_project.opened=0.08478241534636269, lifecycle_project.opening.finished_project.opening.finished=0.08108555346503649, lifecycle_ide.start_ide.start=0.08032238883883318, ui.dialogs_close_com.intellij.openapi.progress.util.ProgressDialog$MyDialogWrapper=0.07926892548093797, event.log_whitelist.loaded_whitelist.loaded=0.07669262078825453, vcs_fetch.finished_fetch.finished=0.07356667289643573, build_finished_finished=0.06888525992545283, build_started_started=0.06888525992545283, vcs_fetch.started_fetch.started=0.06629391356735596, startup_totalDuration_totalDuration=0.06588170468403885, startup_appInit_appInit=0.051646588862166866, startup_bootstrap_bootstrap=0.051646588862166866, startup_splash_splash=0.051646588862166866, lifecycle_project.closed_project.closed=0.04834010995076014, lifecycle_ide.close_ide.close=0.04460430623675397, actions_action.invoked_Debug=0.0378321323523451, actions_action.invoked_Resume=0.0376838633921802, toolwindow_activated_Debug=0.03440683915891189, toolbar_clicked_Debug=0.03427973074797734, toolwindow_activated_Terminal=0.03427973074797734, vfs_refreshed_refreshed=0.03427973074797734, ui.dialogs_show_com.intellij.ide.util.TipDialog=0.034133006369458624, ui.tips_dialog.shown_automatically=0.034133006369458624, ui.tips_tip.shown_tip.shown=0.034133006369458624, actions_action.invoked_Back=0.03073990404285325, toolwindow_activated_Services=0.027212563524884846, terminalShell_local.exec_local.exec=0.02721256352488484, ui.dialogs_close_com.intellij.ide.util.TipDialog=0.02721256352488484, actions_action.invoked_Vcs.UpdateProject=0.027212563524884794, vcs_update.finished_update.finished=0.027212563524884794, vcs_update.started_update.started=0.027212563524884794, toolbar_clicked_Vcs.UpdateProject=0.0237583286567973, ui.dialogs_close_com.intellij.openapi.vcs.update.ActionInfo$1$1=0.0237583286567973, ui.dialogs_show_com.intellij.openapi.vcs.update.ActionInfo$1$1=0.0237583286567973, toolwindow_activated_Project=0.023204542127346045, gutter.icon.click_clicked_db_verified_breakpoint=0.020339684237122804, toolbar_clicked_RunConfiguration=0.02029212068031108, actions_action.invoked_editRunConfigurations=0.01692087748833719, file.types.usage_open_Markdown=0.01692087748833719, ui.dialogs_show_com.intellij.execution.impl.EditConfigurationsDialog=0.01692087748833719, toolbar_clicked_Resume=0.016849776489338223, ui.dialogs_close_com.intellij.openapi.options.newEditor.SettingsDialog=0.016849776489338223, ui.dialogs_show_com.intellij.openapi.options.newEditor.SettingsDialog=0.016849776489338223, actions_action.invoked_SearchEverywhere=0.01681385630398627, actions_action.invoked_ToggleLineBreakpoint=0.01681385630398627, actions_custom.action.invoked_DoubleShortcut=0.01681385630398627, actions_action.invoked_HideActiveWindow=0.016440466542973736, toolbar_clicked_HideActiveWindow=0.016440466542973736, actions_action.invoked_ConsoleView.ClearAll=0.013466642620249651, toolwindow_activated_Database=0.013466642620249651, debugger.breakpoints.usage_breakpoint.added_java-line=0.013371512113013411, toolwindow_activated_Messages=0.013177245408501362, toolwindow_activated_Version_Control=0.013027928532928383, run.configuration.exec_ui.shown_ui.shown=0.01108318159500113, run.configuration.exec_started_started=0.010952042653104482, actions_action.invoked_NextDiff=0.010118130165584677, actions_action.invoked_Tree-selectChild=0.010118130165584677, actions_action.invoked_StepOver=0.010059484298635405, actions_action.invoked_com.intellij.ui.CommonActionsPanel$MyActionButton=0.010059484298635405, file.types.usage_open_PLAIN_TEXT=0.010059484298635405, toolbar_clicked_com.intellij.ui.CommonActionsPanel$MyActionButton=0.010059484298635405, toolwindow_activated_Event_Log=0.010059484298635405, debugger.breakpoints.usage_breakpoint.verified_breakpoint.verified=0.01000043464376343, actions_action.invoked_CloseAllEditors=0.009940977016224232, file.types.usage_open_YAML=0.009940977016224232, actions_action.invoked_com.intellij.xdebugger.impl.breakpoints.RemoveBreakpointGutterIconAction=0.009881107173244901, toolwindow_activated_unknown=0.009881107173244901, searchEverywhere_contributorItemChosen_contributorItemChosen=0.009698981032176604, productivity_feature.used_SearchEverywhere=0.009575422038777988, searchEverywhere_dialogOpen_dialogOpen=0.009575422038777988, actions_action.invoked_com.intellij.ui.ScrollingUtil$7=0.006734032181344186, actions_action.invoked_StepInto=0.006663895297497136, file.types.usage_open_Python=0.006663895297497136, productivity_feature.used_db.table.editor=0.006663895297497136, ui.dialogs_close_com.intellij.execution.impl.EditConfigurationsDialog=0.006663895297497136, actions_action.invoked_com.intellij.ide.ReopenProjectAction=0.006593276322149184, actions_action.invoked_com.intellij.ui.ScrollingUtil$12=0.006593276322149184, vcs.log.trigger_tab.navigated_tab.navigated=0.006593276322149184, ui.dialogs_close_com.intellij.openapi.fileChooser.ex.FileChooserDialogImpl=0.006522170267438619, ui.dialogs_show_com.intellij.openapi.ui.messages.MessageDialog=0.006010355874281836, actions_action.invoked_Stop=0.005859439054315865, actions_action.invoked_RunAnything=0.0033613477027048867, toolbar_clicked_StepOver=0.0033613477027048867, actions_action.invoked_Diff.ShowDiff=0.003197687321010915, actions_action.invoked_GotoImplementation=0.003197687321010915, actions_action.invoked_com.intellij.find.impl.FindPopupPanel$MyEnterAction=0.003197687321010915, file.types.usage_open_Groovy=0.003197687321010915, productivity_feature.used_navigation.goto.implementation=0.003197687321010915, ui.dialogs_show_com.intellij.openapi.fileChooser.ex.FileChooserDialogImpl=0.003115011945824373, toolbar_clicked_Stop=0.002344496946871326, file.types.usage_edit_third.party=-9.288716538265445E-5, ui.dialogs_close_com.intellij.openapi.ui.WindowWrapperBuilder$DialogWindowWrapper$MyDialogWrapper=-9.288716538265445E-5, ui.dialogs_close_com.intellij.refactoring.move.moveFilesOrDirectories.MoveFilesOrDirectoriesUtil$1=-9.288716538265445E-5, ui.dialogs_show_com.intellij.openapi.ui.WindowWrapperBuilder$DialogWindowWrapper$MyDialogWrapper=-9.288716538265445E-5, ui.dialogs_show_com.intellij.refactoring.move.moveFilesOrDirectories.MoveFilesOrDirectoriesUtil$1=-9.288716538265445E-5, actions_action.invoked_Annotate=-1.8641066322957513E-4, actions_action.invoked_Tree-selectPrevious=-1.8641066322957513E-4, toolbar_clicked_CheckinProject=-1.8641066322957513E-4, actions_action.invoked_CheckinProject=-2.8057705531389643E-4, actions_action.invoked_com.intellij.openapi.fileEditor.impl.EditorTabbedContainer$CloseTab=-2.8057705531389643E-4, file.types.usage_open_JSON=-2.8057705531389643E-4, gutter.icon.click_clicked_implementedMethod=-2.8057705531389643E-4, file.types.usage_open_JavaScript=-3.753929939441375E-4, actions_action.invoked_NextOccurence=-9.583134418114994E-4, run.configuration.exec_finished_finished=-0.001186910996813173, actions_action.invoked_Find=-0.0014632364517815216, actions_action.invoked_Run=-0.002419234081486324, actions_action.invoked_NextWindow=-0.00345423486808743, build.maven.packagesearch_packagesearch.error_suggestPrefix=-0.00345423486808743, intentions_called_com.intellij.codeInsight.daemon.impl.quickfix.RemoveUnusedVariableFix=-0.00345423486808743, intentions_called_com.intellij.lang.javascript.linter.JSLinterFixAction$JSLinterFixIntentionAction=-0.00345423486808743, productivity_feature.used_editing.completion.finishByDotEtc=-0.00345423486808743, actions_action.invoked_PreviousOccurence=-0.003559095141868875, file.types.usage_edit_YAML=-0.003559095141868875, productivity_feature.used_editing.completion.camelHumps=-0.003559095141868875, actions_action.invoked_com.intellij.ui.ScrollingUtil$6=-0.0036646750395543867, actions_action.invoked_HideAllWindows=-0.0037709819950824067, toolbar_clicked_NextOccurence=-0.0037709819950824067, ui.dialogs_close_com.intellij.javaee.run.execution.update.SelectUpdatingPolicyDialog=-0.0037709819950824067, ui.dialogs_show_com.intellij.javaee.run.execution.update.SelectUpdatingPolicyDialog=-0.0037709819950824067, actions_action.invoked_com.intellij.codeInsight.daemon.NavigateAction=-0.00387802354514619, actions_action.invoked_com.intellij.ide.projectView.impl.ProjectViewImpl$ScrollFromSourceAction=-0.00387802354514619, actions_custom.action.invoked_DialogOkAction=-0.00387802354514619, toolbar_clicked_com.intellij.ide.projectView.impl.ProjectViewImpl$ScrollFromSourceAction=-0.00387802354514619, searchEverywhere_dialogClosed_dialogClosed=-0.004203632708494175, build.maven.packagesearch_packagesearch.success_fulltext=-0.00692044284457365, file.types.usage_open_JSX_Harmony=-0.00692044284457365, grazi.count_typo.found_typo.found=-0.00692044284457365, ui.dialogs_close_com.intellij.refactoring.move.moveClassesOrPackages.MoveClassesOrPackagesDialog=-0.00692044284457365, ui.dialogs_show_com.intellij.refactoring.move.moveClassesOrPackages.MoveClassesOrPackagesDialog=-0.00692044284457365, go.programming.errors_inspection.found.problem_inspection.found.problem=-0.007037359518193687, actions_action.invoked_GotoFile=-0.007155079979322897, file.types.usage_open_Properties=-0.007155079979322897, grazi.count_language.detected_language.detected=-0.007273612546284459, file.types.usage_open_XML=-0.007513147848944825, actions_action.invoked_EditorTextStart=-0.010398707220898463, actions_action.invoked_MoveStatementDown=-0.010398707220898463, build.maven.packagesearch_packagesearch.success_suggestPrefix=-0.010398707220898463, file.editor_alternative.file.editor.selected_alternative.file.editor.selected=-0.010398707220898463, file.types.usage_edit_Markdown=-0.010398707220898463, kotlin.ide.editor_Completion_Completion=-0.010398707220898463, toolbar_clicked_com.intellij.find.EditorSearchSession$ReplaceAllAction=-0.010398707220898463, actions_action.invoked_OptimizeImports=-0.010527764457962198, ui.dialogs_close_com.intellij.ide.util.DeleteHandler$2=-0.010527764457962198, ui.dialogs_show_com.intellij.ide.util.DeleteHandler$2=-0.010527764457962198, actions_action.invoked_$Delete=-0.01065771053052495, actions_action.invoked_Tree-selectNext=-0.01065771053052495, ui.dialogs_close_com.intellij.find.impl.FindPopupPanel$2=-0.011868786517586306, file.types.usage_edit_JSP=-0.013889112160666973, ui.dialogs_close_com.intellij.util.ui.ConfirmationDialog=-0.013889112160666973, ui.dialogs_show_com.intellij.util.ui.ConfirmationDialog=-0.013889112160666973, actions_action.invoked_CheckinFiles=-0.01403039500916425, file.types.usage_open_HTML=-0.014172652637969426, actions_action.invoked_$SelectAll=-0.01431589517169734, actions_action.invoked_third.party=-0.015498554568165006, actions_action.invoked_EditorCompleteStatement=-0.017391742711869024, actions_action.invoked_Generate=-0.017391742711869024, rename.refactoring_executed_executed=-0.017545337116608727, rename.refactoring_started_started=-0.017545337116608727, vcs_commit.finished_commit.finished=-0.01769999315593783, vcs_commit.started_commit.started=-0.01769999315593783, ui.dialogs_close_com.intellij.openapi.vcs.changes.ui.DefaultCommitChangeListDialog=-0.01785572187682148, ui.dialogs_show_com.intellij.openapi.vcs.changes.ui.DefaultCommitChangeListDialog=-0.01785572187682148, actions_action.invoked_com.intellij.execution.lineMarker.ExecutorAction=-0.018329456922031282, find_search.session.started_FindInFile=-0.019307452110007964, toolwindow_activated_Run=-0.019671022373965563, toolbar_clicked_Run=-0.020502909514781772, ui.event_BreadcrumbShowTooltip_BreadcrumbShowTooltip=-0.020518839296305075, actions_action.invoked_$Paste=-0.0209066848193135, actions_action.invoked_Switcher=-0.0209066848193135, file.types.usage_edit_Groovy=-0.0209066848193135, file.types.usage_edit_TypeScript=-0.0209066848193135, productivity_feature.used_codeassists.complete.statement=-0.0209066848193135, productivity_feature.used_refactoring.introduceVariable.incompleteStatement=-0.0209066848193135, productivity_feature.used_switcher=-0.0209066848193135, ui.dialogs_close_com.intellij.refactoring.copy.CopyFilesOrDirectoriesDialog=-0.0209066848193135, ui.dialogs_show_com.intellij.refactoring.copy.CopyFilesOrDirectoriesDialog=-0.0209066848193135, actions_action.invoked_NewDir=-0.021072677634577132, actions_action.invoked_NextTemplateVariable=-0.021072677634577132, actions_action.invoked_RenameElement=-0.021072677634577132, productivity_feature.used_refactoring.rename=-0.021072677634577132, actions_action.invoked_Replace=-0.021239819861061972, actions_action.invoked_EditorUpWithSelection=-0.024434025337281905, file.types.usage_edit_Python=-0.024434025337281905, live.templates_started_sout=-0.024434025337281905, actions_action.invoked_EditorNextWord=-0.02479222146542978, actions_action.invoked_com.intellij.find.SearchReplaceComponent$11=-0.02479222146542978, actions_action.invoked_FindInPath=-0.026086018199477104, find_search.session.started_FindInPath=-0.0262761214261013, ui.dialogs_show_com.intellij.find.impl.FindPopupPanel$2=-0.0262761214261013, actions_action.invoked_NewClass=-0.027973852042406048, ui.dialogs_close_com.intellij.ide.fileTemplates.ui.CreateFromTemplateDialog=-0.027973852042406048, actions_action.invoked_CodeCompletion=-0.028164905944069084, file.types.usage_edit_HTML=-0.028357287629925933, actions_action.invoked_$Copy=-0.02855101099356941, actions_action.invoked_EditorChooseLookupItemReplace=-0.03152625364677386, file.types.usage_edit_PLAIN_TEXT=-0.03152625364677386, productivity_feature.used_editing.completion.replace=-0.03152625364677386, actions_action.invoked_EditorDownWithSelection=-0.031729972108565235, file.types.usage_open_JAVA=-0.03174360360823489, actions_action.invoked_EditorNextWordWithSelection=-0.03509131981127001, actions_action.invoked_ReformatCode=-0.0353077934564492, actions_action.invoked_EditorDeleteLine=-0.03866914115915398, actions_action.invoked_EditorDeleteToWordStart=-0.03866914115915398, actions_action.invoked_EditorPreviousWordWithSelection=-0.03866914115915398, actions_action.invoked_com.maddyhome.idea.vim.ui.ExShortcutKeyAction=-0.03866914115915398, file.types.usage_edit_XML=-0.03866914115915398, productivity_feature.used_editor.delete.line=-0.03866914115915398, actions_action.invoked_EditorLineEndWithSelection=-0.03889846158717775, actions_action.invoked_com.intellij.openapi.actionSystem.EmptyAction$MyDelegatingAction=-0.04225980928988253, file.types.usage_edit_Scala=-0.04225980928988253, actions_action.invoked_EditorLeftWithSelection=-0.0427460250820255, actions_action.invoked_EditorPreviousWord=-0.0461187095606648, actions_action.invoked_EditorEscape=-0.047157979196185126, actions_action.invoked_EditorRightWithSelection=-0.0497484776112435, actions_action.invoked_EditorLineStartWithSelection=-0.05339146888974455, actions_action.invoked_EditorDelete=-0.06040912779555981, actions_action.invoked_EditorLineStart=-0.06440075439811385, actions_action.invoked_CommentByLineComment=-0.0680976162794401, productivity_feature.used_codeassists.comment.line=-0.0680976162794401, actions_action.invoked_EditorTab=-0.07215991028831886, file.types.usage_edit_JavaScript=-0.0792709168775653, actions_action.invoked_ShowIntentionActions=-0.07965058201747645, actions_action.invoked_EditorLineEnd=-0.10536051565782613, actions_action.invoked_$Undo=-0.13550714902747485, actions_action.invoked_EditorCut=-0.14442798384873567, project.import_finished_finished=-0.15510899326906946, project.import_started_started=-0.15510899326906946, actions_action.invoked_SaveAll=-0.26738995177146985, actions_action.invoked_EditorLeft=-0.2708322959624427, actions_action.invoked_EditorRight=-0.3031765181429226, editor.notification.panel_shown_shown=-0.30925967309632796}"
      ]
     },
     "execution_count": 71,
     "metadata": {},
     "output_type": "execute_result"
    }
   ],
   "source": [
    "vl.toSortedMap(compareBy({ vl[it]?.times(-1) }, { it }))"
   ]
  },
  {
   "cell_type": "code",
   "execution_count": null,
   "metadata": {},
   "outputs": [],
   "source": []
  },
  {
   "cell_type": "code",
   "execution_count": 86,
   "metadata": {},
   "outputs": [
    {
     "data": {
      "text/plain": [
       "coding, reading"
      ]
     },
     "execution_count": 86,
     "metadata": {},
     "output_type": "execute_result"
    }
   ],
   "source": [
    "y_bow_test[7]"
   ]
  },
  {
   "cell_type": "code",
   "execution_count": 88,
   "metadata": {
    "scrolled": true
   },
   "outputs": [
    {
     "data": {
      "text/plain": [
       "mat[ 0,99874451496689  end\n",
       "    -0,99997151031942  end\n",
       "    -0,00679700815238  end\n",
       "     0,00000000043445  end\n",
       "     0,01017132468425  end\n",
       "     0,01017132468425  end\n",
       "    -1,00              end\n",
       "     0,02740376274127  end\n",
       "     0,01017132468425  end\n",
       "     0,00975731423155  end\n",
       "     0,01017132468425  end\n",
       "    -0,00124898344487  end\n",
       "    -1,00              end\n",
       "    -0,02149639871889  end\n",
       "    -1,00              end\n",
       "     0,06888302545698  end\n",
       "     0,99850331741914  end\n",
       "     0,99999999985941  end\n",
       "     0,04788329856067  end\n",
       "     0,00000000000002  end\n",
       "    -0,00001643993483  end\n",
       "    -0,00              end\n",
       "     0,00000029323433  end\n",
       "    -0,00001148326648  end\n",
       "     0,00000000953435  end\n",
       "    -0,00000424495427  end\n",
       "    -0,00002217130782  end\n",
       "    -1,00              end\n",
       "     0,0000000000004   end\n",
       "    -0,00000004698286  end\n",
       "    -1,00              end\n",
       "    -0,00000021244324  end\n",
       "     0,01017132468425  end\n",
       "    -1,00              end\n",
       "     0,01017132468425  end\n",
       "    -0,99999996756759  end\n",
       "     0,01017132468425  end\n",
       "     0,01017132468425  end\n",
       "     0,0001867405646   end\n",
       "     0,01017132468425  end\n",
       "     0,15485025008694  end\n",
       "    -0,00112765218483  end\n",
       "    -0,99999989628574  end\n",
       "    -0,00036241988905  end\n",
       "    -0,0007549943375   end\n",
       "    -1,00              end\n",
       "    -1,00              end\n",
       "    -0,00112765218483  end\n",
       "    -0,99999688451913  end\n",
       "    -0,00001977194117  end\n",
       "    -0,0003347404076   end\n",
       "    -1,00              end\n",
       "     0,01017132468425  end\n",
       "    -1,00              end\n",
       "    -0,0000257298755   end\n",
       "     0,01017132468425  end\n",
       "    -0,00112765218483  end\n",
       "     0,00146345763145  end\n",
       "    -0,01729278055398  end\n",
       "    -0,00000000000255  end\n",
       "    -0,00000000160979  end\n",
       "     0,00              end\n",
       "     0,45871102511454  end\n",
       "    -0,99999999998372  end\n",
       "     0,00              end\n",
       "     0,0053844051626   end\n",
       "    -0,08484777512037  end\n",
       "    -0,00              end\n",
       "    -0,00000011773423  end\n",
       "    -0,99999999999996  end\n",
       "    -0,00000000000178  end\n",
       "     0,00              end\n",
       "    -0,00506086819124  end\n",
       "     0,99940490333879  end\n",
       "    -0,00002443059546  end\n",
       "     0,0011195254326   end\n",
       "     0,05548347497952  end\n",
       "    -0,00003449395698  end\n",
       "    -0,99999942753334  end\n",
       "    -0,00118632291488  end\n",
       "    -1,00              end\n",
       "     0,01017132468425  end\n",
       "     0,9869167748965   end\n",
       "     0,01017132468425  end\n",
       "    -1,00              end\n",
       "    -0,00137673623147  end\n",
       "    -0,0000235102762   end\n",
       "    -0,00014111650682  end\n",
       "    -0,00016740735475  end\n",
       "    -0,99999999999996  end\n",
       "    -0,00075272396598  end\n",
       "     0,99850331741914  end\n",
       "    -0,00000245741606  end\n",
       "    -0,01316701857682  end\n",
       "    -0,0018576506485   end\n",
       "    -0,00007752308804  end\n",
       "    -0,00032254994489  end\n",
       "     0,01017132468425  end\n",
       "     0,00048151084952  end\n",
       "     0,08643471097686  end\n",
       "     0,01017132468425  end\n",
       "     0,00000000019503  end\n",
       "     0,02951752779396  end\n",
       "     0,00048151084952  end\n",
       "    -0,00044740794945  end\n",
       "     0,00082080471566  end\n",
       "    -0,99999999999992  end\n",
       "     0,00662034404017  end\n",
       "    -0,99807105849973  end\n",
       "    -0,01384277551823  end\n",
       "     0,01017132468425  end\n",
       "    -0,00000379035831  end\n",
       "    -0,03105400458553  end\n",
       "    -0,99999999999998  end\n",
       "     0,98297699935125  end\n",
       "    -0,99999999999244  end\n",
       "    -0,99999948590741  end\n",
       "    -0,00000000063838  end\n",
       "    -1,00              end\n",
       "    -1,00              end\n",
       "    -0,00021105510374  end\n",
       "     0,97588314779865  end\n",
       "    -0,00006518244615  end\n",
       "    -1,00              end\n",
       "    -0,00105369512774  end\n",
       "    -0,19524607631032  end\n",
       "    -0,00000000620395  end\n",
       "     0,04985238132656  end\n",
       "     0,00              end\n",
       "    -1,00              end\n",
       "    -0,09855562776166  end\n",
       "    -0,00000151115486  end\n",
       "    -0,00000000000018  end\n",
       "    -0,00643516339857  end\n",
       "     0,00000032871848  end\n",
       "    -1,00              end\n",
       "     0,03390391249353  end\n",
       "     0,00              end\n",
       "    -0,00006319179604  end\n",
       "     0,45871102511454  end\n",
       "     0,00000000083085  end\n",
       "    -0,00035351390668  end\n",
       "     0,9999759984137   end\n",
       "    -0,999999999215    end\n",
       "    -0,00054254508549  end\n",
       "    -0,308336027128    end\n",
       "    -1,00              end\n",
       "    -0,00138156876181  end\n",
       "    -1,00              end\n",
       "    -0,0011938226272   end\n",
       "    -0,00022393400028  end\n",
       "     0,75627800105876  end\n",
       "     0,01890676711261  end\n",
       "     0,01017132468425  end\n",
       "    -0,00022393400028  end\n",
       "     0,01017132468425  end\n",
       "     0,05751291768356  end\n",
       "     0,00851052546106  end\n",
       "    -0,00000002233836  end\n",
       "    -1,00              end\n",
       "     0,01017132468425  end\n",
       "    -0,03518029414356  end\n",
       "     0,99874451496689  end\n",
       "    -0,99995735912002  end\n",
       "     0,01017132468425  end\n",
       "    -0,00014960946833  end\n",
       "     0,01017132468425  end\n",
       "    -0,0177256972977   end\n",
       "    -0,25606667582063  end\n",
       "     0,61776990129701  end\n",
       "     0,00268179895888  end\n",
       "     0,8983680014263   end\n",
       "     0,01017132468425  end\n",
       "     0,04267186404441  end\n",
       "    -0,00048439573049  end\n",
       "    -0,00105369512774  end\n",
       "     0,99999989723942  end\n",
       "    -0,00003853446922  end\n",
       "    -0,00114777963693  end\n",
       "    -0,72401384374374  end\n",
       "     0,0193499516046   end\n",
       "    -0,00              end\n",
       "    -0,93528186873776  end\n",
       "    -0,00085195080572  end\n",
       "    -0,0944089752417   end\n",
       "     0,01017132468425  end\n",
       "     0,99940490333879  end\n",
       "    -0,00204510807847  end\n",
       "    -0,99999999999996  end\n",
       "    -0,11940733555978  end\n",
       "     0,01296020047994  end\n",
       "     0,99999999985941  end\n",
       "     0,00048151084952  end\n",
       "    -0,0011135568875   end\n",
       "     0,00009054243951  end\n",
       "    -0,00276215680958  end\n",
       "     0,99999999985941  end\n",
       "    -0,08116295521456  end\n",
       "    -0,99996859792166  end\n",
       "    -0,84746163471968  end\n",
       "     0,00              end\n",
       "     0,45871102511454  end\n",
       "     0,85326646882208  end\n",
       "     0,00000029323433  end\n",
       "    -0,25171215769588  end\n",
       "    -0,00000000000016  end\n",
       "    -0,99999999999995  end\n",
       "    -0,01575609907785  end\n",
       "    -0,00021471986199  end\n",
       "     0,01017132468425  end\n",
       "     0,01017132468425  end\n",
       "     0,00000000083732  end\n",
       "     0,00000000000193  end\n",
       "    -0,31793034010118  end\n",
       "    -0,00000002815699  end\n",
       "    -0,00906282144636  end\n",
       "     0,00899906542574  end\n",
       "     0,99940490333879  end\n",
       "     0,00000000039907  end\n",
       "    -1,00              end\n",
       "     0,00714307087599  end\n",
       "    -0,0000000000499   end\n",
       "    -0,99675851220496  end\n",
       "    -0,97906207865613  end\n",
       "    -0,54301529480788  end\n",
       "     0,01017132468425  end\n",
       "     0,01017132468425  end\n",
       "     0,01017132468425  end\n",
       "     0,00934351836841  end\n",
       "    -0,76331208601568  end\n",
       "    -0,99999998001505  end\n",
       "    -0,00000013156342  end\n",
       "    -0,01847267610678  end\n",
       "    -1,00              end\n",
       "     0,0277696826504   end\n",
       "    -0,00112765218483  end\n",
       "    -0,00004831033301  end\n",
       "     0,00714307087599  end\n",
       "    -0,21592554522945  end\n",
       "    -0,00000245741606  end\n",
       "     0,01017132468425  end\n",
       "    -0,00001359628817  end\n",
       "    -0,00090836745741  end\n",
       "     0,20655142926783  end\n",
       "     0,00376933687183  end\n",
       "     0,01442736309548  end\n",
       "     0,02424314763874  end\n",
       "     0,00706716875694  end\n",
       "     0,01017132468425  end\n",
       "     0,00018105999034  end\n",
       "    -1,00              end\n",
       "     0,00162686882477  end\n",
       "    -0,99999999999958  end\n",
       "    -0,99998960913164  end\n",
       "    -1,00              end\n",
       "     0,99874451496689  end\n",
       "     0,00              end\n",
       "    -0,00011072920414  end\n",
       "     0,00000001141493  end\n",
       "     0,00049590757998  end\n",
       "    -0,64766100412773  end\n",
       "     0,00000001141493  end\n",
       "     0,01017132468425  end\n",
       "    -1,00              end\n",
       "    -0,00              end\n",
       "    -0,00              end\n",
       "    -0,99811764972021  end\n",
       "    -1,00              end\n",
       "    -0,68150566586792  end\n",
       "    -0,00050695972285  end\n",
       "     0,01017132468425  end\n",
       "    -0,00000004165259  end\n",
       "     0,72089175126295  end\n",
       "     0,45871102511454  end\n",
       "     0,01017132468425  end\n",
       "    -0,00000000005003  end\n",
       "    -0,00036619902177  end\n",
       "    -0,96241382103478  end\n",
       "     0,00000000008601  end\n",
       "     0,00000000648155  end\n",
       "     0,00              end\n",
       "    -1,00              end\n",
       "    -0,00000228192219  end\n",
       "     0,00147381661874  end\n",
       "    -0,01491191207955  end\n",
       "    -0,99999999999912  end\n",
       "    -0,00000012607809  end\n",
       "     0,01017132468425  end\n",
       "    -1,00              end\n",
       "     0,01017132468425  end\n",
       "     0,00              end\n",
       "    -0,09923052575109  end\n",
       "    -0,00000001395341  end\n",
       "    -0,00007360789892  end\n",
       "     0,00268179895888  end\n",
       "    -0,99999998734448  end\n",
       "    -1,00              end\n",
       "    -1,00              end\n",
       "    -0,99999999974474  end\n",
       "    -0,0000000003908   end\n",
       "    -1,00              end\n",
       "    -0,00002786292785  end\n",
       "    -0,99999996053084  end\n",
       "    -0,00000000000044  end\n",
       "    -0,00112765218483  end\n",
       "     0,99999318043924  end\n",
       "    -0,00010377262782  end\n",
       "    -0,0011437910695   end\n",
       "    -0,00              end\n",
       "     0,01017132468425  end\n",
       "    -0,00003285046021  end\n",
       "     0,01017132468425  end\n",
       "    -1,00              end\n",
       "     0,01017132468425  end\n",
       "    -0,99999999986986  end\n",
       "    -1,00              end\n",
       "     0,01017132468425  end\n",
       "     0,45871102511454  end\n",
       "    -0,00000000000178  end\n",
       "    -0,99999840491704  end\n",
       "    -1,00              end\n",
       "    -1,00              end\n",
       "    -0,95759827588256  end\n",
       "     0,99999999535184  end\n",
       "    -1,00              end\n",
       "    -1,00              end\n",
       "    -0,00              end\n",
       "     0,92844520433855  end\n",
       "    -0,00248821072128  end\n",
       "    -0,00000002815699  end\n",
       "    -1,00              end\n",
       "    -0,99999999999983  end\n",
       "    -1,00              end\n",
       "     0,01017132468425  end\n",
       "    -0,03263320540675  end\n",
       "    -0,000007582212    end\n",
       "     0,01017132468425  end\n",
       "    -0,00000023093906  end\n",
       "    -0,00000000001779  end\n",
       "     0,03531482090253  end\n",
       "     0,99978800776098  end\n",
       "    -0,00014710094473  end\n",
       "     0,06526833857495  end\n",
       "    -1,00              end\n",
       "    -0,000000088234    end\n",
       "    -0,00000104851098  end\n",
       "    -0,00000000000001  end\n",
       "    -0,00000000006271  end\n",
       "     0,00              end\n",
       "     0,00489062046944  end\n",
       "    -0,00015274067136  end\n",
       "     0,01017132468425  end\n",
       "     0,00162686882477  end\n",
       "    -0,77462779858114  end\n",
       "    -0,99999999999749  end\n",
       "     0,03114340451582  end\n",
       "    -0,00000605694061  end\n",
       "    -0,99999999999955  end\n",
       "     0,0012522000512   end\n",
       "    -0,00112765218483  end\n",
       "     0,00725111131205  end\n",
       "    -0,00000000794888  end\n",
       "     0,00192890898304  end\n",
       "    -1,00              end\n",
       "    -0,99999997603245  end\n",
       "     0,00              end\n",
       "     0,99940490333879  end\n",
       "     0,00001124869445  end\n",
       "     0,00              end\n",
       "    -0,00020609862825  end\n",
       "    -0,00000403885466  end\n",
       "     0,01017132468425  end\n",
       "    -0,99999999686162  end\n",
       "     0,00491320709501  end\n",
       "     0,99940490333879  end\n",
       "    -0,0000018768164   end\n",
       "     0,00              end\n",
       "     0,00031987739693  end\n",
       "    -0,00000000033169  end\n",
       "    -0,0000137433221   end\n",
       "     0,99940490333879  end\n",
       "    -0,00000080256798  end\n",
       "     0,01017132468425  end\n",
       "    -0,99982571357564  end\n",
       "    -0,00000000011044  end\n",
       "     0,99999973647709  end\n",
       "     0,00              end\n",
       "    -0,00112765218483  end\n",
       "     0,00491320709501  end\n",
       "    -1,00              end\n",
       "    -0,98082768888146  end\n",
       "     0,01017132468425  end\n",
       "    -0,00000000000042  end\n",
       "    -0,00041300193519  end\n",
       "    -0,00002398383125  end\n",
       "     0,99999999985941  end\n",
       "     0,00000036984938  end\n",
       "    -0,00008229426162  end\n",
       "    -0,99999416942149  end\n",
       "    -0,00000428221017  end\n",
       "    -0,00000127154993  end\n",
       "     0,79504764727386  end\n",
       "    -0,00              end\n",
       "    -0,00331081499702  end\n",
       "    -0,99999999718881  end\n",
       "    -1,00              end\n",
       "    -0,00000168640019  end\n",
       "    -1,00              end\n",
       "    -0,00000404093014  end\n",
       "    -0,99806550074588  end\n",
       "     0,00              end\n",
       "    -0,00000012125879  end\n",
       "    -0,00008341876312  end\n",
       "    -0,00000227139622  end\n",
       "    -1,00              end\n",
       "    -0,00000266632024  end\n",
       "    -0,00000902719146  end\n",
       "    -0,0002069767578   end\n",
       "     0,01017132468425  end\n",
       "     0,00              end\n",
       "    -0,99999999328139  end\n",
       "    -0,04423346994978  end\n",
       "     0,99913713544323  end\n",
       "     0,01193615818365  end\n",
       "     0,02951752779396  end\n",
       "    -0,31613908994016  end\n",
       "    -1,00              end\n",
       "    -0,00063110370741  end\n",
       "    -0,00439758877145  end\n",
       "     0,01017132468425  end\n",
       "     0,94199255286071  end\n",
       "    -0,00067912772428  end\n",
       "    -0,17621246744315  end\n",
       "     0,00              end\n",
       "    -0,00000073252402  end\n",
       "    -1,00              end\n",
       "    -0,99997597009639  end\n",
       "    -1,00              end\n",
       "    -1,00              end\n",
       "    -0,00000000004987  end\n",
       "     0,01017132468425  end\n",
       "    -0,46399387153199  end\n",
       "    -0,00008895606379  end\n",
       "    -1,00              end\n",
       "    -0,00112765218483  end\n",
       "    -0,99965400876188  end\n",
       "    -0,00012854182784  end\n",
       "     0,00              end\n",
       "    -0,00017664095097  end\n",
       "     0,00048151084952  end\n",
       "    -0,00754149235929  end\n",
       "    -0,99999999999851  end\n",
       "    -0,00000000060433  end\n",
       "     0,94867904414928  end\n",
       "    -0,00000289119669  end\n",
       "    -0,00006231354741  end\n",
       "     0,01017132468425  end\n",
       "     0,02740376274127  end\n",
       "     0,01017132468425  end\n",
       "    -0,00012571865841  end\n",
       "     0,0000000022392   end\n",
       "    -0,99527548718629  end\n",
       "    -0,00000000000007  end\n",
       "     0,55823376669216  end\n",
       "     0,01017132468425  end\n",
       "     0,01017132468425  end\n",
       "    -0,98538044597672  end\n",
       "    -1,00              end\n",
       "     0,00902980300769  end\n",
       "    -1,00              end\n",
       "    -0,04946785641064  end\n",
       "     0,00237009109925  end\n",
       "    -1,00              end\n",
       "     0,00              end\n",
       "    -0,00004831033301  end\n",
       "     0,00000002541868  end\n",
       "    -1,00              end\n",
       "    -0,99292915909742  end\n",
       "    -1,00              end\n",
       "    -1,00              end\n",
       "     0,6303474898363   end\n",
       "    -0,00017807475244  end\n",
       "    -1,00              end\n",
       "    -1,00              end\n",
       "    -1,00              end\n",
       "     0,01017132468425  end\n",
       "    -0,00054254508549  end\n",
       "    -0,00011254051568  end\n",
       "    -0,00000000000021  end\n",
       "     0,89410969326244  end\n",
       "    -0,00002324992272  end\n",
       "    -1,00              end\n",
       "     0,01017132468425  end\n",
       "     0,01017132468425  end\n",
       "    -0,99999990741606  end\n",
       "    -1,00              end\n",
       "     0,01017132468425  end\n",
       "    -0,00001236705244  end\n",
       "     0,01017132468425  end\n",
       "     0,85643086623068  end\n",
       "    -0,00033833284037  end\n",
       "    -0,01567440733193  end\n",
       "    -0,01306964207972  end\n",
       "     0,00000000000002  end\n",
       "    -0,00038209042534  end\n",
       "    -0,99999999999958  end\n",
       "    -1,00              end\n",
       "     0,01017132468425  end\n",
       "    -1,00              end\n",
       "     0,00011570438131  end\n",
       "    -0,00000092720027  end\n",
       "    -1,00              end\n",
       "     0,01017132468425  end\n",
       "     0,99999791404079  end\n",
       "     0,88773205952832  end\n",
       "     0,02951752779396  end\n",
       "    -0,00112765218483  end\n",
       "     0,01017132468425  end\n",
       "     0,2849422718572   end\n",
       "    -0,00              end\n",
       "     0,01193615818365  end\n",
       "    -1,00              end\n",
       "    -0,0044478743663   end\n",
       "     0,99850949475945  end\n",
       "     0,75618479554476  end\n",
       "    -0,00000245741606  end\n",
       "    -0,33589897822158  end\n",
       "     0,01017132468425  end\n",
       "    -0,94300812650873  end\n",
       "     0,0001867405646   end\n",
       "     0,01017132468425  end\n",
       "     0,01017132468425  end\n",
       "    -0,00026001549577  end\n",
       "    -0,00006518244615  end\n",
       "    -0,99349631006195  end\n",
       "    -0,11020208846592  end\n",
       "    -0,84216303775507  end\n",
       "    -0,99999999824006  end\n",
       "    -0,99999999999999  end\n",
       "     0,00              end\n",
       "    -0,00014960946833  end\n",
       "    -0,00              end\n",
       "     0,01017132468425  end\n",
       "     0,01017132468425  end\n",
       "    -0,01520962743877  end\n",
       "     0,99908360468492  end\n",
       "    -0,9996180503265   end\n",
       "     0,01017132468425  end\n",
       "    -0,99993149519043  end\n",
       "     0,00000032871848  end\n",
       "    -0,84724239328199  end\n",
       "    -1,00              end\n",
       "    -0,99999999966735  end\n",
       "    -1,00              end\n",
       "    -1,00              end\n",
       "     0,01017132468425  end\n",
       "    -0,19786688673242  end\n",
       "    -0,4133373257113   end\n",
       "    -0,00000033649209  end\n",
       "    -0,9999999999997   end\n",
       "     0,00000000000001  end\n",
       "    -1,00              end\n",
       "    -0,00011101781117  end\n",
       "    -0,99999999999898  end\n",
       "    -0,99999999836522  end\n",
       "    -0,99999896335952  end\n",
       "     0,00162686882477  end\n",
       "    -0,00005306198553  end\n",
       "     0,99999999985941  end\n",
       "    -0,99999999994944  end\n",
       "     0,01890676711261  end\n",
       "     0,00049590757998  end\n",
       "     0,99857516113199  end\n",
       "    -0,77522607427322  end\n",
       "     0,01017132468425  end\n",
       "     0,01017132468425  end\n",
       "    -0,99998740034781  end\n",
       "    -0,65198357558065  end\n",
       "    -0,00000415491045  end\n",
       "     0,01017132468425  end\n",
       "    -0,00              end\n",
       "     0,99880502952373  end\n",
       "    -1,00              end\n",
       "     0,05393001009113  end\n",
       "     0,07372369585256  end\n",
       "    -0,99999955105324  end\n",
       "     0,99999999379956  end\n",
       "     0,00381573068525  ]"
      ]
     },
     "execution_count": 88,
     "metadata": {},
     "output_type": "execute_result"
    }
   ],
   "source": [
    "pred.getCol(0) - pred.getCol(1) "
   ]
  },
  {
   "cell_type": "code",
   "execution_count": 70,
   "metadata": {
    "scrolled": false
   },
   "outputs": [
    {
     "data": {
      "text/plain": [
       "[1.5898703786415755E-10, 1.6624047526703611E-15, 1.0, 1.0, 7.490350787394148E-5, 0.9999999997297138, 1.0, 1.0, 1.0, 1.0, 5.8159047591118066E-11, 3.680435685973332E-5, 6.293971204697163E-5, 0.0019099319838452992, 0.99999974317813, 6.267870783419005E-10, 6.293971204697163E-5, 0.999999855200257, 6.447355462017577E-10, 1.0, 1.0, 1.856220170940937E-5, 9.032305370312738E-15, 1.0, 1.0, 6.293971204697163E-5, 3.707665259914707E-4, 1.0280850870327827E-4, 0.9921305995090737, 2.472681044953678E-8, 6.293971204697163E-5, 5.0094153284637565E-5, 1.0, 4.627613288412803E-28, 1.0, 1.0, 8.863875480793987E-6, 0.9999999999999993, 6.293971204697163E-5, 0.9999999999985849, 6.424595656660162E-10, 0.9999999167365994, 1.2893275155334411E-14, 1.0, 0.9999999913929348, 1.0, 6.969625172065914E-11, 1.0, 0.980470440890968, 1.0, 4.512260059343055E-5, 2.5079506143465025E-5, 4.299647828242927E-9, 1.0, 3.028109206673753E-17, 6.293971204697163E-5, 0.9999999198369669, 1.0, 1.0, 8.406293257306347E-10, 4.751071278886882E-4, 0.9999999999999996, 2.0981224563485372E-10, 1.0, 6.293971204697163E-5, 3.736497575443302E-11, 0.006111680305876738, 0.9998091751666227, 2.7706074494491964E-4, 1.0, 1.0, 0.9985138186429996, 1.0, 1.0, 9.435603965056213E-4, 1.0, 3.0467029792373966E-4, 5.292260253648125E-12, 0.9999996445624904, 0.9999999900670898, 7.440986036989384E-22, 5.848647664577983E-5, 2.569439739810185E-10, 1.0, 7.64934627742998E-6, 0.9999999999999853, 0.01807229135194532, 7.490350787394148E-5, 0.5796812718634266, 5.689888192864685E-11, 1.5817972986912783E-4, 1.0, 1.0, 3.156686667456365E-10, 1.0, 1.0382088707515088E-10, 0.8693501365728397, 0.9999659361719627, 1.0, 1.4535798523167305E-21, 6.293971204697163E-5, 1.5655332095626403E-10, 6.293971204697163E-5, 0.9904915929252625, 1.0, 1.0, 0.999999999999962, 9.414382556201622E-5, 0.9410866788031786, 0.9999997578143522, 1.5172439394479784E-4, 0.9999999999999991, 1.0, 2.575736190297801E-4, 1.0, 1.225756708053234E-10, 4.465482564243583E-4, 1.0, 7.64934627742998E-6, 5.204293948265284E-5, 1.1118294390337737E-26, 2.9962749738609736E-5, 1.0, 5.0094153284637565E-5, 1.7681048245422084E-4, 1.0, 1.0, 5.0094153284637565E-5, 6.293971204697163E-5, 2.6041533692534393E-5, 0.9999999999967006, 4.034870213273348E-5, 1.0, 6.293971204697163E-5, 6.24664756094728E-11, 1.6183664467898408E-11, 0.9796322503037527, 6.293971204697163E-5, 0.9999362306982615, 1.0, 0.9557301265178232, 0.9999997578143522, 1.0, 3.0597619152140274E-10, 2.9323395930164548E-36, 1.0, 1.0]"
      ]
     },
     "execution_count": 70,
     "metadata": {},
     "output_type": "execute_result"
    }
   ],
   "source": [
    "pred.getCol(0).toList()"
   ]
  },
  {
   "cell_type": "code",
   "execution_count": null,
   "metadata": {},
   "outputs": [],
   "source": []
  }
 ],
 "metadata": {
  "kernelspec": {
   "display_name": "Kotlin",
   "language": "kotlin",
   "name": "kotlin"
  },
  "language_info": {
   "codemirror_mode": "text/x-kotlin",
   "file_extension": "kt",
   "name": "kotlin"
  }
 },
 "nbformat": 4,
 "nbformat_minor": 2
}
