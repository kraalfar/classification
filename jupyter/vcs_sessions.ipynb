{
 "cells": [
  {
   "cell_type": "code",
   "execution_count": 1,
   "metadata": {},
   "outputs": [],
   "source": [
    "%use kotlin-statistics, krangl, kravis, klaxon"
   ]
  },
  {
   "cell_type": "code",
   "execution_count": 2,
   "metadata": {},
   "outputs": [],
   "source": [
    "import kotlin.math.*"
   ]
  },
  {
   "cell_type": "code",
   "execution_count": 3,
   "metadata": {},
   "outputs": [],
   "source": [
    "@file:Repository(\"https://dl.bintray.com/kyonifer/maven\")\n",
    "@file:DependsOn(\"com.kyonifer:koma-core-ejml:0.12\")\n",
    "@file:DependsOn(\"com.kyonifer:koma-plotting:0.12\")"
   ]
  },
  {
   "cell_type": "code",
   "execution_count": 4,
   "metadata": {},
   "outputs": [],
   "source": [
    "import koma.extensions.*\n",
    "import koma.*"
   ]
  },
  {
   "cell_type": "code",
   "execution_count": 5,
   "metadata": {},
   "outputs": [],
   "source": [
    "val df = DataFrame.readTSV(\"../data/UI_1-2buckets_6march_filt.tsv\")"
   ]
  },
  {
   "cell_type": "code",
   "execution_count": 20,
   "metadata": {},
   "outputs": [
    {
     "data": {
      "text/html": [
       "<html><body><table><tr><th style=\"text-align:left\">device_id</th><th style=\"text-align:left\">time_epoch</th><th style=\"text-align:left\">event_id</th><th style=\"text-align:left\">group_id</th><th style=\"text-align:left\">data</th></tr><tr><td style=\"text-align:left\" title=\"1312191092f7f25-dafb-4872-bdef-48d862040e85\">1312191092f7f25-dafb-4872-bdef-48d862040e85</td><td style=\"text-align:left\" title=\"1583453298421\">1583453298421</td><td style=\"text-align:left\" title=\"finished\">finished</td><td style=\"text-align:left\" title=\"completion\">completion</td><td style=\"text-align:left\" title=\"finished\">finished</td></tr><tr><td style=\"text-align:left\" title=\"2204192da927d8d-1396-4efd-8e1a-18b59ebf81c6\">2204192da927d8d-1396-4efd-8e1a-18b59ebf81c6</td><td style=\"text-align:left\" title=\"1583472538347\">1583472538347</td><td style=\"text-align:left\" title=\"action.invoked\">action.invoked</td><td style=\"text-align:left\" title=\"actions\">actions</td><td style=\"text-align:left\" title=\"com.intellij.codeInsight.daemon.impl.DaemonTooltipWithActionRenderer$SettingsActionGroup\">com.intellij.codeInsight.daemon.impl.DaemonTool...</td></tr><tr><td style=\"text-align:left\" title=\"25101933e9a2c4e-9cdc-4acc-9688-e7b99555246d\">25101933e9a2c4e-9cdc-4acc-9688-e7b99555246d</td><td style=\"text-align:left\" title=\"1583504322229\">1583504322229</td><td style=\"text-align:left\" title=\"close\">close</td><td style=\"text-align:left\" title=\"ui.dialogs\">ui.dialogs</td><td style=\"text-align:left\" title=\"com.intellij.openapi.fileChooser.ex.FileChooserDialogImpl\">com.intellij.openapi.fileChooser.ex.FileChooser...</td></tr><tr><td style=\"text-align:left\" title=\"25101933e9a2c4e-9cdc-4acc-9688-e7b99555246d\">25101933e9a2c4e-9cdc-4acc-9688-e7b99555246d</td><td style=\"text-align:left\" title=\"1583505808237\">1583505808237</td><td style=\"text-align:left\" title=\"frame.activated\">frame.activated</td><td style=\"text-align:left\" title=\"lifecycle\">lifecycle</td><td style=\"text-align:left\" title=\"frame.activated\">frame.activated</td></tr><tr><td style=\"text-align:left\" title=\"0505191d5ca0393-2e1d-4356-b3d2-afba2ab75a37\">0505191d5ca0393-2e1d-4356-b3d2-afba2ab75a37</td><td style=\"text-align:left\" title=\"1583506904562\">1583506904562</td><td style=\"text-align:left\" title=\"action.invoked\">action.invoked</td><td style=\"text-align:left\" title=\"actions\">actions</td><td style=\"text-align:left\" title=\"SaveAll\">SaveAll</td></tr><tr><td style=\"text-align:left\" title=\"0705193eb2dae1e-9342-408a-8ab1-bac507bad3eb\">0705193eb2dae1e-9342-408a-8ab1-bac507bad3eb</td><td style=\"text-align:left\" title=\"1583479655202\">1583479655202</td><td style=\"text-align:left\" title=\"edit\">edit</td><td style=\"text-align:left\" title=\"file.types.usage\">file.types.usage</td><td style=\"text-align:left\" title=\"JAVA\">JAVA</td></tr><tr><td style=\"text-align:left\" title=\"0705193eb2dae1e-9342-408a-8ab1-bac507bad3eb\">0705193eb2dae1e-9342-408a-8ab1-bac507bad3eb</td><td style=\"text-align:left\" title=\"1583479808124\">1583479808124</td><td style=\"text-align:left\" title=\"action.invoked\">action.invoked</td><td style=\"text-align:left\" title=\"actions\">actions</td><td style=\"text-align:left\" title=\"EditorCompleteStatement\">EditorCompleteStatement</td></tr><tr><td style=\"text-align:left\" title=\"0705193eb2dae1e-9342-408a-8ab1-bac507bad3eb\">0705193eb2dae1e-9342-408a-8ab1-bac507bad3eb</td><td style=\"text-align:left\" title=\"1583480452798\">1583480452798</td><td style=\"text-align:left\" title=\"fetch.started\">fetch.started</td><td style=\"text-align:left\" title=\"vcs\">vcs</td><td style=\"text-align:left\" title=\"fetch.started\">fetch.started</td></tr><tr><td style=\"text-align:left\" title=\"1312191092f7f25-dafb-4872-bdef-48d862040e85\">1312191092f7f25-dafb-4872-bdef-48d862040e85</td><td style=\"text-align:left\" title=\"1583453297837\">1583453297837</td><td style=\"text-align:left\" title=\"finished\">finished</td><td style=\"text-align:left\" title=\"completion\">completion</td><td style=\"text-align:left\" title=\"finished\">finished</td></tr><tr><td style=\"text-align:left\" title=\"0505191d5ca0393-2e1d-4356-b3d2-afba2ab75a37\">0505191d5ca0393-2e1d-4356-b3d2-afba2ab75a37</td><td style=\"text-align:left\" title=\"1583507129110\">1583507129110</td><td style=\"text-align:left\" title=\"close\">close</td><td style=\"text-align:left\" title=\"ui.dialogs\">ui.dialogs</td><td style=\"text-align:left\" title=\"com.intellij.execution.actions.ChooseRunConfigurationPopup$9$1\">com.intellij.execution.actions.ChooseRunConfigu...</td></tr><tr><td style=\"text-align:left\" title=\"0705193eb2dae1e-9342-408a-8ab1-bac507bad3eb\">0705193eb2dae1e-9342-408a-8ab1-bac507bad3eb</td><td style=\"text-align:left\" title=\"1583479658440\">1583479658440</td><td style=\"text-align:left\" title=\"action.invoked\">action.invoked</td><td style=\"text-align:left\" title=\"actions\">actions</td><td style=\"text-align:left\" title=\"ParameterInfo\">ParameterInfo</td></tr><tr><td style=\"text-align:left\" title=\"0705193eb2dae1e-9342-408a-8ab1-bac507bad3eb\">0705193eb2dae1e-9342-408a-8ab1-bac507bad3eb</td><td style=\"text-align:left\" title=\"1583479820109\">1583479820109</td><td style=\"text-align:left\" title=\"action.invoked\">action.invoked</td><td style=\"text-align:left\" title=\"actions\">actions</td><td style=\"text-align:left\" title=\"EditorChooseLookupItem\">EditorChooseLookupItem</td></tr><tr><td style=\"text-align:left\" title=\"25101933e9a2c4e-9cdc-4acc-9688-e7b99555246d\">25101933e9a2c4e-9cdc-4acc-9688-e7b99555246d</td><td style=\"text-align:left\" title=\"1583504965332\">1583504965332</td><td style=\"text-align:left\" title=\"action.invoked\">action.invoked</td><td style=\"text-align:left\" title=\"actions\">actions</td><td style=\"text-align:left\" title=\"OpenModuleSettings\">OpenModuleSettings</td></tr><tr><td style=\"text-align:left\" title=\"1312191092f7f25-dafb-4872-bdef-48d862040e85\">1312191092f7f25-dafb-4872-bdef-48d862040e85</td><td style=\"text-align:left\" title=\"1583453299379\">1583453299379</td><td style=\"text-align:left\" title=\"action.invoked\">action.invoked</td><td style=\"text-align:left\" title=\"actions\">actions</td><td style=\"text-align:left\" title=\"$SelectAll\">$SelectAll</td></tr><tr><td style=\"text-align:left\" title=\"300719129d021f7-88d3-4b6a-829b-aa3ad5e64f5e\">300719129d021f7-88d3-4b6a-829b-aa3ad5e64f5e</td><td style=\"text-align:left\" title=\"1583496809319\">1583496809319</td><td style=\"text-align:left\" title=\"open\">open</td><td style=\"text-align:left\" title=\"file.types.usage\">file.types.usage</td><td style=\"text-align:left\" title=\"JAVA\">JAVA</td></tr><tr><td style=\"text-align:left\" title=\"300719129d021f7-88d3-4b6a-829b-aa3ad5e64f5e\">300719129d021f7-88d3-4b6a-829b-aa3ad5e64f5e</td><td style=\"text-align:left\" title=\"1583496964794\">1583496964794</td><td style=\"text-align:left\" title=\"frame.deactivated\">frame.deactivated</td><td style=\"text-align:left\" title=\"lifecycle\">lifecycle</td><td style=\"text-align:left\" title=\"frame.deactivated\">frame.deactivated</td></tr><tr><td style=\"text-align:left\" title=\"300719129d021f7-88d3-4b6a-829b-aa3ad5e64f5e\">300719129d021f7-88d3-4b6a-829b-aa3ad5e64f5e</td><td style=\"text-align:left\" title=\"1583497067717\">1583497067717</td><td style=\"text-align:left\" title=\"finished\">finished</td><td style=\"text-align:left\" title=\"completion\">completion</td><td style=\"text-align:left\" title=\"finished\">finished</td></tr><tr><td style=\"text-align:left\" title=\"300719129d021f7-88d3-4b6a-829b-aa3ad5e64f5e\">300719129d021f7-88d3-4b6a-829b-aa3ad5e64f5e</td><td style=\"text-align:left\" title=\"1583497206443\">1583497206443</td><td style=\"text-align:left\" title=\"finished\">finished</td><td style=\"text-align:left\" title=\"completion\">completion</td><td style=\"text-align:left\" title=\"finished\">finished</td></tr><tr><td style=\"text-align:left\" title=\"300719129d021f7-88d3-4b6a-829b-aa3ad5e64f5e\">300719129d021f7-88d3-4b6a-829b-aa3ad5e64f5e</td><td style=\"text-align:left\" title=\"1583488448188\">1583488448188</td><td style=\"text-align:left\" title=\"open\">open</td><td style=\"text-align:left\" title=\"file.types.usage\">file.types.usage</td><td style=\"text-align:left\" title=\"JAVA\">JAVA</td></tr><tr><td style=\"text-align:left\" title=\"300719129d021f7-88d3-4b6a-829b-aa3ad5e64f5e\">300719129d021f7-88d3-4b6a-829b-aa3ad5e64f5e</td><td style=\"text-align:left\" title=\"1583488747141\">1583488747141</td><td style=\"text-align:left\" title=\"frame.activated\">frame.activated</td><td style=\"text-align:left\" title=\"lifecycle\">lifecycle</td><td style=\"text-align:left\" title=\"frame.activated\">frame.activated</td></tr></table><p>... only showing top 20 rows</p></body></html>"
      ]
     },
     "execution_count": 20,
     "metadata": {},
     "output_type": "execute_result"
    }
   ],
   "source": [
    "df"
   ]
  },
  {
   "cell_type": "code",
   "execution_count": 8,
   "metadata": {},
   "outputs": [],
   "source": [
    "class Action(val time: Long, val event_id: String, val group_id: String, val event_data: String) {\n",
    "    fun print() {\n",
    "        println(\"$time $event_id $group_id $event_data\")\n",
    "    }\n",
    "    \n",
    "    fun get_event(): String {\n",
    "        return group_id + \"_\" + event_data\n",
    "    }\n",
    "}"
   ]
  },
  {
   "cell_type": "code",
   "execution_count": 9,
   "metadata": {},
   "outputs": [],
   "source": [
    "class Session(val id: String) {\n",
    "    public var actions: ArrayList<Action> = ArrayList()\n",
    "\n",
    "    fun add(time: Long, event: String, group: String, action: String) {\n",
    "        actions.add(Action(time, event, group, action))\n",
    "    }\n",
    "\n",
    "    fun print() {\n",
    "        println(id)\n",
    "        for (action in actions) {\n",
    "            action.print()\n",
    "        }\n",
    "    }\n",
    "    \n",
    "    fun time(): Long {\n",
    "        val t: Long = actions[actions.size-1].time\n",
    "        return t / 100 / 60\n",
    "    }\n",
    "    \n",
    "    fun events(): String {\n",
    "        val events = ArrayList<String>()\n",
    "        for (action in actions)\n",
    "            events.add(action.get_event())\n",
    "        return events.joinToString(separator = \" , \")\n",
    "    }\n",
    "}"
   ]
  },
  {
   "cell_type": "code",
   "execution_count": 46,
   "metadata": {},
   "outputs": [],
   "source": [
    "val vcs_sessions = ArrayList<Session>()\n",
    "val vcs_time1 = ArrayList<Long>()\n",
    "val vcs_time2 = ArrayList<Long>()"
   ]
  },
  {
   "cell_type": "code",
   "execution_count": 47,
   "metadata": {},
   "outputs": [],
   "source": [
    "fun makeSessions(path: String, threshold: Long = 60000): ArrayList<Session> {\n",
    "    val df = DataFrame.readTSV(path)\n",
    "    val groups = df.groupBy(\"device_id\").sortedBy(\"time_epoch\").groups()\n",
    "    val ses: ArrayList<Session> = ArrayList()\n",
    "    var tot = -1\n",
    "    for (group in groups) {\n",
    "        var flag = false\n",
    "        var cnt: Int = -1\n",
    "        var prev: Long = -1\n",
    "        var start: Long = -1\n",
    "        // ses.add(Session(groups[0].row(0)['device_id']))\n",
    "        for (row in group.rows) {\n",
    "            \n",
    "            \n",
    "            \n",
    "            val dev = row.getOrDefault(\"device_id\", \"\") as String\n",
    "            val time = row.getOrDefault(\"time_epoch\", 0) as Long\n",
    "            val event = row.getOrDefault(\"event_id\", \"\") as String\n",
    "            val groupId = row.getOrDefault(\"group_id\", \"\") as String\n",
    "            val ed = row.getOrDefault(\"data\", \"\") as String\n",
    "            \n",
    "        \n",
    "            if (event == \"fetch.finished\")\n",
    "                flag = true\n",
    "            \n",
    "            \n",
    "            if (groupId == \"lifecycle\")\n",
    "                if (event == \"frame.activated\" || event == \"frame.deactivated\")\n",
    "                    continue\n",
    "            \n",
    "            \n",
    "            if (flag && prev != -1L) {\n",
    "                    vcs_time2.add(time-prev)\n",
    "            }\n",
    "            \n",
    "            \n",
    "            if (prev == -1L || time - prev > threshold) {\n",
    "                if (flag && prev != -1L) {\n",
    "                    vcs_sessions.add(ses[tot])\n",
    "                    vcs_time1.add(time-prev)\n",
    "                }\n",
    "                cnt++\n",
    "                tot++\n",
    "                start = time\n",
    "                ses.add(Session(dev + \"_\" + cnt.toString()))\n",
    "                ses[tot].add(time - start, event, groupId, ed)\n",
    "            } else {\n",
    "                ses[tot].add(time - start, event, groupId, ed)\n",
    "            }\n",
    "            \n",
    "            prev = time\n",
    "            flag = event == \"fetch.finished\"\n",
    "            \n",
    "\n",
    "        }\n",
    "    }\n",
    "    return ses\n",
    "}\n",
    "\n"
   ]
  },
  {
   "cell_type": "code",
   "execution_count": 48,
   "metadata": {},
   "outputs": [],
   "source": [
    "val ses = makeSessions(\"../data/UI_1-2buckets_6march_filt.tsv\")"
   ]
  },
  {
   "cell_type": "code",
   "execution_count": 49,
   "metadata": {},
   "outputs": [
    {
     "data": {
      "text/plain": [
       "19865"
      ]
     },
     "execution_count": 49,
     "metadata": {},
     "output_type": "execute_result"
    }
   ],
   "source": [
    "ses.size"
   ]
  },
  {
   "cell_type": "code",
   "execution_count": 50,
   "metadata": {},
   "outputs": [
    {
     "data": {
      "text/plain": [
       "947"
      ]
     },
     "execution_count": 50,
     "metadata": {},
     "output_type": "execute_result"
    }
   ],
   "source": [
    "vcs_sessions.size"
   ]
  },
  {
   "cell_type": "code",
   "execution_count": 59,
   "metadata": {},
   "outputs": [],
   "source": [
    "var time1 = 1.0 *vcs_time1.sum() / vcs_time1.size / 100 / 60"
   ]
  },
  {
   "cell_type": "code",
   "execution_count": 60,
   "metadata": {},
   "outputs": [],
   "source": [
    "var time2 = 1.0 *vcs_time2.sum() / vcs_time2.size / 100 / 60"
   ]
  },
  {
   "cell_type": "code",
   "execution_count": 66,
   "metadata": {},
   "outputs": [],
   "source": [
    "var time3 = (vcs_time2.size * time2 - vcs_time1.size * time1) / (vcs_time2.size - vcs_time1.size)"
   ]
  },
  {
   "cell_type": "code",
   "execution_count": 75,
   "metadata": {},
   "outputs": [
    {
     "data": {
      "text/plain": [
       "среднее время между между fetch.finished и следующим действием, если fetch последний в сессии = 95.96809116508273 мин"
      ]
     },
     "execution_count": 75,
     "metadata": {},
     "output_type": "execute_result"
    }
   ],
   "source": [
    "\"среднее время между между fetch.finished и следующим действием, если fetch последний в сессии = $time1 мин\""
   ]
  },
  {
   "cell_type": "code",
   "execution_count": 76,
   "metadata": {},
   "outputs": [
    {
     "data": {
      "text/plain": [
       "среднее время между между fetch.finished и следующим действием = 27.701385248354274 мин"
      ]
     },
     "execution_count": 76,
     "metadata": {},
     "output_type": "execute_result"
    }
   ],
   "source": [
    "\"среднее время между между fetch.finished и следующим действием = $time2 мин\""
   ]
  },
  {
   "cell_type": "code",
   "execution_count": 77,
   "metadata": {},
   "outputs": [
    {
     "data": {
      "text/plain": [
       "среднее время между между fetch.finished и следующим действием в данной сессии= 0.7082451635351371 мин"
      ]
     },
     "execution_count": 77,
     "metadata": {},
     "output_type": "execute_result"
    }
   ],
   "source": [
    "\"среднее время между между fetch.finished и следующим действием в данной сессии= $time3 мин\""
   ]
  },
  {
   "cell_type": "code",
   "execution_count": 78,
   "metadata": {},
   "outputs": [],
   "source": [
    "val vcs_len = ArrayList<Long>()\n",
    "for (vcs_session in vcs_sessions)\n",
    "    vcs_len.add(vcs_session.time())"
   ]
  },
  {
   "cell_type": "code",
   "execution_count": 82,
   "metadata": {},
   "outputs": [],
   "source": [
    "var time4 = 1.0 * vcs_len.sum() / vcs_len.size / 100"
   ]
  },
  {
   "cell_type": "code",
   "execution_count": 83,
   "metadata": {},
   "outputs": [
    {
     "data": {
      "text/plain": [
       "средняя длина сессии с fetch.finished = 0.01775079197465681 сек"
      ]
     },
     "execution_count": 83,
     "metadata": {},
     "output_type": "execute_result"
    }
   ],
   "source": [
    "\"средняя длина сессии с fetch.finished = $time4 сек\""
   ]
  },
  {
   "cell_type": "code",
   "execution_count": null,
   "metadata": {},
   "outputs": [],
   "source": []
  }
 ],
 "metadata": {
  "kernelspec": {
   "display_name": "Kotlin",
   "language": "kotlin",
   "name": "kotlin"
  },
  "language_info": {
   "codemirror_mode": "text/x-kotlin",
   "file_extension": "kt",
   "name": "kotlin"
  }
 },
 "nbformat": 4,
 "nbformat_minor": 2
}
