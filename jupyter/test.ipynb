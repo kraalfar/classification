{
 "cells": [
  {
   "cell_type": "code",
   "execution_count": 1,
   "metadata": {},
   "outputs": [
    {
     "data": {
      "text/html": [
       "   <div id=\"xDlMNr\"></div>\n",
       "   <script type=\"text/javascript\">\n",
       "       if(!window.letsPlotCallQueue) {\n",
       "           window.letsPlotCallQueue = [];\n",
       "       }; \n",
       "       window.letsPlotCall = function(f) {\n",
       "           window.letsPlotCallQueue.push(f);\n",
       "       };\n",
       "       (function() {\n",
       "           var script = document.createElement(\"script\");\n",
       "           script.type = \"text/javascript\";\n",
       "           script.src = \"https://dl.bintray.com/jetbrains/lets-plot/lets-plot-1.0.0.min.js\";\n",
       "           script.onload = function() {\n",
       "               window.letsPlotCall = function(f) {f();};\n",
       "               window.letsPlotCallQueue.forEach(function(f) {f();});\n",
       "               window.letsPlotCallQueue = [];\n",
       "               \n",
       "               \n",
       "           };\n",
       "           script.onerror = function(event) {\n",
       "               window.letsPlotCall = function(f) {};\n",
       "               window.letsPlotCallQueue = [];\n",
       "               var div = document.createElement(\"div\");\n",
       "               div.style.color = 'darkred';\n",
       "               div.textContent = 'Error loading Lets-Plot JS';\n",
       "               document.getElementById(\"xDlMNr\").appendChild(div);\n",
       "           };\n",
       "           var e = document.getElementById(\"xDlMNr\");\n",
       "           e.appendChild(script);\n",
       "       })();\n",
       "   </script>"
      ]
     },
     "metadata": {},
     "output_type": "display_data"
    }
   ],
   "source": [
    "%use kotlin-statistics, krangl, kravis, lets-plot"
   ]
  },
  {
   "cell_type": "code",
   "execution_count": 2,
   "metadata": {},
   "outputs": [],
   "source": [
    "import kotlin.math.*"
   ]
  },
  {
   "cell_type": "code",
   "execution_count": 3,
   "metadata": {},
   "outputs": [],
   "source": [
    "@file:Repository(\"https://dl.bintray.com/kyonifer/maven\")\n",
    "@file:DependsOn(\"com.kyonifer:koma-core-ejml:0.12\")\n",
    "@file:DependsOn(\"com.kyonifer:koma-plotting:0.12\")"
   ]
  },
  {
   "cell_type": "code",
   "execution_count": 4,
   "metadata": {},
   "outputs": [],
   "source": [
    "import koma.extensions.*\n",
    "import koma.*"
   ]
  },
  {
   "cell_type": "code",
   "execution_count": 5,
   "metadata": {},
   "outputs": [],
   "source": [
    "fun trainTestSplit(path: String, fraction: Double = 0.8): Pair<DataFrame, DataFrame> {\n",
    "    val df = DataFrame.readTSV(path)\n",
    "    val trainCount: Int = kotlin.math.ceil(fraction * df.nrow).toInt()\n",
    "    val shuffledDf = df.shuffle()\n",
    "    return Pair(shuffledDf.slice(0..trainCount), shuffledDf.slice(trainCount + 1..shuffledDf.nrow))\n",
    "}"
   ]
  },
  {
   "cell_type": "code",
   "execution_count": 6,
   "metadata": {},
   "outputs": [],
   "source": [
    "val (train, test) = trainTestSplit(\"../data/test/test_data.tsv\")"
   ]
  },
  {
   "cell_type": "code",
   "execution_count": 7,
   "metadata": {},
   "outputs": [],
   "source": [
    "class NaiveBayesOneVAll(private val alpha: Double = 1e-5, val cat: String = \"coding\") {\n",
    "\n",
    "    var p: Double = 0.0\n",
    "    var probs: ArrayList<koma.matrix.Matrix<Double>> = ArrayList()\n",
    "\n",
    "    var voc: Map<String, Int> = HashMap()\n",
    "    lateinit var id2word: List<String>\n",
    "    private var n: Int = 0\n",
    "\n",
    "    fun initialize(df: DataFrame, limit: Int = 5, top: Int = 0, n: Int = 1) {\n",
    "        this.n = n\n",
    "        val events = df[\"events\"]\n",
    "        val eventsMap: MutableMap<String, Int> = HashMap()\n",
    "\n",
    "        for (i in 0 until events.length) {\n",
    "            val eventsArr = df[\"events\"][i].toString().split(\" , \")\n",
    "            for (j in 0 until eventsArr.size - n + 1) {\n",
    "                val ev = eventsArr.slice(j until j + n).joinToString()\n",
    "                if (eventsMap.containsKey(ev)) {\n",
    "                    eventsMap[ev] = eventsMap.getValue(ev) + 1\n",
    "                } else {\n",
    "                    eventsMap[ev] = 1\n",
    "                }\n",
    "            }\n",
    "        }\n",
    "\n",
    "        id2word = eventsMap.filter { it.value > limit }\n",
    "            .toSortedMap(compareBy({ eventsMap[it]?.times(-1) }, { it })).keys.toList()\n",
    "\n",
    "        id2word = id2word.slice(top until id2word.size)\n",
    "        voc = id2word.withIndex().toList().associate { it.value to it.index }\n",
    "    }\n",
    "\n",
    "    fun transform(df: DataFrame): Pair<koma.matrix.Matrix<Double>, List<String>> {\n",
    "        val mat = zeros(df.nrow, voc.size + 2)\n",
    "        val label = ArrayList<String>()\n",
    "        for (i in 0 until df.nrow) {\n",
    "            label.add(df[\"Category\"][i].toString())\n",
    "\n",
    "            val eventsArr = df[\"events\"][i].toString().split(\" , \")\n",
    "            for (j in 0 until eventsArr.size - n + 1) {\n",
    "                val event = eventsArr.slice(j until j + n).joinToString()\n",
    "                if (voc.containsKey(event)) {\n",
    "                    mat[i, voc[event] as Int] += 1\n",
    "                }\n",
    "            }\n",
    "        }\n",
    "        return Pair(mat, label)\n",
    "    }\n",
    "\n",
    "\n",
    "    fun fit (df: DataFrame) {\n",
    "        val (X, y) = transform(df)\n",
    "\n",
    "        probs.add(ones(X.shape()[1], 11) * alpha)\n",
    "        probs.add(ones(X.shape()[1], 11) * alpha)\n",
    "\n",
    "        for (i in y.indices) {\n",
    "            var cls = 0\n",
    "            if (!y[i].toLowerCase().contains(cat))\n",
    "                cls = 1\n",
    "            else\n",
    "                p++\n",
    "\n",
    "\n",
    "            for (j in 0 until X.shape()[1]) {\n",
    "                val ind: Int = if (X[i, j] < 10.0) X[i, j].toInt() else 10\n",
    "                probs[cls][j, ind] += 1\n",
    "\n",
    "            }\n",
    "\n",
    "        }\n",
    "\n",
    "        p /= y.size\n",
    "        for (cls in 0 until 2) {\n",
    "            var probsMatrix = probs[cls]\n",
    "            val den = (1 + alpha) * probsMatrix.getRow(0).elementSum().toInt()\n",
    "            probsMatrix /= den\n",
    "            probs[cls] = probsMatrix\n",
    "        }\n",
    "    }\n",
    "\n",
    "\n",
    "    fun prob(X: koma.matrix.Matrix<Double>): List<Double> {\n",
    "        val ans = zeros(X.shape()[0], 2)\n",
    "        for (i in 0 until X.shape()[0]) {\n",
    "            for (cls in 0 until 2) {\n",
    "                ans[i, cls] = kotlin.math.ln(p * (1 - cls) + (1 - p) * cls)\n",
    "                for (k in 0 until X.shape()[1]) {\n",
    "                    val ind = if (X[i, k] < 10.0) X[i, k].toInt() else 10\n",
    "                    ans[i, cls] += kotlin.math.ln(probs[cls][k, ind])\n",
    "                }\n",
    "            }\n",
    "        }\n",
    "        val q = fill(\n",
    "            ans.shape()[0],\n",
    "            ans.shape()[1]\n",
    "        ) { i, j -> 1 / (exp(ans[i, 0 until ans.shape()[1]] - ans[i, j]).mean() * ans.shape()[1]) }\n",
    "        return q.getCol(0).toList()\n",
    "    }\n",
    "\n",
    "    fun expl(X: koma.matrix.Matrix<Double>): ArrayList<List<Double>> {\n",
    "        val ans = ArrayList<List<Double>>()\n",
    "\n",
    "        for (i in 0 until X.shape()[0]) {\n",
    "            val semi = zeros(X.shape()[1], 1)\n",
    "\n",
    "            for (k in 0 until X.shape()[1]) {\n",
    "                val ind = if (X[i, k] < 10.0) X[i, k].toInt() else 10\n",
    "                semi[k] += kotlin.math.ln(probs[0][k, ind]) - kotlin.math.ln(probs[1][k, ind])\n",
    "            }\n",
    "            ans.add(semi.toList())\n",
    "        }\n",
    "\n",
    "        return ans\n",
    "    }\n",
    "\n",
    "    private fun impact(\n",
    "        expl: ArrayList<List<Double>>,\n",
    "        n: Int = 5\n",
    "    ): Pair<ArrayList<List<String>>, ArrayList<List<String>>> {\n",
    "        val pos = ArrayList<List<String>>()\n",
    "        val negs = ArrayList<List<String>>()\n",
    "\n",
    "        for (row in expl) {\n",
    "            val cv = ArrayList<Pair<String, Double>>()\n",
    "\n",
    "            for (j in id2word.indices) {\n",
    "                cv.add(Pair(id2word[j], row[j]))\n",
    "            }\n",
    "\n",
    "            cv.sortBy { -it.second }\n",
    "            pos.add(cv.slice(0 until n).map { it.first })\n",
    "            negs.add(cv.slice(cv.size - n until cv.size).map { it.first })\n",
    "        }\n",
    "        return Pair(pos, negs)\n",
    "    }\n",
    "\n",
    "    fun getPosNeg(X: koma.matrix.Matrix<Double>): Pair<ArrayList<List<String>>, ArrayList<List<String>>> {\n",
    "        val expl = expl(X)\n",
    "        return impact(expl)\n",
    "    }\n",
    "\n",
    "}"
   ]
  },
  {
   "cell_type": "code",
   "execution_count": 8,
   "metadata": {},
   "outputs": [],
   "source": [
    "fun integrate(x: ArrayList<Double>, y: ArrayList<Double>): Double {\n",
    "    var res = 0.0\n",
    "    for (i in 0 until y.size - 1) {\n",
    "        res -= (x[i + 1] - x[i]) * (y[i + 1] + y[i]) / 2\n",
    "    }\n",
    "    return res\n",
    "}"
   ]
  },
  {
   "cell_type": "code",
   "execution_count": 9,
   "metadata": {},
   "outputs": [],
   "source": [
    "class Predicition(\n",
    "    val probs: HashMap<String, Double> = HashMap(),\n",
    "    val pos: HashMap<String, List<String>> = HashMap(),\n",
    "    val negs: HashMap<String, List<String>> = HashMap()\n",
    ") {\n",
    "    fun add(cat: String, prob: Double, ps: List<String>, ns: List<String>) {\n",
    "        probs[cat] = prob\n",
    "        pos[cat] = ps\n",
    "        negs[cat] = ns\n",
    "    }\n",
    "}"
   ]
  },
  {
   "cell_type": "code",
   "execution_count": 55,
   "metadata": {},
   "outputs": [],
   "source": [
    "class OneVSAll(private val alpha: Double = 1e-5) {\n",
    "\n",
    "    val classes = listOf(\n",
    "        \"reading\", \"coding\", \"ide_start\",\n",
    "        \"notifications\", \"rdb\", \"database\",\n",
    "        \"ide_close\", \"vcs\", \"terminal\", \"settings\"\n",
    "    )\n",
    "\n",
    "    val limit = mapOf(\n",
    "        \"reading\" to 5, \"coding\" to 0, \"ide_start\" to 0,\n",
    "        \"notifications\" to 0, \"rdb\" to 0, \"database\" to 5,\n",
    "        \"ide_close\" to 0, \"vcs\" to 0, \"terminal\" to 7, \"settings\" to 0\n",
    "    )\n",
    "\n",
    "    val top = mapOf(\n",
    "        \"reading\" to 0, \"coding\" to 0, \"ide_start\" to 0,\n",
    "        \"notifications\" to 0, \"rdb\" to 0, \"database\" to 10,\n",
    "        \"ide_close\" to 5, \"vcs\" to 0, \"terminal\" to 4, \"settings\" to 0\n",
    "    )\n",
    "\n",
    "    var classifiers = ArrayList<NaiveBayesOneVAll>()\n",
    "\n",
    "    fun initialize(df: DataFrame, n: Int = 1) {\n",
    "        for (cls in classes) {\n",
    "            val newClass = NaiveBayesOneVAll(cat = cls)\n",
    "            newClass.initialize(df, limit[cls] ?: error(\"\"), top[cls] ?: error(\"\"), n)\n",
    "            classifiers.add(newClass)\n",
    "        }\n",
    "    }\n",
    "\n",
    "    fun fit(df: DataFrame) {\n",
    "        for (cl in classifiers) {\n",
    "            cl.fit(df)\n",
    "        }\n",
    "    }\n",
    "\n",
    "    fun predict(df: DataFrame): Triple<ArrayList<Predicition>, ArrayList<Double>, ArrayList<Map<String, ArrayList<Double>>>> {\n",
    "        val ROCs = ArrayList<Map<String, ArrayList<Double>>>()\n",
    "        val AUCs = ArrayList<Double>()\n",
    "        val preds = ArrayList<Predicition>()\n",
    "\n",
    "        for (i in 0 until df.nrow)\n",
    "            preds.add(Predicition())\n",
    "\n",
    "        for (i in classes.indices) {\n",
    "            val (X_bow, y_bow) = classifiers[i].transform(df)\n",
    "            val prob = classifiers[i].prob(X_bow)\n",
    "            val (roc, auc) = ROCAUC(prob, y_bow, classes[i])\n",
    "            ROCs.add(roc)\n",
    "            AUCs.add(auc)\n",
    "            val (pos, negs) = classifiers[i].getPosNeg(X_bow)\n",
    "            for (j in prob.indices) {\n",
    "                preds[j].add(classes[i], prob[j], pos[j], negs[j])\n",
    "            }\n",
    "        }\n",
    "\n",
    "        return Triple(preds, AUCs, ROCs)\n",
    "    }\n",
    "\n",
    "    private fun ROCAUC(\n",
    "        prob: List<Double>,\n",
    "        y: List<String>,\n",
    "        cat: String\n",
    "    ): Pair<Map<String, ArrayList<Double>>, Double> {\n",
    "        val nexs = ArrayList<Double>()\n",
    "        val pexs = ArrayList<Double>()\n",
    "        val a = ArrayList<Pair<Double, Int>>()\n",
    "        for (i in y.indices) {\n",
    "            if (y[i].toLowerCase().contains(cat))\n",
    "                a.add(Pair(prob[i], 1))\n",
    "            else\n",
    "                a.add(Pair(prob[i], 0))\n",
    "        }\n",
    "\n",
    "        a.sortBy { it.first }\n",
    "        var c = 0.01\n",
    "        val z = DoubleArray(2)\n",
    "        nexs.add(0.0)\n",
    "        pexs.add(0.0)\n",
    "\n",
    "        for (v in a) {\n",
    "            if (v.first > c) {\n",
    "                c += 0.01\n",
    "                nexs.add(z[0])\n",
    "                pexs.add(z[1])\n",
    "            }\n",
    "            z[v.second]++\n",
    "        }\n",
    "\n",
    "        nexs.add(z[0])\n",
    "        pexs.add(z[1])\n",
    "\n",
    "        val pe = pexs[pexs.size - 1]\n",
    "        val ne = nexs[nexs.size - 1]\n",
    "\n",
    "        for (i in pexs.indices) {\n",
    "            pexs[i] = pe - pexs[i]\n",
    "            nexs[i] = ne - nexs[i]\n",
    "\n",
    "        }\n",
    "        val rec = ArrayList<Double>()\n",
    "        val prec = ArrayList<Double>()\n",
    "\n",
    "        for (i in pexs.indices) {\n",
    "            rec.add(pexs[i] / pexs[0])\n",
    "        }\n",
    "\n",
    "        for (i in pexs.indices) {\n",
    "            if (pexs[i] + nexs[i] == 0.0)\n",
    "                prec.add(1.0)\n",
    "            else\n",
    "                prec.add(pexs[i] / (nexs[i] + pexs[i]))\n",
    "        }\n",
    "\n",
    "        val df = mapOf(\"recall\" to rec, \"precision\" to prec)\n",
    "        val auc = integrate(rec, prec)\n",
    "        return Pair(df, auc)\n",
    "    }\n",
    "\n",
    "\n",
    "\n",
    "}\n",
    "\n",
    "var cl = OneVSAll()"
   ]
  },
  {
   "cell_type": "code",
   "execution_count": 56,
   "metadata": {},
   "outputs": [],
   "source": [
    "cl.initialize(train)"
   ]
  },
  {
   "cell_type": "code",
   "execution_count": 57,
   "metadata": {
    "scrolled": false
   },
   "outputs": [],
   "source": [
    "cl.fit(train)"
   ]
  },
  {
   "cell_type": "code",
   "execution_count": 58,
   "metadata": {},
   "outputs": [],
   "source": [
    "val (preds, AUCs, ROCs) = cl.predict(train)"
   ]
  },
  {
   "cell_type": "code",
   "execution_count": 59,
   "metadata": {},
   "outputs": [
    {
     "data": {
      "text/plain": [
       "[0.9566777051200045, 0.9910118004216806, 0.9544417010660593, 0.9108883731816593, 0.9972831857139055, 1.0000000000000002, 0.9187626262626262, 0.9993162017964459, 0.9472697903947906, 0.9642045454545455]"
      ]
     },
     "execution_count": 59,
     "metadata": {},
     "output_type": "execute_result"
    }
   ],
   "source": [
    "AUCs"
   ]
  },
  {
   "cell_type": "code",
   "execution_count": 29,
   "metadata": {
    "scrolled": true
   },
   "outputs": [
    {
     "data": {
      "text/plain": [
       "[0.9566777051200045, 0.9910118004216806, 0.9544417010660593, 0.9108883731816593, 0.9972831857139055, 0.7985909152575821, 0.9187626262626262, 0.9993162017964459, 0.966267116597999, 0.9642045454545455]"
      ]
     },
     "execution_count": 29,
     "metadata": {},
     "output_type": "execute_result"
    }
   ],
   "source": [
    "AUCs"
   ]
  },
  {
   "cell_type": "code",
   "execution_count": 60,
   "metadata": {},
   "outputs": [],
   "source": [
    "var posEvents = HashMap<String, ArrayList<String>>()\n",
    "var negEvents = HashMap<String, ArrayList<String>>()"
   ]
  },
  {
   "cell_type": "code",
   "execution_count": 61,
   "metadata": {},
   "outputs": [],
   "source": [
    "for (cls in cl.classes) {\n",
    "    posEvents[cls] = ArrayList()\n",
    "    negEvents[cls] = ArrayList()\n",
    "\n",
    "    for (pred in preds) {\n",
    "        if (pred.probs[cls]!! > 0.5) {\n",
    "            posEvents[cls]!!.addAll(pred.pos[cls]!!)\n",
    "        } else {\n",
    "            negEvents[cls]!!.addAll(pred.negs[cls]!!)\n",
    "        }\n",
    "    }\n",
    "}"
   ]
  },
  {
   "cell_type": "code",
   "execution_count": 62,
   "metadata": {},
   "outputs": [],
   "source": [
    "var posEventsCount = HashMap<String, Map<String, Int>>()\n",
    "var negEventsCount = HashMap<String, Map<String, Int>>()"
   ]
  },
  {
   "cell_type": "code",
   "execution_count": 63,
   "metadata": {},
   "outputs": [],
   "source": [
    "for (cls in cl.classes) {\n",
    "    posEventsCount[cls] = posEvents[cls]!!.toList().groupBy { it }.mapValues { it.value.size }\n",
    "    negEventsCount[cls] = negEvents[cls]!!.toList().groupBy { it }.mapValues { it.value.size }\n",
    "    posEventsCount[cls] = posEventsCount[cls]!!.toSortedMap (compareBy ({ posEventsCount[cls]?.get(it)?.times(-1) }, { it }))\n",
    "    negEventsCount[cls] = negEventsCount[cls]!!.toSortedMap (compareBy ({ negEventsCount[cls]?.get(it)?.times(-1) }, { it }))\n",
    "}\n"
   ]
  },
  {
   "cell_type": "code",
   "execution_count": 64,
   "metadata": {},
   "outputs": [
    {
     "data": {
      "text/plain": [
       "{ui.event_BreadcrumbShowTooltip_BreadcrumbShowTooltip=7, file.types.usage_edit_JAVA=5, toolwindow_activated_Database=5, actions_action.invoked_EditorCopy=4, ui.dialogs_close_com.intellij.openapi.progress.util.ProgressDialog$MyDialogWrapper=3, ui.dialogs_show_com.intellij.openapi.progress.util.ProgressDialog$MyDialogWrapper=3, actions_action.invoked_EditorLeft=2, actions_action.invoked_com.intellij.xdebugger.impl.breakpoints.RemoveBreakpointGutterIconAction=2, build_started_started=2, gutter.icon.click_clicked_db_verified_breakpoint=2, productivity_feature.used_db.table.editor=2, toolwindow_activated_Services=2, actions_action.invoked_CheckinFiles=1, actions_action.invoked_CloseAllEditors=1, actions_action.invoked_EditorDown=1, actions_action.invoked_EditorNextWordWithSelection=1, actions_action.invoked_EditorPreviousWordWithSelection=1, actions_action.invoked_EditorRight=1, actions_action.invoked_EditorUp=1, actions_action.invoked_Resume=1, toolbar_clicked_Resume=1, ui.dialogs_close_com.intellij.openapi.options.newEditor.SettingsDialog=1, ui.dialogs_show_com.intellij.openapi.options.newEditor.SettingsDialog=1}"
      ]
     },
     "execution_count": 64,
     "metadata": {},
     "output_type": "execute_result"
    }
   ],
   "source": [
    "posEventsCount[\"database\"]"
   ]
  },
  {
   "cell_type": "code",
   "execution_count": 40,
   "metadata": {
    "scrolled": true
   },
   "outputs": [
    {
     "data": {
      "text/plain": [
       "{toolwindow_activated_Database=266, file.types.usage_edit_Scratch=210, productivity_feature.used_db.console.run.intention=135, ui.event_BreadcrumbShowTooltip_BreadcrumbShowTooltip=110, build_finished_finished=95, file.types.usage_edit_JAVA=90, actions_action.invoked_EditorCopy=88, build_started_started=84, run.configuration.exec_started_started=81, run.configuration.exec_finished_finished=80, run.configuration.exec_ui.shown_ui.shown=77, toolwindow_activated_Project=70, actions_action.invoked_SaveAll=62, actions_action.invoked_EditorDown=57, file.types.usage_open_JAVA=57, actions_action.invoked_Console.Jdbc.Execute=55, productivity_feature.used_navigation.goto.declaration=53, actions_action.invoked_GotoDeclaration=50, actions_action.invoked_$Undo=34, toolwindow_activated_Run=32, actions_action.invoked_EditorCut=28, actions_action.invoked_EditorRight=28, editor.notification.panel_shown_shown=24, lifecycle_ide.start_ide.start=23, vcs_fetch.finished_fetch.finished=23, actions_action.invoked_EditorUp=22, event.log_whitelist.loaded_whitelist.loaded=22, vcs_fetch.started_fetch.started=22, actions_action.invoked_HideActiveWindow=19, toolbar_clicked_HideActiveWindow=19, ui.dialogs_show_com.intellij.find.impl.FindPopupPanel$2=19, find_search.session.started_FindInPath=18, toolwindow_activated_Version_Control=18, productivity_feature.used_editing.completion.variable.name=17, startup_totalDuration_totalDuration=17, actions_action.invoked_FindInPath=16, actions_action.invoked_Run=16, actions_action.invoked_Back=15, file.types.usage_edit_JavaScript=15, toolwindow_activated_Terminal=15, actions_action.invoked_EditorTab=14, actions_action.invoked_Find=14, find_search.session.started_FindInFile=14, actions_action.invoked_EditorLineEnd=13, actions_action.invoked_ShowIntentionActions=13, lifecycle_project.closed_project.closed=13, actions_action.invoked_EditorEscape=10, actions_action.invoked_com.intellij.openapi.actionSystem.EmptyAction$MyDelegatingAction=10, actions_action.invoked_com.maddyhome.idea.vim.ui.ExShortcutKeyAction=10, actions_action.invoked_third.party=10, toolbar_clicked_Run=10, toolwindow_activated_Debug=10, actions_action.invoked_$Copy=9, actions_action.invoked_Stop=9, startup_splash_splash=9, toolbar_clicked_Stop=9, file.types.usage_edit_HTML=8, lifecycle_ide.close_ide.close=8, searchEverywhere_dialogOpen_dialogOpen=8, ui.dialogs_close_com.intellij.find.impl.FindPopupPanel$2=8, actions_action.invoked_EditorDelete=7, actions_action.invoked_EditorLeftWithSelection=7, productivity_feature.used_SearchEverywhere=7, ui.dialogs_show_com.intellij.openapi.vcs.changes.ui.DefaultCommitChangeListDialog=7, actions_action.invoked_EditorRightWithSelection=6, actions_action.invoked_Replace=6, file.types.usage_edit_Scala=6, file.types.usage_edit_XML=6, vfs_refreshed_refreshed=6, actions_action.invoked_ConsoleView.ClearAll=5, actions_action.invoked_EditorLineStart=5, actions_action.invoked_EditorLineStartWithSelection=5, actions_action.invoked_NextOccurence=5, actions_action.invoked_com.intellij.codeInsight.daemon.NavigateAction=5, actions_custom.action.invoked_DialogOkAction=5, file.types.usage_open_XML=5, terminalShell_local.exec_local.exec=5, ui.dialogs_close_com.intellij.openapi.fileChooser.ex.FileChooserDialogImpl=5, actions_action.invoked_$Delete=4, actions_action.invoked_$SelectAll=4, actions_action.invoked_Debug=4, actions_action.invoked_EditorDeleteToWordStart=4, actions_action.invoked_EditorPreviousWord=4, file.types.usage_open_Database_Element=4, file.types.usage_open_JavaScript=4, file.types.usage_open_Python=4, productivity_feature.used_codeassists.comment.line=4, searchEverywhere_contributorItemChosen_contributorItemChosen=4, searchEverywhere_dialogClosed_dialogClosed=4, ui.dialogs_close_com.intellij.ide.fileTemplates.ui.CreateFromTemplateDialog=4, ui.dialogs_show_com.intellij.openapi.fileChooser.ex.FileChooserDialogImpl=4, actions_action.invoked_CommentByLineComment=3, actions_action.invoked_EditorLeft=3, actions_action.invoked_EditorLineEndWithSelection=3, actions_action.invoked_HideAllWindows=3, actions_action.invoked_NewClass=3, actions_action.invoked_NextTemplateVariable=3, actions_action.invoked_OptimizeImports=3, actions_action.invoked_ReformatCode=3, actions_action.invoked_RenameElement=3, actions_action.invoked_Resume=3, actions_action.invoked_Tree-selectNext=3, actions_action.invoked_com.intellij.openapi.fileEditor.impl.EditorTabbedContainer$CloseTab=3, file.types.usage_edit_Python=3, file.types.usage_edit_Vue.js=3, file.types.usage_open_Go=3, file.types.usage_open_Properties=3, file.types.usage_open_YAML=3, productivity_feature.used_codeassists.highlight.throws=3, productivity_feature.used_refactoring.rename=3, productivity_feature.used_switcher=3, startup_bootstrap_bootstrap=3, toolbar_clicked_Debug=3, toolbar_clicked_NextOccurence=3, toolbar_clicked_Resume=3, toolbar_clicked_RunConfiguration=3, toolbar_clicked_Vcs.UpdateProject=3, toolbar_clicked_com.intellij.ide.projectView.impl.ProjectViewImpl$ScrollFromSourceAction=3, toolwindow_activated_Messages=3, toolwindow_activated_Services=3, toolwindow_activated_unknown=3, ui.dialogs_close_com.intellij.openapi.vcs.changes.ui.DefaultCommitChangeListDialog=3, actions_action.invoked_$Paste=2, actions_action.invoked_CheckinProject=2, actions_action.invoked_CloseAllEditorsButActive=2, actions_action.invoked_CodeCompletion=2, actions_action.invoked_Compile=2, actions_action.invoked_CompileDirty=2, actions_action.invoked_EditorChooseLookupItemReplace=2, actions_action.invoked_EditorDownWithSelection=2, actions_action.invoked_Generate=2, actions_action.invoked_Git.Stash=2, actions_action.invoked_GotoImplementation=2, actions_action.invoked_NewDir=2, actions_action.invoked_PreviousOccurence=2, actions_action.invoked_SearchEverywhere=2, actions_action.invoked_ShowProjectStructureSettings=2, actions_action.invoked_Switcher=2, actions_action.invoked_ToggleLineBreakpoint=2, actions_action.invoked_Tree-selectChild=2, actions_action.invoked_Tree-selectParent=2, actions_action.invoked_com.intellij.execution.impl.ConsoleViewImpl$ClearThisConsoleAction=2, actions_action.invoked_com.intellij.find.SearchReplaceComponent$11=2, actions_action.invoked_com.intellij.ide.ReopenProjectAction=2, actions_action.invoked_com.intellij.ide.projectView.impl.ProjectViewImpl$ScrollFromSourceAction=2, actions_action.invoked_editRunConfigurations=2, actions_action.invoked_org.jetbrains.idea.maven.utils.MavenImportNotifier$3=2, actions_custom.action.invoked_DoubleShortcut=2, debugger.breakpoints.usage_breakpoint.added_java-line=2, file.types.usage_edit_CSS=2, file.types.usage_edit_Groovy=2, file.types.usage_edit_JSP=2, file.types.usage_edit_Markdown=2, file.types.usage_edit_PLAIN_TEXT=2, file.types.usage_edit_Properties=2, file.types.usage_edit_TypeScript=2, file.types.usage_open_CLASS=2, file.types.usage_open_CSS=2, file.types.usage_open_Groovy=2, file.types.usage_open_JSON=2, file.types.usage_open_Kotlin=2, gutter.icon.click_clicked_implementedMethod=2, productivity_feature.used_editing.completion.replace=2, productivity_feature.used_navigation.goto.implementation=2, productivity_feature.used_ui.tree.speedsearch=2, rename.refactoring_started_started=2, toolbar_clicked_com.intellij.execution.impl.ConsoleViewImpl$ClearThisConsoleAction=2, toolbar_clicked_com.intellij.ui.CommonActionsPanel$MyActionButton=2, toolwindow_activated_Event_Log=2, toolwindow_activated_sbt-shell-toolwindow=2, ui.dialogs_close_com.intellij.codeInsight.generation.GenerateMembersHandlerBase$2=2, ui.dialogs_close_com.intellij.util.net.ssl.CertificateWarningDialog=2, ui.dialogs_close_git4idea.ui.GitStashDialog=2, ui.dialogs_show_com.intellij.codeInsight.generation.GenerateMembersHandlerBase$2=2, ui.dialogs_show_com.intellij.execution.impl.EditConfigurationsDialog=2, ui.dialogs_show_com.intellij.ide.actions.ShowStructureSettingsAction$1=2, ui.dialogs_show_com.intellij.ide.util.DeleteHandler$2=2, ui.dialogs_show_com.intellij.refactoring.copy.CopyFilesOrDirectoriesDialog=2, ui.dialogs_show_git4idea.ui.GitStashDialog=2, vcs_update.started_update.started=2, actions_action.invoked_$EditorTranslateAction=1, actions_action.invoked_Annotate=1, actions_action.invoked_ChangesView.Diff=1, actions_action.invoked_CheckForUpdate=1, actions_action.invoked_CloseContent=1, actions_action.invoked_CollapseAll=1, actions_action.invoked_Console.Execute=1, actions_action.invoked_Console.History.Next=1, actions_action.invoked_CopyContentRootPath=1, actions_action.invoked_CopyReferencePopup=1, actions_action.invoked_EditorIncreaseFontSize=1, actions_action.invoked_EditorNextWord=1, actions_action.invoked_EditorPageDown=1, actions_action.invoked_EditorPageUp=1, actions_action.invoked_EditorTextEnd=1, actions_action.invoked_EditorUpWithSelection=1, actions_action.invoked_FindUsages=1, actions_action.invoked_Forward=1, actions_action.invoked_GenerateConstructor=1, actions_action.invoked_GenerateGetterAndSetter=1, actions_action.invoked_Git.Branches=1, actions_action.invoked_GotoClass=1, actions_action.invoked_GotoLine=1, actions_action.invoked_Javaee.Deploy=1, actions_action.invoked_Maven.Reimport=1, actions_action.invoked_MoveStatementDown=1, actions_action.invoked_NextDiff=1, actions_action.invoked_OpenFile=1, actions_action.invoked_ReplaceInPath=1, actions_action.invoked_RunClass=1, actions_action.invoked_StepInto=1, actions_action.invoked_StepOver=1, actions_action.invoked_UsageView.Exclude=1, actions_action.invoked_UsageView.Remove=1, actions_action.invoked_Vcs.QuickListPopupAction=1, actions_action.invoked_ViewBreakpoints=1, actions_action.invoked_WelcomeScreen.Configure.VMOptions=1, actions_action.invoked_com.intellij.execution.lineMarker.ExecutorAction=1, actions_action.invoked_com.intellij.ide.browsers.actions.BaseOpenInBrowserAction=1, actions_action.invoked_com.intellij.javascript.nodejs.packageJson.notification.PackageJsonGetDependenciesAction=1, actions_action.invoked_com.intellij.openapi.ui.DialogWrapper$5=1, actions_action.invoked_com.intellij.openapi.vcs.ex.ChangelistsLocalLineStatusTracker$MyLineStatusMarkerRenderer$MoveToAnotherChangeListAction=1, actions_action.invoked_com.intellij.openapi.wm.impl.welcomeScreen.FlatWelcomeFrame$FlatWelcomeScreen$4=1, actions_action.invoked_com.intellij.openapi.wm.impl.welcomeScreen.FlatWelcomeFrame$FlatWelcomeScreen$5=1, actions_action.invoked_com.intellij.ui.CommonActionsPanel$MyActionButton=1, actions_action.invoked_com.intellij.ui.ScrollingUtil$12=1, actions_action.invoked_com.intellij.ui.ScrollingUtil$13=1, actions_action.invoked_com.intellij.ui.ScrollingUtil$6=1, actions_action.invoked_git4idea.ui.branch.GitBranchPopupActions$LocalBranchActions$CheckoutAction=1, actions_action.invoked_git4idea.ui.branch.GitBranchPopupActions$RemoteBranchActions$CheckoutRemoteBranchAction=1, build.maven.packagesearch_packagesearch.error_suggestPrefix=1, build.maven.packagesearch_packagesearch.success_suggestPrefix=1, deployment.serverSettingsUI_AutodetectPathClicked_AutodetectPathClicked=1, file.editor_alternative.file.editor.selected_alternative.file.editor.selected=1, file.types.usage_edit_Go=1, file.types.usage_edit_Handlebars/Mustache=1, file.types.usage_edit_JSON=1, file.types.usage_edit_Kotlin=1, file.types.usage_edit_YAML=1, file.types.usage_edit_sbtShell=1, file.types.usage_edit_textmate=1, file.types.usage_open_AWK=1, file.types.usage_open_HOCON=1, file.types.usage_open_HTML=1, file.types.usage_open_Markdown=1, file.types.usage_open_PLAIN_TEXT=1, file.types.usage_open_Scala=1, file.types.usage_open_Shell_Script=1, file.types.usage_open_textmate=1, gutter.icon.click_clicked_db_set_breakpoint=1, gutter.icon.click_clicked_overridenMethod=1, ide.self.update_dialog.shown_dialog.shown=1, ide.self.update_notification.clicked_notification.clicked=1, intentions_called_com.intellij.codeInsight.daemon.impl.quickfix.AddExceptionToThrowsFix=1, intentions_called_com.intellij.codeInsight.daemon.impl.quickfix.PullAsAbstractUpFix=1, intentions_called_com.intellij.lang.java.actions.CreateMethodAction=1, intentions_called_org.jetbrains.plugins.groovy.annotator.intentions.GroovyAddImportAction=1, java.find.usages_find.method.started_find.method.started=1, json.schema_completion.by.schema.invoked_completion.by.schema.invoked=1, kotlin.ide.editor_Completion_Completion=1, lifecycle_ide_close_ide.close=1, lifecycle_project.opened_project.opened=1, lifecycle_project.opening.finished_project.opening.finished=1, live.templates_started_sout=1, productivity_feature.used_codeassists.comment.block=1, productivity_feature.used_codeassists.complete.statement=1, productivity_feature.used_tag.name.completion=1, rename.refactoring_executed_executed=1, toolbar_clicked_ChangesView.Diff=1, toolbar_clicked_CollapseAll=1, toolbar_clicked_Javaee.Deploy=1, toolbar_clicked_Maven.Reimport=1, toolbar_clicked_NextDiff=1, toolbar_clicked_PreviousOccurence=1, toolbar_clicked_ViewBreakpoints=1, toolbar_clicked_com.intellij.find.EditorSearchSession$ReplaceAction=1, toolbar_clicked_com.intellij.ide.browsers.actions.BaseOpenInBrowserAction=1, toolbar_clicked_com.intellij.openapi.roots.ui.configuration.artifacts.actions.AddCompositeElementAction=1, toolbar_clicked_com.intellij.ui.AnActionButton$AnActionButtonWrapper=1, toolbar_clicked_org.jetbrains.sbt.shell.action.StopAction=1, tooltip.action.events_show.all_show.all=1, toolwindow_activated_Find=1, toolwindow_activated_Java_Enterprise=1, toolwindow_activated_TODO=1, ui.dialogs_close_com.intellij.codeInsight.generation.JavaOverrideImplementMemberChooser=1, ui.dialogs_close_com.intellij.find.findUsages.FindMethodUsagesDialog=1, ui.dialogs_close_com.intellij.ide.b.h.B=1, ui.dialogs_close_com.intellij.ide.util.DeleteHandler$2=1, ui.dialogs_close_com.intellij.ide.util.EditorGotoLineNumberDialog=1, ui.dialogs_close_com.intellij.openapi.fileTypes.ex.FileTypeChooser=1, ui.dialogs_close_com.intellij.openapi.updateSettings.impl.NoUpdatesDialog=1, ui.dialogs_close_com.intellij.openapi.updateSettings.impl.UpdateInfoDialog=1, ui.dialogs_close_com.intellij.openapi.vcs.changes.ui.ChangeListChooser=1, ui.dialogs_close_com.intellij.openapi.vcs.changes.ui.ChangeListViewerDialog=1, ui.dialogs_close_com.intellij.refactoring.copy.CopyFilesOrDirectoriesDialog=1, ui.dialogs_close_com.intellij.util.ui.ConfirmationDialog=1, ui.dialogs_close_com.intellij.xdebugger.impl.breakpoints.ui.BreakpointsDialogFactory$2=1, ui.dialogs_close_com.jetbrains.plugins.webDeployment.ui.auth.LoginDialog=1, ui.dialogs_close_git4idea.branch.GitNewBranchDialog=1, ui.dialogs_show_com.intellij.codeInsight.generation.JavaOverrideImplementMemberChooser=1, ui.dialogs_show_com.intellij.ide.actions.EditCustomSettingsAction$actionPerformed$1=1, ui.dialogs_show_com.intellij.ide.util.EditorGotoLineNumberDialog=1, ui.dialogs_show_com.intellij.javaee.run.execution.update.SelectUpdatingPolicyDialog=1, ui.dialogs_show_com.intellij.openapi.fileTypes.ex.FileTypeChooser=1, ui.dialogs_show_com.intellij.openapi.options.newEditor.SettingsDialog=1, ui.dialogs_show_com.intellij.openapi.updateSettings.impl.NoUpdatesDialog=1, ui.dialogs_show_com.intellij.openapi.updateSettings.impl.UpdateInfoDialog=1, ui.dialogs_show_com.intellij.openapi.vcs.changes.ui.ChangeListChooser=1, ui.dialogs_show_com.intellij.openapi.vcs.changes.ui.ChangeListViewerDialog=1, ui.dialogs_show_com.intellij.util.ui.ConfirmationDialog=1, ui.dialogs_show_com.intellij.xdebugger.impl.breakpoints.ui.BreakpointsDialogFactory$2=1, ui.dialogs_show_com.jetbrains.plugins.webDeployment.ui.auth.LoginDialog=1, ui.dialogs_show_git4idea.branch.GitNewBranchDialog=1, ui.dialogs_show_org.jetbrains.plugins.scala.conversion.copy.RestoreReferencesDialog=1, ui.event_BreadcrumbNavigate_BreadcrumbNavigate=1, ui.settings_apply_third.party=1, ui.settings_select_com.almightyalpaca.jetbrains.plugins.discord.plugin.settings.ApplicationConfigurable=1, vcs.log.trigger_filter.set_filter.set=1, vcs.log.trigger_tab.navigated_tab.navigated=1, vcs_update.finished_update.finished=1}"
      ]
     },
     "execution_count": 40,
     "metadata": {},
     "output_type": "execute_result"
    }
   ],
   "source": [
    "negEventsCount[\"database\"]"
   ]
  },
  {
   "cell_type": "code",
   "execution_count": 65,
   "metadata": {},
   "outputs": [],
   "source": [
    "val (preds_t, AUCs_t, ROCs_t) = cl.predict(test)"
   ]
  },
  {
   "cell_type": "code",
   "execution_count": 66,
   "metadata": {},
   "outputs": [
    {
     "data": {
      "text/plain": [
       "[0.7010986820139206, 0.9212760229775477, 0.8367346938775511, 0.22758194186765615, 0.8554723704892446, 0.006802721088435374, 0.14569160997732428, 0.9521591245193728, 0.5212585034013606, 0.5068027210884354]"
      ]
     },
     "execution_count": 66,
     "metadata": {},
     "output_type": "execute_result"
    }
   ],
   "source": [
    "AUCs_t"
   ]
  },
  {
   "cell_type": "code",
   "execution_count": 117,
   "metadata": {},
   "outputs": [
    {
     "data": {
      "text/plain": [
       "[0.7010986820139206, 0.9288313686460966, 0.8367346938775511, 0.11054313272358385, 0.8561363435068248, 0.006802721088435374, 0.1290249433106576, 0.9217910848549944, 0.006802721088435374, 0.006802721088435374]"
      ]
     },
     "execution_count": 117,
     "metadata": {},
     "output_type": "execute_result"
    }
   ],
   "source": [
    "AUCs_t"
   ]
  },
  {
   "cell_type": "code",
   "execution_count": 17,
   "metadata": {},
   "outputs": [
    {
     "data": {
      "text/plain": [
       "[reading, coding, ide_start, notifications, rdb, database, ide_close, vcs, terminal, settings]"
      ]
     },
     "execution_count": 17,
     "metadata": {},
     "output_type": "execute_result"
    }
   ],
   "source": [
    "cl.classes"
   ]
  },
  {
   "cell_type": "code",
   "execution_count": null,
   "metadata": {},
   "outputs": [],
   "source": []
  }
 ],
 "metadata": {
  "kernelspec": {
   "display_name": "Kotlin",
   "language": "kotlin",
   "name": "kotlin"
  },
  "language_info": {
   "codemirror_mode": "text/x-kotlin",
   "file_extension": "kt",
   "name": "kotlin"
  }
 },
 "nbformat": 4,
 "nbformat_minor": 2
}
