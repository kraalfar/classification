{
 "cells": [
  {
   "cell_type": "code",
   "execution_count": 3,
   "metadata": {},
   "outputs": [],
   "source": [
    "%use kotlin-statistics, krangl, kravis"
   ]
  },
  {
   "cell_type": "code",
   "execution_count": 4,
   "metadata": {},
   "outputs": [],
   "source": [
    "import kotlin.math.*"
   ]
  },
  {
   "cell_type": "code",
   "execution_count": 5,
   "metadata": {},
   "outputs": [],
   "source": [
    "@file:Repository(\"https://dl.bintray.com/kyonifer/maven\")\n",
    "@file:DependsOn(\"com.kyonifer:koma-core-ejml:0.12\")\n",
    "@file:DependsOn(\"com.kyonifer:koma-plotting:0.12\")"
   ]
  },
  {
   "cell_type": "code",
   "execution_count": 6,
   "metadata": {},
   "outputs": [],
   "source": [
    "import koma.extensions.*\n",
    "import koma.*"
   ]
  },
  {
   "cell_type": "code",
   "execution_count": 7,
   "metadata": {},
   "outputs": [
    {
     "data": {
      "text/html": [
       "   <div id=\"jFBuYm\"></div>\n",
       "   <script type=\"text/javascript\">\n",
       "       if(!window.letsPlotCallQueue) {\n",
       "           window.letsPlotCallQueue = [];\n",
       "       }; \n",
       "       window.letsPlotCall = function(f) {\n",
       "           window.letsPlotCallQueue.push(f);\n",
       "       };\n",
       "       (function() {\n",
       "           var script = document.createElement(\"script\");\n",
       "           script.type = \"text/javascript\";\n",
       "           script.src = \"https://dl.bintray.com/jetbrains/lets-plot/lets-plot-1.0.0.min.js\";\n",
       "           script.onload = function() {\n",
       "               window.letsPlotCall = function(f) {f();};\n",
       "               window.letsPlotCallQueue.forEach(function(f) {f();});\n",
       "               window.letsPlotCallQueue = [];\n",
       "               \n",
       "               \n",
       "           };\n",
       "           script.onerror = function(event) {\n",
       "               window.letsPlotCall = function(f) {};\n",
       "               window.letsPlotCallQueue = [];\n",
       "               var div = document.createElement(\"div\");\n",
       "               div.style.color = 'darkred';\n",
       "               div.textContent = 'Error loading Lets-Plot JS';\n",
       "               document.getElementById(\"jFBuYm\").appendChild(div);\n",
       "           };\n",
       "           var e = document.getElementById(\"jFBuYm\");\n",
       "           e.appendChild(script);\n",
       "       })();\n",
       "   </script>"
      ]
     },
     "metadata": {},
     "output_type": "display_data"
    }
   ],
   "source": [
    "%use lets-plot"
   ]
  },
  {
   "cell_type": "code",
   "execution_count": 8,
   "metadata": {},
   "outputs": [],
   "source": [
    "fun trainTestSplit(path: String, fraction: Double = 0.8): Pair<DataFrame, DataFrame> {\n",
    "    val df = DataFrame.readTSV(path)\n",
    "    val trainCount: Int = kotlin.math.ceil(fraction * df.nrow).toInt()\n",
    "    val shuffledDf = df.shuffle()\n",
    "    return Pair(shuffledDf.slice(0..trainCount), shuffledDf.slice(trainCount + 1..shuffledDf.nrow))\n",
    "}"
   ]
  },
  {
   "cell_type": "code",
   "execution_count": 20,
   "metadata": {},
   "outputs": [],
   "source": [
    "class BoW(private val limit: Int = 100) {\n",
    "\n",
    "    public var voc: Map<String, Int> = HashMap()\n",
    "\n",
    "    fun initialize(df: DataFrame) {\n",
    "        val events = df[\"events\"]\n",
    "        val eventsMap: MutableMap<String, Int> = HashMap()\n",
    "        for (i in 0 until events.length) {\n",
    "            for (ev in events[i].toString().split(\" , \")) {\n",
    "                if (eventsMap.containsKey(ev)) {\n",
    "                    eventsMap[ev] = eventsMap.getValue(ev) + 1\n",
    "                } else {\n",
    "                    eventsMap[ev] = 1\n",
    "                }\n",
    "            }\n",
    "        }\n",
    "        val realLimit = if (eventsMap.size > limit) limit else eventsMap.size\n",
    "        voc = eventsMap.toSortedMap(compareBy({ eventsMap[it]?.times(-1) }, { it })).keys.toList()\n",
    "            .slice(0 until realLimit).withIndex().toList().associate {it.value to it.index}\n",
    "    }\n",
    "\n",
    "    fun transform(df: DataFrame): Pair<koma.matrix.Matrix<Double>, List<String>> {\n",
    "        val mat = zeros(df.nrow, voc.size + 2)\n",
    "        val label = ArrayList<String>()\n",
    "        for (i in 0 until df.nrow) {\n",
    "            mat[i, voc.size] = df[\"min\"][i] as Int\n",
    "            mat[i, voc.size + 1] = df[\"events\"][i].toString().split(\" , \").size\n",
    "            label.add(df[\"category\"][i].toString())\n",
    "            for (event in df[\"events\"][i].toString().split(\" , \")) {\n",
    "                if (voc.containsKey(event)) {\n",
    "                    mat[i, voc[event] as Int] += 1\n",
    "                }\n",
    "            }\n",
    "        }\n",
    "        return Pair(mat, label)\n",
    "    }\n",
    "    \n",
    "    fun transform2(df: DataFrame): koma.matrix.Matrix<Double> {\n",
    "        val mat = zeros(df.nrow, voc.size + 2)\n",
    "        for (i in 0 until df.nrow) {\n",
    "            mat[i, voc.size] = df[\"min\"][i] as Int\n",
    "            mat[i, voc.size + 1] = df[\"events\"][i].toString().split(\" , \").size\n",
    "            for (event in df[\"events\"][i].toString().split(\" , \")) {\n",
    "                if (voc.containsKey(event)) {\n",
    "                    mat[i, voc[event] as Int] += 1\n",
    "                }\n",
    "            }\n",
    "        }\n",
    "        return mat\n",
    "    }\n",
    "\n",
    "}"
   ]
  },
  {
   "cell_type": "code",
   "execution_count": 10,
   "metadata": {},
   "outputs": [],
   "source": [
    "class NaiveBayesCounter(private val alpha: Double = 1e-5) {\n",
    "\n",
    "    private var classProb: MutableMap<String, Double> = HashMap()\n",
    "    private var classes: MutableList<String> = ArrayList()\n",
    "    private var probs: MutableMap<String, koma.matrix.Matrix<Double>> = HashMap()\n",
    "\n",
    "\n",
    "    fun fit(X: koma.matrix.Matrix<Double>, y: List<String>) {\n",
    "        for (i in y.indices) {\n",
    "            for (cls in y[i].toLowerCase().split(\", \")) {\n",
    "                if (!classProb.containsKey(cls)) {\n",
    "                    classProb[cls] = 1.0 / y.size\n",
    "                    classes.add(cls)\n",
    "                    probs[cls] = ones(X.shape()[1] - 2, 11) * alpha\n",
    "                } else {\n",
    "                    classProb[cls] = classProb.getValue(cls) + 1.0 / y.size\n",
    "                }\n",
    "                for (j in 0 until X.shape()[1] - 2) {\n",
    "                    val ind:Int = if (X[i, j] < 10.0) X[i, j].toInt() else 10\n",
    "                    probs.getOrDefault(cls, zeros(0, 0))[j, ind] += 1\n",
    "                }\n",
    "            }\n",
    "\n",
    "        }\n",
    "        for (cls in classes) {\n",
    "            var probsMatrix = probs.getOrDefault(cls, zeros(0, 0))\n",
    "            val den = probsMatrix.getRow(0).elementSum().toInt()\n",
    "            probsMatrix /= den\n",
    "            probs[cls] = probsMatrix\n",
    "        }\n",
    "    }\n",
    "\n",
    "\n",
    "\n",
    "\n",
    "    fun logProb(X: koma.matrix.Matrix<Double>): koma.matrix.Matrix<Double> {\n",
    "        val ans = zeros(X.shape()[0], classes.size)\n",
    "        for (i in 0 until X.shape()[0]) {\n",
    "            for (j in classes.indices) {\n",
    "                val cls = classes[j]\n",
    "                ans[i, j] = kotlin.math.ln(classProb.getOrDefault(cls, alpha))\n",
    "                for (k in 0 until X.shape()[1] - 2) {\n",
    "                    val ind = if (X[i, k] < 10.0) X[i, k].toInt() else 10\n",
    "                    ans[i, j] += kotlin.math.ln(probs.getOrDefault(cls, zeros(0, 0))[k, ind])\n",
    "                }\n",
    "            }\n",
    "        }\n",
    "        return ans\n",
    "    }\n",
    "\n",
    "    fun predict(X: koma.matrix.Matrix<Double>): List<String> {\n",
    "        val probs = logProb(X)\n",
    "\n",
    "        val ans = ArrayList<String>()\n",
    "\n",
    "        probs.forEachRow { ans.add(classes[it.argMax()]) }\n",
    "        return ans\n",
    "    }\n",
    "}"
   ]
  },
  {
   "cell_type": "code",
   "execution_count": 11,
   "metadata": {},
   "outputs": [],
   "source": [
    "val (train, test) = trainTestSplit(\"../data/sh_sessions_multi.tsv\")"
   ]
  },
  {
   "cell_type": "code",
   "execution_count": 11,
   "metadata": {},
   "outputs": [],
   "source": [
    "fun testPrecisionRecall(cat: String=\"coding\"): Triple<ArrayList<Double>, ArrayList<Double>, ArrayList<Int>> {\n",
    "    val rec = ArrayList<Double>()\n",
    "    val prec = ArrayList<Double>()\n",
    "    val x = ArrayList<Int>()\n",
    "    for (i in 10 until 450 step 10) {\n",
    "        val bow = BoW(i)\n",
    "        bow.initialize(train)\n",
    "\n",
    "        val (X_bow, y_bow) = bow.transform(train)\n",
    "        val (X_bow_test, y_bow_test) = bow.transform(test)\n",
    "        val classificator = NaiveBayesCounter(1e-4)\n",
    "        classificator.fit(X_bow, y_bow)\n",
    "\n",
    "        val ans = classificator.predict(X_bow_test)\n",
    "        var TP = 0.0\n",
    "        var FN = 0.0\n",
    "        var FP = 0.0\n",
    "\n",
    "        for(i in y_bow_test.indices) {\n",
    "\n",
    "            if (y_bow_test[i].toLowerCase().contains(cat) && ans[i].contains(cat)) {\n",
    "                TP += 1\n",
    "            }\n",
    "\n",
    "            if (y_bow_test[i].toLowerCase().contains(cat) && !ans[i].contains(cat)) {\n",
    "                FN += 1\n",
    "            }\n",
    "\n",
    "            if (!y_bow_test[i].toLowerCase().contains(cat) && ans[i].contains(cat)) {\n",
    "                FP += 1\n",
    "            }\n",
    "        }\n",
    "        rec.add(TP / (TP + FN))\n",
    "        prec.add(TP / (TP + FP))\n",
    "\n",
    "\n",
    "        x.add(i)\n",
    "    }\n",
    "    return Triple(rec, prec, x)\n",
    "}"
   ]
  },
  {
   "cell_type": "code",
   "execution_count": 12,
   "metadata": {},
   "outputs": [],
   "source": [
    "val res = ArrayList<Double>()\n",
    "val x = ArrayList<Int>()"
   ]
  },
  {
   "cell_type": "code",
   "execution_count": 13,
   "metadata": {},
   "outputs": [],
   "source": [
    "for (i in 10 until 400 step 10) {\n",
    "    val bow = BoW(i)\n",
    "    bow.initialize(train)\n",
    "\n",
    "    val (X_bow, y_bow) = bow.transform(train)\n",
    "    val (X_bow_test, y_bow_test) = bow.transform(test)\n",
    "    val classificator = NaiveBayesCounter(1e-4)\n",
    "    classificator.fit(X_bow, y_bow)\n",
    "\n",
    "    val ans = classificator.predict(X_bow_test)\n",
    "    var tot = 0.0\n",
    "    var TP = 0.0\n",
    "    var FN = 0.0\n",
    "    var FP = 0.0\n",
    "\n",
    "    for(i in y_bow_test.indices) {\n",
    "        if (y_bow_test[i].toLowerCase().contains(ans[i])) {\n",
    "            tot += 1\n",
    "        }\n",
    "    }\n",
    "    res.add(tot / y_bow_test.size)\n",
    "    x.add(i)\n",
    "}"
   ]
  },
  {
   "cell_type": "code",
   "execution_count": 51,
   "metadata": {},
   "outputs": [],
   "source": [
    "val test = DataFrame.readTSV(\"../data/test.tsv\")\n",
    "val train = DataFrame.readTSV(\"../data/sh_sessions_multi.tsv\")"
   ]
  },
  {
   "cell_type": "code",
   "execution_count": 73,
   "metadata": {},
   "outputs": [
    {
     "data": {
      "text/html": [
       "<html><body><table><tr><th style=\"text-align:left\">session_id</th><th style=\"text-align:left\">start_time</th><th style=\"text-align:left\">sec</th><th style=\"text-align:left\">min</th><th style=\"text-align:left\">category</th><th style=\"text-align:left\">events</th></tr><tr><td style=\"text-align:left\" title=\"1305192621b4643-a1d4-4288-9cb2-9ece426a01f1_1\">1305192621b4643-a1d4-4288-9cb2-9ece426a01f1_1</td><td style=\"text-align:left\" title=\"26.08.2019 10:28\">26.08.2019 10:28</td><td style=\"text-align:left\" title=\"164\">164</td><td style=\"text-align:left\" title=\"2\">2</td><td style=\"text-align:left\" title=\"Coding, VCS\">Coding, VCS</td><td style=\"text-align:left\" title=\"actions_Find , actions_com.intellij.find.SearchReplaceComponent$10 , actions_com.intellij.openapi.fileEditor.impl.EditorTabbedContainer$CloseTab , toolwindow_Project , actions_FindInPath , ui.dialogs_com.intellij.find.impl.FindPopupPanel$2 , actions_com.intellij.find.impl.FindPopupPanel$MyEnterAction , ui.dialogs_com.intellij.find.impl.FindPopupPanel$2 , file.types.usage_JAVA , actions_GotoDeclaration , productivity_navigation.goto.declaration , file.types.usage_JAVA , productivity_editing.select.word , actions_Find , actions_NextOccurence , actions_com.intellij.find.SearchReplaceComponent$10 , actions_GotoDeclaration , productivity_navigation.goto.declaration , productivity_editing.select.word , actions_EditorCopy , actions_Back , actions_Vcs.ShowTabbedFileHistory , toolwindow_Version_Control , toolbar_Vcs.ShowTabbedFileHistory , actions_Diff.ShowDiff , actions_HideActiveWindow , toolbar_HideActiveWindow , actions_FindInPath , ui.dialogs_com.intellij.find.impl.FindPopupPanel$2 , ui.dialogs_com.intellij.find.impl.FindPopupPanel$2 , actions_GotoDeclaration , productivity_navigation.goto.declaration , file.types.usage_JAVA , actions_GotoDeclaration , productivity_navigation.goto.declaration , file.types.usage_JAVA , gutter.icon.click_implementedMethod , actions_com.intellij.codeInsight.daemon.NavigateAction , file.types.usage_JAVA , actions_Back , productivity_editing.select.word , actions_GotoDeclaration , productivity_navigation.goto.declaration , file.types.usage_JAVA , actions_com.intellij.codeInsight.daemon.NavigateAction , gutter.icon.click_implementedMethod , file.types.usage_JAVA , productivity_editing.select.word , actions_GotoDeclaration , productivity_navigation.goto.declaration , file.types.usage_JAVA , actions_EditorCopy\">actions_Find , actions_com.intellij.find.Search...</td></tr><tr><td style=\"text-align:left\" title=\"0104192bd9b36a1-98c7-4a5e-817d-313d69be0ba3_1\">0104192bd9b36a1-98c7-4a5e-817d-313d69be0ba3_1</td><td style=\"text-align:left\" title=\"30.08.2019 20:16\">30.08.2019 20:16</td><td style=\"text-align:left\" title=\"66\">66</td><td style=\"text-align:left\" title=\"1\">1</td><td style=\"text-align:left\" title=\"Coding\">Coding</td><td style=\"text-align:left\" title=\"actions_FindInPath , toolwindow_Find , ui.dialogs_com.intellij.find.impl.FindPopupPanel$2 , ui.dialogs_com.intellij.find.impl.FindPopupPanel$2 , actions_GotoDeclaration , productivity_navigation.goto.declaration , file.types.usage_JAVA\">actions_FindInPath , toolwindow_Find , ui.dialo...</td></tr><tr><td style=\"text-align:left\" title=\"0304192f4244c10-88fc-4a38-992b-28bf8ffcfb58_0\">0304192f4244c10-88fc-4a38-992b-28bf8ffcfb58_0</td><td style=\"text-align:left\" title=\"27.08.2019 6:18\">27.08.2019 6:18</td><td style=\"text-align:left\" title=\"11\">11</td><td style=\"text-align:left\" title=\"0\">0</td><td style=\"text-align:left\" title=\"Ide start, Ide close\">Ide start, Ide close</td><td style=\"text-align:left\" title=\"event.log_whitelist.loaded , lifecycle_ide.start , ui.dialogs_com.intellij.openapi.progress.util.ProgressDialog$MyDialogWrapper , lifecycle_project.opened , toolwindow_Project , ui.tips_dialog.shown , ui.dialogs_com.intellij.ide.util.TipDialog , ui.dialogs_com.intellij.openapi.progress.util.ProgressDialog$MyDialogWrapper , lifecycle_ide.close , lifecycle_project.closed\">event.log_whitelist.loaded , lifecycle_ide.star...</td></tr><tr><td style=\"text-align:left\" title=\"0905192c46ec682-3f47-4af1-b313-755dbfcfe1fa_4\">0905192c46ec682-3f47-4af1-b313-755dbfcfe1fa_4</td><td style=\"text-align:left\" title=\"27.08.2019 11:24\">27.08.2019 11:24</td><td style=\"text-align:left\" title=\"748\">748</td><td style=\"text-align:left\" title=\"12\">12</td><td style=\"text-align:left\" title=\"Coding\">Coding</td><td style=\"text-align:left\" title=\"toolwindow_Project , file.types.usage_JAVA , actions_EditorCopy , actions_EditorCopy\">toolwindow_Project , file.types.usage_JAVA , ac...</td></tr><tr><td style=\"text-align:left\" title=\"1404192054d7ef6-857b-4fd3-9084-333d5eb67b73_27\">1404192054d7ef6-857b-4fd3-9084-333d5eb67b73_27</td><td style=\"text-align:left\" title=\"30.08.2019 10:04\">30.08.2019 10:04</td><td style=\"text-align:left\" title=\"489\">489</td><td style=\"text-align:left\" title=\"8\">8</td><td style=\"text-align:left\" title=\"Coding\">Coding</td><td style=\"text-align:left\" title=\"productivity_SearchEverywhere , searchEverywhere_dialogOpen , actions_GotoClass , actions_EditorPaste , actions_third.party , file.types.usage_JAVA , actions_Find , actions_EditorPaste , actions_com.intellij.find.SearchReplaceComponent$10 , productivity_editing.select.word , productivity_editing.select.word , actions_CallHierarchy , toolwindow_Hierarchy , file.types.usage_JAVA , productivity_editing.select.word , actions_EditorCopy , actions_validation.unmatched_rule , actions_EditorPaste , productivity_navigation.popup.camelprefix , file.types.usage_JAVA , productivity_editing.select.word , actions_Back , productivity_editing.select.word , actions_validation.unmatched_rule , productivity_navigation.popup.camelprefix , productivity_editing.select.word , actions_GotoImplementation , productivity_navigation.goto.implementation , file.types.usage_JAVA , actions_FindInPath , find_FindInPath.FileFilterOn , ui.dialogs_com.intellij.find.impl.FindPopupPanel$2 , actions_EditorPaste , find_FindPopupPanel$ToggleFileFilter , ui.dialogs_com.intellij.find.impl.FindPopupPanel$2 , actions_CallHierarchy , toolwindow_Hierarchy , productivity_editing.select.word , actions_GotoDeclaration , productivity_navigation.goto.declaration , productivity_editing.select.word , actions_validation.unmatched_rule , productivity_navigation.popup.camelprefix , actions_GotoDeclaration , productivity_navigation.goto.declaration , productivity_editing.select.word , productivity_editing.select.word , actions_FindInPath , ui.dialogs_com.intellij.find.impl.FindPopupPanel$2 , ui.dialogs_com.intellij.find.impl.FindPopupPanel$2 , actions_third.party , productivity_editing.select.word , actions_GotoDeclaration , productivity_navigation.goto.declaration , file.types.usage_JAVA , actions_com.intellij.ide.projectView.impl.ProjectViewImpl$ScrollFromSourceAction , toolbar_com.intellij.ide.projectView.impl.ProjectViewImpl$ScrollFromSourceAction , toolbar_com.intellij.ide.projectView.impl.ProjectViewImpl$ScrollFromSourceAction , actions_com.intellij.ide.projectView.impl.ProjectViewImpl$ScrollFromSourceAction , actions_Back , productivity_editing.select.word , productivity_editing.select.word , productivity_editing.select.word\">productivity_SearchEverywhere , searchEverywher...</td></tr><tr><td style=\"text-align:left\" title=\"0204192d92e01a5-cec3-4b1c-9b0c-d75793d8ce90_2\">0204192d92e01a5-cec3-4b1c-9b0c-d75793d8ce90_2</td><td style=\"text-align:left\" title=\"27.08.2019 16:45\">27.08.2019 16:45</td><td style=\"text-align:left\" title=\"512\">512</td><td style=\"text-align:left\" title=\"8\">8</td><td style=\"text-align:left\" title=\"Coding\">Coding</td><td style=\"text-align:left\" title=\"searchEverywhere_dialogOpen , actions_GotoClass , productivity_SearchEverywhere , actions_EditorBackSpace , actions_EditorBackSpace , actions_com.intellij.ui.ScrollingUtil$5 , actions_third.party , file.types.usage_Scala , productivity_SearchEverywhere , actions_GotoClass , searchEverywhere_dialogOpen , actions_EditorBackSpace , file.types.usage_Scala , actions_GotoDeclaration , productivity_navigation.goto.declaration , productivity_navigation.goto.usages , actions_ShowUsages , file.types.usage_Scala\">searchEverywhere_dialogOpen , actions_GotoClass...</td></tr><tr><td style=\"text-align:left\" title=\"0404192fc756d0d-7c0c-493e-918d-ef51209587de_13\">0404192fc756d0d-7c0c-493e-918d-ef51209587de_13</td><td style=\"text-align:left\" title=\"28.08.2019 22:14\">28.08.2019 22:14</td><td style=\"text-align:left\" title=\"636\">636</td><td style=\"text-align:left\" title=\"10\">10</td><td style=\"text-align:left\" title=\"RD\">RD</td><td style=\"text-align:left\" title=\"actions_Run , toolbar_Run , run.configuration.exec_SpringBootApplicationConfigurationType , toolwindow_Messages , toolwindow_Run , actions_Rerun , toolbar_Rerun , run.configuration.exec_SpringBootApplicationConfigurationType , toolwindow_Run\">actions_Run , toolbar_Run , run.configuration.e...</td></tr><tr><td style=\"text-align:left\" title=\"03041910fd6df81-f137-4d92-911a-b6a839e13319_24\">03041910fd6df81-f137-4d92-911a-b6a839e13319_24</td><td style=\"text-align:left\" title=\"28.08.2019 8:01\">28.08.2019 8:01</td><td style=\"text-align:left\" title=\"11\">11</td><td style=\"text-align:left\" title=\"0\">0</td><td style=\"text-align:left\" title=\"Coding\">Coding</td><td style=\"text-align:left\" title=\"file.types.usage_YAML , actions_EditorCopy , actions_EditorCopy\">file.types.usage_YAML , actions_EditorCopy , ac...</td></tr><tr><td style=\"text-align:left\" title=\"05051912837b479-c105-4077-8d4a-cb2c7811a592_13\">05051912837b479-c105-4077-8d4a-cb2c7811a592_13</td><td style=\"text-align:left\" title=\"30.08.2019 0:37\">30.08.2019 0:37</td><td style=\"text-align:left\" title=\"619\">619</td><td style=\"text-align:left\" title=\"10\">10</td><td style=\"text-align:left\" title=\"Ide start, rd\">Ide start, rd</td><td style=\"text-align:left\" title=\"ui.dialogs_com.intellij.openapi.progress.util.ProgressDialog$MyDialogWrapper , ui.dialogs_com.intellij.openapi.progress.util.ProgressDialog$MyDialogWrapper , lifecycle_project.opened , ui.dialogs_com.intellij.openapi.progress.util.ProgressDialog$MyDialogWrapper , toolwindow_Project , lifecycle_ide.start , ui.dialogs_com.intellij.openapi.progress.util.ProgressDialog$MyDialogWrapper , lifecycle_project.opening.finished , actions_com.intellij.ide.ReopenProjectAction , lifecycle_project.closed , lifecycle_project.opened , ui.dialogs_com.intellij.openapi.progress.util.ProgressDialog$MyDialogWrapper , ui.dialogs_com.intellij.openapi.progress.util.ProgressDialog$MyDialogWrapper , lifecycle_project.opening.finished , actions_com.intellij.execution.ExecutorRegistryImpl$ExecutorAction , toolbar_com.intellij.execution.ExecutorRegistryImpl$ExecutorAction , run.configuration.exec_SpringBootApplicationConfigurationType , toolwindow_Debug\">ui.dialogs_com.intellij.openapi.progress.util.P...</td></tr><tr><td style=\"text-align:left\" title=\"020419340f7e4b9-195f-4d29-9e99-9619bf5efbf4_10\">020419340f7e4b9-195f-4d29-9e99-9619bf5efbf4_10</td><td style=\"text-align:left\" title=\"28.08.2019 11:54\">28.08.2019 11:54</td><td style=\"text-align:left\" title=\"221\">221</td><td style=\"text-align:left\" title=\"3\">3</td><td style=\"text-align:left\" title=\"Coding, VCS\">Coding, VCS</td><td style=\"text-align:left\" title=\"lifecycle_project.closed , toolwindow_sbt-shell-toolwindow , actions_OpenFile , ui.dialogs_com.intellij.openapi.fileChooser.ex.FileChooserDialogImpl , ui.dialogs_com.intellij.openapi.fileChooser.ex.FileChooserDialogImpl , ui.dialogs_com.intellij.openapi.ui.messages.MessageDialog , lifecycle_project.opened , ui.dialogs_com.intellij.openapi.progress.util.ProgressDialog$MyDialogWrapper , toolwindow_Project , ui.dialogs_com.intellij.openapi.progress.util.ProgressDialog$MyDialogWrapper , lifecycle_project.opening.finished , actions_FindInPath , ui.dialogs_com.intellij.find.impl.FindPopupPanel$2 , actions_$SelectAll , actions_EditorCopy , actions_com.intellij.ui.ScrollingUtil$11 , ui.dialogs_com.intellij.find.impl.FindPopupPanel$2 , productivity_editing.select.word , actions_EditorDelete , file.types.usage_Python , actions_EditorDelete , productivity_editing.select.word , actions_EditorDelete , productivity_editing.select.word , actions_EditorDelete , actions_$SelectAll , actions_EditorPaste , actions_com.intellij.openapi.vcs.ex.LocalLineStatusTracker$LocalLineStatusMarkerRenderer$RollbackLineStatusRangeAction , toolbar_com.intellij.openapi.vcs.ex.LocalLineStatusTracker$LocalLineStatusMarkerRenderer$RollbackLineStatusRangeAction , productivity_editing.select.word , actions_EditorDelete , file.types.usage_Python , actions_EditorDelete , productivity_editing.select.word , actions_EditorDelete , productivity_editing.select.word , actions_EditorDelete , actions_$SelectAll , actions_EditorCopy , toolwindow_Terminal , terminalShell_local.exec , actions_$SelectAll , actions_EditorCopy , toolwindow_Version_Control , actions_Diff.ShowDiff , actions_ChangesView.Revert , ui.dialogs_com.intellij.openapi.vcs.changes.ui.RollbackChangesDialog , ui.dialogs_com.intellij.openapi.vcs.changes.ui.RollbackChangesDialog , ui.dialogs_com.intellij.openapi.progress.util.ProgressDialog$MyDialogWrapper , ui.dialogs_com.intellij.openapi.progress.util.ProgressDialog$MyDialogWrapper , actions_Diff.ShowDiff , actions_ChangesView.Revert , ui.dialogs_com.intellij.openapi.vcs.changes.ui.RollbackChangesDialog , ui.dialogs_com.intellij.openapi.vcs.changes.ui.RollbackChangesDialog , ui.dialogs_com.intellij.openapi.progress.util.ProgressDialog$MyDialogWrapper , ui.dialogs_com.intellij.openapi.progress.util.ProgressDialog$MyDialogWrapper , actions_Diff.ShowDiff , toolwindow_Terminal\">lifecycle_project.closed , toolwindow_sbt-shell...</td></tr><tr><td style=\"text-align:left\" title=\"01041927d4221e2-5a0e-4fda-998a-f86835cf720a_19\">01041927d4221e2-5a0e-4fda-998a-f86835cf720a_19</td><td style=\"text-align:left\" title=\"30.08.2019 18:27\">30.08.2019 18:27</td><td style=\"text-align:left\" title=\"142\">142</td><td style=\"text-align:left\" title=\"2\">2</td><td style=\"text-align:left\" title=\"Coding, rd\">Coding, rd</td><td style=\"text-align:left\" title=\"actions_CompileDirty , toolbar_CompileDirty , actions_Maven.ReimportProject , build.maven.actions_ReimportProjectAction , actions_GotoDeclaration , productivity_navigation.goto.declaration , actions_GotoDeclaration , productivity_navigation.goto.declaration , file.types.usage_XML , actions_GotoDeclaration , productivity_navigation.goto.declaration , actions_GotoDeclaration , productivity_navigation.goto.declaration , actions_GotoDeclaration , productivity_navigation.goto.declaration , file.types.usage_XML , actions_GotoDeclaration , productivity_navigation.goto.declaration , productivity_navigation.goto.implementation , actions_GotoImplementation , toolbar_RunConfiguration , actions_com.intellij.execution.actions.RunConfigurationsComboBoxAction$SelectConfigAction , actions_com.intellij.execution.ExecutorRegistryImpl$ExecutorAction , toolbar_com.intellij.execution.ExecutorRegistryImpl$ExecutorAction , run.configuration.exec_JUnit , toolwindow_Run , actions_GotoDeclaration , productivity_navigation.goto.declaration , actions_GotoDeclaration , productivity_navigation.goto.declaration , actions_GotoDeclaration , productivity_navigation.goto.declaration , file.types.usage_XML , actions_GotoDeclaration , productivity_navigation.goto.declaration , actions_GotoDeclaration , productivity_navigation.goto.declaration , actions_GotoDeclaration , productivity_navigation.goto.declaration , actions_GotoDeclaration , productivity_navigation.goto.declaration , file.types.usage_XML , actions_GotoDeclaration , productivity_navigation.goto.declaration , file.types.usage_XML , actions_GotoDeclaration , productivity_navigation.goto.declaration , file.types.usage_XML\">actions_CompileDirty , toolbar_CompileDirty , a...</td></tr><tr><td style=\"text-align:left\" title=\"0104192f8ca86bf-02b2-461c-9fcb-e5f6423104c8_13\">0104192f8ca86bf-02b2-461c-9fcb-e5f6423104c8_13</td><td style=\"text-align:left\" title=\"30.08.2019 4:54\">30.08.2019 4:54</td><td style=\"text-align:left\" title=\"52\">52</td><td style=\"text-align:left\" title=\"0\">0</td><td style=\"text-align:left\" title=\"Coding\">Coding</td><td style=\"text-align:left\" title=\"actions_SearchEverywhere , searchEverywhere_dialogOpen , toolbar_SearchEverywhere , searchEverywhere_contributorItemChosen , file.types.usage_HOCON , searchEverywhere_dialogOpen , actions_SearchEverywhere , toolbar_SearchEverywhere , searchEverywhere_contributorItemChosen , file.types.usage_HOCON , actions_SearchEverywhere , searchEverywhere_dialogOpen , toolbar_SearchEverywhere , actions_EditorPaste , searchEverywhere_contributorItemChosen , file.types.usage_XML\">actions_SearchEverywhere , searchEverywhere_dia...</td></tr><tr><td style=\"text-align:left\" title=\"08051928da7dde4-de91-4beb-9e46-6acd6c4a8e8d_12\">08051928da7dde4-de91-4beb-9e46-6acd6c4a8e8d_12</td><td style=\"text-align:left\" title=\"29.08.2019 12:26\">29.08.2019 12:26</td><td style=\"text-align:left\" title=\"782\">782</td><td style=\"text-align:left\" title=\"13\">13</td><td style=\"text-align:left\" title=\"Coding, RD\">Coding, RD</td><td style=\"text-align:left\" title=\"actions_HideActiveWindow , toolwindow_Project , toolbar_HideActiveWindow , actions_EditorEnter , actions_EditorUp , file.types.usage_Cucumber , actions_EditorBackSpace , actions_ReformatCode , actions_EditorBackSpace , actions_EditorCopy , actions_EditorEnter , actions_EditorPaste , productivity_editing.select.word , file.types.usage_Cucumber , actions_EditorUpWithSelection , actions_EditorBackSpace , productivity_editing.select.word , file.types.usage_JAVA , actions_RunClass , run.configuration.exec_JUnit , toolwindow_Run , actions_HideActiveWindow , toolbar_HideActiveWindow , actions_EditorBackSpace\">actions_HideActiveWindow , toolwindow_Project ,...</td></tr><tr><td style=\"text-align:left\" title=\"0104192acac6527-6210-44f0-88ec-d471a1926726_19\">0104192acac6527-6210-44f0-88ec-d471a1926726_19</td><td style=\"text-align:left\" title=\"28.08.2019 22:27\">28.08.2019 22:27</td><td style=\"text-align:left\" title=\"510\">510</td><td style=\"text-align:left\" title=\"8\">8</td><td style=\"text-align:left\" title=\"VCS, Ide close\">VCS, Ide close</td><td style=\"text-align:left\" title=\"actions_Git.Stash , ui.dialogs_git4idea.ui.GitStashDialog , ui.dialogs_git4idea.ui.GitStashDialog , actions_CheckinFiles , ui.dialogs_com.intellij.openapi.vcs.changes.ui.DefaultCommitChangeListDialog , file.types.usage_PLAIN_TEXT , actions_EditorBackSpace , ui.dialogs_com.intellij.openapi.vcs.changes.ui.DefaultCommitChangeListDialog , actions_Stop , toolbar_Stop , toolwindow_third.party , run.configuration.exec_MavenRunConfiguration , toolwindow_Run , toolwindow_third.party , run.configuration.exec_MavenRunConfiguration , toolwindow_Run , toolwindow_third.party , lifecycle_ide.close , lifecycle_project.closed , lifecycle_project.closed\">actions_Git.Stash , ui.dialogs_git4idea.ui.GitS...</td></tr><tr><td style=\"text-align:left\" title=\"0304191dd90cc49-6b9d-4f33-9ee3-62725a910d01_6\">0304191dd90cc49-6b9d-4f33-9ee3-62725a910d01_6</td><td style=\"text-align:left\" title=\"28.08.2019 9:32\">28.08.2019 9:32</td><td style=\"text-align:left\" title=\"37\">37</td><td style=\"text-align:left\" title=\"0\">0</td><td style=\"text-align:left\" title=\"Coding, rd\">Coding, rd</td><td style=\"text-align:left\" title=\"actions_EditorPaste , productivity_editing.select.word , actions_EditorCut , file.types.usage_Python , productivity_editing.select.word , actions_EditorPaste , actions_EditorCut , productivity_editing.select.word , actions_EditorPaste , actions_EditorBackSpace , actions_SaveAll , actions_com.intellij.execution.actions.RunContextAction , run.configuration.exec_PythonConfigurationType , toolwindow_Run , actions_EditorCopy , actions_EditorPaste , actions_SaveAll , actions_com.intellij.execution.actions.RunContextAction , run.configuration.exec_PythonConfigurationType , toolwindow_Run , actions_EditorCopy\">actions_EditorPaste , productivity_editing.sele...</td></tr><tr><td style=\"text-align:left\" title=\"040419224d3103f-de64-4f22-b13b-97358de2a0a9_1\">040419224d3103f-de64-4f22-b13b-97358de2a0a9_1</td><td style=\"text-align:left\" title=\"27.08.2019 21:18\">27.08.2019 21:18</td><td style=\"text-align:left\" title=\"40\">40</td><td style=\"text-align:left\" title=\"0\">0</td><td style=\"text-align:left\" title=\"Coding, RD\">Coding, RD</td><td style=\"text-align:left\" title=\"actions_SearchEverywhere , searchEverywhere_dialogOpen , actions_DoubleShortcut , actions_EditorPaste , searchEverywhere_dialogOpen , actions_SearchEverywhere , actions_DoubleShortcut , actions_com.intellij.openapi.project.DumbAwareAction$1 , searchEverywhere_contributorItemChosen , file.types.usage_JAVA , toolwindow_Debug\">actions_SearchEverywhere , searchEverywhere_dia...</td></tr><tr><td style=\"text-align:left\" title=\"0204191ec36e1dd-8fa7-4eee-87a1-1c20ba65c76c_1\">0204191ec36e1dd-8fa7-4eee-87a1-1c20ba65c76c_1</td><td style=\"text-align:left\" title=\"26.08.2019 7:31\">26.08.2019 7:31</td><td style=\"text-align:left\" title=\"730\">730</td><td style=\"text-align:left\" title=\"12\">12</td><td style=\"text-align:left\" title=\"RD, Coding, vcs\">RD, Coding, vcs</td><td style=\"text-align:left\" title=\"toolwindow_Run_Dashboard , actions_com.intellij.execution.impl.ConsoleViewImpl$ClearThisConsoleAction , toolbar_com.intellij.execution.impl.ConsoleViewImpl$ClearThisConsoleAction , toolbar_com.intellij.execution.impl.ConsoleViewImpl$ClearThisConsoleAction , actions_com.intellij.execution.impl.ConsoleViewImpl$ClearThisConsoleAction , toolbar_com.intellij.execution.impl.ConsoleViewImpl$ClearThisConsoleAction , actions_com.intellij.execution.impl.ConsoleViewImpl$ClearThisConsoleAction , actions_Replace , actions_EditorPaste , actions_FindInPath , ui.dialogs_com.intellij.find.impl.FindPopupPanel$2 , actions_EditorPaste , ui.dialogs_com.intellij.find.impl.FindPopupPanel$2 , file.types.usage_JAVA , ui.dialogs_com.intellij.find.impl.FindPopupPanel$2 , actions_FindInPath , ui.dialogs_com.intellij.find.impl.FindPopupPanel$2 , ui.dialogs_com.intellij.find.impl.FindPopupPanel$2 , actions_GotoDeclaration , file.types.usage_JAVA , ui.dialogs_com.intellij.openapi.vcs.readOnlyHandler.ReadOnlyStatusDialog , ui.dialogs_com.intellij.openapi.progress.util.ProgressDialog$MyDialogWrapper , ui.dialogs_com.intellij.openapi.progress.util.ProgressDialog$MyDialogWrapper , ui.dialogs_com.intellij.openapi.ui.messages.MessageDialog , ui.dialogs_com.intellij.openapi.vcs.readOnlyHandler.ReadOnlyStatusDialog , actions_EditorCut , actions_$Undo , actions_EditorCopy , actions_GotoDeclaration , ui.dialogs_com.intellij.openapi.ui.messages.MessageDialog , actions_GotoDeclaration , ui.dialogs_com.intellij.openapi.ui.messages.MessageDialog , actions_$Undo\">toolwindow_Run_Dashboard , actions_com.intellij...</td></tr><tr><td style=\"text-align:left\" title=\"0405192fd9c2ae8-8caa-4c2c-91c5-138caccb6160_0\">0405192fd9c2ae8-8caa-4c2c-91c5-138caccb6160_0</td><td style=\"text-align:left\" title=\"26.08.2019 6:22\">26.08.2019 6:22</td><td style=\"text-align:left\" title=\"2\">2</td><td style=\"text-align:left\" title=\"0\">0</td><td style=\"text-align:left\" title=\"Ide close\">Ide close</td><td style=\"text-align:left\" title=\"lifecycle_project.closed , lifecycle_ide.close\">lifecycle_project.closed , lifecycle_ide.close</td></tr><tr><td style=\"text-align:left\" title=\"08041934e0c21c6-1fc2-4399-819a-7f079a06df97_18\">08041934e0c21c6-1fc2-4399-819a-7f079a06df97_18</td><td style=\"text-align:left\" title=\"30.08.2019 4:26\">30.08.2019 4:26</td><td style=\"text-align:left\" title=\"253\">253</td><td style=\"text-align:left\" title=\"4\">4</td><td style=\"text-align:left\" title=\"Terminal, VCS\">Terminal, VCS</td><td style=\"text-align:left\" title=\"toolwindow_Terminal , terminalShell_local.exec , toolwindow_Project , file.types.usage_PLAIN_TEXT , file.types.usage_PLAIN_TEXT , toolwindow_Terminal , actions_CheckinProject , ui.dialogs_com.intellij.openapi.vcs.changes.ui.CommitChangeListDialog , ui.dialogs_com.intellij.openapi.ui.messages.MessageDialog , ui.dialogs_com.intellij.openapi.ui.WindowWrapperBuilder$DialogWindowWrapper$MyDialogWrapper , ui.dialogs_com.intellij.openapi.ui.WindowWrapperBuilder$DialogWindowWrapper$MyDialogWrapper , ui.dialogs_com.intellij.openapi.ui.WindowWrapperBuilder$DialogWindowWrapper$MyDialogWrapper , ui.dialogs_com.intellij.openapi.ui.WindowWrapperBuilder$DialogWindowWrapper$MyDialogWrapper , ui.dialogs_com.intellij.openapi.vcs.changes.ui.CommitChangeListDialog , actions_Git.ResolveConflicts , ui.dialogs_com.intellij.openapi.vcs.merge.MultipleFileMergeDialog , ui.dialogs_com.intellij.diff.merge.MergeWindow$MyDialog , ui.dialogs_com.intellij.diff.merge.MergeWindow$MyDialog , ui.dialogs_com.intellij.diff.merge.MergeWindow$MyDialog , ui.dialogs_com.intellij.openapi.ui.messages.MessageDialog , ui.dialogs_com.intellij.diff.merge.MergeWindow$MyDialog , ui.dialogs_com.intellij.diff.merge.MergeWindow$MyDialog , ui.dialogs_com.intellij.openapi.ui.messages.MessageDialog , ui.dialogs_com.intellij.diff.merge.MergeWindow$MyDialog , ui.dialogs_com.intellij.openapi.vcs.merge.MultipleFileMergeDialog , actions_CheckinProject , ui.dialogs_com.intellij.openapi.vcs.changes.ui.CommitChangeListDialog , ui.dialogs_com.intellij.openapi.vcs.changes.ui.CommitChangeListDialog , actions_Vcs.Push , ui.dialogs_com.intellij.dvcs.push.ui.VcsPushDialog , ui.dialogs_com.intellij.dvcs.push.ui.VcsPushDialog\">toolwindow_Terminal , terminalShell_local.exec ...</td></tr><tr><td style=\"text-align:left\" title=\"1104191cde8e0f0-6a33-4ad0-a5a6-b3c829b6f8df_8\">1104191cde8e0f0-6a33-4ad0-a5a6-b3c829b6f8df_8</td><td style=\"text-align:left\" title=\"30.08.2019 8:38\">30.08.2019 8:38</td><td style=\"text-align:left\" title=\"265\">265</td><td style=\"text-align:left\" title=\"4\">4</td><td style=\"text-align:left\" title=\"Ide start, terminal, coding\">Ide start, terminal, coding</td><td style=\"text-align:left\" title=\"event.log_whitelist.loaded , lifecycle_ide.start , ui.dialogs_com.intellij.openapi.progress.util.ProgressDialog$MyDialogWrapper , lifecycle_project.opened , toolwindow_Terminal , terminalShell_local.exec , ui.dialogs_com.intellij.openapi.progress.util.ProgressDialog$MyDialogWrapper , lifecycle_project.opening.finished , actions_com.intellij.ide.ReopenProjectAction , ui.dialogs_com.intellij.openapi.ui.messages.MessageDialog , lifecycle_project.opened , ui.dialogs_com.intellij.openapi.progress.util.ProgressDialog$MyDialogWrapper , ui.dialogs_com.intellij.openapi.progress.util.ProgressDialog$MyDialogWrapper , lifecycle_project.opening.finished , toolwindow_Terminal , terminalShell_local.exec , toolwindow_Terminal , ui.dialogs_com.intellij.openapi.ui.messages.MessageDialog , actions_Progress_Paused , actions_Progress_Resumed , actions_Progress_Paused , actions_Progress_Resumed , toolwindow_Project , ui.dialogs_com.intellij.openapi.ui.messages.MessageDialog , actions_$Delete , ui.dialogs_com.intellij.openapi.ui.messages.MessageDialog , actions_com.intellij.openapi.ui.DialogWrapper$5 , actions_Tree-selectParent , actions_FindInPath , find_FindInPath.FileFilterOn , ui.dialogs_com.intellij.find.impl.FindPopupPanel$2 , toolbar_com.intellij.find.impl.FindPopupPanel$MySelectScopeToggleAction , actions_com.intellij.find.impl.FindPopupPanel$MySelectScopeToggleAction , actions_$SelectAll , actions_EditorBackSpace , actions_com.intellij.ui.ScrollingUtil$11 , actions_com.intellij.ui.ScrollingUtil$12 , actions_com.intellij.ui.ScrollingUtil$11 , actions_com.intellij.ui.ScrollingUtil$12 , actions_com.intellij.ui.ScrollingUtil$11 , actions_com.intellij.ui.ScrollingUtil$12 , actions_com.intellij.ui.ScrollingUtil$11 , actions_com.intellij.ui.ScrollingUtil$12 , actions_com.intellij.ui.ScrollingUtil$11 , js.language.service.starts_VueTypeScriptService , actions_com.intellij.ui.ScrollingUtil$11 , actions_com.intellij.ui.ScrollingUtil$12 , actions_com.intellij.ui.ScrollingUtil$11 , actions_com.intellij.find.impl.FindPopupPanel$MyEnterAction , ui.dialogs_com.intellij.find.impl.FindPopupPanel$2 , file.types.usage_TypeScript , ui.dialogs_com.intellij.find.impl.FindPopupPanel$2 , actions_GotoDeclaration , productivity_navigation.goto.declaration , file.types.usage_Vue.js , actions_GotoDeclaration , productivity_navigation.goto.declaration , lifecycle_project.closed\">event.log_whitelist.loaded , lifecycle_ide.star...</td></tr></table><p>... only showing top 20 rows</p></body></html>"
      ]
     },
     "execution_count": 73,
     "metadata": {},
     "output_type": "execute_result"
    }
   ],
   "source": [
    "train"
   ]
  },
  {
   "cell_type": "code",
   "execution_count": 52,
   "metadata": {},
   "outputs": [],
   "source": [
    "val bow = BoW(300)\n",
    "bow.initialize(train)"
   ]
  },
  {
   "cell_type": "code",
   "execution_count": 53,
   "metadata": {},
   "outputs": [],
   "source": [
    "val (X_bow, y_bow) = bow.transform(train)"
   ]
  },
  {
   "cell_type": "code",
   "execution_count": 54,
   "metadata": {},
   "outputs": [],
   "source": [
    "val X_bow_test = bow.transform2(test)\n",
    "val classificator = NaiveBayesCounter(1e-4)\n",
    "classificator.fit(X_bow, y_bow)"
   ]
  },
  {
   "cell_type": "code",
   "execution_count": 55,
   "metadata": {},
   "outputs": [],
   "source": [
    "val ans = classificator.predict(X_bow_test)"
   ]
  },
  {
   "cell_type": "code",
   "execution_count": 56,
   "metadata": {},
   "outputs": [],
   "source": [
    "val ans_c = StringCol(\"type\", ans)"
   ]
  },
  {
   "cell_type": "code",
   "execution_count": 57,
   "metadata": {},
   "outputs": [],
   "source": [
    "val ndf = test.addColumn(\"type\") { ans_c }"
   ]
  },
  {
   "cell_type": "code",
   "execution_count": 67,
   "metadata": {},
   "outputs": [
    {
     "data": {
      "text/html": [
       "<html><body><table><tr><th style=\"text-align:left\">session_id</th><th style=\"text-align:left\">min</th><th style=\"text-align:left\">events</th><th style=\"text-align:left\">type</th></tr><tr><td style=\"text-align:left\" title=\"2204192da927d8d-1396-4efd-8e1a-18b59ebf81c6_6\">2204192da927d8d-1396-4efd-8e1a-18b59ebf81c6_6</td><td style=\"text-align:left\" title=\"0\">0</td><td style=\"text-align:left\" title=\"lifecycle_ide.close , lifecycle_project.closed\">lifecycle_ide.close , lifecycle_project.closed</td><td style=\"text-align:left\" title=\"ide close\">ide close</td></tr><tr><td style=\"text-align:left\" title=\"15051928161ddca-78a7-4b72-9326-02556598a649_64\">15051928161ddca-78a7-4b72-9326-02556598a649_64</td><td style=\"text-align:left\" title=\"0\">0</td><td style=\"text-align:left\" title=\"lifecycle_ide.close , lifecycle_project.closed , lifecycle_project.closed\">lifecycle_ide.close , lifecycle_project.closed ...</td><td style=\"text-align:left\" title=\"ide close\">ide close</td></tr><tr><td style=\"text-align:left\" title=\"15051928161ddca-78a7-4b72-9326-02556598a649_65\">15051928161ddca-78a7-4b72-9326-02556598a649_65</td><td style=\"text-align:left\" title=\"3\">3</td><td style=\"text-align:left\" title=\"event.log_whitelist.loaded , lifecycle_ide.start , ui.dialogs_com.intellij.openapi.progress.util.ProgressDialog$MyDialogWrapper , lifecycle_project.opened , ui.dialogs_com.intellij.openapi.progress.util.ProgressDialog$MyDialogWrapper , ui.dialogs_com.intellij.openapi.progress.util.ProgressDialog$MyDialogWrapper , lifecycle_project.opened , ui.dialogs_com.intellij.openapi.progress.util.ProgressDialog$MyDialogWrapper , lifecycle_project.opening.finished , lifecycle_project.opening.finished , startup_totalDuration , lifecycle_ide.close , ui.dialogs_com.intellij.openapi.progress.util.ProgressDialog$MyDialogWrapper , ui.dialogs_com.intellij.openapi.progress.util.ProgressDialog$MyDialogWrapper , lifecycle_project.closed , lifecycle_project.closed\">event.log_whitelist.loaded , lifecycle_ide.star...</td><td style=\"text-align:left\" title=\"ide close\">ide close</td></tr><tr><td style=\"text-align:left\" title=\"20121913aefe0d2-b6e1-4b9a-bd6d-54d4999fe1df_19\">20121913aefe0d2-b6e1-4b9a-bd6d-54d4999fe1df_19</td><td style=\"text-align:left\" title=\"2\">2</td><td style=\"text-align:left\" title=\"actions_ToggleLineBreakpoint , debugger.breakpoints.usage_java-line , gutter.icon.click_db_set_breakpoint , actions_com.intellij.xdebugger.impl.breakpoints.RemoveBreakpointGutterIconAction , lifecycle_ide.close , lifecycle_project.closed , lifecycle_project.closed , lifecycle_project.closed , lifecycle_project.closed\">actions_ToggleLineBreakpoint , debugger.breakpo...</td><td style=\"text-align:left\" title=\"ide close\">ide close</td></tr><tr><td style=\"text-align:left\" title=\"2112191448c97a7-114e-4827-93de-3363865f3f42_65\">2112191448c97a7-114e-4827-93de-3363865f3f42_65</td><td style=\"text-align:left\" title=\"0\">0</td><td style=\"text-align:left\" title=\"ui.dialogs_com.intellij.openapi.ui.messages.MessageDialog , run.configuration.exec_finished , lifecycle_project.closed\">ui.dialogs_com.intellij.openapi.ui.messages.Mes...</td><td style=\"text-align:left\" title=\"ide close\">ide close</td></tr><tr><td style=\"text-align:left\" title=\"2112191448c97a7-114e-4827-93de-3363865f3f42_66\">2112191448c97a7-114e-4827-93de-3363865f3f42_66</td><td style=\"text-align:left\" title=\"1\">1</td><td style=\"text-align:left\" title=\"ui.dialogs_com.intellij.openapi.ui.messages.MessageDialog , run.configuration.exec_finished , lifecycle_project.closed , ui.dialogs_com.intellij.openapi.ui.messages.MessageDialog , run.configuration.exec_finished , lifecycle_ide.close , lifecycle_project.closed\">ui.dialogs_com.intellij.openapi.ui.messages.Mes...</td><td style=\"text-align:left\" title=\"ide close\">ide close</td></tr><tr><td style=\"text-align:left\" title=\"10022018d5b7303-531b-4844-9bc9-c19da4c3d20e_14\">10022018d5b7303-531b-4844-9bc9-c19da4c3d20e_14</td><td style=\"text-align:left\" title=\"1\">1</td><td style=\"text-align:left\" title=\"ui.dialogs_com.intellij.openapi.ui.messages.MessageDialog , ui.dialogs_com.intellij.openapi.options.newEditor.SettingsDialog , ui.settings_com.intellij.ide.plugins.PluginManagerConfigurable , lifecycle_ide.close , lifecycle_project.closed , ui.dialogs_com.intellij.openapi.ui.messages.MessageDialog , run.configuration.exec_finished\">ui.dialogs_com.intellij.openapi.ui.messages.Mes...</td><td style=\"text-align:left\" title=\"ide close\">ide close</td></tr><tr><td style=\"text-align:left\" title=\"2603191d7d70721-2b6b-4957-a81b-76b7a366eac2_3\">2603191d7d70721-2b6b-4957-a81b-76b7a366eac2_3</td><td style=\"text-align:left\" title=\"0\">0</td><td style=\"text-align:left\" title=\"lifecycle_ide.close , lifecycle_project.closed\">lifecycle_ide.close , lifecycle_project.closed</td><td style=\"text-align:left\" title=\"ide close\">ide close</td></tr><tr><td style=\"text-align:left\" title=\"2603191d7d70721-2b6b-4957-a81b-76b7a366eac2_7\">2603191d7d70721-2b6b-4957-a81b-76b7a366eac2_7</td><td style=\"text-align:left\" title=\"0\">0</td><td style=\"text-align:left\" title=\"lifecycle_ide.close , lifecycle_project.closed\">lifecycle_ide.close , lifecycle_project.closed</td><td style=\"text-align:left\" title=\"ide close\">ide close</td></tr><tr><td style=\"text-align:left\" title=\"19121928e3df98c-4369-4612-9838-656516df0f6c_5\">19121928e3df98c-4369-4612-9838-656516df0f6c_5</td><td style=\"text-align:left\" title=\"0\">0</td><td style=\"text-align:left\" title=\"lifecycle_project.closed , lifecycle_ide.close\">lifecycle_project.closed , lifecycle_ide.close</td><td style=\"text-align:left\" title=\"ide close\">ide close</td></tr><tr><td style=\"text-align:left\" title=\"2910191b7c39ee2-b434-4b8b-a6ba-9dd5d754c7f3_13\">2910191b7c39ee2-b434-4b8b-a6ba-9dd5d754c7f3_13</td><td style=\"text-align:left\" title=\"0\">0</td><td style=\"text-align:left\" title=\"ui.dialogs_com.intellij.openapi.ui.messages.MessageDialog , lifecycle_ide.close , lifecycle_project.closed\">ui.dialogs_com.intellij.openapi.ui.messages.Mes...</td><td style=\"text-align:left\" title=\"ide close\">ide close</td></tr><tr><td style=\"text-align:left\" title=\"2910191b7c39ee2-b434-4b8b-a6ba-9dd5d754c7f3_16\">2910191b7c39ee2-b434-4b8b-a6ba-9dd5d754c7f3_16</td><td style=\"text-align:left\" title=\"0\">0</td><td style=\"text-align:left\" title=\"ui.dialogs_com.intellij.openapi.ui.messages.MessageDialog , lifecycle_ide.close , ui.dialogs_com.intellij.openapi.progress.util.ProgressDialog$MyDialogWrapper , ui.dialogs_com.intellij.openapi.progress.util.ProgressDialog$MyDialogWrapper , lifecycle_project.closed\">ui.dialogs_com.intellij.openapi.ui.messages.Mes...</td><td style=\"text-align:left\" title=\"ide close\">ide close</td></tr><tr><td style=\"text-align:left\" title=\"28031932bbc9e8d-be1f-485f-91d9-1de5da541863_6\">28031932bbc9e8d-be1f-485f-91d9-1de5da541863_6</td><td style=\"text-align:left\" title=\"0\">0</td><td style=\"text-align:left\" title=\"ui.dialogs_com.intellij.openapi.ui.messages.MessageDialog , lifecycle_ide.close , lifecycle_project.closed\">ui.dialogs_com.intellij.openapi.ui.messages.Mes...</td><td style=\"text-align:left\" title=\"ide close\">ide close</td></tr><tr><td style=\"text-align:left\" title=\"0203203b4ea4636-ef2a-4a38-8999-e76cd6206b44_132\">0203203b4ea4636-ef2a-4a38-8999-e76cd6206b44_132</td><td style=\"text-align:left\" title=\"4\">4</td><td style=\"text-align:left\" title=\"lifecycle_project.closed , lifecycle_project.closed , lifecycle_project.closed , toolwindow_Project , lifecycle_project.closed , lifecycle_project.closed , toolwindow_Project , ui.dialogs_com.intellij.openapi.ui.messages.MessageDialog , lifecycle_ide.close , lifecycle_project.closed\">lifecycle_project.closed , lifecycle_project.cl...</td><td style=\"text-align:left\" title=\"ide close\">ide close</td></tr><tr><td style=\"text-align:left\" title=\"26041913ff32878-e549-40d8-a928-dabbaa07d749_5\">26041913ff32878-e549-40d8-a928-dabbaa07d749_5</td><td style=\"text-align:left\" title=\"0\">0</td><td style=\"text-align:left\" title=\"ide.self.update_dialog.update.started , lifecycle_ide.close , ui.dialogs_com.intellij.openapi.progress.util.ProgressDialog$MyDialogWrapper , ui.dialogs_com.intellij.openapi.progress.util.ProgressDialog$MyDialogWrapper , ui.dialogs_com.intellij.openapi.progress.util.ProgressDialog$MyDialogWrapper , ui.dialogs_com.intellij.openapi.progress.util.ProgressDialog$MyDialogWrapper , ui.dialogs_com.intellij.openapi.progress.util.ProgressDialog$MyDialogWrapper , lifecycle_project.closed\">ide.self.update_dialog.update.started , lifecyc...</td><td style=\"text-align:left\" title=\"ide close\">ide close</td></tr><tr><td style=\"text-align:left\" title=\"26041913ff32878-e549-40d8-a928-dabbaa07d749_7\">26041913ff32878-e549-40d8-a928-dabbaa07d749_7</td><td style=\"text-align:left\" title=\"0\">0</td><td style=\"text-align:left\" title=\"lifecycle_project.closed , lifecycle_ide.close , lifecycle_project.closed\">lifecycle_project.closed , lifecycle_ide.close ...</td><td style=\"text-align:left\" title=\"ide close\">ide close</td></tr><tr><td style=\"text-align:left\" title=\"05091917988b662-be79-4900-aa4f-25c6538676c5_37\">05091917988b662-be79-4900-aa4f-25c6538676c5_37</td><td style=\"text-align:left\" title=\"1\">1</td><td style=\"text-align:left\" title=\"lifecycle_project.closed , ui.dialogs_com.intellij.openapi.ui.messages.MessageDialog , lifecycle_ide.close , lifecycle_project.closed\">lifecycle_project.closed , ui.dialogs_com.intel...</td><td style=\"text-align:left\" title=\"ide close\">ide close</td></tr><tr><td style=\"text-align:left\" title=\"24012027effc16e-22cb-4141-8b63-8c1d30ec8c4b_1\">24012027effc16e-22cb-4141-8b63-8c1d30ec8c4b_1</td><td style=\"text-align:left\" title=\"0\">0</td><td style=\"text-align:left\" title=\"lifecycle_ide.close , ui.dialogs_com.intellij.openapi.progress.util.ProgressDialog$MyDialogWrapper , ui.dialogs_com.intellij.openapi.progress.util.ProgressDialog$MyDialogWrapper , lifecycle_project.closed\">lifecycle_ide.close , ui.dialogs_com.intellij.o...</td><td style=\"text-align:left\" title=\"ide close\">ide close</td></tr><tr><td style=\"text-align:left\" title=\"24012027effc16e-22cb-4141-8b63-8c1d30ec8c4b_5\">24012027effc16e-22cb-4141-8b63-8c1d30ec8c4b_5</td><td style=\"text-align:left\" title=\"1\">1</td><td style=\"text-align:left\" title=\"actions_Stop , toolbar_Stop , run.configuration.exec_finished , toolwindow_Project , lifecycle_ide.close , lifecycle_project.closed\">actions_Stop , toolbar_Stop , run.configuration...</td><td style=\"text-align:left\" title=\"ide close\">ide close</td></tr><tr><td style=\"text-align:left\" title=\"2411191c94b3bf9-6356-40c8-850b-5a4236a9836c_3\">2411191c94b3bf9-6356-40c8-850b-5a4236a9836c_3</td><td style=\"text-align:left\" title=\"0\">0</td><td style=\"text-align:left\" title=\"ui.dialogs_com.intellij.openapi.ui.messages.MessageDialog , lifecycle_ide.close , lifecycle_project.closed\">ui.dialogs_com.intellij.openapi.ui.messages.Mes...</td><td style=\"text-align:left\" title=\"ide close\">ide close</td></tr></table><p>... only showing top 20 rows</p></body></html>"
      ]
     },
     "execution_count": 67,
     "metadata": {},
     "output_type": "execute_result"
    }
   ],
   "source": [
    "ndf.filterByRow {it[\"type\"].toString() == \"ide close\"}"
   ]
  },
  {
   "cell_type": "code",
   "execution_count": 68,
   "metadata": {},
   "outputs": [],
   "source": [
    "val r = ndf.filterByRow {it[\"type\"].toString() == \"ide close\"}[\"events\"]"
   ]
  },
  {
   "cell_type": "code",
   "execution_count": 72,
   "metadata": {},
   "outputs": [
    {
     "data": {
      "text/plain": [
       "ui.dialogs_com.intellij.openapi.ui.messages.MessageDialog , run.configuration.exec_finished , lifecycle_project.closed"
      ]
     },
     "execution_count": 72,
     "metadata": {},
     "output_type": "execute_result"
    }
   ],
   "source": [
    "r[4]"
   ]
  },
  {
   "cell_type": "code",
   "execution_count": null,
   "metadata": {},
   "outputs": [],
   "source": []
  },
  {
   "cell_type": "code",
   "execution_count": 14,
   "metadata": {},
   "outputs": [
    {
     "data": {
      "text/html": [
       "   <div id=\"Myo6om\"></div>\n",
       "   <script type=\"text/javascript\">\n",
       "       (function() {\n",
       "           var plotSpec={\n",
       "'mapping':{\n",
       "'x':\"x\",\n",
       "'y':\"y\"\n",
       "},\n",
       "'data':{\n",
       "'x':[10.0,20.0,30.0,40.0,50.0,60.0,70.0,80.0,90.0,100.0,110.0,120.0,130.0,140.0,150.0,160.0,170.0,180.0,190.0,200.0,210.0,220.0,230.0,240.0,250.0,260.0,270.0,280.0,290.0,300.0,310.0,320.0,330.0,340.0,350.0,360.0,370.0,380.0,390.0],\n",
       "'y':[0.7428571428571429,0.7142857142857143,0.7714285714285715,0.7428571428571429,0.7714285714285715,0.7428571428571429,0.7428571428571429,0.7428571428571429,0.7428571428571429,0.8,0.8,0.8,0.8,0.8,0.8,0.8,0.8,0.8285714285714286,0.8285714285714286,0.8285714285714286,0.8285714285714286,0.8285714285714286,0.8285714285714286,0.8285714285714286,0.8285714285714286,0.8285714285714286,0.8285714285714286,0.8285714285714286,0.8285714285714286,0.8285714285714286,0.8285714285714286,0.8285714285714286,0.8285714285714286,0.8285714285714286,0.8285714285714286,0.8285714285714286,0.8285714285714286,0.8285714285714286,0.8285714285714286]\n",
       "},\n",
       "'kind':\"plot\",\n",
       "'scales':[],\n",
       "'layers':[{\n",
       "'stat':\"identity\",\n",
       "'mapping':{\n",
       "},\n",
       "'data':{\n",
       "},\n",
       "'position':\"identity\",\n",
       "'geom':\"line\"\n",
       "}]\n",
       "};\n",
       "           var plotContainer = document.getElementById(\"Myo6om\");\n",
       "           window.letsPlotCall(function() {{\n",
       "               LetsPlot.buildPlotFromProcessedSpecs(plotSpec, -1, -1, plotContainer);\n",
       "           }});\n",
       "       })();    \n",
       "   </script>"
      ]
     },
     "execution_count": 14,
     "metadata": {},
     "output_type": "execute_result"
    }
   ],
   "source": [
    "val df = mapOf(\"x\" to x, \"y\" to res )\n",
    "val p = lets_plot(df) {x = \"x\"; y = \"y\"}\n",
    "p + geom_line()"
   ]
  },
  {
   "cell_type": "code",
   "execution_count": 15,
   "metadata": {},
   "outputs": [],
   "source": [
    "var (rec, prec, x) = testPrecisionRecall(\"coding\")"
   ]
  },
  {
   "cell_type": "code",
   "execution_count": 16,
   "metadata": {},
   "outputs": [
    {
     "data": {
      "text/html": [
       "   <div id=\"MGAUYG\"></div>\n",
       "   <script type=\"text/javascript\">\n",
       "       (function() {\n",
       "           var plotSpec={\n",
       "'mapping':{\n",
       "'x':\"x\",\n",
       "'y':\"y\"\n",
       "},\n",
       "'data':{\n",
       "'x':[10.0,20.0,30.0,40.0,50.0,60.0,70.0,80.0,90.0,100.0,110.0,120.0,130.0,140.0,150.0,160.0,170.0,180.0,190.0,200.0,210.0,220.0,230.0,240.0,250.0,260.0,270.0,280.0,290.0,300.0,310.0,320.0,330.0,340.0,350.0,360.0,370.0,380.0,390.0,400.0,410.0,420.0,430.0,440.0],\n",
       "'y':[0.9411764705882353,1.0,1.0,0.9473684210526315,0.9444444444444444,0.9473684210526315,0.9411764705882353,0.9444444444444444,0.9,0.9047619047619048,0.9047619047619048,0.9,0.9,0.9,0.9,0.9047619047619048,0.9,0.9047619047619048,0.9047619047619048,0.9047619047619048,0.9047619047619048,0.9047619047619048,0.9,0.9,0.9,0.9,0.9,0.8571428571428571,0.8571428571428571,0.8571428571428571,0.8571428571428571,0.8571428571428571,0.8571428571428571,0.8571428571428571,0.8571428571428571,0.8571428571428571,0.8571428571428571,0.8571428571428571,0.8571428571428571,0.8571428571428571,0.8571428571428571,0.8571428571428571,0.8571428571428571,0.8571428571428571]\n",
       "},\n",
       "'kind':\"plot\",\n",
       "'scales':[],\n",
       "'layers':[{\n",
       "'stat':\"identity\",\n",
       "'mapping':{\n",
       "},\n",
       "'data':{\n",
       "},\n",
       "'position':\"identity\",\n",
       "'geom':\"line\"\n",
       "}]\n",
       "};\n",
       "           var plotContainer = document.getElementById(\"MGAUYG\");\n",
       "           window.letsPlotCall(function() {{\n",
       "               LetsPlot.buildPlotFromProcessedSpecs(plotSpec, -1, -1, plotContainer);\n",
       "           }});\n",
       "       })();    \n",
       "   </script>"
      ]
     },
     "execution_count": 16,
     "metadata": {},
     "output_type": "execute_result"
    }
   ],
   "source": [
    "val df = mapOf(\"x\" to x, \"y\" to prec)\n",
    "val p = lets_plot(df) {x = \"x\"; y = \"y\"}\n",
    "p + geom_line()"
   ]
  },
  {
   "cell_type": "code",
   "execution_count": 17,
   "metadata": {},
   "outputs": [
    {
     "data": {
      "text/html": [
       "   <div id=\"cnU4FD\"></div>\n",
       "   <script type=\"text/javascript\">\n",
       "       (function() {\n",
       "           var plotSpec={\n",
       "'mapping':{\n",
       "'x':\"x\",\n",
       "'y':\"y\"\n",
       "},\n",
       "'data':{\n",
       "'x':[10.0,20.0,30.0,40.0,50.0,60.0,70.0,80.0,90.0,100.0,110.0,120.0,130.0,140.0,150.0,160.0,170.0,180.0,190.0,200.0,210.0,220.0,230.0,240.0,250.0,260.0,270.0,280.0,290.0,300.0,310.0,320.0,330.0,340.0,350.0,360.0,370.0,380.0,390.0,400.0,410.0,420.0,430.0,440.0],\n",
       "'y':[0.6956521739130435,0.6956521739130435,0.7391304347826086,0.782608695652174,0.7391304347826086,0.782608695652174,0.6956521739130435,0.7391304347826086,0.782608695652174,0.8260869565217391,0.8260869565217391,0.782608695652174,0.782608695652174,0.782608695652174,0.782608695652174,0.8260869565217391,0.782608695652174,0.8260869565217391,0.8260869565217391,0.8260869565217391,0.8260869565217391,0.8260869565217391,0.782608695652174,0.782608695652174,0.782608695652174,0.782608695652174,0.782608695652174,0.782608695652174,0.782608695652174,0.782608695652174,0.782608695652174,0.782608695652174,0.782608695652174,0.782608695652174,0.782608695652174,0.782608695652174,0.782608695652174,0.782608695652174,0.782608695652174,0.782608695652174,0.782608695652174,0.782608695652174,0.782608695652174,0.782608695652174]\n",
       "},\n",
       "'kind':\"plot\",\n",
       "'scales':[],\n",
       "'layers':[{\n",
       "'stat':\"identity\",\n",
       "'mapping':{\n",
       "},\n",
       "'data':{\n",
       "},\n",
       "'position':\"identity\",\n",
       "'geom':\"line\"\n",
       "}]\n",
       "};\n",
       "           var plotContainer = document.getElementById(\"cnU4FD\");\n",
       "           window.letsPlotCall(function() {{\n",
       "               LetsPlot.buildPlotFromProcessedSpecs(plotSpec, -1, -1, plotContainer);\n",
       "           }});\n",
       "       })();    \n",
       "   </script>"
      ]
     },
     "execution_count": 17,
     "metadata": {},
     "output_type": "execute_result"
    }
   ],
   "source": [
    "val df = mapOf<String, Any>(\"x\" to x, \"y\" to rec )\n",
    "val p = lets_plot(df) {x = \"x\"; y = \"y\"}\n",
    "p + geom_line()"
   ]
  },
  {
   "cell_type": "code",
   "execution_count": 18,
   "metadata": {},
   "outputs": [],
   "source": [
    "var (rec, prec, x) = testPrecisionRecall(\"ide start\")"
   ]
  },
  {
   "cell_type": "code",
   "execution_count": 19,
   "metadata": {},
   "outputs": [
    {
     "data": {
      "text/html": [
       "   <div id=\"1S70I3\"></div>\n",
       "   <script type=\"text/javascript\">\n",
       "       (function() {\n",
       "           var plotSpec={\n",
       "'mapping':{\n",
       "'x':\"x\",\n",
       "'y':\"y\"\n",
       "},\n",
       "'data':{\n",
       "'x':[10.0,20.0,30.0,40.0,50.0,60.0,70.0,80.0,90.0,100.0,110.0,120.0,130.0,140.0,150.0,160.0,170.0,180.0,190.0,200.0,210.0,220.0,230.0,240.0,250.0,260.0,270.0,280.0,290.0,300.0,310.0,320.0,330.0,340.0,350.0,360.0,370.0,380.0,390.0,400.0,410.0,420.0,430.0,440.0],\n",
       "'y':[0.875,0.8333333333333334,1.0,1.0,1.0,1.0,1.0,1.0,1.0,1.0,1.0,1.0,1.0,1.0,1.0,1.0,1.0,1.0,1.0,1.0,1.0,1.0,1.0,1.0,1.0,1.0,1.0,1.0,1.0,1.0,1.0,1.0,1.0,1.0,1.0,1.0,1.0,1.0,1.0,1.0,1.0,1.0,1.0,1.0]\n",
       "},\n",
       "'kind':\"plot\",\n",
       "'scales':[],\n",
       "'layers':[{\n",
       "'stat':\"identity\",\n",
       "'mapping':{\n",
       "},\n",
       "'data':{\n",
       "},\n",
       "'position':\"identity\",\n",
       "'geom':\"line\"\n",
       "}]\n",
       "};\n",
       "           var plotContainer = document.getElementById(\"1S70I3\");\n",
       "           window.letsPlotCall(function() {{\n",
       "               LetsPlot.buildPlotFromProcessedSpecs(plotSpec, -1, -1, plotContainer);\n",
       "           }});\n",
       "       })();    \n",
       "   </script>"
      ]
     },
     "execution_count": 19,
     "metadata": {},
     "output_type": "execute_result"
    }
   ],
   "source": [
    "val df = mapOf(\"x\" to x, \"y\" to prec)\n",
    "val p = lets_plot(df) {x = \"x\"; y = \"y\"}\n",
    "p + geom_line()"
   ]
  },
  {
   "cell_type": "code",
   "execution_count": 20,
   "metadata": {},
   "outputs": [
    {
     "data": {
      "text/html": [
       "   <div id=\"lXvb9C\"></div>\n",
       "   <script type=\"text/javascript\">\n",
       "       (function() {\n",
       "           var plotSpec={\n",
       "'mapping':{\n",
       "'x':\"x\",\n",
       "'y':\"y\"\n",
       "},\n",
       "'data':{\n",
       "'x':[10.0,20.0,30.0,40.0,50.0,60.0,70.0,80.0,90.0,100.0,110.0,120.0,130.0,140.0,150.0,160.0,170.0,180.0,190.0,200.0,210.0,220.0,230.0,240.0,250.0,260.0,270.0,280.0,290.0,300.0,310.0,320.0,330.0,340.0,350.0,360.0,370.0,380.0,390.0,400.0,410.0,420.0,430.0,440.0],\n",
       "'y':[0.7,0.5,0.5,0.4,0.5,0.4,0.5,0.4,0.4,0.4,0.4,0.4,0.4,0.4,0.4,0.4,0.5,0.5,0.5,0.5,0.5,0.5,0.5,0.5,0.5,0.5,0.5,0.5,0.5,0.5,0.5,0.5,0.5,0.5,0.5,0.5,0.5,0.5,0.5,0.5,0.5,0.5,0.5,0.5]\n",
       "},\n",
       "'kind':\"plot\",\n",
       "'scales':[],\n",
       "'layers':[{\n",
       "'stat':\"identity\",\n",
       "'mapping':{\n",
       "},\n",
       "'data':{\n",
       "},\n",
       "'position':\"identity\",\n",
       "'geom':\"line\"\n",
       "}]\n",
       "};\n",
       "           var plotContainer = document.getElementById(\"lXvb9C\");\n",
       "           window.letsPlotCall(function() {{\n",
       "               LetsPlot.buildPlotFromProcessedSpecs(plotSpec, -1, -1, plotContainer);\n",
       "           }});\n",
       "       })();    \n",
       "   </script>"
      ]
     },
     "execution_count": 20,
     "metadata": {},
     "output_type": "execute_result"
    }
   ],
   "source": [
    "val df = mapOf(\"x\" to x, \"y\" to rec)\n",
    "val p = lets_plot(df) {x = \"x\"; y = \"y\"}\n",
    "p + geom_line()"
   ]
  },
  {
   "cell_type": "code",
   "execution_count": 21,
   "metadata": {},
   "outputs": [],
   "source": [
    "var (rec, prec, x) = testPrecisionRecall(\"ide close\")"
   ]
  },
  {
   "cell_type": "code",
   "execution_count": 22,
   "metadata": {},
   "outputs": [
    {
     "data": {
      "text/html": [
       "   <div id=\"nhJhJB\"></div>\n",
       "   <script type=\"text/javascript\">\n",
       "       (function() {\n",
       "           var plotSpec={\n",
       "'mapping':{\n",
       "'x':\"x\",\n",
       "'y':\"y\"\n",
       "},\n",
       "'data':{\n",
       "'x':[10.0,20.0,30.0,40.0,50.0,60.0,70.0,80.0,90.0,100.0,110.0,120.0,130.0,140.0,150.0,160.0,170.0,180.0,190.0,200.0,210.0,220.0,230.0,240.0,250.0,260.0,270.0,280.0,290.0,300.0,310.0,320.0,330.0,340.0,350.0,360.0,370.0,380.0,390.0,400.0,410.0,420.0,430.0,440.0],\n",
       "'y':[0.42857142857142855,0.5714285714285714,0.42857142857142855,0.2857142857142857,0.2857142857142857,0.2857142857142857,0.2857142857142857,0.2857142857142857,0.2857142857142857,0.2857142857142857,0.2857142857142857,0.2857142857142857,0.2857142857142857,0.2857142857142857,0.2857142857142857,0.2857142857142857,0.2857142857142857,0.2857142857142857,0.2857142857142857,0.2857142857142857,0.2857142857142857,0.2857142857142857,0.2857142857142857,0.2857142857142857,0.2857142857142857,0.2857142857142857,0.2857142857142857,0.2857142857142857,0.2857142857142857,0.2857142857142857,0.2857142857142857,0.2857142857142857,0.2857142857142857,0.2857142857142857,0.2857142857142857,0.2857142857142857,0.2857142857142857,0.2857142857142857,0.2857142857142857,0.2857142857142857,0.2857142857142857,0.2857142857142857,0.2857142857142857,0.2857142857142857]\n",
       "},\n",
       "'kind':\"plot\",\n",
       "'scales':[],\n",
       "'layers':[{\n",
       "'stat':\"identity\",\n",
       "'mapping':{\n",
       "},\n",
       "'data':{\n",
       "},\n",
       "'position':\"identity\",\n",
       "'geom':\"line\"\n",
       "}]\n",
       "};\n",
       "           var plotContainer = document.getElementById(\"nhJhJB\");\n",
       "           window.letsPlotCall(function() {{\n",
       "               LetsPlot.buildPlotFromProcessedSpecs(plotSpec, -1, -1, plotContainer);\n",
       "           }});\n",
       "       })();    \n",
       "   </script>"
      ]
     },
     "execution_count": 22,
     "metadata": {},
     "output_type": "execute_result"
    }
   ],
   "source": [
    "val df = mapOf(\"x\" to x, \"y\" to rec)\n",
    "val p = lets_plot(df) {x = \"x\"; y = \"y\"}\n",
    "p + geom_line()"
   ]
  },
  {
   "cell_type": "code",
   "execution_count": 23,
   "metadata": {},
   "outputs": [
    {
     "data": {
      "text/html": [
       "   <div id=\"jJbW1Q\"></div>\n",
       "   <script type=\"text/javascript\">\n",
       "       (function() {\n",
       "           var plotSpec={\n",
       "'mapping':{\n",
       "'x':\"x\",\n",
       "'y':\"y\"\n",
       "},\n",
       "'data':{\n",
       "'x':[10.0,20.0,30.0,40.0,50.0,60.0,70.0,80.0,90.0,100.0,110.0,120.0,130.0,140.0,150.0,160.0,170.0,180.0,190.0,200.0,210.0,220.0,230.0,240.0,250.0,260.0,270.0,280.0,290.0,300.0,310.0,320.0,330.0,340.0,350.0,360.0,370.0,380.0,390.0,400.0,410.0,420.0,430.0,440.0],\n",
       "'y':[0.6,0.5,1.0,1.0,1.0,1.0,1.0,1.0,1.0,1.0,1.0,1.0,1.0,1.0,1.0,1.0,1.0,1.0,1.0,1.0,1.0,1.0,1.0,1.0,1.0,1.0,1.0,1.0,1.0,1.0,1.0,1.0,1.0,1.0,1.0,1.0,1.0,1.0,1.0,1.0,1.0,1.0,1.0,1.0]\n",
       "},\n",
       "'kind':\"plot\",\n",
       "'scales':[],\n",
       "'layers':[{\n",
       "'stat':\"identity\",\n",
       "'mapping':{\n",
       "},\n",
       "'data':{\n",
       "},\n",
       "'position':\"identity\",\n",
       "'geom':\"line\"\n",
       "}]\n",
       "};\n",
       "           var plotContainer = document.getElementById(\"jJbW1Q\");\n",
       "           window.letsPlotCall(function() {{\n",
       "               LetsPlot.buildPlotFromProcessedSpecs(plotSpec, -1, -1, plotContainer);\n",
       "           }});\n",
       "       })();    \n",
       "   </script>"
      ]
     },
     "execution_count": 23,
     "metadata": {},
     "output_type": "execute_result"
    }
   ],
   "source": [
    "val df = mapOf(\"x\" to x, \"y\" to prec)\n",
    "val p = lets_plot(df) {x = \"x\"; y = \"y\"}\n",
    "p + geom_line()"
   ]
  },
  {
   "cell_type": "code",
   "execution_count": null,
   "metadata": {},
   "outputs": [],
   "source": []
  },
  {
   "cell_type": "code",
   "execution_count": null,
   "metadata": {},
   "outputs": [],
   "source": []
  }
 ],
 "metadata": {
  "kernelspec": {
   "display_name": "Kotlin",
   "language": "kotlin",
   "name": "kotlin"
  },
  "language_info": {
   "codemirror_mode": "text/x-kotlin",
   "file_extension": "kt",
   "name": "kotlin"
  }
 },
 "nbformat": 4,
 "nbformat_minor": 2
}
