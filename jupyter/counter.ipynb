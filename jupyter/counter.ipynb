{
 "cells": [
  {
   "cell_type": "code",
   "execution_count": 1,
   "metadata": {},
   "outputs": [],
   "source": [
    "%use kotlin-statistics, krangl, kravis"
   ]
  },
  {
   "cell_type": "code",
   "execution_count": 2,
   "metadata": {},
   "outputs": [],
   "source": [
    "import kotlin.math.*"
   ]
  },
  {
   "cell_type": "code",
   "execution_count": 3,
   "metadata": {},
   "outputs": [],
   "source": [
    "@file:Repository(\"https://dl.bintray.com/kyonifer/maven\")\n",
    "@file:DependsOn(\"com.kyonifer:koma-core-ejml:0.12\")\n",
    "@file:DependsOn(\"com.kyonifer:koma-plotting:0.12\")"
   ]
  },
  {
   "cell_type": "code",
   "execution_count": 4,
   "metadata": {},
   "outputs": [],
   "source": [
    "import koma.extensions.*\n",
    "import koma.*"
   ]
  },
  {
   "cell_type": "code",
   "execution_count": 5,
   "metadata": {},
   "outputs": [
    {
     "data": {
      "text/html": [
       "   <div id=\"ui2dBp\"></div>\n",
       "   <script type=\"text/javascript\">\n",
       "       if(!window.letsPlotCallQueue) {\n",
       "           window.letsPlotCallQueue = [];\n",
       "       }; \n",
       "       window.letsPlotCall = function(f) {\n",
       "           window.letsPlotCallQueue.push(f);\n",
       "       };\n",
       "       (function() {\n",
       "           var script = document.createElement(\"script\");\n",
       "           script.type = \"text/javascript\";\n",
       "           script.src = \"https://dl.bintray.com/jetbrains/lets-plot/lets-plot-1.0.0.min.js\";\n",
       "           script.onload = function() {\n",
       "               window.letsPlotCall = function(f) {f();};\n",
       "               window.letsPlotCallQueue.forEach(function(f) {f();});\n",
       "               window.letsPlotCallQueue = [];\n",
       "               \n",
       "               \n",
       "           };\n",
       "           script.onerror = function(event) {\n",
       "               window.letsPlotCall = function(f) {};\n",
       "               window.letsPlotCallQueue = [];\n",
       "               var div = document.createElement(\"div\");\n",
       "               div.style.color = 'darkred';\n",
       "               div.textContent = 'Error loading Lets-Plot JS';\n",
       "               document.getElementById(\"ui2dBp\").appendChild(div);\n",
       "           };\n",
       "           var e = document.getElementById(\"ui2dBp\");\n",
       "           e.appendChild(script);\n",
       "       })();\n",
       "   </script>"
      ]
     },
     "metadata": {},
     "output_type": "display_data"
    }
   ],
   "source": [
    "%use lets-plot"
   ]
  },
  {
   "cell_type": "code",
   "execution_count": 6,
   "metadata": {},
   "outputs": [],
   "source": [
    "fun trainTestSplit(path: String, fraction: Double = 0.8): Pair<DataFrame, DataFrame> {\n",
    "    val df = DataFrame.readTSV(path)\n",
    "    val trainCount: Int = kotlin.math.ceil(fraction * df.nrow).toInt()\n",
    "    val shuffledDf = df.shuffle()\n",
    "    return Pair(shuffledDf.slice(0..trainCount), shuffledDf.slice(trainCount + 1..shuffledDf.nrow))\n",
    "}"
   ]
  },
  {
   "cell_type": "code",
   "execution_count": 7,
   "metadata": {},
   "outputs": [],
   "source": [
    "class BoW(private val limit: Int = 100) {\n",
    "\n",
    "    public var voc: Map<String, Int> = HashMap()\n",
    "\n",
    "    fun initialize(df: DataFrame) {\n",
    "        val events = df[\"events\"]\n",
    "        val eventsMap: MutableMap<String, Int> = HashMap()\n",
    "        for (i in 0 until events.length) {\n",
    "            for (ev in events[i].toString().split(\" , \")) {\n",
    "                if (eventsMap.containsKey(ev)) {\n",
    "                    eventsMap[ev] = eventsMap.getValue(ev) + 1\n",
    "                } else {\n",
    "                    eventsMap[ev] = 1\n",
    "                }\n",
    "            }\n",
    "        }\n",
    "        val realLimit = if (eventsMap.size > limit) limit else eventsMap.size\n",
    "        voc = eventsMap.toSortedMap(compareBy({ eventsMap[it]?.times(-1) }, { it })).keys.toList()\n",
    "            .slice(0 until realLimit).withIndex().toList().associate {it.value to it.index}\n",
    "    }\n",
    "\n",
    "    fun transform(df: DataFrame): Pair<koma.matrix.Matrix<Double>, List<String>> {\n",
    "        val mat = zeros(df.nrow, voc.size + 2)\n",
    "        val label = ArrayList<String>()\n",
    "        for (i in 0 until df.nrow) {\n",
    "            mat[i, voc.size] = df[\"min\"][i] as Int\n",
    "            mat[i, voc.size + 1] = df[\"events\"][i].toString().split(\" , \").size\n",
    "            label.add(df[\"category\"][i].toString())\n",
    "            for (event in df[\"events\"][i].toString().split(\" , \")) {\n",
    "                if (voc.containsKey(event)) {\n",
    "                    mat[i, voc[event] as Int] += 1\n",
    "                }\n",
    "            }\n",
    "        }\n",
    "        return Pair(mat, label)\n",
    "    }\n",
    "    \n",
    "    fun transform2(df: DataFrame): koma.matrix.Matrix<Double> {\n",
    "        val mat = zeros(df.nrow, voc.size + 2)\n",
    "        for (i in 0 until df.nrow) {\n",
    "            mat[i, voc.size] = df[\"min\"][i] as Int\n",
    "            mat[i, voc.size + 1] = df[\"events\"][i].toString().split(\" , \").size\n",
    "            for (event in df[\"events\"][i].toString().split(\" , \")) {\n",
    "                if (voc.containsKey(event)) {\n",
    "                    mat[i, voc[event] as Int] += 1\n",
    "                }\n",
    "            }\n",
    "        }\n",
    "        return mat\n",
    "    }\n",
    "\n",
    "}"
   ]
  },
  {
   "cell_type": "code",
   "execution_count": 8,
   "metadata": {},
   "outputs": [],
   "source": [
    "class NaiveBayesCounter(private val alpha: Double = 1e-5, val p: Double = 0.05) {\n",
    "\n",
    "    private var classProb: MutableMap<String, Double> = HashMap()\n",
    "    private var classes: MutableList<String> = ArrayList()\n",
    "    private var probs: MutableMap<String, koma.matrix.Matrix<Double>> = HashMap()\n",
    "\n",
    "\n",
    "    fun fit(X: koma.matrix.Matrix<Double>, y: List<String>) {\n",
    "        for (i in y.indices) {\n",
    "            for (cls in y[i].toLowerCase().split(\", \")) {\n",
    "                if (!classProb.containsKey(cls)) {\n",
    "                    classProb[cls] = 1.0 / y.size\n",
    "                    classes.add(cls)\n",
    "                    probs[cls] = ones(X.shape()[1] - 2, 11) * alpha\n",
    "                } else {\n",
    "                    classProb[cls] = classProb.getValue(cls) + 1.0 / y.size\n",
    "                }\n",
    "                for (j in 0 until X.shape()[1] - 2) {\n",
    "                    val ind:Int = if (X[i, j] < 10.0) X[i, j].toInt() else 10\n",
    "                    probs.getOrDefault(cls, zeros(0, 0))[j, ind] += 1\n",
    "                }\n",
    "            }\n",
    "\n",
    "        }\n",
    "        for (cls in classes) {\n",
    "            var probsMatrix = probs.getOrDefault(cls, zeros(0, 0))\n",
    "            val den = probsMatrix.getRow(0).elementSum().toInt()\n",
    "            probsMatrix /= den\n",
    "            probs[cls] = probsMatrix\n",
    "        }\n",
    "    }\n",
    "\n",
    "\n",
    "\n",
    "\n",
    "    fun logProb(X: koma.matrix.Matrix<Double>): koma.matrix.Matrix<Double> {\n",
    "        var ans = zeros(X.shape()[0], classes.size)\n",
    "        for (i in 0 until X.shape()[0]) {\n",
    "            for (j in classes.indices) {\n",
    "                val cls = classes[j]\n",
    "                ans[i, j] = kotlin.math.ln(classProb.getOrDefault(cls, alpha))\n",
    "                for (k in 0 until X.shape()[1] - 2) {\n",
    "                    val ind = if (X[i, k] < 10.0) X[i, k].toInt() else 10\n",
    "                    ans[i, j] += kotlin.math.ln(probs.getOrDefault(cls, zeros(0, 0))[k, ind])\n",
    "                }\n",
    "            }\n",
    "        }\n",
    "        val p = fill(ans.shape()[0], ans.shape()[1]) {i, j -> 1 / (exp(ans[i, 0..ans.shape()[1]-1] - ans[i, j]).mean() * ans.shape()[1]) }\n",
    "        return p\n",
    "    }\n",
    "\n",
    "    fun predict(X: koma.matrix.Matrix<Double>): ArrayList<ArrayList<String>> {\n",
    "        val probs = logProb(X)\n",
    "        val ans = ArrayList<ArrayList<String>>()\n",
    "        \n",
    "        for (i in 0 until probs.shape()[0]) {\n",
    "            ans.add(ArrayList<String>())\n",
    "        }\n",
    "        probs.forEachIndexed { row, col, ele -> if (ele > p) {ans[row].add(classes[col])}}\n",
    "        return ans\n",
    "    }\n",
    "}"
   ]
  },
  {
   "cell_type": "code",
   "execution_count": 47,
   "metadata": {},
   "outputs": [],
   "source": [
    "val (train, test) = trainTestSplit(\"../data/sh_sessions_multi.tsv\")"
   ]
  },
  {
   "cell_type": "code",
   "execution_count": 10,
   "metadata": {},
   "outputs": [],
   "source": [
    "fun testPrecisionRecall(cat: String=\"coding\", p: Double=0.05): Triple<ArrayList<Double>, ArrayList<Double>, ArrayList<Int>> {\n",
    "    val rec = ArrayList<Double>()\n",
    "    val prec = ArrayList<Double>()\n",
    "    val x = ArrayList<Int>()\n",
    "    for (i in 10 until 450 step 10) {\n",
    "        val bow = BoW(i)\n",
    "        bow.initialize(train)\n",
    "\n",
    "        val (X_bow, y_bow) = bow.transform(train)\n",
    "        val (X_bow_test, y_bow_test) = bow.transform(test)\n",
    "        val classificator = NaiveBayesCounter(1e-4, p)\n",
    "        classificator.fit(X_bow, y_bow)\n",
    "\n",
    "        val ans = classificator.predict(X_bow_test)\n",
    "        var TP = 0.0\n",
    "        var FN = 0.0\n",
    "        var FP = 0.0\n",
    "\n",
    "        for(i in y_bow_test.indices) {\n",
    "\n",
    "            if (y_bow_test[i].toLowerCase().contains(cat) && ans[i].joinToString(\", \").contains(cat)) {\n",
    "                TP += 1\n",
    "            }\n",
    "\n",
    "            if (y_bow_test[i].toLowerCase().contains(cat) && !ans[i].joinToString(\", \").contains(cat)) {\n",
    "                FN += 1\n",
    "            }\n",
    "\n",
    "            if (!y_bow_test[i].toLowerCase().contains(cat) && ans[i].joinToString(\", \").contains(cat)) {\n",
    "                FP += 1\n",
    "            }\n",
    "        }\n",
    "        rec.add(TP / (TP + FN))\n",
    "        prec.add(TP / (TP + FP))\n",
    "\n",
    "\n",
    "        x.add(i)\n",
    "    }\n",
    "    return Triple(rec, prec, x)\n",
    "}"
   ]
  },
  {
   "cell_type": "code",
   "execution_count": 12,
   "metadata": {},
   "outputs": [],
   "source": [
    "val res = ArrayList<Double>()\n",
    "val x = ArrayList<Int>()"
   ]
  },
  {
   "cell_type": "code",
   "execution_count": 144,
   "metadata": {},
   "outputs": [],
   "source": [
    "val bow = BoW(50)\n",
    "bow.initialize(train)\n",
    "\n",
    "val (X_bow, y_bow) = bow.transform(train)\n",
    "val (X_bow_test, y_bow_test) = bow.transform(test)\n",
    "val classificator = NaiveBayesCounter(1e-4)\n",
    "classificator.fit(X_bow, y_bow)"
   ]
  },
  {
   "cell_type": "code",
   "execution_count": 13,
   "metadata": {},
   "outputs": [],
   "source": [
    "for (i in 10 until 400 step 10) {\n",
    "    val bow = BoW(i)\n",
    "    bow.initialize(train)\n",
    "\n",
    "    val (X_bow, y_bow) = bow.transform(train)\n",
    "    val (X_bow_test, y_bow_test) = bow.transform(test)\n",
    "    val classificator = NaiveBayesCounter(1e-4)\n",
    "    classificator.fit(X_bow, y_bow)\n",
    "\n",
    "    val ans = classificator.predict(X_bow_test)\n",
    "    var tot = 0.0\n",
    "    var TP = 0.0\n",
    "    var FN = 0.0\n",
    "    var FP = 0.0\n",
    "\n",
    "    for(i in y_bow_test.indices) {\n",
    "        if (y_bow_test[i].toLowerCase().contains(ans[i])) {\n",
    "            tot += 1\n",
    "        }\n",
    "    }\n",
    "    res.add(tot / y_bow_test.size)\n",
    "    x.add(i)\n",
    "}"
   ]
  },
  {
   "cell_type": "code",
   "execution_count": 116,
   "metadata": {},
   "outputs": [],
   "source": [
    "val test = DataFrame.readTSV(\"../data/test_data2.tsv\")\n",
    "val train = DataFrame.readTSV(\"../data/sh_sessions_multi.tsv\")"
   ]
  },
  {
   "cell_type": "code",
   "execution_count": 117,
   "metadata": {},
   "outputs": [],
   "source": [
    "val bow = BoW(300)\n",
    "bow.initialize(train)"
   ]
  },
  {
   "cell_type": "code",
   "execution_count": 118,
   "metadata": {},
   "outputs": [],
   "source": [
    "val (X_bow, y_bow) = bow.transform(train)"
   ]
  },
  {
   "cell_type": "code",
   "execution_count": 119,
   "metadata": {},
   "outputs": [],
   "source": [
    "val X_bow_test = bow.transform2(test)"
   ]
  },
  {
   "cell_type": "code",
   "execution_count": 120,
   "metadata": {},
   "outputs": [],
   "source": [
    "val classificator = NaiveBayesCounter(1e-4)\n",
    "classificator.fit(X_bow, y_bow)\n",
    "\n",
    "val ans = classificator.predict(X_bow_test)"
   ]
  },
  {
   "cell_type": "code",
   "execution_count": 121,
   "metadata": {},
   "outputs": [],
   "source": [
    "val cats = ArrayList<String>()"
   ]
  },
  {
   "cell_type": "code",
   "execution_count": 122,
   "metadata": {},
   "outputs": [],
   "source": [
    "for (a in ans) {\n",
    "    cats.add(a.joinToString(\", \"))\n",
    "}"
   ]
  },
  {
   "cell_type": "code",
   "execution_count": 123,
   "metadata": {},
   "outputs": [],
   "source": [
    "val catsCol = StringCol(\"category\", cats)"
   ]
  },
  {
   "cell_type": "code",
   "execution_count": 124,
   "metadata": {},
   "outputs": [],
   "source": [
    "val real = DataFrame.readTSV(\"../data/test_data.tsv\")"
   ]
  },
  {
   "cell_type": "code",
   "execution_count": 125,
   "metadata": {},
   "outputs": [],
   "source": [
    "val res = real.addColumn(\"category\") {catsCol}"
   ]
  },
  {
   "cell_type": "code",
   "execution_count": 102,
   "metadata": {},
   "outputs": [],
   "source": [
    "import java.io.File\n"
   ]
  },
  {
   "cell_type": "code",
   "execution_count": 126,
   "metadata": {},
   "outputs": [],
   "source": [
    "res.writeTSV(File(\"../data/test_data.tsv\"))"
   ]
  },
  {
   "cell_type": "code",
   "execution_count": null,
   "metadata": {},
   "outputs": [],
   "source": [
    "val cat = cl"
   ]
  },
  {
   "cell_type": "code",
   "execution_count": 51,
   "metadata": {},
   "outputs": [],
   "source": [
    "val test = DataFrame.readTSV(\"../data/test.tsv\")\n",
    "val train = DataFrame.readTSV(\"../data/sh_sessions_multi.tsv\")"
   ]
  },
  {
   "cell_type": "code",
   "execution_count": 73,
   "metadata": {},
   "outputs": [
    {
     "data": {
      "text/html": [
       "<html><body><table><tr><th style=\"text-align:left\">session_id</th><th style=\"text-align:left\">start_time</th><th style=\"text-align:left\">sec</th><th style=\"text-align:left\">min</th><th style=\"text-align:left\">category</th><th style=\"text-align:left\">events</th></tr><tr><td style=\"text-align:left\" title=\"1305192621b4643-a1d4-4288-9cb2-9ece426a01f1_1\">1305192621b4643-a1d4-4288-9cb2-9ece426a01f1_1</td><td style=\"text-align:left\" title=\"26.08.2019 10:28\">26.08.2019 10:28</td><td style=\"text-align:left\" title=\"164\">164</td><td style=\"text-align:left\" title=\"2\">2</td><td style=\"text-align:left\" title=\"Coding, VCS\">Coding, VCS</td><td style=\"text-align:left\" title=\"actions_Find , actions_com.intellij.find.SearchReplaceComponent$10 , actions_com.intellij.openapi.fileEditor.impl.EditorTabbedContainer$CloseTab , toolwindow_Project , actions_FindInPath , ui.dialogs_com.intellij.find.impl.FindPopupPanel$2 , actions_com.intellij.find.impl.FindPopupPanel$MyEnterAction , ui.dialogs_com.intellij.find.impl.FindPopupPanel$2 , file.types.usage_JAVA , actions_GotoDeclaration , productivity_navigation.goto.declaration , file.types.usage_JAVA , productivity_editing.select.word , actions_Find , actions_NextOccurence , actions_com.intellij.find.SearchReplaceComponent$10 , actions_GotoDeclaration , productivity_navigation.goto.declaration , productivity_editing.select.word , actions_EditorCopy , actions_Back , actions_Vcs.ShowTabbedFileHistory , toolwindow_Version_Control , toolbar_Vcs.ShowTabbedFileHistory , actions_Diff.ShowDiff , actions_HideActiveWindow , toolbar_HideActiveWindow , actions_FindInPath , ui.dialogs_com.intellij.find.impl.FindPopupPanel$2 , ui.dialogs_com.intellij.find.impl.FindPopupPanel$2 , actions_GotoDeclaration , productivity_navigation.goto.declaration , file.types.usage_JAVA , actions_GotoDeclaration , productivity_navigation.goto.declaration , file.types.usage_JAVA , gutter.icon.click_implementedMethod , actions_com.intellij.codeInsight.daemon.NavigateAction , file.types.usage_JAVA , actions_Back , productivity_editing.select.word , actions_GotoDeclaration , productivity_navigation.goto.declaration , file.types.usage_JAVA , actions_com.intellij.codeInsight.daemon.NavigateAction , gutter.icon.click_implementedMethod , file.types.usage_JAVA , productivity_editing.select.word , actions_GotoDeclaration , productivity_navigation.goto.declaration , file.types.usage_JAVA , actions_EditorCopy\">actions_Find , actions_com.intellij.find.Search...</td></tr><tr><td style=\"text-align:left\" title=\"0104192bd9b36a1-98c7-4a5e-817d-313d69be0ba3_1\">0104192bd9b36a1-98c7-4a5e-817d-313d69be0ba3_1</td><td style=\"text-align:left\" title=\"30.08.2019 20:16\">30.08.2019 20:16</td><td style=\"text-align:left\" title=\"66\">66</td><td style=\"text-align:left\" title=\"1\">1</td><td style=\"text-align:left\" title=\"Coding\">Coding</td><td style=\"text-align:left\" title=\"actions_FindInPath , toolwindow_Find , ui.dialogs_com.intellij.find.impl.FindPopupPanel$2 , ui.dialogs_com.intellij.find.impl.FindPopupPanel$2 , actions_GotoDeclaration , productivity_navigation.goto.declaration , file.types.usage_JAVA\">actions_FindInPath , toolwindow_Find , ui.dialo...</td></tr><tr><td style=\"text-align:left\" title=\"0304192f4244c10-88fc-4a38-992b-28bf8ffcfb58_0\">0304192f4244c10-88fc-4a38-992b-28bf8ffcfb58_0</td><td style=\"text-align:left\" title=\"27.08.2019 6:18\">27.08.2019 6:18</td><td style=\"text-align:left\" title=\"11\">11</td><td style=\"text-align:left\" title=\"0\">0</td><td style=\"text-align:left\" title=\"Ide start, Ide close\">Ide start, Ide close</td><td style=\"text-align:left\" title=\"event.log_whitelist.loaded , lifecycle_ide.start , ui.dialogs_com.intellij.openapi.progress.util.ProgressDialog$MyDialogWrapper , lifecycle_project.opened , toolwindow_Project , ui.tips_dialog.shown , ui.dialogs_com.intellij.ide.util.TipDialog , ui.dialogs_com.intellij.openapi.progress.util.ProgressDialog$MyDialogWrapper , lifecycle_ide.close , lifecycle_project.closed\">event.log_whitelist.loaded , lifecycle_ide.star...</td></tr><tr><td style=\"text-align:left\" title=\"0905192c46ec682-3f47-4af1-b313-755dbfcfe1fa_4\">0905192c46ec682-3f47-4af1-b313-755dbfcfe1fa_4</td><td style=\"text-align:left\" title=\"27.08.2019 11:24\">27.08.2019 11:24</td><td style=\"text-align:left\" title=\"748\">748</td><td style=\"text-align:left\" title=\"12\">12</td><td style=\"text-align:left\" title=\"Coding\">Coding</td><td style=\"text-align:left\" title=\"toolwindow_Project , file.types.usage_JAVA , actions_EditorCopy , actions_EditorCopy\">toolwindow_Project , file.types.usage_JAVA , ac...</td></tr><tr><td style=\"text-align:left\" title=\"1404192054d7ef6-857b-4fd3-9084-333d5eb67b73_27\">1404192054d7ef6-857b-4fd3-9084-333d5eb67b73_27</td><td style=\"text-align:left\" title=\"30.08.2019 10:04\">30.08.2019 10:04</td><td style=\"text-align:left\" title=\"489\">489</td><td style=\"text-align:left\" title=\"8\">8</td><td style=\"text-align:left\" title=\"Coding\">Coding</td><td style=\"text-align:left\" title=\"productivity_SearchEverywhere , searchEverywhere_dialogOpen , actions_GotoClass , actions_EditorPaste , actions_third.party , file.types.usage_JAVA , actions_Find , actions_EditorPaste , actions_com.intellij.find.SearchReplaceComponent$10 , productivity_editing.select.word , productivity_editing.select.word , actions_CallHierarchy , toolwindow_Hierarchy , file.types.usage_JAVA , productivity_editing.select.word , actions_EditorCopy , actions_validation.unmatched_rule , actions_EditorPaste , productivity_navigation.popup.camelprefix , file.types.usage_JAVA , productivity_editing.select.word , actions_Back , productivity_editing.select.word , actions_validation.unmatched_rule , productivity_navigation.popup.camelprefix , productivity_editing.select.word , actions_GotoImplementation , productivity_navigation.goto.implementation , file.types.usage_JAVA , actions_FindInPath , find_FindInPath.FileFilterOn , ui.dialogs_com.intellij.find.impl.FindPopupPanel$2 , actions_EditorPaste , find_FindPopupPanel$ToggleFileFilter , ui.dialogs_com.intellij.find.impl.FindPopupPanel$2 , actions_CallHierarchy , toolwindow_Hierarchy , productivity_editing.select.word , actions_GotoDeclaration , productivity_navigation.goto.declaration , productivity_editing.select.word , actions_validation.unmatched_rule , productivity_navigation.popup.camelprefix , actions_GotoDeclaration , productivity_navigation.goto.declaration , productivity_editing.select.word , productivity_editing.select.word , actions_FindInPath , ui.dialogs_com.intellij.find.impl.FindPopupPanel$2 , ui.dialogs_com.intellij.find.impl.FindPopupPanel$2 , actions_third.party , productivity_editing.select.word , actions_GotoDeclaration , productivity_navigation.goto.declaration , file.types.usage_JAVA , actions_com.intellij.ide.projectView.impl.ProjectViewImpl$ScrollFromSourceAction , toolbar_com.intellij.ide.projectView.impl.ProjectViewImpl$ScrollFromSourceAction , toolbar_com.intellij.ide.projectView.impl.ProjectViewImpl$ScrollFromSourceAction , actions_com.intellij.ide.projectView.impl.ProjectViewImpl$ScrollFromSourceAction , actions_Back , productivity_editing.select.word , productivity_editing.select.word , productivity_editing.select.word\">productivity_SearchEverywhere , searchEverywher...</td></tr><tr><td style=\"text-align:left\" title=\"0204192d92e01a5-cec3-4b1c-9b0c-d75793d8ce90_2\">0204192d92e01a5-cec3-4b1c-9b0c-d75793d8ce90_2</td><td style=\"text-align:left\" title=\"27.08.2019 16:45\">27.08.2019 16:45</td><td style=\"text-align:left\" title=\"512\">512</td><td style=\"text-align:left\" title=\"8\">8</td><td style=\"text-align:left\" title=\"Coding\">Coding</td><td style=\"text-align:left\" title=\"searchEverywhere_dialogOpen , actions_GotoClass , productivity_SearchEverywhere , actions_EditorBackSpace , actions_EditorBackSpace , actions_com.intellij.ui.ScrollingUtil$5 , actions_third.party , file.types.usage_Scala , productivity_SearchEverywhere , actions_GotoClass , searchEverywhere_dialogOpen , actions_EditorBackSpace , file.types.usage_Scala , actions_GotoDeclaration , productivity_navigation.goto.declaration , productivity_navigation.goto.usages , actions_ShowUsages , file.types.usage_Scala\">searchEverywhere_dialogOpen , actions_GotoClass...</td></tr><tr><td style=\"text-align:left\" title=\"0404192fc756d0d-7c0c-493e-918d-ef51209587de_13\">0404192fc756d0d-7c0c-493e-918d-ef51209587de_13</td><td style=\"text-align:left\" title=\"28.08.2019 22:14\">28.08.2019 22:14</td><td style=\"text-align:left\" title=\"636\">636</td><td style=\"text-align:left\" title=\"10\">10</td><td style=\"text-align:left\" title=\"RD\">RD</td><td style=\"text-align:left\" title=\"actions_Run , toolbar_Run , run.configuration.exec_SpringBootApplicationConfigurationType , toolwindow_Messages , toolwindow_Run , actions_Rerun , toolbar_Rerun , run.configuration.exec_SpringBootApplicationConfigurationType , toolwindow_Run\">actions_Run , toolbar_Run , run.configuration.e...</td></tr><tr><td style=\"text-align:left\" title=\"03041910fd6df81-f137-4d92-911a-b6a839e13319_24\">03041910fd6df81-f137-4d92-911a-b6a839e13319_24</td><td style=\"text-align:left\" title=\"28.08.2019 8:01\">28.08.2019 8:01</td><td style=\"text-align:left\" title=\"11\">11</td><td style=\"text-align:left\" title=\"0\">0</td><td style=\"text-align:left\" title=\"Coding\">Coding</td><td style=\"text-align:left\" title=\"file.types.usage_YAML , actions_EditorCopy , actions_EditorCopy\">file.types.usage_YAML , actions_EditorCopy , ac...</td></tr><tr><td style=\"text-align:left\" title=\"05051912837b479-c105-4077-8d4a-cb2c7811a592_13\">05051912837b479-c105-4077-8d4a-cb2c7811a592_13</td><td style=\"text-align:left\" title=\"30.08.2019 0:37\">30.08.2019 0:37</td><td style=\"text-align:left\" title=\"619\">619</td><td style=\"text-align:left\" title=\"10\">10</td><td style=\"text-align:left\" title=\"Ide start, rd\">Ide start, rd</td><td style=\"text-align:left\" title=\"ui.dialogs_com.intellij.openapi.progress.util.ProgressDialog$MyDialogWrapper , ui.dialogs_com.intellij.openapi.progress.util.ProgressDialog$MyDialogWrapper , lifecycle_project.opened , ui.dialogs_com.intellij.openapi.progress.util.ProgressDialog$MyDialogWrapper , toolwindow_Project , lifecycle_ide.start , ui.dialogs_com.intellij.openapi.progress.util.ProgressDialog$MyDialogWrapper , lifecycle_project.opening.finished , actions_com.intellij.ide.ReopenProjectAction , lifecycle_project.closed , lifecycle_project.opened , ui.dialogs_com.intellij.openapi.progress.util.ProgressDialog$MyDialogWrapper , ui.dialogs_com.intellij.openapi.progress.util.ProgressDialog$MyDialogWrapper , lifecycle_project.opening.finished , actions_com.intellij.execution.ExecutorRegistryImpl$ExecutorAction , toolbar_com.intellij.execution.ExecutorRegistryImpl$ExecutorAction , run.configuration.exec_SpringBootApplicationConfigurationType , toolwindow_Debug\">ui.dialogs_com.intellij.openapi.progress.util.P...</td></tr><tr><td style=\"text-align:left\" title=\"020419340f7e4b9-195f-4d29-9e99-9619bf5efbf4_10\">020419340f7e4b9-195f-4d29-9e99-9619bf5efbf4_10</td><td style=\"text-align:left\" title=\"28.08.2019 11:54\">28.08.2019 11:54</td><td style=\"text-align:left\" title=\"221\">221</td><td style=\"text-align:left\" title=\"3\">3</td><td style=\"text-align:left\" title=\"Coding, VCS\">Coding, VCS</td><td style=\"text-align:left\" title=\"lifecycle_project.closed , toolwindow_sbt-shell-toolwindow , actions_OpenFile , ui.dialogs_com.intellij.openapi.fileChooser.ex.FileChooserDialogImpl , ui.dialogs_com.intellij.openapi.fileChooser.ex.FileChooserDialogImpl , ui.dialogs_com.intellij.openapi.ui.messages.MessageDialog , lifecycle_project.opened , ui.dialogs_com.intellij.openapi.progress.util.ProgressDialog$MyDialogWrapper , toolwindow_Project , ui.dialogs_com.intellij.openapi.progress.util.ProgressDialog$MyDialogWrapper , lifecycle_project.opening.finished , actions_FindInPath , ui.dialogs_com.intellij.find.impl.FindPopupPanel$2 , actions_$SelectAll , actions_EditorCopy , actions_com.intellij.ui.ScrollingUtil$11 , ui.dialogs_com.intellij.find.impl.FindPopupPanel$2 , productivity_editing.select.word , actions_EditorDelete , file.types.usage_Python , actions_EditorDelete , productivity_editing.select.word , actions_EditorDelete , productivity_editing.select.word , actions_EditorDelete , actions_$SelectAll , actions_EditorPaste , actions_com.intellij.openapi.vcs.ex.LocalLineStatusTracker$LocalLineStatusMarkerRenderer$RollbackLineStatusRangeAction , toolbar_com.intellij.openapi.vcs.ex.LocalLineStatusTracker$LocalLineStatusMarkerRenderer$RollbackLineStatusRangeAction , productivity_editing.select.word , actions_EditorDelete , file.types.usage_Python , actions_EditorDelete , productivity_editing.select.word , actions_EditorDelete , productivity_editing.select.word , actions_EditorDelete , actions_$SelectAll , actions_EditorCopy , toolwindow_Terminal , terminalShell_local.exec , actions_$SelectAll , actions_EditorCopy , toolwindow_Version_Control , actions_Diff.ShowDiff , actions_ChangesView.Revert , ui.dialogs_com.intellij.openapi.vcs.changes.ui.RollbackChangesDialog , ui.dialogs_com.intellij.openapi.vcs.changes.ui.RollbackChangesDialog , ui.dialogs_com.intellij.openapi.progress.util.ProgressDialog$MyDialogWrapper , ui.dialogs_com.intellij.openapi.progress.util.ProgressDialog$MyDialogWrapper , actions_Diff.ShowDiff , actions_ChangesView.Revert , ui.dialogs_com.intellij.openapi.vcs.changes.ui.RollbackChangesDialog , ui.dialogs_com.intellij.openapi.vcs.changes.ui.RollbackChangesDialog , ui.dialogs_com.intellij.openapi.progress.util.ProgressDialog$MyDialogWrapper , ui.dialogs_com.intellij.openapi.progress.util.ProgressDialog$MyDialogWrapper , actions_Diff.ShowDiff , toolwindow_Terminal\">lifecycle_project.closed , toolwindow_sbt-shell...</td></tr><tr><td style=\"text-align:left\" title=\"01041927d4221e2-5a0e-4fda-998a-f86835cf720a_19\">01041927d4221e2-5a0e-4fda-998a-f86835cf720a_19</td><td style=\"text-align:left\" title=\"30.08.2019 18:27\">30.08.2019 18:27</td><td style=\"text-align:left\" title=\"142\">142</td><td style=\"text-align:left\" title=\"2\">2</td><td style=\"text-align:left\" title=\"Coding, rd\">Coding, rd</td><td style=\"text-align:left\" title=\"actions_CompileDirty , toolbar_CompileDirty , actions_Maven.ReimportProject , build.maven.actions_ReimportProjectAction , actions_GotoDeclaration , productivity_navigation.goto.declaration , actions_GotoDeclaration , productivity_navigation.goto.declaration , file.types.usage_XML , actions_GotoDeclaration , productivity_navigation.goto.declaration , actions_GotoDeclaration , productivity_navigation.goto.declaration , actions_GotoDeclaration , productivity_navigation.goto.declaration , file.types.usage_XML , actions_GotoDeclaration , productivity_navigation.goto.declaration , productivity_navigation.goto.implementation , actions_GotoImplementation , toolbar_RunConfiguration , actions_com.intellij.execution.actions.RunConfigurationsComboBoxAction$SelectConfigAction , actions_com.intellij.execution.ExecutorRegistryImpl$ExecutorAction , toolbar_com.intellij.execution.ExecutorRegistryImpl$ExecutorAction , run.configuration.exec_JUnit , toolwindow_Run , actions_GotoDeclaration , productivity_navigation.goto.declaration , actions_GotoDeclaration , productivity_navigation.goto.declaration , actions_GotoDeclaration , productivity_navigation.goto.declaration , file.types.usage_XML , actions_GotoDeclaration , productivity_navigation.goto.declaration , actions_GotoDeclaration , productivity_navigation.goto.declaration , actions_GotoDeclaration , productivity_navigation.goto.declaration , actions_GotoDeclaration , productivity_navigation.goto.declaration , file.types.usage_XML , actions_GotoDeclaration , productivity_navigation.goto.declaration , file.types.usage_XML , actions_GotoDeclaration , productivity_navigation.goto.declaration , file.types.usage_XML\">actions_CompileDirty , toolbar_CompileDirty , a...</td></tr><tr><td style=\"text-align:left\" title=\"0104192f8ca86bf-02b2-461c-9fcb-e5f6423104c8_13\">0104192f8ca86bf-02b2-461c-9fcb-e5f6423104c8_13</td><td style=\"text-align:left\" title=\"30.08.2019 4:54\">30.08.2019 4:54</td><td style=\"text-align:left\" title=\"52\">52</td><td style=\"text-align:left\" title=\"0\">0</td><td style=\"text-align:left\" title=\"Coding\">Coding</td><td style=\"text-align:left\" title=\"actions_SearchEverywhere , searchEverywhere_dialogOpen , toolbar_SearchEverywhere , searchEverywhere_contributorItemChosen , file.types.usage_HOCON , searchEverywhere_dialogOpen , actions_SearchEverywhere , toolbar_SearchEverywhere , searchEverywhere_contributorItemChosen , file.types.usage_HOCON , actions_SearchEverywhere , searchEverywhere_dialogOpen , toolbar_SearchEverywhere , actions_EditorPaste , searchEverywhere_contributorItemChosen , file.types.usage_XML\">actions_SearchEverywhere , searchEverywhere_dia...</td></tr><tr><td style=\"text-align:left\" title=\"08051928da7dde4-de91-4beb-9e46-6acd6c4a8e8d_12\">08051928da7dde4-de91-4beb-9e46-6acd6c4a8e8d_12</td><td style=\"text-align:left\" title=\"29.08.2019 12:26\">29.08.2019 12:26</td><td style=\"text-align:left\" title=\"782\">782</td><td style=\"text-align:left\" title=\"13\">13</td><td style=\"text-align:left\" title=\"Coding, RD\">Coding, RD</td><td style=\"text-align:left\" title=\"actions_HideActiveWindow , toolwindow_Project , toolbar_HideActiveWindow , actions_EditorEnter , actions_EditorUp , file.types.usage_Cucumber , actions_EditorBackSpace , actions_ReformatCode , actions_EditorBackSpace , actions_EditorCopy , actions_EditorEnter , actions_EditorPaste , productivity_editing.select.word , file.types.usage_Cucumber , actions_EditorUpWithSelection , actions_EditorBackSpace , productivity_editing.select.word , file.types.usage_JAVA , actions_RunClass , run.configuration.exec_JUnit , toolwindow_Run , actions_HideActiveWindow , toolbar_HideActiveWindow , actions_EditorBackSpace\">actions_HideActiveWindow , toolwindow_Project ,...</td></tr><tr><td style=\"text-align:left\" title=\"0104192acac6527-6210-44f0-88ec-d471a1926726_19\">0104192acac6527-6210-44f0-88ec-d471a1926726_19</td><td style=\"text-align:left\" title=\"28.08.2019 22:27\">28.08.2019 22:27</td><td style=\"text-align:left\" title=\"510\">510</td><td style=\"text-align:left\" title=\"8\">8</td><td style=\"text-align:left\" title=\"VCS, Ide close\">VCS, Ide close</td><td style=\"text-align:left\" title=\"actions_Git.Stash , ui.dialogs_git4idea.ui.GitStashDialog , ui.dialogs_git4idea.ui.GitStashDialog , actions_CheckinFiles , ui.dialogs_com.intellij.openapi.vcs.changes.ui.DefaultCommitChangeListDialog , file.types.usage_PLAIN_TEXT , actions_EditorBackSpace , ui.dialogs_com.intellij.openapi.vcs.changes.ui.DefaultCommitChangeListDialog , actions_Stop , toolbar_Stop , toolwindow_third.party , run.configuration.exec_MavenRunConfiguration , toolwindow_Run , toolwindow_third.party , run.configuration.exec_MavenRunConfiguration , toolwindow_Run , toolwindow_third.party , lifecycle_ide.close , lifecycle_project.closed , lifecycle_project.closed\">actions_Git.Stash , ui.dialogs_git4idea.ui.GitS...</td></tr><tr><td style=\"text-align:left\" title=\"0304191dd90cc49-6b9d-4f33-9ee3-62725a910d01_6\">0304191dd90cc49-6b9d-4f33-9ee3-62725a910d01_6</td><td style=\"text-align:left\" title=\"28.08.2019 9:32\">28.08.2019 9:32</td><td style=\"text-align:left\" title=\"37\">37</td><td style=\"text-align:left\" title=\"0\">0</td><td style=\"text-align:left\" title=\"Coding, rd\">Coding, rd</td><td style=\"text-align:left\" title=\"actions_EditorPaste , productivity_editing.select.word , actions_EditorCut , file.types.usage_Python , productivity_editing.select.word , actions_EditorPaste , actions_EditorCut , productivity_editing.select.word , actions_EditorPaste , actions_EditorBackSpace , actions_SaveAll , actions_com.intellij.execution.actions.RunContextAction , run.configuration.exec_PythonConfigurationType , toolwindow_Run , actions_EditorCopy , actions_EditorPaste , actions_SaveAll , actions_com.intellij.execution.actions.RunContextAction , run.configuration.exec_PythonConfigurationType , toolwindow_Run , actions_EditorCopy\">actions_EditorPaste , productivity_editing.sele...</td></tr><tr><td style=\"text-align:left\" title=\"040419224d3103f-de64-4f22-b13b-97358de2a0a9_1\">040419224d3103f-de64-4f22-b13b-97358de2a0a9_1</td><td style=\"text-align:left\" title=\"27.08.2019 21:18\">27.08.2019 21:18</td><td style=\"text-align:left\" title=\"40\">40</td><td style=\"text-align:left\" title=\"0\">0</td><td style=\"text-align:left\" title=\"Coding, RD\">Coding, RD</td><td style=\"text-align:left\" title=\"actions_SearchEverywhere , searchEverywhere_dialogOpen , actions_DoubleShortcut , actions_EditorPaste , searchEverywhere_dialogOpen , actions_SearchEverywhere , actions_DoubleShortcut , actions_com.intellij.openapi.project.DumbAwareAction$1 , searchEverywhere_contributorItemChosen , file.types.usage_JAVA , toolwindow_Debug\">actions_SearchEverywhere , searchEverywhere_dia...</td></tr><tr><td style=\"text-align:left\" title=\"0204191ec36e1dd-8fa7-4eee-87a1-1c20ba65c76c_1\">0204191ec36e1dd-8fa7-4eee-87a1-1c20ba65c76c_1</td><td style=\"text-align:left\" title=\"26.08.2019 7:31\">26.08.2019 7:31</td><td style=\"text-align:left\" title=\"730\">730</td><td style=\"text-align:left\" title=\"12\">12</td><td style=\"text-align:left\" title=\"RD, Coding, vcs\">RD, Coding, vcs</td><td style=\"text-align:left\" title=\"toolwindow_Run_Dashboard , actions_com.intellij.execution.impl.ConsoleViewImpl$ClearThisConsoleAction , toolbar_com.intellij.execution.impl.ConsoleViewImpl$ClearThisConsoleAction , toolbar_com.intellij.execution.impl.ConsoleViewImpl$ClearThisConsoleAction , actions_com.intellij.execution.impl.ConsoleViewImpl$ClearThisConsoleAction , toolbar_com.intellij.execution.impl.ConsoleViewImpl$ClearThisConsoleAction , actions_com.intellij.execution.impl.ConsoleViewImpl$ClearThisConsoleAction , actions_Replace , actions_EditorPaste , actions_FindInPath , ui.dialogs_com.intellij.find.impl.FindPopupPanel$2 , actions_EditorPaste , ui.dialogs_com.intellij.find.impl.FindPopupPanel$2 , file.types.usage_JAVA , ui.dialogs_com.intellij.find.impl.FindPopupPanel$2 , actions_FindInPath , ui.dialogs_com.intellij.find.impl.FindPopupPanel$2 , ui.dialogs_com.intellij.find.impl.FindPopupPanel$2 , actions_GotoDeclaration , file.types.usage_JAVA , ui.dialogs_com.intellij.openapi.vcs.readOnlyHandler.ReadOnlyStatusDialog , ui.dialogs_com.intellij.openapi.progress.util.ProgressDialog$MyDialogWrapper , ui.dialogs_com.intellij.openapi.progress.util.ProgressDialog$MyDialogWrapper , ui.dialogs_com.intellij.openapi.ui.messages.MessageDialog , ui.dialogs_com.intellij.openapi.vcs.readOnlyHandler.ReadOnlyStatusDialog , actions_EditorCut , actions_$Undo , actions_EditorCopy , actions_GotoDeclaration , ui.dialogs_com.intellij.openapi.ui.messages.MessageDialog , actions_GotoDeclaration , ui.dialogs_com.intellij.openapi.ui.messages.MessageDialog , actions_$Undo\">toolwindow_Run_Dashboard , actions_com.intellij...</td></tr><tr><td style=\"text-align:left\" title=\"0405192fd9c2ae8-8caa-4c2c-91c5-138caccb6160_0\">0405192fd9c2ae8-8caa-4c2c-91c5-138caccb6160_0</td><td style=\"text-align:left\" title=\"26.08.2019 6:22\">26.08.2019 6:22</td><td style=\"text-align:left\" title=\"2\">2</td><td style=\"text-align:left\" title=\"0\">0</td><td style=\"text-align:left\" title=\"Ide close\">Ide close</td><td style=\"text-align:left\" title=\"lifecycle_project.closed , lifecycle_ide.close\">lifecycle_project.closed , lifecycle_ide.close</td></tr><tr><td style=\"text-align:left\" title=\"08041934e0c21c6-1fc2-4399-819a-7f079a06df97_18\">08041934e0c21c6-1fc2-4399-819a-7f079a06df97_18</td><td style=\"text-align:left\" title=\"30.08.2019 4:26\">30.08.2019 4:26</td><td style=\"text-align:left\" title=\"253\">253</td><td style=\"text-align:left\" title=\"4\">4</td><td style=\"text-align:left\" title=\"Terminal, VCS\">Terminal, VCS</td><td style=\"text-align:left\" title=\"toolwindow_Terminal , terminalShell_local.exec , toolwindow_Project , file.types.usage_PLAIN_TEXT , file.types.usage_PLAIN_TEXT , toolwindow_Terminal , actions_CheckinProject , ui.dialogs_com.intellij.openapi.vcs.changes.ui.CommitChangeListDialog , ui.dialogs_com.intellij.openapi.ui.messages.MessageDialog , ui.dialogs_com.intellij.openapi.ui.WindowWrapperBuilder$DialogWindowWrapper$MyDialogWrapper , ui.dialogs_com.intellij.openapi.ui.WindowWrapperBuilder$DialogWindowWrapper$MyDialogWrapper , ui.dialogs_com.intellij.openapi.ui.WindowWrapperBuilder$DialogWindowWrapper$MyDialogWrapper , ui.dialogs_com.intellij.openapi.ui.WindowWrapperBuilder$DialogWindowWrapper$MyDialogWrapper , ui.dialogs_com.intellij.openapi.vcs.changes.ui.CommitChangeListDialog , actions_Git.ResolveConflicts , ui.dialogs_com.intellij.openapi.vcs.merge.MultipleFileMergeDialog , ui.dialogs_com.intellij.diff.merge.MergeWindow$MyDialog , ui.dialogs_com.intellij.diff.merge.MergeWindow$MyDialog , ui.dialogs_com.intellij.diff.merge.MergeWindow$MyDialog , ui.dialogs_com.intellij.openapi.ui.messages.MessageDialog , ui.dialogs_com.intellij.diff.merge.MergeWindow$MyDialog , ui.dialogs_com.intellij.diff.merge.MergeWindow$MyDialog , ui.dialogs_com.intellij.openapi.ui.messages.MessageDialog , ui.dialogs_com.intellij.diff.merge.MergeWindow$MyDialog , ui.dialogs_com.intellij.openapi.vcs.merge.MultipleFileMergeDialog , actions_CheckinProject , ui.dialogs_com.intellij.openapi.vcs.changes.ui.CommitChangeListDialog , ui.dialogs_com.intellij.openapi.vcs.changes.ui.CommitChangeListDialog , actions_Vcs.Push , ui.dialogs_com.intellij.dvcs.push.ui.VcsPushDialog , ui.dialogs_com.intellij.dvcs.push.ui.VcsPushDialog\">toolwindow_Terminal , terminalShell_local.exec ...</td></tr><tr><td style=\"text-align:left\" title=\"1104191cde8e0f0-6a33-4ad0-a5a6-b3c829b6f8df_8\">1104191cde8e0f0-6a33-4ad0-a5a6-b3c829b6f8df_8</td><td style=\"text-align:left\" title=\"30.08.2019 8:38\">30.08.2019 8:38</td><td style=\"text-align:left\" title=\"265\">265</td><td style=\"text-align:left\" title=\"4\">4</td><td style=\"text-align:left\" title=\"Ide start, terminal, coding\">Ide start, terminal, coding</td><td style=\"text-align:left\" title=\"event.log_whitelist.loaded , lifecycle_ide.start , ui.dialogs_com.intellij.openapi.progress.util.ProgressDialog$MyDialogWrapper , lifecycle_project.opened , toolwindow_Terminal , terminalShell_local.exec , ui.dialogs_com.intellij.openapi.progress.util.ProgressDialog$MyDialogWrapper , lifecycle_project.opening.finished , actions_com.intellij.ide.ReopenProjectAction , ui.dialogs_com.intellij.openapi.ui.messages.MessageDialog , lifecycle_project.opened , ui.dialogs_com.intellij.openapi.progress.util.ProgressDialog$MyDialogWrapper , ui.dialogs_com.intellij.openapi.progress.util.ProgressDialog$MyDialogWrapper , lifecycle_project.opening.finished , toolwindow_Terminal , terminalShell_local.exec , toolwindow_Terminal , ui.dialogs_com.intellij.openapi.ui.messages.MessageDialog , actions_Progress_Paused , actions_Progress_Resumed , actions_Progress_Paused , actions_Progress_Resumed , toolwindow_Project , ui.dialogs_com.intellij.openapi.ui.messages.MessageDialog , actions_$Delete , ui.dialogs_com.intellij.openapi.ui.messages.MessageDialog , actions_com.intellij.openapi.ui.DialogWrapper$5 , actions_Tree-selectParent , actions_FindInPath , find_FindInPath.FileFilterOn , ui.dialogs_com.intellij.find.impl.FindPopupPanel$2 , toolbar_com.intellij.find.impl.FindPopupPanel$MySelectScopeToggleAction , actions_com.intellij.find.impl.FindPopupPanel$MySelectScopeToggleAction , actions_$SelectAll , actions_EditorBackSpace , actions_com.intellij.ui.ScrollingUtil$11 , actions_com.intellij.ui.ScrollingUtil$12 , actions_com.intellij.ui.ScrollingUtil$11 , actions_com.intellij.ui.ScrollingUtil$12 , actions_com.intellij.ui.ScrollingUtil$11 , actions_com.intellij.ui.ScrollingUtil$12 , actions_com.intellij.ui.ScrollingUtil$11 , actions_com.intellij.ui.ScrollingUtil$12 , actions_com.intellij.ui.ScrollingUtil$11 , js.language.service.starts_VueTypeScriptService , actions_com.intellij.ui.ScrollingUtil$11 , actions_com.intellij.ui.ScrollingUtil$12 , actions_com.intellij.ui.ScrollingUtil$11 , actions_com.intellij.find.impl.FindPopupPanel$MyEnterAction , ui.dialogs_com.intellij.find.impl.FindPopupPanel$2 , file.types.usage_TypeScript , ui.dialogs_com.intellij.find.impl.FindPopupPanel$2 , actions_GotoDeclaration , productivity_navigation.goto.declaration , file.types.usage_Vue.js , actions_GotoDeclaration , productivity_navigation.goto.declaration , lifecycle_project.closed\">event.log_whitelist.loaded , lifecycle_ide.star...</td></tr></table><p>... only showing top 20 rows</p></body></html>"
      ]
     },
     "execution_count": 73,
     "metadata": {},
     "output_type": "execute_result"
    }
   ],
   "source": [
    "train"
   ]
  },
  {
   "cell_type": "code",
   "execution_count": 14,
   "metadata": {},
   "outputs": [
    {
     "data": {
      "text/html": [
       "   <div id=\"Myo6om\"></div>\n",
       "   <script type=\"text/javascript\">\n",
       "       (function() {\n",
       "           var plotSpec={\n",
       "'mapping':{\n",
       "'x':\"x\",\n",
       "'y':\"y\"\n",
       "},\n",
       "'data':{\n",
       "'x':[10.0,20.0,30.0,40.0,50.0,60.0,70.0,80.0,90.0,100.0,110.0,120.0,130.0,140.0,150.0,160.0,170.0,180.0,190.0,200.0,210.0,220.0,230.0,240.0,250.0,260.0,270.0,280.0,290.0,300.0,310.0,320.0,330.0,340.0,350.0,360.0,370.0,380.0,390.0],\n",
       "'y':[0.7428571428571429,0.7142857142857143,0.7714285714285715,0.7428571428571429,0.7714285714285715,0.7428571428571429,0.7428571428571429,0.7428571428571429,0.7428571428571429,0.8,0.8,0.8,0.8,0.8,0.8,0.8,0.8,0.8285714285714286,0.8285714285714286,0.8285714285714286,0.8285714285714286,0.8285714285714286,0.8285714285714286,0.8285714285714286,0.8285714285714286,0.8285714285714286,0.8285714285714286,0.8285714285714286,0.8285714285714286,0.8285714285714286,0.8285714285714286,0.8285714285714286,0.8285714285714286,0.8285714285714286,0.8285714285714286,0.8285714285714286,0.8285714285714286,0.8285714285714286,0.8285714285714286]\n",
       "},\n",
       "'kind':\"plot\",\n",
       "'scales':[],\n",
       "'layers':[{\n",
       "'stat':\"identity\",\n",
       "'mapping':{\n",
       "},\n",
       "'data':{\n",
       "},\n",
       "'position':\"identity\",\n",
       "'geom':\"line\"\n",
       "}]\n",
       "};\n",
       "           var plotContainer = document.getElementById(\"Myo6om\");\n",
       "           window.letsPlotCall(function() {{\n",
       "               LetsPlot.buildPlotFromProcessedSpecs(plotSpec, -1, -1, plotContainer);\n",
       "           }});\n",
       "       })();    \n",
       "   </script>"
      ]
     },
     "execution_count": 14,
     "metadata": {},
     "output_type": "execute_result"
    }
   ],
   "source": [
    "val df = mapOf(\"x\" to x, \"y\" to res )\n",
    "val p = lets_plot(df) {x = \"x\"; y = \"y\"}\n",
    "p + geom_line()"
   ]
  },
  {
   "cell_type": "code",
   "execution_count": 48,
   "metadata": {},
   "outputs": [],
   "source": [
    "var (rec, prec, x) = testPrecisionRecall(\"coding\")"
   ]
  },
  {
   "cell_type": "code",
   "execution_count": 49,
   "metadata": {},
   "outputs": [
    {
     "data": {
      "text/html": [
       "   <div id=\"wcViVr\"></div>\n",
       "   <script type=\"text/javascript\">\n",
       "       (function() {\n",
       "           var plotSpec={\n",
       "'mapping':{\n",
       "'x':\"x\",\n",
       "'y':\"y\"\n",
       "},\n",
       "'data':{\n",
       "'x':[10.0,20.0,30.0,40.0,50.0,60.0,70.0,80.0,90.0,100.0,110.0,120.0,130.0,140.0,150.0,160.0,170.0,180.0,190.0,200.0,210.0,220.0,230.0,240.0,250.0,260.0,270.0,280.0,290.0,300.0,310.0,320.0,330.0,340.0,350.0,360.0,370.0,380.0,390.0,400.0,410.0,420.0,430.0,440.0],\n",
       "'y':[0.7096774193548387,0.7241379310344828,0.8076923076923077,0.7857142857142857,0.88,0.88,0.88,0.9130434782608695,0.9130434782608695,0.875,0.875,0.875,0.875,0.8695652173913043,0.8695652173913043,0.875,0.875,0.875,0.875,0.9130434782608695,0.8695652173913043,0.9090909090909091,0.8636363636363636,0.8636363636363636,0.9047619047619048,0.9047619047619048,0.9047619047619048,0.8636363636363636,0.8636363636363636,0.8636363636363636,0.8636363636363636,0.8636363636363636,0.8636363636363636,0.8636363636363636,0.8636363636363636,0.8636363636363636,0.8636363636363636,0.8636363636363636,0.8636363636363636,0.8636363636363636,0.8636363636363636,0.8636363636363636,0.8636363636363636,0.8636363636363636]\n",
       "},\n",
       "'kind':\"plot\",\n",
       "'scales':[],\n",
       "'layers':[{\n",
       "'stat':\"identity\",\n",
       "'mapping':{\n",
       "},\n",
       "'data':{\n",
       "},\n",
       "'position':\"identity\",\n",
       "'geom':\"line\"\n",
       "}]\n",
       "};\n",
       "           var plotContainer = document.getElementById(\"wcViVr\");\n",
       "           window.letsPlotCall(function() {{\n",
       "               LetsPlot.buildPlotFromProcessedSpecs(plotSpec, -1, -1, plotContainer);\n",
       "           }});\n",
       "       })();    \n",
       "   </script>"
      ]
     },
     "execution_count": 49,
     "metadata": {},
     "output_type": "execute_result"
    }
   ],
   "source": [
    "val df = mapOf(\"x\" to x, \"y\" to prec)\n",
    "val p = lets_plot(df) {x = \"x\"; y = \"y\"}\n",
    "p + geom_line()"
   ]
  },
  {
   "cell_type": "code",
   "execution_count": 50,
   "metadata": {},
   "outputs": [
    {
     "data": {
      "text/html": [
       "   <div id=\"NNHwuX\"></div>\n",
       "   <script type=\"text/javascript\">\n",
       "       (function() {\n",
       "           var plotSpec={\n",
       "'mapping':{\n",
       "'x':\"x\",\n",
       "'y':\"y\"\n",
       "},\n",
       "'data':{\n",
       "'x':[10.0,20.0,30.0,40.0,50.0,60.0,70.0,80.0,90.0,100.0,110.0,120.0,130.0,140.0,150.0,160.0,170.0,180.0,190.0,200.0,210.0,220.0,230.0,240.0,250.0,260.0,270.0,280.0,290.0,300.0,310.0,320.0,330.0,340.0,350.0,360.0,370.0,380.0,390.0,400.0,410.0,420.0,430.0,440.0],\n",
       "'y':[0.9565217391304348,0.9130434782608695,0.9130434782608695,0.9565217391304348,0.9565217391304348,0.9565217391304348,0.9565217391304348,0.9130434782608695,0.9130434782608695,0.9130434782608695,0.9130434782608695,0.9130434782608695,0.9130434782608695,0.8695652173913043,0.8695652173913043,0.9130434782608695,0.9130434782608695,0.9130434782608695,0.9130434782608695,0.9130434782608695,0.8695652173913043,0.8695652173913043,0.8260869565217391,0.8260869565217391,0.8260869565217391,0.8260869565217391,0.8260869565217391,0.8260869565217391,0.8260869565217391,0.8260869565217391,0.8260869565217391,0.8260869565217391,0.8260869565217391,0.8260869565217391,0.8260869565217391,0.8260869565217391,0.8260869565217391,0.8260869565217391,0.8260869565217391,0.8260869565217391,0.8260869565217391,0.8260869565217391,0.8260869565217391,0.8260869565217391]\n",
       "},\n",
       "'kind':\"plot\",\n",
       "'scales':[],\n",
       "'layers':[{\n",
       "'stat':\"identity\",\n",
       "'mapping':{\n",
       "},\n",
       "'data':{\n",
       "},\n",
       "'position':\"identity\",\n",
       "'geom':\"line\"\n",
       "}]\n",
       "};\n",
       "           var plotContainer = document.getElementById(\"NNHwuX\");\n",
       "           window.letsPlotCall(function() {{\n",
       "               LetsPlot.buildPlotFromProcessedSpecs(plotSpec, -1, -1, plotContainer);\n",
       "           }});\n",
       "       })();    \n",
       "   </script>"
      ]
     },
     "execution_count": 50,
     "metadata": {},
     "output_type": "execute_result"
    }
   ],
   "source": [
    "val df = mapOf<String, Any>(\"x\" to x, \"y\" to rec )\n",
    "val p = lets_plot(df) {x = \"x\"; y = \"y\"}\n",
    "p + geom_line()"
   ]
  },
  {
   "cell_type": "code",
   "execution_count": 51,
   "metadata": {},
   "outputs": [],
   "source": [
    "var (rec, prec, x) = testPrecisionRecall(\"ide start\", 0.05)"
   ]
  },
  {
   "cell_type": "code",
   "execution_count": 52,
   "metadata": {},
   "outputs": [
    {
     "data": {
      "text/html": [
       "   <div id=\"4f7PFO\"></div>\n",
       "   <script type=\"text/javascript\">\n",
       "       (function() {\n",
       "           var plotSpec={\n",
       "'mapping':{\n",
       "'x':\"x\",\n",
       "'y':\"y\"\n",
       "},\n",
       "'data':{\n",
       "'x':[10.0,20.0,30.0,40.0,50.0,60.0,70.0,80.0,90.0,100.0,110.0,120.0,130.0,140.0,150.0,160.0,170.0,180.0,190.0,200.0,210.0,220.0,230.0,240.0,250.0,260.0,270.0,280.0,290.0,300.0,310.0,320.0,330.0,340.0,350.0,360.0,370.0,380.0,390.0,400.0,410.0,420.0,430.0,440.0],\n",
       "'y':[0.5625,0.8571428571428571,1.0,1.0,1.0,1.0,1.0,1.0,1.0,1.0,1.0,1.0,1.0,1.0,1.0,1.0,1.0,1.0,1.0,1.0,1.0,1.0,1.0,1.0,1.0,1.0,1.0,1.0,1.0,1.0,1.0,1.0,1.0,1.0,1.0,1.0,1.0,1.0,1.0,1.0,1.0,1.0,1.0,1.0]\n",
       "},\n",
       "'kind':\"plot\",\n",
       "'scales':[],\n",
       "'layers':[{\n",
       "'stat':\"identity\",\n",
       "'mapping':{\n",
       "},\n",
       "'data':{\n",
       "},\n",
       "'position':\"identity\",\n",
       "'geom':\"line\"\n",
       "}]\n",
       "};\n",
       "           var plotContainer = document.getElementById(\"4f7PFO\");\n",
       "           window.letsPlotCall(function() {{\n",
       "               LetsPlot.buildPlotFromProcessedSpecs(plotSpec, -1, -1, plotContainer);\n",
       "           }});\n",
       "       })();    \n",
       "   </script>"
      ]
     },
     "execution_count": 52,
     "metadata": {},
     "output_type": "execute_result"
    }
   ],
   "source": [
    "val df = mapOf(\"x\" to x, \"y\" to prec)\n",
    "val p = lets_plot(df) {x = \"x\"; y = \"y\"}\n",
    "p + geom_line()"
   ]
  },
  {
   "cell_type": "code",
   "execution_count": 53,
   "metadata": {},
   "outputs": [
    {
     "data": {
      "text/html": [
       "   <div id=\"6RbHQM\"></div>\n",
       "   <script type=\"text/javascript\">\n",
       "       (function() {\n",
       "           var plotSpec={\n",
       "'mapping':{\n",
       "'x':\"x\",\n",
       "'y':\"y\"\n",
       "},\n",
       "'data':{\n",
       "'x':[10.0,20.0,30.0,40.0,50.0,60.0,70.0,80.0,90.0,100.0,110.0,120.0,130.0,140.0,150.0,160.0,170.0,180.0,190.0,200.0,210.0,220.0,230.0,240.0,250.0,260.0,270.0,280.0,290.0,300.0,310.0,320.0,330.0,340.0,350.0,360.0,370.0,380.0,390.0,400.0,410.0,420.0,430.0,440.0],\n",
       "'y':[0.9,0.6,0.6,0.5,0.5,0.5,0.5,0.4,0.4,0.5,0.5,0.5,0.5,0.5,0.5,0.5,0.6,0.6,0.6,0.6,0.6,0.6,0.6,0.6,0.6,0.6,0.6,0.6,0.6,0.6,0.6,0.6,0.6,0.6,0.6,0.6,0.6,0.6,0.6,0.6,0.6,0.6,0.6,0.6]\n",
       "},\n",
       "'kind':\"plot\",\n",
       "'scales':[],\n",
       "'layers':[{\n",
       "'stat':\"identity\",\n",
       "'mapping':{\n",
       "},\n",
       "'data':{\n",
       "},\n",
       "'position':\"identity\",\n",
       "'geom':\"line\"\n",
       "}]\n",
       "};\n",
       "           var plotContainer = document.getElementById(\"6RbHQM\");\n",
       "           window.letsPlotCall(function() {{\n",
       "               LetsPlot.buildPlotFromProcessedSpecs(plotSpec, -1, -1, plotContainer);\n",
       "           }});\n",
       "       })();    \n",
       "   </script>"
      ]
     },
     "execution_count": 53,
     "metadata": {},
     "output_type": "execute_result"
    }
   ],
   "source": [
    "val df = mapOf(\"x\" to x, \"y\" to rec)\n",
    "val p = lets_plot(df) {x = \"x\"; y = \"y\"}\n",
    "p + geom_line()"
   ]
  },
  {
   "cell_type": "code",
   "execution_count": 54,
   "metadata": {},
   "outputs": [],
   "source": [
    "var (rec, prec, x) = testPrecisionRecall(\"ide close\", 0.1)"
   ]
  },
  {
   "cell_type": "code",
   "execution_count": 55,
   "metadata": {},
   "outputs": [
    {
     "data": {
      "text/html": [
       "   <div id=\"YzRE02\"></div>\n",
       "   <script type=\"text/javascript\">\n",
       "       (function() {\n",
       "           var plotSpec={\n",
       "'mapping':{\n",
       "'x':\"x\",\n",
       "'y':\"y\"\n",
       "},\n",
       "'data':{\n",
       "'x':[10.0,20.0,30.0,40.0,50.0,60.0,70.0,80.0,90.0,100.0,110.0,120.0,130.0,140.0,150.0,160.0,170.0,180.0,190.0,200.0,210.0,220.0,230.0,240.0,250.0,260.0,270.0,280.0,290.0,300.0,310.0,320.0,330.0,340.0,350.0,360.0,370.0,380.0,390.0,400.0,410.0,420.0,430.0,440.0],\n",
       "'y':[0.5714285714285714,0.5714285714285714,0.42857142857142855,0.2857142857142857,0.2857142857142857,0.2857142857142857,0.42857142857142855,0.42857142857142855,0.42857142857142855,0.2857142857142857,0.2857142857142857,0.2857142857142857,0.2857142857142857,0.2857142857142857,0.2857142857142857,0.2857142857142857,0.2857142857142857,0.2857142857142857,0.2857142857142857,0.2857142857142857,0.2857142857142857,0.2857142857142857,0.2857142857142857,0.2857142857142857,0.2857142857142857,0.2857142857142857,0.2857142857142857,0.2857142857142857,0.2857142857142857,0.2857142857142857,0.2857142857142857,0.2857142857142857,0.2857142857142857,0.2857142857142857,0.2857142857142857,0.2857142857142857,0.2857142857142857,0.2857142857142857,0.2857142857142857,0.2857142857142857,0.2857142857142857,0.2857142857142857,0.2857142857142857,0.2857142857142857]\n",
       "},\n",
       "'kind':\"plot\",\n",
       "'scales':[],\n",
       "'layers':[{\n",
       "'stat':\"identity\",\n",
       "'mapping':{\n",
       "},\n",
       "'data':{\n",
       "},\n",
       "'position':\"identity\",\n",
       "'geom':\"line\"\n",
       "}]\n",
       "};\n",
       "           var plotContainer = document.getElementById(\"YzRE02\");\n",
       "           window.letsPlotCall(function() {{\n",
       "               LetsPlot.buildPlotFromProcessedSpecs(plotSpec, -1, -1, plotContainer);\n",
       "           }});\n",
       "       })();    \n",
       "   </script>"
      ]
     },
     "execution_count": 55,
     "metadata": {},
     "output_type": "execute_result"
    }
   ],
   "source": [
    "val df = mapOf(\"x\" to x, \"y\" to rec)\n",
    "val p = lets_plot(df) {x = \"x\"; y = \"y\"}\n",
    "p + geom_line()"
   ]
  },
  {
   "cell_type": "code",
   "execution_count": 56,
   "metadata": {},
   "outputs": [
    {
     "data": {
      "text/html": [
       "   <div id=\"rftRP3\"></div>\n",
       "   <script type=\"text/javascript\">\n",
       "       (function() {\n",
       "           var plotSpec={\n",
       "'mapping':{\n",
       "'x':\"x\",\n",
       "'y':\"y\"\n",
       "},\n",
       "'data':{\n",
       "'x':[10.0,20.0,30.0,40.0,50.0,60.0,70.0,80.0,90.0,100.0,110.0,120.0,130.0,140.0,150.0,160.0,170.0,180.0,190.0,200.0,210.0,220.0,230.0,240.0,250.0,260.0,270.0,280.0,290.0,300.0,310.0,320.0,330.0,340.0,350.0,360.0,370.0,380.0,390.0,400.0,410.0,420.0,430.0,440.0],\n",
       "'y':[0.36363636363636365,0.4,1.0,1.0,1.0,1.0,1.0,1.0,1.0,1.0,1.0,1.0,1.0,1.0,1.0,1.0,1.0,1.0,1.0,1.0,1.0,1.0,1.0,1.0,1.0,1.0,1.0,1.0,1.0,1.0,1.0,1.0,1.0,1.0,1.0,1.0,1.0,1.0,1.0,1.0,1.0,1.0,1.0,1.0]\n",
       "},\n",
       "'kind':\"plot\",\n",
       "'scales':[],\n",
       "'layers':[{\n",
       "'stat':\"identity\",\n",
       "'mapping':{\n",
       "},\n",
       "'data':{\n",
       "},\n",
       "'position':\"identity\",\n",
       "'geom':\"line\"\n",
       "}]\n",
       "};\n",
       "           var plotContainer = document.getElementById(\"rftRP3\");\n",
       "           window.letsPlotCall(function() {{\n",
       "               LetsPlot.buildPlotFromProcessedSpecs(plotSpec, -1, -1, plotContainer);\n",
       "           }});\n",
       "       })();    \n",
       "   </script>"
      ]
     },
     "execution_count": 56,
     "metadata": {},
     "output_type": "execute_result"
    }
   ],
   "source": [
    "val df = mapOf(\"x\" to x, \"y\" to prec)\n",
    "val p = lets_plot(df) {x = \"x\"; y = \"y\"}\n",
    "p + geom_line()"
   ]
  },
  {
   "cell_type": "code",
   "execution_count": 57,
   "metadata": {},
   "outputs": [],
   "source": [
    "var (rec, prec, x) = testPrecisionRecall(\"vcs\")"
   ]
  },
  {
   "cell_type": "code",
   "execution_count": 58,
   "metadata": {},
   "outputs": [
    {
     "data": {
      "text/html": [
       "   <div id=\"2O8ZWs\"></div>\n",
       "   <script type=\"text/javascript\">\n",
       "       (function() {\n",
       "           var plotSpec={\n",
       "'mapping':{\n",
       "'x':\"x\",\n",
       "'y':\"y\"\n",
       "},\n",
       "'data':{\n",
       "'x':[10.0,20.0,30.0,40.0,50.0,60.0,70.0,80.0,90.0,100.0,110.0,120.0,130.0,140.0,150.0,160.0,170.0,180.0,190.0,200.0,210.0,220.0,230.0,240.0,250.0,260.0,270.0,280.0,290.0,300.0,310.0,320.0,330.0,340.0,350.0,360.0,370.0,380.0,390.0,400.0,410.0,420.0,430.0,440.0],\n",
       "'y':[0.047619047619047616,0.058823529411764705,0.1111111111111111,0.0625,0.09090909090909091,0.1,0.1,0.0,0.1,0.16666666666666666,0.14285714285714285,0.14285714285714285,0.14285714285714285,0.125,0.16666666666666666,0.16666666666666666,0.16666666666666666,0.2,0.2,0.2,0.2,0.2,0.3333333333333333,0.3333333333333333,0.3333333333333333,0.3333333333333333,0.3333333333333333,0.4,0.4,0.4,0.4,0.4,0.4,0.4,0.4,0.4,0.4,0.4,0.4,0.4,0.4,0.4,0.4,0.4]\n",
       "},\n",
       "'kind':\"plot\",\n",
       "'scales':[],\n",
       "'layers':[{\n",
       "'stat':\"identity\",\n",
       "'mapping':{\n",
       "},\n",
       "'data':{\n",
       "},\n",
       "'position':\"identity\",\n",
       "'geom':\"line\"\n",
       "}]\n",
       "};\n",
       "           var plotContainer = document.getElementById(\"2O8ZWs\");\n",
       "           window.letsPlotCall(function() {{\n",
       "               LetsPlot.buildPlotFromProcessedSpecs(plotSpec, -1, -1, plotContainer);\n",
       "           }});\n",
       "       })();    \n",
       "   </script>"
      ]
     },
     "execution_count": 58,
     "metadata": {},
     "output_type": "execute_result"
    }
   ],
   "source": [
    "val df = mapOf(\"x\" to x, \"y\" to prec)\n",
    "val p = lets_plot(df) {x = \"x\"; y = \"y\"}\n",
    "p + geom_line()"
   ]
  },
  {
   "cell_type": "code",
   "execution_count": 59,
   "metadata": {},
   "outputs": [
    {
     "data": {
      "text/html": [
       "   <div id=\"p7fqkq\"></div>\n",
       "   <script type=\"text/javascript\">\n",
       "       (function() {\n",
       "           var plotSpec={\n",
       "'mapping':{\n",
       "'x':\"x\",\n",
       "'y':\"y\"\n",
       "},\n",
       "'data':{\n",
       "'x':[10.0,20.0,30.0,40.0,50.0,60.0,70.0,80.0,90.0,100.0,110.0,120.0,130.0,140.0,150.0,160.0,170.0,180.0,190.0,200.0,210.0,220.0,230.0,240.0,250.0,260.0,270.0,280.0,290.0,300.0,310.0,320.0,330.0,340.0,350.0,360.0,370.0,380.0,390.0,400.0,410.0,420.0,430.0,440.0],\n",
       "'y':[0.5,0.5,1.0,0.5,0.5,0.5,0.5,0.0,0.5,0.5,0.5,0.5,0.5,0.5,0.5,0.5,0.5,0.5,0.5,0.5,0.5,0.5,1.0,1.0,1.0,1.0,1.0,1.0,1.0,1.0,1.0,1.0,1.0,1.0,1.0,1.0,1.0,1.0,1.0,1.0,1.0,1.0,1.0,1.0]\n",
       "},\n",
       "'kind':\"plot\",\n",
       "'scales':[],\n",
       "'layers':[{\n",
       "'stat':\"identity\",\n",
       "'mapping':{\n",
       "},\n",
       "'data':{\n",
       "},\n",
       "'position':\"identity\",\n",
       "'geom':\"line\"\n",
       "}]\n",
       "};\n",
       "           var plotContainer = document.getElementById(\"p7fqkq\");\n",
       "           window.letsPlotCall(function() {{\n",
       "               LetsPlot.buildPlotFromProcessedSpecs(plotSpec, -1, -1, plotContainer);\n",
       "           }});\n",
       "       })();    \n",
       "   </script>"
      ]
     },
     "execution_count": 59,
     "metadata": {},
     "output_type": "execute_result"
    }
   ],
   "source": [
    "val df = mapOf(\"x\" to x, \"y\" to rec)\n",
    "val p = lets_plot(df) {x = \"x\"; y = \"y\"}\n",
    "p + geom_line()"
   ]
  },
  {
   "cell_type": "code",
   "execution_count": 60,
   "metadata": {},
   "outputs": [],
   "source": [
    "var (rec, prec, x) = testPrecisionRecall(\"terminal\")"
   ]
  },
  {
   "cell_type": "code",
   "execution_count": 61,
   "metadata": {},
   "outputs": [
    {
     "data": {
      "text/html": [
       "   <div id=\"sokdWJ\"></div>\n",
       "   <script type=\"text/javascript\">\n",
       "       (function() {\n",
       "           var plotSpec={\n",
       "'mapping':{\n",
       "'x':\"x\",\n",
       "'y':\"y\"\n",
       "},\n",
       "'data':{\n",
       "'x':[10.0,20.0,30.0,40.0,50.0,60.0,70.0,80.0,90.0,100.0,110.0,120.0,130.0,140.0,150.0,160.0,170.0,180.0,190.0,200.0,210.0,220.0,230.0,240.0,250.0,260.0,270.0,280.0,290.0,300.0,310.0,320.0,330.0,340.0,350.0,360.0,370.0,380.0,390.0,400.0,410.0,420.0,430.0,440.0],\n",
       "'y':[0.6666666666666666,0.0,0.0,0.0,0.0,0.0,0.0,0.0,0.0,0.0,0.0,0.0,0.0,0.0,0.0,0.0,0.0,0.0,0.0,0.0,0.0,0.0,0.0,0.0,0.0,0.0,0.0,0.0,0.0,0.0,0.0,0.0,0.0,0.0,0.0,0.0,0.0,0.0,0.0,0.0,0.0,0.0,0.0,0.0]\n",
       "},\n",
       "'kind':\"plot\",\n",
       "'scales':[],\n",
       "'layers':[{\n",
       "'stat':\"identity\",\n",
       "'mapping':{\n",
       "},\n",
       "'data':{\n",
       "},\n",
       "'position':\"identity\",\n",
       "'geom':\"line\"\n",
       "}]\n",
       "};\n",
       "           var plotContainer = document.getElementById(\"sokdWJ\");\n",
       "           window.letsPlotCall(function() {{\n",
       "               LetsPlot.buildPlotFromProcessedSpecs(plotSpec, -1, -1, plotContainer);\n",
       "           }});\n",
       "       })();    \n",
       "   </script>"
      ]
     },
     "execution_count": 61,
     "metadata": {},
     "output_type": "execute_result"
    }
   ],
   "source": [
    "val df = mapOf(\"x\" to x, \"y\" to rec)\n",
    "val p = lets_plot(df) {x = \"x\"; y = \"y\"}\n",
    "p + geom_line()"
   ]
  },
  {
   "cell_type": "code",
   "execution_count": 62,
   "metadata": {},
   "outputs": [
    {
     "data": {
      "text/html": [
       "   <div id=\"7K0eJQ\"></div>\n",
       "   <script type=\"text/javascript\">\n",
       "       (function() {\n",
       "           var plotSpec={\n",
       "'mapping':{\n",
       "'x':\"x\",\n",
       "'y':\"y\"\n",
       "},\n",
       "'data':{\n",
       "'x':[10.0,20.0,30.0,40.0,50.0,60.0,70.0,80.0,90.0,100.0,110.0,120.0,130.0,140.0,150.0,160.0,170.0,180.0,190.0,200.0,210.0,220.0,230.0,240.0,250.0,260.0,270.0,280.0,290.0,300.0,310.0,320.0,330.0,340.0,350.0,360.0,370.0,380.0,390.0,400.0,410.0,420.0,430.0,440.0],\n",
       "'y':[0.13333333333333333,0.0,0.0,0.0,0.0,0.0,0.0,0.0,0.0,0.0,0.0,0.0,0.0,0.0,0.0,0.0,0.0,0.0,0.0,0.0,0.0,0.0,0.0,0.0,0.0,0.0,0.0,0.0,0.0,0.0,0.0,0.0,0.0,0.0,0.0,0.0,0.0,0.0,0.0,0.0,0.0,0.0,0.0,0.0]\n",
       "},\n",
       "'kind':\"plot\",\n",
       "'scales':[],\n",
       "'layers':[{\n",
       "'stat':\"identity\",\n",
       "'mapping':{\n",
       "},\n",
       "'data':{\n",
       "},\n",
       "'position':\"identity\",\n",
       "'geom':\"line\"\n",
       "}]\n",
       "};\n",
       "           var plotContainer = document.getElementById(\"7K0eJQ\");\n",
       "           window.letsPlotCall(function() {{\n",
       "               LetsPlot.buildPlotFromProcessedSpecs(plotSpec, -1, -1, plotContainer);\n",
       "           }});\n",
       "       })();    \n",
       "   </script>"
      ]
     },
     "execution_count": 62,
     "metadata": {},
     "output_type": "execute_result"
    }
   ],
   "source": [
    "val df = mapOf(\"x\" to x, \"y\" to prec)\n",
    "val p = lets_plot(df) {x = \"x\"; y = \"y\"}\n",
    "p + geom_line()"
   ]
  },
  {
   "cell_type": "code",
   "execution_count": 63,
   "metadata": {},
   "outputs": [],
   "source": [
    "var (rec, prec, x) = testPrecisionRecall(\"db\", 0.1)"
   ]
  },
  {
   "cell_type": "code",
   "execution_count": 64,
   "metadata": {},
   "outputs": [
    {
     "data": {
      "text/html": [
       "   <div id=\"byVnyE\"></div>\n",
       "   <script type=\"text/javascript\">\n",
       "       (function() {\n",
       "           var plotSpec={\n",
       "'mapping':{\n",
       "'x':\"x\",\n",
       "'y':\"y\"\n",
       "},\n",
       "'data':{\n",
       "'x':[10.0,20.0,30.0,40.0,50.0,60.0,70.0,80.0,90.0,100.0,110.0,120.0,130.0,140.0,150.0,160.0,170.0,180.0,190.0,200.0,210.0,220.0,230.0,240.0,250.0,260.0,270.0,280.0,290.0,300.0,310.0,320.0,330.0,340.0,350.0,360.0,370.0,380.0,390.0,400.0,410.0,420.0,430.0,440.0],\n",
       "'y':[0.0,0.0,0.0,0.0,0.0,0.0,0.0,0.0,0.0,0.0,0.0,0.0,0.0,0.0,0.0,0.0,0.0,0.0,0.0,0.0,0.0,0.0,0.0,0.0,0.0,0.0,0.0,0.0,0.0,0.0,0.0,0.0,0.0,0.0,0.0,0.0,0.0,0.0,0.0,0.0,0.0,0.0,0.0,0.0]\n",
       "},\n",
       "'kind':\"plot\",\n",
       "'scales':[],\n",
       "'layers':[{\n",
       "'stat':\"identity\",\n",
       "'mapping':{\n",
       "},\n",
       "'data':{\n",
       "},\n",
       "'position':\"identity\",\n",
       "'geom':\"line\"\n",
       "}]\n",
       "};\n",
       "           var plotContainer = document.getElementById(\"byVnyE\");\n",
       "           window.letsPlotCall(function() {{\n",
       "               LetsPlot.buildPlotFromProcessedSpecs(plotSpec, -1, -1, plotContainer);\n",
       "           }});\n",
       "       })();    \n",
       "   </script>"
      ]
     },
     "execution_count": 64,
     "metadata": {},
     "output_type": "execute_result"
    }
   ],
   "source": [
    "val df = mapOf(\"x\" to x, \"y\" to rec)\n",
    "val p = lets_plot(df) {x = \"x\"; y = \"y\"}\n",
    "p + geom_line()"
   ]
  },
  {
   "cell_type": "code",
   "execution_count": 65,
   "metadata": {},
   "outputs": [
    {
     "data": {
      "text/html": [
       "   <div id=\"bZiWY4\"></div>\n",
       "   <script type=\"text/javascript\">\n",
       "       (function() {\n",
       "           var plotSpec={\n",
       "'mapping':{\n",
       "'x':\"x\",\n",
       "'y':\"y\"\n",
       "},\n",
       "'data':{\n",
       "'x':[10.0,20.0,30.0,40.0,50.0,60.0,70.0,80.0,90.0,100.0,110.0,120.0,130.0,140.0,150.0,160.0,170.0,180.0,190.0,200.0,210.0,220.0,230.0,240.0,250.0,260.0,270.0,280.0,290.0,300.0,310.0,320.0,330.0,340.0,350.0,360.0,370.0,380.0,390.0,400.0,410.0,420.0,430.0,440.0],\n",
       "'y':[NaN,NaN,NaN,NaN,NaN,NaN,NaN,NaN,NaN,NaN,NaN,NaN,NaN,NaN,NaN,NaN,NaN,NaN,NaN,NaN,NaN,NaN,NaN,NaN,NaN,NaN,NaN,NaN,NaN,NaN,NaN,NaN,NaN,NaN,NaN,NaN,NaN,NaN,NaN,NaN,NaN,NaN,NaN,NaN]\n",
       "},\n",
       "'kind':\"plot\",\n",
       "'scales':[],\n",
       "'layers':[{\n",
       "'stat':\"identity\",\n",
       "'mapping':{\n",
       "},\n",
       "'data':{\n",
       "},\n",
       "'position':\"identity\",\n",
       "'geom':\"line\"\n",
       "}]\n",
       "};\n",
       "           var plotContainer = document.getElementById(\"bZiWY4\");\n",
       "           window.letsPlotCall(function() {{\n",
       "               LetsPlot.buildPlotFromProcessedSpecs(plotSpec, -1, -1, plotContainer);\n",
       "           }});\n",
       "       })();    \n",
       "   </script>"
      ]
     },
     "execution_count": 65,
     "metadata": {},
     "output_type": "execute_result"
    }
   ],
   "source": [
    "val df = mapOf(\"x\" to x, \"y\" to prec)\n",
    "val p = lets_plot(df) {x = \"x\"; y = \"y\"}\n",
    "p + geom_line()"
   ]
  },
  {
   "cell_type": "code",
   "execution_count": 67,
   "metadata": {},
   "outputs": [],
   "source": [
    "var (rec, prec, x) = testPrecisionRecall(\"rd\", 0.1)"
   ]
  },
  {
   "cell_type": "code",
   "execution_count": 68,
   "metadata": {},
   "outputs": [
    {
     "data": {
      "text/html": [
       "   <div id=\"Rkj8xt\"></div>\n",
       "   <script type=\"text/javascript\">\n",
       "       (function() {\n",
       "           var plotSpec={\n",
       "'mapping':{\n",
       "'x':\"x\",\n",
       "'y':\"y\"\n",
       "},\n",
       "'data':{\n",
       "'x':[10.0,20.0,30.0,40.0,50.0,60.0,70.0,80.0,90.0,100.0,110.0,120.0,130.0,140.0,150.0,160.0,170.0,180.0,190.0,200.0,210.0,220.0,230.0,240.0,250.0,260.0,270.0,280.0,290.0,300.0,310.0,320.0,330.0,340.0,350.0,360.0,370.0,380.0,390.0,400.0,410.0,420.0,430.0,440.0],\n",
       "'y':[0.125,0.125,0.375,0.375,0.375,0.375,0.375,0.375,0.375,0.375,0.375,0.375,0.375,0.375,0.375,0.25,0.25,0.25,0.25,0.25,0.25,0.25,0.375,0.375,0.375,0.375,0.375,0.375,0.375,0.375,0.375,0.375,0.375,0.375,0.375,0.375,0.375,0.375,0.375,0.375,0.375,0.375,0.375,0.375]\n",
       "},\n",
       "'kind':\"plot\",\n",
       "'scales':[],\n",
       "'layers':[{\n",
       "'stat':\"identity\",\n",
       "'mapping':{\n",
       "},\n",
       "'data':{\n",
       "},\n",
       "'position':\"identity\",\n",
       "'geom':\"line\"\n",
       "}]\n",
       "};\n",
       "           var plotContainer = document.getElementById(\"Rkj8xt\");\n",
       "           window.letsPlotCall(function() {{\n",
       "               LetsPlot.buildPlotFromProcessedSpecs(plotSpec, -1, -1, plotContainer);\n",
       "           }});\n",
       "       })();    \n",
       "   </script>"
      ]
     },
     "execution_count": 68,
     "metadata": {},
     "output_type": "execute_result"
    }
   ],
   "source": [
    "val df = mapOf(\"x\" to x, \"y\" to rec)\n",
    "val p = lets_plot(df) {x = \"x\"; y = \"y\"}\n",
    "p + geom_line()"
   ]
  },
  {
   "cell_type": "code",
   "execution_count": 69,
   "metadata": {},
   "outputs": [
    {
     "data": {
      "text/html": [
       "   <div id=\"hvyKP1\"></div>\n",
       "   <script type=\"text/javascript\">\n",
       "       (function() {\n",
       "           var plotSpec={\n",
       "'mapping':{\n",
       "'x':\"x\",\n",
       "'y':\"y\"\n",
       "},\n",
       "'data':{\n",
       "'x':[10.0,20.0,30.0,40.0,50.0,60.0,70.0,80.0,90.0,100.0,110.0,120.0,130.0,140.0,150.0,160.0,170.0,180.0,190.0,200.0,210.0,220.0,230.0,240.0,250.0,260.0,270.0,280.0,290.0,300.0,310.0,320.0,330.0,340.0,350.0,360.0,370.0,380.0,390.0,400.0,410.0,420.0,430.0,440.0],\n",
       "'y':[0.07692307692307693,0.2,0.3333333333333333,0.3,0.375,0.375,0.375,0.42857142857142855,0.42857142857142855,0.5,0.5,0.6,0.6,0.6,0.6,0.5,0.5,0.6666666666666666,0.5,0.5,0.6666666666666666,0.5,0.75,0.6,0.6,0.6,0.6,0.6,0.6,0.6,0.6,0.6,0.6,0.6,0.6,0.6,0.75,0.75,0.75,0.75,0.75,0.75,0.75,0.75]\n",
       "},\n",
       "'kind':\"plot\",\n",
       "'scales':[],\n",
       "'layers':[{\n",
       "'stat':\"identity\",\n",
       "'mapping':{\n",
       "},\n",
       "'data':{\n",
       "},\n",
       "'position':\"identity\",\n",
       "'geom':\"line\"\n",
       "}]\n",
       "};\n",
       "           var plotContainer = document.getElementById(\"hvyKP1\");\n",
       "           window.letsPlotCall(function() {{\n",
       "               LetsPlot.buildPlotFromProcessedSpecs(plotSpec, -1, -1, plotContainer);\n",
       "           }});\n",
       "       })();    \n",
       "   </script>"
      ]
     },
     "execution_count": 69,
     "metadata": {},
     "output_type": "execute_result"
    }
   ],
   "source": [
    "val df = mapOf(\"x\" to x, \"y\" to prec)\n",
    "val p = lets_plot(df) {x = \"x\"; y = \"y\"}\n",
    "p + geom_line()"
   ]
  }
 ],
 "metadata": {
  "kernelspec": {
   "display_name": "Kotlin",
   "language": "kotlin",
   "name": "kotlin"
  },
  "language_info": {
   "codemirror_mode": "text/x-kotlin",
   "file_extension": "kt",
   "name": "kotlin"
  }
 },
 "nbformat": 4,
 "nbformat_minor": 2
}
