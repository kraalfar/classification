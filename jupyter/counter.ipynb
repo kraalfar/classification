{
 "cells": [
  {
   "cell_type": "code",
   "execution_count": 1,
   "metadata": {},
   "outputs": [
    {
     "data": {
      "text/html": [
       "   <div id=\"TyhIaV\"></div>\n",
       "   <script type=\"text/javascript\">\n",
       "       if(!window.letsPlotCallQueue) {\n",
       "           window.letsPlotCallQueue = [];\n",
       "       }; \n",
       "       window.letsPlotCall = function(f) {\n",
       "           window.letsPlotCallQueue.push(f);\n",
       "       };\n",
       "       (function() {\n",
       "           var script = document.createElement(\"script\");\n",
       "           script.type = \"text/javascript\";\n",
       "           script.src = \"https://dl.bintray.com/jetbrains/lets-plot/lets-plot-1.0.0.min.js\";\n",
       "           script.onload = function() {\n",
       "               window.letsPlotCall = function(f) {f();};\n",
       "               window.letsPlotCallQueue.forEach(function(f) {f();});\n",
       "               window.letsPlotCallQueue = [];\n",
       "               \n",
       "               \n",
       "           };\n",
       "           script.onerror = function(event) {\n",
       "               window.letsPlotCall = function(f) {};\n",
       "               window.letsPlotCallQueue = [];\n",
       "               var div = document.createElement(\"div\");\n",
       "               div.style.color = 'darkred';\n",
       "               div.textContent = 'Error loading Lets-Plot JS';\n",
       "               document.getElementById(\"TyhIaV\").appendChild(div);\n",
       "           };\n",
       "           var e = document.getElementById(\"TyhIaV\");\n",
       "           e.appendChild(script);\n",
       "       })();\n",
       "   </script>"
      ]
     },
     "metadata": {},
     "output_type": "display_data"
    }
   ],
   "source": [
    "%use kotlin-statistics, krangl, kravis, lets-plot"
   ]
  },
  {
   "cell_type": "code",
   "execution_count": 2,
   "metadata": {},
   "outputs": [],
   "source": [
    "import kotlin.math.*"
   ]
  },
  {
   "cell_type": "code",
   "execution_count": 3,
   "metadata": {},
   "outputs": [],
   "source": [
    "@file:Repository(\"https://dl.bintray.com/kyonifer/maven\")\n",
    "@file:DependsOn(\"com.kyonifer:koma-core-ejml:0.12\")\n",
    "@file:DependsOn(\"com.kyonifer:koma-plotting:0.12\")"
   ]
  },
  {
   "cell_type": "code",
   "execution_count": 7,
   "metadata": {},
   "outputs": [
    {
     "name": "stderr",
     "output_type": "stream",
     "text": [
      "Unresolved reference: plotly"
     ]
    }
   ],
   "source": [
    "import plotly.kt.*"
   ]
  },
  {
   "cell_type": "code",
   "execution_count": 14,
   "metadata": {},
   "outputs": [],
   "source": [
    "import koma.extensions.*\n",
    "import koma.*"
   ]
  },
  {
   "cell_type": "code",
   "execution_count": null,
   "metadata": {},
   "outputs": [],
   "source": []
  },
  {
   "cell_type": "code",
   "execution_count": 9,
   "metadata": {},
   "outputs": [
    {
     "data": {
      "text/html": [
       "   <div id=\"0erMa3\"></div>\n",
       "   <script type=\"text/javascript\">\n",
       "       if(!window.letsPlotCallQueue) {\n",
       "           window.letsPlotCallQueue = [];\n",
       "       }; \n",
       "       window.letsPlotCall = function(f) {\n",
       "           window.letsPlotCallQueue.push(f);\n",
       "       };\n",
       "       (function() {\n",
       "           var script = document.createElement(\"script\");\n",
       "           script.type = \"text/javascript\";\n",
       "           script.src = \"https://dl.bintray.com/jetbrains/lets-plot/lets-plot-1.0.0.min.js\";\n",
       "           script.onload = function() {\n",
       "               window.letsPlotCall = function(f) {f();};\n",
       "               window.letsPlotCallQueue.forEach(function(f) {f();});\n",
       "               window.letsPlotCallQueue = [];\n",
       "               \n",
       "               \n",
       "           };\n",
       "           script.onerror = function(event) {\n",
       "               window.letsPlotCall = function(f) {};\n",
       "               window.letsPlotCallQueue = [];\n",
       "               var div = document.createElement(\"div\");\n",
       "               div.style.color = 'darkred';\n",
       "               div.textContent = 'Error loading Lets-Plot JS';\n",
       "               document.getElementById(\"0erMa3\").appendChild(div);\n",
       "           };\n",
       "           var e = document.getElementById(\"0erMa3\");\n",
       "           e.appendChild(script);\n",
       "       })();\n",
       "   </script>"
      ]
     },
     "metadata": {},
     "output_type": "display_data"
    }
   ],
   "source": [
    "%use lets-plot"
   ]
  },
  {
   "cell_type": "code",
   "execution_count": 10,
   "metadata": {},
   "outputs": [],
   "source": [
    "fun trainTestSplit(path: String, fraction: Double = 0.8): Pair<DataFrame, DataFrame> {\n",
    "    val df = DataFrame.readTSV(path)\n",
    "    val trainCount: Int = kotlin.math.ceil(fraction * df.nrow).toInt()\n",
    "    val shuffledDf = df.shuffle()\n",
    "    return Pair(shuffledDf.slice(0..trainCount), shuffledDf.slice(trainCount + 1..shuffledDf.nrow))\n",
    "}"
   ]
  },
  {
   "cell_type": "code",
   "execution_count": 15,
   "metadata": {},
   "outputs": [],
   "source": [
    "class BoW(private val limit: Int = 100) {\n",
    "\n",
    "    public var voc: Map<String, Int> = HashMap()\n",
    "\n",
    "    fun initialize(df: DataFrame) {\n",
    "        val events = df[\"events\"]\n",
    "        val eventsMap: MutableMap<String, Int> = HashMap()\n",
    "        for (i in 0 until events.length) {\n",
    "            for (ev in events[i].toString().split(\" , \")) {\n",
    "                if (eventsMap.containsKey(ev)) {\n",
    "                    eventsMap[ev] = eventsMap.getValue(ev) + 1\n",
    "                } else {\n",
    "                    eventsMap[ev] = 1\n",
    "                }\n",
    "            }\n",
    "        }\n",
    "        val realLimit = if (eventsMap.size > limit) limit else eventsMap.size\n",
    "        voc = eventsMap.toSortedMap(compareBy({ eventsMap[it]?.times(-1) }, { it })).keys.toList()\n",
    "            .slice(0 until realLimit).withIndex().toList().associate {it.value to it.index}\n",
    "    }\n",
    "\n",
    "    fun transform(df: DataFrame): Pair<koma.matrix.Matrix<Double>, List<String>> {\n",
    "        val mat = zeros(df.nrow, voc.size + 2)\n",
    "        val label = ArrayList<String>()\n",
    "        for (i in 0 until df.nrow) {\n",
    "            mat[i, voc.size] = df[\"ms\"][i] as Int\n",
    "            mat[i, voc.size + 1] = df[\"events\"][i].toString().split(\" , \").size\n",
    "            label.add(df[\"Category\"][i].toString())\n",
    "            for (event in df[\"events\"][i].toString().split(\" , \")) {\n",
    "                if (voc.containsKey(event)) {\n",
    "                    mat[i, voc[event] as Int] += 1\n",
    "                }\n",
    "            }\n",
    "        }\n",
    "        return Pair(mat, label)\n",
    "    }\n",
    "    \n",
    "    fun transform2(df: DataFrame): koma.matrix.Matrix<Double> {\n",
    "        val mat = zeros(df.nrow, voc.size + 2)\n",
    "        for (i in 0 until df.nrow) {\n",
    "            mat[i, voc.size] = df[\"ms\"][i] as Int\n",
    "            mat[i, voc.size + 1] = df[\"events\"][i].toString().split(\" , \").size\n",
    "            for (event in df[\"events\"][i].toString().split(\" , \")) {\n",
    "                if (voc.containsKey(event)) {\n",
    "                    mat[i, voc[event] as Int] += 1\n",
    "                }\n",
    "            }\n",
    "        }\n",
    "        return mat\n",
    "    }\n",
    "\n",
    "}"
   ]
  },
  {
   "cell_type": "code",
   "execution_count": 16,
   "metadata": {},
   "outputs": [],
   "source": [
    "class NaiveBayesCounter(private val alpha: Double = 1e-5, val p: Double = 0.05) {\n",
    "\n",
    "    private var classProb: MutableMap<String, Double> = HashMap()\n",
    "    public var classes: MutableList<String> = ArrayList()\n",
    "    private var probs: MutableMap<String, koma.matrix.Matrix<Double>> = HashMap()\n",
    "\n",
    "\n",
    "    fun fit(X: koma.matrix.Matrix<Double>, y: List<String>) {\n",
    "        for (i in y.indices) {\n",
    "            for (cls in y[i].toLowerCase().split(\", \")) {\n",
    "                if (!classProb.containsKey(cls)) {\n",
    "                    classProb[cls] = 1.0 / y.size\n",
    "                    classes.add(cls)\n",
    "                    probs[cls] = ones(X.shape()[1] - 2, 11) * alpha\n",
    "                } else {\n",
    "                    classProb[cls] = classProb.getValue(cls) + 1.0 / y.size\n",
    "                }\n",
    "                for (j in 0 until X.shape()[1] - 2) {\n",
    "                    val ind:Int = if (X[i, j] < 10.0) X[i, j].toInt() else 10\n",
    "                    probs.getOrDefault(cls, zeros(0, 0))[j, ind] += 1\n",
    "                }\n",
    "            }\n",
    "\n",
    "        }\n",
    "        for (cls in classes) {\n",
    "            var probsMatrix = probs.getOrDefault(cls, zeros(0, 0))\n",
    "            val den = probsMatrix.getRow(0).elementSum().toInt()\n",
    "            probsMatrix /= den\n",
    "            probs[cls] = probsMatrix\n",
    "        }\n",
    "    }\n",
    "\n",
    "\n",
    "\n",
    "\n",
    "    fun logProb(X: koma.matrix.Matrix<Double>): koma.matrix.Matrix<Double> {\n",
    "        var ans = zeros(X.shape()[0], classes.size)\n",
    "        for (i in 0 until X.shape()[0]) {\n",
    "            for (j in classes.indices) {\n",
    "                val cls = classes[j]\n",
    "                ans[i, j] = kotlin.math.ln(classProb.getOrDefault(cls, alpha))\n",
    "                for (k in 0 until X.shape()[1] - 2) {\n",
    "                    val ind = if (X[i, k] < 10.0) X[i, k].toInt() else 10\n",
    "                    ans[i, j] += kotlin.math.ln(probs.getOrDefault(cls, zeros(0, 0))[k, ind])\n",
    "                }\n",
    "            }\n",
    "        }\n",
    "        val p = fill(ans.shape()[0], ans.shape()[1]) {i, j -> 1 / (exp(ans[i, 0..ans.shape()[1]-1] - ans[i, j]).mean() * ans.shape()[1]) }\n",
    "        return p\n",
    "    }\n",
    "\n",
    "    fun predict(X: koma.matrix.Matrix<Double>): ArrayList<ArrayList<String>> {\n",
    "        val probs = logProb(X)\n",
    "        val ans = ArrayList<ArrayList<String>>()\n",
    "        \n",
    "        for (i in 0 until probs.shape()[0]) {\n",
    "            ans.add(ArrayList<String>())\n",
    "        }\n",
    "        probs.forEachIndexed { row, col, ele -> if (ele > p) {ans[row].add(classes[col])}}\n",
    "        return ans\n",
    "    }\n",
    "}"
   ]
  },
  {
   "cell_type": "code",
   "execution_count": 17,
   "metadata": {},
   "outputs": [],
   "source": [
    "val (train, test) = trainTestSplit(\"../data/test/test_data.tsv\")"
   ]
  },
  {
   "cell_type": "code",
   "execution_count": 18,
   "metadata": {},
   "outputs": [],
   "source": [
    "// val (train, test) = trainTestSplit(\"../data/sh_sessions_multi.tsv\")"
   ]
  },
  {
   "cell_type": "code",
   "execution_count": 19,
   "metadata": {},
   "outputs": [],
   "source": [
    "fun testPrecisionRecall(cat: String=\"coding\", p: Double=0.05): Triple<ArrayList<Double>, ArrayList<Double>, ArrayList<Int>> {\n",
    "    val rec = ArrayList<Double>()\n",
    "    val prec = ArrayList<Double>()\n",
    "    val x = ArrayList<Int>()\n",
    "    for (i in 10 until 450 step 10) {\n",
    "        val bow = BoW(i)\n",
    "        bow.initialize(train)\n",
    "\n",
    "        val (X_bow, y_bow) = bow.transform(train)\n",
    "        val (X_bow_test, y_bow_test) = bow.transform(test)\n",
    "        val classificator = NaiveBayesCounter(1e-4, p)\n",
    "        classificator.fit(X_bow, y_bow)\n",
    "\n",
    "        val ans = classificator.predict(X_bow_test)\n",
    "        var TP = 0.0\n",
    "        var FN = 0.0\n",
    "        var FP = 0.0\n",
    "\n",
    "        for(i in y_bow_test.indices) {\n",
    "\n",
    "            if (y_bow_test[i].toLowerCase().contains(cat) && ans[i].joinToString(\", \").contains(cat)) {\n",
    "                TP += 1\n",
    "            }\n",
    "\n",
    "            if (y_bow_test[i].toLowerCase().contains(cat) && !ans[i].joinToString(\", \").contains(cat)) {\n",
    "                FN += 1\n",
    "            }\n",
    "\n",
    "            if (!y_bow_test[i].toLowerCase().contains(cat) && ans[i].joinToString(\", \").contains(cat)) {\n",
    "                FP += 1\n",
    "            }\n",
    "        }\n",
    "        rec.add(TP / (TP + FN))\n",
    "        prec.add(TP / (TP + FP))\n",
    "\n",
    "\n",
    "        x.add(i)\n",
    "    }\n",
    "    return Triple(rec, prec, x)\n",
    "}"
   ]
  },
  {
   "cell_type": "code",
   "execution_count": 20,
   "metadata": {},
   "outputs": [],
   "source": [
    "val res = ArrayList<Double>()\n",
    "val x = ArrayList<Int>()"
   ]
  },
  {
   "cell_type": "code",
   "execution_count": 21,
   "metadata": {},
   "outputs": [],
   "source": [
    "val bow = BoW(400)\n",
    "bow.initialize(train)\n",
    "\n",
    "val (X_bow, y_bow) = bow.transform(train)\n",
    "val (X_bow_test, y_bow_test) = bow.transform(test)\n",
    "val classificator = NaiveBayesCounter(1e-4, p=0.1)\n",
    "classificator.fit(X_bow, y_bow)"
   ]
  },
  {
   "cell_type": "code",
   "execution_count": 22,
   "metadata": {},
   "outputs": [
    {
     "data": {
      "text/plain": [
       "[reading, vcs, coding, notifications, rdb, ide_close, ide_start, terminal, database, settings]"
      ]
     },
     "execution_count": 22,
     "metadata": {},
     "output_type": "execute_result"
    }
   ],
   "source": [
    "classificator.classes"
   ]
  },
  {
   "cell_type": "code",
   "execution_count": 23,
   "metadata": {},
   "outputs": [],
   "source": [
    "val ans = classificator.predict(X_bow_test)"
   ]
  },
  {
   "cell_type": "code",
   "execution_count": 24,
   "metadata": {},
   "outputs": [],
   "source": [
    "fun accInd(classes: MutableList<String>, cor:List<String>, pred: ArrayList<ArrayList<String>>): Pair<HashMap<String, ArrayList<Int>>, HashMap<String, ArrayList<Int>>> {\n",
    "    var rec = HashMap<String, ArrayList<Int>>()\n",
    "    var prec = HashMap<String, ArrayList<Int>>()\n",
    "    for (cls in classes) {\n",
    "        rec[cls] = ArrayList<Int>()\n",
    "        prec[cls] = ArrayList<Int>()\n",
    "        for (i in cor.indices) {\n",
    "            if (cor[i].toLowerCase().contains(cls) && (cls !in pred[i]))\n",
    "                rec.getOrDefault(cls, ArrayList()).add(i)\n",
    "            if (!cor[i].toLowerCase().contains(cls) && (cls in pred[i]))\n",
    "                prec.getOrDefault(cls, ArrayList()).add(i)\n",
    "        }\n",
    "    }\n",
    "    return Pair(rec, prec)\n",
    "}"
   ]
  },
  {
   "cell_type": "code",
   "execution_count": 187,
   "metadata": {},
   "outputs": [
    {
     "data": {
      "text/plain": [
       "[run_build_debug, coding, reading, ide_start, vcs, notifications, settings, terminal, ide_close, database]"
      ]
     },
     "execution_count": 187,
     "metadata": {},
     "output_type": "execute_result"
    }
   ],
   "source": [
    "classificator.classes"
   ]
  },
  {
   "cell_type": "code",
   "execution_count": 159,
   "metadata": {},
   "outputs": [],
   "source": [
    "val (rec, prec) = accInd(classificator.classes, y_bow_test, ans)"
   ]
  },
  {
   "cell_type": "code",
   "execution_count": 160,
   "metadata": {},
   "outputs": [],
   "source": [
    "var rows = test.row(prec[\"coding\"]!!.get(0)).values"
   ]
  },
  {
   "cell_type": "code",
   "execution_count": 161,
   "metadata": {},
   "outputs": [],
   "source": [
    "for (i in prec[\"coding\"]!!.indices)\n",
    "    if (i!=0)\n",
    "        rows = rows + test.row(prec[\"coding\"]!!.get(i)).values\n",
    "\n",
    "for (i in rec[\"coding\"]!!.indices)\n",
    "    rows = rows + test.row(rec[\"coding\"]!!.get(i)).values"
   ]
  },
  {
   "cell_type": "code",
   "execution_count": 162,
   "metadata": {},
   "outputs": [],
   "source": [
    "val recall_coding = dataFrameOf(\"session\", \"ms\", \"Category\", \"events\") (rows)"
   ]
  },
  {
   "cell_type": "code",
   "execution_count": 163,
   "metadata": {},
   "outputs": [],
   "source": [
    "val pred = ArrayList<String>()"
   ]
  },
  {
   "cell_type": "code",
   "execution_count": 164,
   "metadata": {},
   "outputs": [],
   "source": [
    "for (i in prec[\"coding\"]!!.indices)\n",
    "    pred.add(ans[prec[\"coding\"]!!.get(i)].joinToString())\n",
    "\n",
    "for (i in rec[\"coding\"]!!.indices)\n",
    "    pred.add(ans[rec[\"coding\"]!!.get(i)].joinToString())"
   ]
  },
  {
   "cell_type": "code",
   "execution_count": 165,
   "metadata": {},
   "outputs": [],
   "source": [
    "val res = recall_coding.addColumn(\"pred\") {pred}"
   ]
  },
  {
   "cell_type": "code",
   "execution_count": 166,
   "metadata": {},
   "outputs": [
    {
     "data": {
      "text/html": [
       "<html><body><table><tr><th style=\"text-align:left\">session</th><th style=\"text-align:left\">ms</th><th style=\"text-align:left\">Category</th><th style=\"text-align:left\">events</th><th style=\"text-align:left\">pred</th></tr><tr><td style=\"text-align:left\" title=\"210419257eb7736-6b78-47dc-b51e-068eafe5d64f_0\">210419257eb7736-6b78-47dc-b51e-068eafe5d64f_0</td><td style=\"text-align:left\" title=\"34074\">34074</td><td style=\"text-align:left\" title=\"reading\">reading</td><td style=\"text-align:left\" title=\"file.types.usage_open_JAVA , file.types.usage_open_JAVA , lifecycle_project.closed_project.closed\">file.types.usage_open_JAVA , file.types.usage_o...</td><td style=\"text-align:left\" title=\"coding, reading, notifications\">coding, reading, notifications</td></tr><tr><td style=\"text-align:left\" title=\"2711192b5318805-2ea5-4bcf-9e4d-e051dfae72e7_47\">2711192b5318805-2ea5-4bcf-9e4d-e051dfae72e7_47</td><td style=\"text-align:left\" title=\"22050\">22050</td><td style=\"text-align:left\" title=\"Reading\">Reading</td><td style=\"text-align:left\" title=\"actions_action.invoked_FindInPath , find_search.session.started_FindInPath , ui.dialogs_show_com.intellij.find.impl.FindPopupPanel$2 , actions_action.invoked_$SelectAll , actions_action.invoked_EditorBackSpace , actions_action.invoked_third.party , ui.dialogs_close_com.intellij.find.impl.FindPopupPanel$2\">actions_action.invoked_FindInPath , find_search...</td><td style=\"text-align:left\" title=\"coding\">coding</td></tr><tr><td style=\"text-align:left\" title=\"3012191508d29a0-5595-492b-bd26-c9782c642489_23\">3012191508d29a0-5595-492b-bd26-c9782c642489_23</td><td style=\"text-align:left\" title=\"23264\">23264</td><td style=\"text-align:left\" title=\"run_build_debug\">run_build_debug</td><td style=\"text-align:left\" title=\"actions_action.invoked_Resume , ui.event_BreadcrumbShowTooltip_BreadcrumbShowTooltip , gutter.icon.click_clicked_db_verified_breakpoint , actions_action.invoked_com.intellij.xdebugger.impl.breakpoints.RemoveBreakpointGutterIconAction , ui.event_BreadcrumbShowTooltip_BreadcrumbShowTooltip , actions_action.invoked_Resume , ui.event_BreadcrumbShowTooltip_BreadcrumbShowTooltip\">actions_action.invoked_Resume , ui.event_Breadc...</td><td style=\"text-align:left\" title=\"run_build_debug, coding\">run_build_debug, coding</td></tr><tr><td style=\"text-align:left\" title=\"301219181803164-a2d5-4101-9b92-eee082e839a4_94\">301219181803164-a2d5-4101-9b92-eee082e839a4_94</td><td style=\"text-align:left\" title=\"27444\">27444</td><td style=\"text-align:left\" title=\"reading\">reading</td><td style=\"text-align:left\" title=\"productivity_feature.used_editing.select.word , actions_action.invoked_EditorCopy , actions_action.invoked_EditorBackSpace , actions_action.invoked_Replace , actions_action.invoked_NextOccurence , toolbar_clicked_NextOccurence , actions_action.invoked_NextOccurence , toolbar_clicked_NextOccurence , actions_action.invoked_NextOccurence , toolbar_clicked_NextOccurence , actions_action.invoked_NextOccurence , toolbar_clicked_NextOccurence , actions_action.invoked_NextOccurence , toolbar_clicked_NextOccurence , actions_action.invoked_NextOccurence , toolbar_clicked_NextOccurence\">productivity_feature.used_editing.select.word ,...</td><td style=\"text-align:left\" title=\"coding\">coding</td></tr><tr><td style=\"text-align:left\" title=\"17022025dd24206-c7a5-4c74-84f2-bca97f1ee54b_19\">17022025dd24206-c7a5-4c74-84f2-bca97f1ee54b_19</td><td style=\"text-align:left\" title=\"51550\">51550</td><td style=\"text-align:left\" title=\"reading, run_build_debug\">reading, run_build_debug</td><td style=\"text-align:left\" title=\"actions_action.invoked_ReplaceInPath , find_search.session.started_FindInPath , ui.dialogs_show_com.intellij.find.impl.FindPopupPanel$2 , actions_action.invoked_EditorPaste , actions_action.invoked_com.intellij.find.impl.FindPopupPanel$MyEnterAction , ui.dialogs_close_com.intellij.find.impl.FindPopupPanel$2 , file.types.usage_edit_HTML , actions_action.invoked_EditorChooseLookupItem , productivity_feature.used_editing.completion.basic , completion_finished_finished , actions_action.invoked_SaveAll , actions_action.invoked_Compile , build_started_started , build_finished_finished\">actions_action.invoked_ReplaceInPath , find_sea...</td><td style=\"text-align:left\" title=\"coding\">coding</td></tr><tr><td style=\"text-align:left\" title=\"18021914fb66f2e-7401-47d9-ba3d-82355f4fb4ff_5\">18021914fb66f2e-7401-47d9-ba3d-82355f4fb4ff_5</td><td style=\"text-align:left\" title=\"9638\">9638</td><td style=\"text-align:left\" title=\"coding\">coding</td><td style=\"text-align:left\" title=\"actions_action.invoked_Replace , find_search.session.started_FindInFile , actions_action.invoked_PreviousOccurence , actions_action.invoked_EditorBackSpace , actions_action.invoked_com.intellij.find.SearchReplaceComponent$11\">actions_action.invoked_Replace , find_search.se...</td><td style=\"text-align:left\" title=\"reading\">reading</td></tr><tr><td style=\"text-align:left\" title=\"0303201c3f6c427-233f-4f51-b0d2-7705e5ce1c0c_20\">0303201c3f6c427-233f-4f51-b0d2-7705e5ce1c0c_20</td><td style=\"text-align:left\" title=\"39939\">39939</td><td style=\"text-align:left\" title=\"coding, run_build_debug\">coding, run_build_debug</td><td style=\"text-align:left\" title=\"completion_finished_finished , completion_finished_finished , productivity_feature.used_editing.completion.variable.name , completion_finished_finished , completion_finished_finished , completion_finished_finished , productivity_feature.used_editing.completion.variable.name , completion_finished_finished , actions_action.invoked_EditorChooseLookupItem , productivity_feature.used_editing.completion.basic , completion_finished_finished , file.types.usage_edit_JAVA , completion_finished_finished , completion_finished_finished , actions_action.invoked_EditorEnter , actions_action.invoked_EditorChooseLookupItem , productivity_feature.used_editing.completion.basic , live.templates_started_sout , completion_finished_finished , completion_finished_finished , completion_finished_finished , actions_action.invoked_EditorEnter , actions_action.invoked_EditorBackSpace , completion_finished_finished , completion_finished_finished , actions_action.invoked_EditorBackSpace , actions_action.invoked_EditorChooseLookupItem , productivity_feature.used_editing.completion.basic , completion_finished_finished , actions_action.invoked_RunClass , run.configuration.exec_started_started , build_started_started , build_finished_finished , run.configuration.exec_ui.shown_ui.shown , toolwindow_activated_Run , actions_action.invoked_com.intellij.execution.impl.ConsoleViewImpl$EnterHandler , run.configuration.exec_finished_finished , actions_action.invoked_HideActiveWindow , toolbar_clicked_HideActiveWindow\">completion_finished_finished , completion_finis...</td><td style=\"text-align:left\" title=\"run_build_debug\">run_build_debug</td></tr><tr><td style=\"text-align:left\" title=\"07022029dbfaf58-a978-4537-a29a-d1fd085c301a_11\">07022029dbfaf58-a978-4537-a29a-d1fd085c301a_11</td><td style=\"text-align:left\" title=\"19857\">19857</td><td style=\"text-align:left\" title=\"Coding, run_build_debug\">Coding, run_build_debug</td><td style=\"text-align:left\" title=\"file.types.usage_edit_JAVA , actions_action.invoked_EditorBackSpace , actions_action.invoked_EditorBackSpace , actions_action.invoked_$Undo , productivity_feature.used_editing.select.word , completion_finished_finished , completion_finished_finished , completion_finished_finished , completion_finished_finished , actions_action.invoked_com.intellij.execution.lineMarker.ExecutorAction , run.configuration.exec_started_started , build_started_started , build_finished_finished , run.configuration.exec_ui.shown_ui.shown , toolwindow_activated_Run , run.configuration.exec_finished_finished , toolwindow_activated_Terminal\">file.types.usage_edit_JAVA , actions_action.inv...</td><td style=\"text-align:left\" title=\"run_build_debug\">run_build_debug</td></tr><tr><td style=\"text-align:left\" title=\"1607191e9e88921-2f6b-4f73-8d24-721dc1efd7e4_41\">1607191e9e88921-2f6b-4f73-8d24-721dc1efd7e4_41</td><td style=\"text-align:left\" title=\"84248\">84248</td><td style=\"text-align:left\" title=\"Coding, run_build_debug\">Coding, run_build_debug</td><td style=\"text-align:left\" title=\"file.types.usage_edit_JAVA , productivity_feature.used_editing.completion.basic , completion_finished_finished , actions_action.invoked_SaveAll , actions_action.invoked_$SelectAll , actions_action.invoked_Run , toolbar_clicked_Run , run.configuration.exec_started_started , build_started_started , build_finished_finished , run.configuration.exec_ui.shown_ui.shown , toolwindow_activated_Run , run.configuration.exec_finished_finished , ui.event_BreadcrumbShowTooltip_BreadcrumbShowTooltip , actions_action.invoked_EditorEnter , actions_action.invoked_EditorCopy , actions_action.invoked_EditorPaste , actions_action.invoked_EditorBackSpace , actions_action.invoked_EditorBackSpace , actions_action.invoked_EditorBackSpace , actions_action.invoked_EditorBackSpace , file.types.usage_edit_JAVA , actions_action.invoked_EditorBackSpace , actions_action.invoked_SaveAll , actions_action.invoked_Run , toolbar_clicked_Run , run.configuration.exec_started_started , build_started_started , build_finished_finished , run.configuration.exec_ui.shown_ui.shown , toolwindow_activated_Run , run.configuration.exec_finished_finished , toolwindow_activated_Run\">file.types.usage_edit_JAVA , productivity_featu...</td><td style=\"text-align:left\" title=\"run_build_debug\">run_build_debug</td></tr><tr><td style=\"text-align:left\" title=\"1106192faddd4b1-126e-4113-bf5d-ea7c76c50819_83\">1106192faddd4b1-126e-4113-bf5d-ea7c76c50819_83</td><td style=\"text-align:left\" title=\"44639\">44639</td><td style=\"text-align:left\" title=\"coding, run_build_debug\">coding, run_build_debug</td><td style=\"text-align:left\" title=\"file.types.usage_open_JAVA , actions_action.invoked_Back , toolwindow_activated_Run , actions_action.invoked_com.intellij.execution.lineMarker.ExecutorAction , run.configuration.exec_started_started , run.configuration.exec_ui.shown_ui.shown , toolwindow_activated_Run , ui.event_BreadcrumbShowTooltip_BreadcrumbShowTooltip , run.configuration.exec_finished_finished\">file.types.usage_open_JAVA , actions_action.inv...</td><td style=\"text-align:left\" title=\"run_build_debug\">run_build_debug</td></tr></table></body></html>"
      ]
     },
     "execution_count": 166,
     "metadata": {},
     "output_type": "execute_result"
    }
   ],
   "source": [
    "res"
   ]
  },
  {
   "cell_type": "code",
   "execution_count": 12,
   "metadata": {
    "collapsed": true
   },
   "outputs": [
    {
     "name": "stderr",
     "output_type": "stream",
     "text": [
      "Variable 'TP' is never used\n",
      "Variable 'FN' is never used\n",
      "Variable 'FP' is never used\n",
      "Name shadowed: i\n",
      "None of the following functions can be called with the arguments supplied: \n",
      "public operator fun CharSequence.contains(char: Char, ignoreCase: Boolean = ...): Boolean defined in kotlin.text\n",
      "public operator fun CharSequence.contains(other: CharSequence, ignoreCase: Boolean = ...): Boolean defined in kotlin.text\n",
      "public inline operator fun CharSequence.contains(regex: Regex): Boolean defined in kotlin.text"
     ]
    }
   ],
   "source": [
    "for (i in 10 until 400 step 10) {\n",
    "    val bow = BoW(i)\n",
    "    bow.initialize(train)\n",
    "\n",
    "    val (X_bow, y_bow) = bow.transform(train)\n",
    "    val (X_bow_test, y_bow_test) = bow.transform(test)\n",
    "    val classificator = NaiveBayesCounter(1e-4)\n",
    "    classificator.fit(X_bow, y_bow)\n",
    "\n",
    "    val ans = classificator.predict(X_bow_test)\n",
    "    var tot = 0.0\n",
    "    var TP = 0.0\n",
    "    var FN = 0.0\n",
    "    var FP = 0.0\n",
    "\n",
    "    for(i in y_bow_test.indices) {\n",
    "        if (y_bow_test[i].toLowerCase().contains(ans[i])) {\n",
    "            tot += 1\n",
    "        }\n",
    "    }\n",
    "    res.add(tot / y_bow_test.size)\n",
    "    x.add(i)\n",
    "}"
   ]
  },
  {
   "cell_type": "code",
   "execution_count": 34,
   "metadata": {},
   "outputs": [],
   "source": [
    "var (rec, prec, x) = testPrecisionRecall(\"coding\")"
   ]
  },
  {
   "cell_type": "code",
   "execution_count": 72,
   "metadata": {
    "scrolled": false
   },
   "outputs": [
    {
     "data": {
      "text/html": [
       "   <div id=\"5bYZWg\"></div>\n",
       "   <script type=\"text/javascript\">\n",
       "       (function() {\n",
       "           var plotSpec={\n",
       "'mapping':{\n",
       "'x':\"x\",\n",
       "'y':\"y\"\n",
       "},\n",
       "'data':{\n",
       "'x':[10.0,20.0,30.0,40.0,50.0,60.0,70.0,80.0,90.0,100.0,110.0,120.0,130.0,140.0,150.0,160.0,170.0,180.0,190.0,200.0,210.0,220.0,230.0,240.0,250.0,260.0,270.0,280.0,290.0,300.0,310.0,320.0,330.0,340.0,350.0,360.0,370.0,380.0,390.0,400.0,410.0,420.0,430.0,440.0],\n",
       "'y':[0.7625,0.9615384615384616,0.92,0.9230769230769231,0.9433962264150944,0.9454545454545454,0.9454545454545454,0.9285714285714286,0.9298245614035088,0.9285714285714286,0.9272727272727272,0.9433962264150944,0.9615384615384616,0.9629629629629629,0.9807692307692307,0.9807692307692307,0.9629629629629629,0.9298245614035088,0.9464285714285714,0.9298245614035088,0.9285714285714286,0.9107142857142857,0.9107142857142857,0.9107142857142857,0.9107142857142857,0.9107142857142857,0.9272727272727272,0.9272727272727272,0.9107142857142857,0.9107142857142857,0.8947368421052632,0.8947368421052632,0.9107142857142857,0.9272727272727272,0.9272727272727272,0.9272727272727272,0.9272727272727272,0.9259259259259259,0.8928571428571429,0.8928571428571429,0.8928571428571429,0.8928571428571429,0.8928571428571429,0.8928571428571429]\n",
       "},\n",
       "'kind':\"plot\",\n",
       "'scales':[],\n",
       "'layers':[{\n",
       "'stat':\"identity\",\n",
       "'mapping':{\n",
       "},\n",
       "'color':\"red\",\n",
       "'data':{\n",
       "},\n",
       "'position':\"identity\",\n",
       "'geom':\"line\"\n",
       "},{\n",
       "'stat':\"identity\",\n",
       "'mapping':{\n",
       "},\n",
       "'data':{\n",
       "'x':[10.0,20.0,30.0,40.0,50.0,60.0,70.0,80.0,90.0,100.0,110.0,120.0,130.0,140.0,150.0,160.0,170.0,180.0,190.0,200.0,210.0,220.0,230.0,240.0,250.0,260.0,270.0,280.0,290.0,300.0,310.0,320.0,330.0,340.0,350.0,360.0,370.0,380.0,390.0,400.0,410.0,420.0,430.0,440.0],\n",
       "'y':[0.8591549295774648,0.704225352112676,0.647887323943662,0.676056338028169,0.704225352112676,0.7323943661971831,0.7323943661971831,0.7323943661971831,0.7464788732394366,0.7323943661971831,0.7183098591549296,0.704225352112676,0.704225352112676,0.7323943661971831,0.7183098591549296,0.7183098591549296,0.7323943661971831,0.7464788732394366,0.7464788732394366,0.7464788732394366,0.7323943661971831,0.7183098591549296,0.7183098591549296,0.7183098591549296,0.7183098591549296,0.7183098591549296,0.7183098591549296,0.7183098591549296,0.7183098591549296,0.7183098591549296,0.7183098591549296,0.7183098591549296,0.7183098591549296,0.7183098591549296,0.7183098591549296,0.7183098591549296,0.7183098591549296,0.704225352112676,0.704225352112676,0.704225352112676,0.704225352112676,0.704225352112676,0.704225352112676,0.704225352112676]\n",
       "},\n",
       "'color':\"blue\",\n",
       "'position':\"identity\",\n",
       "'geom':\"line\"\n",
       "}]\n",
       "};\n",
       "           var plotContainer = document.getElementById(\"5bYZWg\");\n",
       "           window.letsPlotCall(function() {{\n",
       "               LetsPlot.buildPlotFromProcessedSpecs(plotSpec, -1, -1, plotContainer);\n",
       "           }});\n",
       "       })();    \n",
       "   </script>"
      ]
     },
     "execution_count": 72,
     "metadata": {},
     "output_type": "execute_result"
    }
   ],
   "source": [
    "val df  = mapOf(\"x\" to x, \"y\" to prec)\n",
    "val df2 = mapOf(\"x\" to x, \"y\" to rec)\n",
    "val p = lets_plot(df) {x = \"x\"; y = \"y\"}\n",
    "p + geom_line(color=\"red\") + geom_line(data=df2, color=\"blue\")"
   ]
  },
  {
   "cell_type": "code",
   "execution_count": 78,
   "metadata": {},
   "outputs": [],
   "source": [
    "var (rec, prec, x) = testPrecisionRecall(\"ide_start\", 0.1)"
   ]
  },
  {
   "cell_type": "code",
   "execution_count": 79,
   "metadata": {},
   "outputs": [
    {
     "data": {
      "text/html": [
       "   <div id=\"V5k5vB\"></div>\n",
       "   <script type=\"text/javascript\">\n",
       "       (function() {\n",
       "           var plotSpec={\n",
       "'mapping':{\n",
       "'x':\"x\",\n",
       "'y':\"y\"\n",
       "},\n",
       "'data':{\n",
       "'x':[10.0,20.0,30.0,40.0,50.0,60.0,70.0,80.0,90.0,100.0,110.0,120.0,130.0,140.0,150.0,160.0,170.0,180.0,190.0,200.0,210.0,220.0,230.0,240.0,250.0,260.0,270.0,280.0,290.0,300.0,310.0,320.0,330.0,340.0,350.0,360.0,370.0,380.0,390.0,400.0,410.0,420.0,430.0,440.0],\n",
       "'y':[0.6666666666666666,0.6666666666666666,0.16129032258064516,0.625,0.5555555555555556,0.5555555555555556,0.6666666666666666,0.7142857142857143,0.7142857142857143,0.7142857142857143,0.75,0.75,0.75,0.75,0.75,0.75,0.75,0.75,0.75,0.75,0.75,0.75,0.75,0.75,0.75,0.75,0.75,0.75,0.75,0.75,0.75,0.75,0.75,0.75,0.75,0.75,0.75,0.75,0.75,0.75,0.75,0.75,0.75,0.75]\n",
       "},\n",
       "'kind':\"plot\",\n",
       "'scales':[],\n",
       "'layers':[{\n",
       "'stat':\"identity\",\n",
       "'mapping':{\n",
       "},\n",
       "'color':\"red\",\n",
       "'data':{\n",
       "},\n",
       "'position':\"identity\",\n",
       "'geom':\"line\"\n",
       "},{\n",
       "'stat':\"identity\",\n",
       "'mapping':{\n",
       "},\n",
       "'data':{\n",
       "'x':[10.0,20.0,30.0,40.0,50.0,60.0,70.0,80.0,90.0,100.0,110.0,120.0,130.0,140.0,150.0,160.0,170.0,180.0,190.0,200.0,210.0,220.0,230.0,240.0,250.0,260.0,270.0,280.0,290.0,300.0,310.0,320.0,330.0,340.0,350.0,360.0,370.0,380.0,390.0,400.0,410.0,420.0,430.0,440.0],\n",
       "'y':[0.5714285714285714,0.5714285714285714,0.7142857142857143,0.7142857142857143,0.7142857142857143,0.7142857142857143,0.8571428571428571,0.7142857142857143,0.7142857142857143,0.7142857142857143,0.8571428571428571,0.8571428571428571,0.8571428571428571,0.8571428571428571,0.8571428571428571,0.8571428571428571,0.8571428571428571,0.8571428571428571,0.8571428571428571,0.8571428571428571,0.8571428571428571,0.8571428571428571,0.8571428571428571,0.8571428571428571,0.8571428571428571,0.8571428571428571,0.8571428571428571,0.8571428571428571,0.8571428571428571,0.8571428571428571,0.8571428571428571,0.8571428571428571,0.8571428571428571,0.8571428571428571,0.8571428571428571,0.8571428571428571,0.8571428571428571,0.8571428571428571,0.8571428571428571,0.8571428571428571,0.8571428571428571,0.8571428571428571,0.8571428571428571,0.8571428571428571]\n",
       "},\n",
       "'color':\"blue\",\n",
       "'position':\"identity\",\n",
       "'geom':\"line\"\n",
       "}]\n",
       "};\n",
       "           var plotContainer = document.getElementById(\"V5k5vB\");\n",
       "           window.letsPlotCall(function() {{\n",
       "               LetsPlot.buildPlotFromProcessedSpecs(plotSpec, -1, -1, plotContainer);\n",
       "           }});\n",
       "       })();    \n",
       "   </script>"
      ]
     },
     "execution_count": 79,
     "metadata": {},
     "output_type": "execute_result"
    }
   ],
   "source": [
    "val df  = mapOf(\"x\" to x, \"y\" to prec)\n",
    "val df2 = mapOf(\"x\" to x, \"y\" to rec)\n",
    "val p = lets_plot(df) {x = \"x\"; y = \"y\"}\n",
    "p + geom_line(color=\"red\") + geom_line(data=df2, color=\"blue\")"
   ]
  },
  {
   "cell_type": "code",
   "execution_count": 80,
   "metadata": {},
   "outputs": [],
   "source": [
    "var (rec, prec, x) = testPrecisionRecall(\"ide_close\", 0.1)"
   ]
  },
  {
   "cell_type": "code",
   "execution_count": 81,
   "metadata": {},
   "outputs": [
    {
     "data": {
      "text/html": [
       "   <div id=\"KY37yy\"></div>\n",
       "   <script type=\"text/javascript\">\n",
       "       (function() {\n",
       "           var plotSpec={\n",
       "'mapping':{\n",
       "'x':\"x\",\n",
       "'y':\"y\"\n",
       "},\n",
       "'data':{\n",
       "'x':[10.0,20.0,30.0,40.0,50.0,60.0,70.0,80.0,90.0,100.0,110.0,120.0,130.0,140.0,150.0,160.0,170.0,180.0,190.0,200.0,210.0,220.0,230.0,240.0,250.0,260.0,270.0,280.0,290.0,300.0,310.0,320.0,330.0,340.0,350.0,360.0,370.0,380.0,390.0,400.0,410.0,420.0,430.0,440.0],\n",
       "'y':[NaN,0.05405405405405406,0.05555555555555555,0.06896551724137931,0.06896551724137931,0.09090909090909091,0.1111111111111111,0.16666666666666666,1.0,1.0,1.0,1.0,1.0,1.0,1.0,1.0,1.0,1.0,1.0,1.0,1.0,1.0,1.0,1.0,1.0,1.0,1.0,1.0,1.0,1.0,1.0,1.0,1.0,1.0,1.0,1.0,1.0,1.0,1.0,1.0,1.0,1.0,1.0,1.0]\n",
       "},\n",
       "'kind':\"plot\",\n",
       "'scales':[],\n",
       "'layers':[{\n",
       "'stat':\"identity\",\n",
       "'mapping':{\n",
       "},\n",
       "'color':\"red\",\n",
       "'data':{\n",
       "},\n",
       "'position':\"identity\",\n",
       "'geom':\"line\"\n",
       "},{\n",
       "'stat':\"identity\",\n",
       "'mapping':{\n",
       "},\n",
       "'data':{\n",
       "'x':[10.0,20.0,30.0,40.0,50.0,60.0,70.0,80.0,90.0,100.0,110.0,120.0,130.0,140.0,150.0,160.0,170.0,180.0,190.0,200.0,210.0,220.0,230.0,240.0,250.0,260.0,270.0,280.0,290.0,300.0,310.0,320.0,330.0,340.0,350.0,360.0,370.0,380.0,390.0,400.0,410.0,420.0,430.0,440.0],\n",
       "'y':[0.0,0.6666666666666666,0.6666666666666666,0.6666666666666666,0.6666666666666666,0.6666666666666666,0.6666666666666666,0.6666666666666666,0.3333333333333333,0.3333333333333333,0.3333333333333333,0.3333333333333333,0.3333333333333333,0.3333333333333333,0.3333333333333333,0.3333333333333333,0.3333333333333333,0.3333333333333333,0.3333333333333333,0.3333333333333333,0.3333333333333333,0.3333333333333333,0.3333333333333333,0.3333333333333333,0.3333333333333333,0.3333333333333333,0.3333333333333333,0.3333333333333333,0.3333333333333333,0.3333333333333333,0.3333333333333333,0.3333333333333333,0.3333333333333333,0.3333333333333333,0.3333333333333333,0.3333333333333333,0.3333333333333333,0.3333333333333333,0.3333333333333333,0.3333333333333333,0.3333333333333333,0.3333333333333333,0.3333333333333333,0.3333333333333333]\n",
       "},\n",
       "'color':\"blue\",\n",
       "'position':\"identity\",\n",
       "'geom':\"line\"\n",
       "}]\n",
       "};\n",
       "           var plotContainer = document.getElementById(\"KY37yy\");\n",
       "           window.letsPlotCall(function() {{\n",
       "               LetsPlot.buildPlotFromProcessedSpecs(plotSpec, -1, -1, plotContainer);\n",
       "           }});\n",
       "       })();    \n",
       "   </script>"
      ]
     },
     "execution_count": 81,
     "metadata": {},
     "output_type": "execute_result"
    }
   ],
   "source": [
    "val df  = mapOf(\"x\" to x, \"y\" to prec)\n",
    "val df2 = mapOf(\"x\" to x, \"y\" to rec)\n",
    "val p = lets_plot(df) {x = \"x\"; y = \"y\"}\n",
    "p + geom_line(color=\"red\") + geom_line(data=df2, color=\"blue\")"
   ]
  },
  {
   "cell_type": "code",
   "execution_count": 82,
   "metadata": {},
   "outputs": [],
   "source": [
    "var (rec, prec, x) = testPrecisionRecall(\"vcs\")"
   ]
  },
  {
   "cell_type": "code",
   "execution_count": 83,
   "metadata": {},
   "outputs": [
    {
     "data": {
      "text/html": [
       "   <div id=\"QWMutC\"></div>\n",
       "   <script type=\"text/javascript\">\n",
       "       (function() {\n",
       "           var plotSpec={\n",
       "'mapping':{\n",
       "'x':\"x\",\n",
       "'y':\"y\"\n",
       "},\n",
       "'data':{\n",
       "'x':[10.0,20.0,30.0,40.0,50.0,60.0,70.0,80.0,90.0,100.0,110.0,120.0,130.0,140.0,150.0,160.0,170.0,180.0,190.0,200.0,210.0,220.0,230.0,240.0,250.0,260.0,270.0,280.0,290.0,300.0,310.0,320.0,330.0,340.0,350.0,360.0,370.0,380.0,390.0,400.0,410.0,420.0,430.0,440.0],\n",
       "'y':[0.12244897959183673,0.1518987341772152,0.1935483870967742,0.23529411764705882,0.23529411764705882,0.2765957446808511,0.37142857142857144,0.3939393939393939,0.3170731707317073,0.3333333333333333,0.32432432432432434,0.3333333333333333,0.34285714285714286,0.36363636363636365,0.36363636363636365,0.4,0.5714285714285714,0.7058823529411765,0.75,0.7058823529411765,0.6666666666666666,0.6666666666666666,0.6470588235294118,0.6470588235294118,0.6470588235294118,0.6470588235294118,0.6470588235294118,0.6470588235294118,0.6470588235294118,0.6470588235294118,0.6875,0.6470588235294118,0.6875,0.7333333333333333,0.7333333333333333,0.6875,0.7333333333333333,0.7333333333333333,0.7333333333333333,0.7058823529411765,0.75,0.75,0.75,0.75]\n",
       "},\n",
       "'kind':\"plot\",\n",
       "'scales':[],\n",
       "'layers':[{\n",
       "'stat':\"identity\",\n",
       "'mapping':{\n",
       "},\n",
       "'color':\"red\",\n",
       "'data':{\n",
       "},\n",
       "'position':\"identity\",\n",
       "'geom':\"line\"\n",
       "},{\n",
       "'stat':\"identity\",\n",
       "'mapping':{\n",
       "},\n",
       "'data':{\n",
       "'x':[10.0,20.0,30.0,40.0,50.0,60.0,70.0,80.0,90.0,100.0,110.0,120.0,130.0,140.0,150.0,160.0,170.0,180.0,190.0,200.0,210.0,220.0,230.0,240.0,250.0,260.0,270.0,280.0,290.0,300.0,310.0,320.0,330.0,340.0,350.0,360.0,370.0,380.0,390.0,400.0,410.0,420.0,430.0,440.0],\n",
       "'y':[0.8,0.8,0.8,0.8,0.8,0.8666666666666667,0.8666666666666667,0.8666666666666667,0.8666666666666667,0.8666666666666667,0.8,0.8,0.8,0.8,0.8,0.8,0.8,0.8,0.8,0.8,0.8,0.8,0.7333333333333333,0.7333333333333333,0.7333333333333333,0.7333333333333333,0.7333333333333333,0.7333333333333333,0.7333333333333333,0.7333333333333333,0.7333333333333333,0.7333333333333333,0.7333333333333333,0.7333333333333333,0.7333333333333333,0.7333333333333333,0.7333333333333333,0.7333333333333333,0.7333333333333333,0.8,0.8,0.8,0.8,0.8]\n",
       "},\n",
       "'color':\"blue\",\n",
       "'position':\"identity\",\n",
       "'geom':\"line\"\n",
       "}]\n",
       "};\n",
       "           var plotContainer = document.getElementById(\"QWMutC\");\n",
       "           window.letsPlotCall(function() {{\n",
       "               LetsPlot.buildPlotFromProcessedSpecs(plotSpec, -1, -1, plotContainer);\n",
       "           }});\n",
       "       })();    \n",
       "   </script>"
      ]
     },
     "execution_count": 83,
     "metadata": {},
     "output_type": "execute_result"
    }
   ],
   "source": [
    "val df  = mapOf(\"x\" to x, \"y\" to prec)\n",
    "val df2 = mapOf(\"x\" to x, \"y\" to rec)\n",
    "val p = lets_plot(df) {x = \"x\"; y = \"y\"}\n",
    "p + geom_line(color=\"red\") + geom_line(data=df2, color=\"blue\")"
   ]
  },
  {
   "cell_type": "code",
   "execution_count": 84,
   "metadata": {},
   "outputs": [],
   "source": [
    "var (rec, prec, x) = testPrecisionRecall(\"reading\")"
   ]
  },
  {
   "cell_type": "code",
   "execution_count": 85,
   "metadata": {},
   "outputs": [
    {
     "data": {
      "text/html": [
       "   <div id=\"tn0I75\"></div>\n",
       "   <script type=\"text/javascript\">\n",
       "       (function() {\n",
       "           var plotSpec={\n",
       "'mapping':{\n",
       "'x':\"x\",\n",
       "'y':\"y\"\n",
       "},\n",
       "'data':{\n",
       "'x':[10.0,20.0,30.0,40.0,50.0,60.0,70.0,80.0,90.0,100.0,110.0,120.0,130.0,140.0,150.0,160.0,170.0,180.0,190.0,200.0,210.0,220.0,230.0,240.0,250.0,260.0,270.0,280.0,290.0,300.0,310.0,320.0,330.0,340.0,350.0,360.0,370.0,380.0,390.0,400.0,410.0,420.0,430.0,440.0],\n",
       "'y':[0.24347826086956523,0.27184466019417475,0.35443037974683544,0.3333333333333333,0.3472222222222222,0.3728813559322034,0.3898305084745763,0.3898305084745763,0.44642857142857145,0.43859649122807015,0.4482758620689655,0.44642857142857145,0.4642857142857143,0.5,0.5098039215686274,0.5098039215686274,0.4897959183673469,0.4897959183673469,0.4897959183673469,0.48,0.49019607843137253,0.4716981132075472,0.4716981132075472,0.4807692307692308,0.4716981132075472,0.49056603773584906,0.49056603773584906,0.49056603773584906,0.4807692307692308,0.49019607843137253,0.49019607843137253,0.49019607843137253,0.49019607843137253,0.49019607843137253,0.49019607843137253,0.49019607843137253,0.49019607843137253,0.5,0.5,0.5,0.5,0.5,0.5,0.5]\n",
       "},\n",
       "'kind':\"plot\",\n",
       "'scales':[],\n",
       "'layers':[{\n",
       "'stat':\"identity\",\n",
       "'mapping':{\n",
       "},\n",
       "'color':\"red\",\n",
       "'data':{\n",
       "},\n",
       "'position':\"identity\",\n",
       "'geom':\"line\"\n",
       "},{\n",
       "'stat':\"identity\",\n",
       "'mapping':{\n",
       "},\n",
       "'data':{\n",
       "'x':[10.0,20.0,30.0,40.0,50.0,60.0,70.0,80.0,90.0,100.0,110.0,120.0,130.0,140.0,150.0,160.0,170.0,180.0,190.0,200.0,210.0,220.0,230.0,240.0,250.0,260.0,270.0,280.0,290.0,300.0,310.0,320.0,330.0,340.0,350.0,360.0,370.0,380.0,390.0,400.0,410.0,420.0,430.0,440.0],\n",
       "'y':[0.9333333333333333,0.9333333333333333,0.9333333333333333,0.8333333333333334,0.8333333333333334,0.7333333333333333,0.7666666666666667,0.7666666666666667,0.8333333333333334,0.8333333333333334,0.8666666666666667,0.8333333333333334,0.8666666666666667,0.8666666666666667,0.8666666666666667,0.8666666666666667,0.8,0.8,0.8,0.8,0.8333333333333334,0.8333333333333334,0.8333333333333334,0.8333333333333334,0.8333333333333334,0.8666666666666667,0.8666666666666667,0.8666666666666667,0.8333333333333334,0.8333333333333334,0.8333333333333334,0.8333333333333334,0.8333333333333334,0.8333333333333334,0.8333333333333334,0.8333333333333334,0.8333333333333334,0.8333333333333334,0.8333333333333334,0.8333333333333334,0.8333333333333334,0.8333333333333334,0.8333333333333334,0.8333333333333334]\n",
       "},\n",
       "'color':\"blue\",\n",
       "'position':\"identity\",\n",
       "'geom':\"line\"\n",
       "}]\n",
       "};\n",
       "           var plotContainer = document.getElementById(\"tn0I75\");\n",
       "           window.letsPlotCall(function() {{\n",
       "               LetsPlot.buildPlotFromProcessedSpecs(plotSpec, -1, -1, plotContainer);\n",
       "           }});\n",
       "       })();    \n",
       "   </script>"
      ]
     },
     "execution_count": 85,
     "metadata": {},
     "output_type": "execute_result"
    }
   ],
   "source": [
    "val df  = mapOf(\"x\" to x, \"y\" to prec)\n",
    "val df2 = mapOf(\"x\" to x, \"y\" to rec)\n",
    "val p = lets_plot(df) {x = \"x\"; y = \"y\"}\n",
    "p + geom_line(color=\"red\") + geom_line(data=df2, color=\"blue\")"
   ]
  },
  {
   "cell_type": "code",
   "execution_count": 86,
   "metadata": {},
   "outputs": [],
   "source": [
    "var (rec, prec, x) = testPrecisionRecall(\"rdb\", 0.1)"
   ]
  },
  {
   "cell_type": "code",
   "execution_count": 87,
   "metadata": {},
   "outputs": [
    {
     "data": {
      "text/html": [
       "   <div id=\"KkwMXD\"></div>\n",
       "   <script type=\"text/javascript\">\n",
       "       (function() {\n",
       "           var plotSpec={\n",
       "'mapping':{\n",
       "'x':\"x\",\n",
       "'y':\"y\"\n",
       "},\n",
       "'data':{\n",
       "'x':[10.0,20.0,30.0,40.0,50.0,60.0,70.0,80.0,90.0,100.0,110.0,120.0,130.0,140.0,150.0,160.0,170.0,180.0,190.0,200.0,210.0,220.0,230.0,240.0,250.0,260.0,270.0,280.0,290.0,300.0,310.0,320.0,330.0,340.0,350.0,360.0,370.0,380.0,390.0,400.0,410.0,420.0,430.0,440.0],\n",
       "'y':[0.32456140350877194,0.40384615384615385,0.9,0.8235294117647058,0.8181818181818182,0.7941176470588235,0.8064516129032258,0.8275862068965517,0.8571428571428571,0.8571428571428571,0.8620689655172413,0.8620689655172413,0.8620689655172413,0.8387096774193549,0.8709677419354839,0.8709677419354839,0.8709677419354839,0.8484848484848485,0.8484848484848485,0.8484848484848485,0.8484848484848485,0.8484848484848485,0.8484848484848485,0.8484848484848485,0.8484848484848485,0.84375,0.84375,0.8387096774193549,0.8387096774193549,0.8387096774193549,0.8387096774193549,0.84375,0.84375,0.84375,0.8709677419354839,0.8709677419354839,0.8709677419354839,0.84375,0.84375,0.84375,0.84375,0.84375,0.84375,0.84375]\n",
       "},\n",
       "'kind':\"plot\",\n",
       "'scales':[],\n",
       "'layers':[{\n",
       "'stat':\"identity\",\n",
       "'mapping':{\n",
       "},\n",
       "'color':\"red\",\n",
       "'data':{\n",
       "},\n",
       "'position':\"identity\",\n",
       "'geom':\"line\"\n",
       "},{\n",
       "'stat':\"identity\",\n",
       "'mapping':{\n",
       "},\n",
       "'data':{\n",
       "'x':[10.0,20.0,30.0,40.0,50.0,60.0,70.0,80.0,90.0,100.0,110.0,120.0,130.0,140.0,150.0,160.0,170.0,180.0,190.0,200.0,210.0,220.0,230.0,240.0,250.0,260.0,270.0,280.0,290.0,300.0,310.0,320.0,330.0,340.0,350.0,360.0,370.0,380.0,390.0,400.0,410.0,420.0,430.0,440.0],\n",
       "'y':[0.8409090909090909,0.4772727272727273,0.6136363636363636,0.6363636363636364,0.6136363636363636,0.6136363636363636,0.5681818181818182,0.5454545454545454,0.5454545454545454,0.5454545454545454,0.5681818181818182,0.5681818181818182,0.5681818181818182,0.5909090909090909,0.6136363636363636,0.6136363636363636,0.6136363636363636,0.6363636363636364,0.6363636363636364,0.6363636363636364,0.6363636363636364,0.6363636363636364,0.6363636363636364,0.6363636363636364,0.6363636363636364,0.6136363636363636,0.6136363636363636,0.5909090909090909,0.5909090909090909,0.5909090909090909,0.5909090909090909,0.6136363636363636,0.6136363636363636,0.6136363636363636,0.6136363636363636,0.6136363636363636,0.6136363636363636,0.6136363636363636,0.6136363636363636,0.6136363636363636,0.6136363636363636,0.6136363636363636,0.6136363636363636,0.6136363636363636]\n",
       "},\n",
       "'color':\"blue\",\n",
       "'position':\"identity\",\n",
       "'geom':\"line\"\n",
       "}]\n",
       "};\n",
       "           var plotContainer = document.getElementById(\"KkwMXD\");\n",
       "           window.letsPlotCall(function() {{\n",
       "               LetsPlot.buildPlotFromProcessedSpecs(plotSpec, -1, -1, plotContainer);\n",
       "           }});\n",
       "       })();    \n",
       "   </script>"
      ]
     },
     "execution_count": 87,
     "metadata": {},
     "output_type": "execute_result"
    }
   ],
   "source": [
    "val df  = mapOf(\"x\" to x, \"y\" to prec)\n",
    "val df2 = mapOf(\"x\" to x, \"y\" to rec)\n",
    "val p = lets_plot(df) {x = \"x\"; y = \"y\"}\n",
    "p + geom_line(color=\"red\") + geom_line(data=df2, color=\"blue\")"
   ]
  },
  {
   "cell_type": "code",
   "execution_count": null,
   "metadata": {},
   "outputs": [],
   "source": []
  },
  {
   "cell_type": "code",
   "execution_count": null,
   "metadata": {},
   "outputs": [],
   "source": []
  },
  {
   "cell_type": "code",
   "execution_count": null,
   "metadata": {},
   "outputs": [],
   "source": []
  },
  {
   "cell_type": "code",
   "execution_count": null,
   "metadata": {},
   "outputs": [],
   "source": []
  },
  {
   "cell_type": "code",
   "execution_count": null,
   "metadata": {},
   "outputs": [],
   "source": []
  },
  {
   "cell_type": "code",
   "execution_count": null,
   "metadata": {},
   "outputs": [],
   "source": []
  },
  {
   "cell_type": "code",
   "execution_count": null,
   "metadata": {},
   "outputs": [],
   "source": []
  },
  {
   "cell_type": "code",
   "execution_count": 82,
   "metadata": {},
   "outputs": [],
   "source": [
    "val test_ans = test.addColumn(\"pred\") {ans}"
   ]
  },
  {
   "cell_type": "code",
   "execution_count": null,
   "metadata": {},
   "outputs": [],
   "source": []
  },
  {
   "cell_type": "code",
   "execution_count": 87,
   "metadata": {},
   "outputs": [
    {
     "data": {
      "text/plain": [
       "{session_id=24022011a9051c2-3d2d-4a1a-8fea-4455e9cc25d9_15, ms=47125, Category=reading, coding, events=actions_action.invoked_SearchEverywhere , productivity_feature.used_SearchEverywhere , searchEverywhere_dialogOpen_dialogOpen , actions_custom.action.invoked_DoubleShortcut , actions_action.invoked_com.intellij.ui.ScrollingUtil$6 , actions_action.invoked_com.intellij.ui.ScrollingUtil$6 , actions_action.invoked_com.intellij.ui.ScrollingUtil$6 , actions_action.invoked_com.intellij.ui.ScrollingUtil$7 , actions_action.invoked_com.intellij.ui.ScrollingUtil$6 , actions_action.invoked_com.intellij.ui.ScrollingUtil$7 , actions_action.invoked_com.intellij.ui.ScrollingUtil$6 , actions_action.invoked_com.intellij.ui.ScrollingUtil$6 , actions_action.invoked_com.intellij.ui.ScrollingUtil$6 , actions_action.invoked_com.intellij.ui.ScrollingUtil$7 , actions_action.invoked_com.intellij.ui.ScrollingUtil$7 , actions_action.invoked_com.intellij.ui.ScrollingUtil$7 , actions_action.invoked_com.intellij.ui.ScrollingUtil$7 , actions_action.invoked_com.intellij.ui.ScrollingUtil$6 , actions_action.invoked_com.intellij.ui.ScrollingUtil$6 , searchEverywhere_contributorItemChosen_contributorItemChosen , actions_action.invoked_third.party , file.types.usage_open_FTL , searchEverywhere_dialogClosed_dialogClosed , ui.event_BreadcrumbShowTooltip_BreadcrumbShowTooltip , ui.event_BreadcrumbShowTooltip_BreadcrumbShowTooltip , actions_action.invoked_HideActiveWindow , toolbar_clicked_HideActiveWindow , actions_action.invoked_EditorBackSpace , file.types.usage_edit_FTL , completion_finished_finished, pred=[reading]}"
      ]
     },
     "execution_count": 87,
     "metadata": {},
     "output_type": "execute_result"
    }
   ],
   "source": [
    "test_ans.row(1)"
   ]
  },
  {
   "cell_type": "code",
   "execution_count": 84,
   "metadata": {
    "scrolled": true
   },
   "outputs": [
    {
     "name": "stderr",
     "output_type": "stream",
     "text": [
      "Unresolved reference. None of the following candidates is applicable because of receiver type mismatch: \n",
      "public inline operator fun <T : Any, R : Iterable<String>> ???.contains(element: String?): Boolean where R : ClosedRange<String> defined in kotlin.ranges\n",
      "public operator fun <T> Array<out String>.contains(element: String): Boolean defined in kotlin.collections\n",
      "public operator fun BooleanArray.contains(element: Boolean): Boolean defined in kotlin.collections\n",
      "public operator fun ByteArray.contains(element: Byte): Boolean defined in kotlin.collections\n",
      "public operator fun CharArray.contains(element: Char): Boolean defined in kotlin.collections\n",
      "public operator fun CharSequence.contains(char: Char, ignoreCase: Boolean = ...): Boolean defined in kotlin.text\n",
      "public operator fun CharSequence.contains(other: CharSequence, ignoreCase: Boolean = ...): Boolean defined in kotlin.text\n",
      "public inline operator fun CharSequence.contains(regex: Regex): Boolean defined in kotlin.text\n",
      "public operator fun DoubleArray.contains(element: Double): Boolean defined in kotlin.collections\n",
      "public operator fun FloatArray.contains(element: Float): Boolean defined in kotlin.collections\n",
      "public operator fun IntArray.contains(element: Int): Boolean defined in kotlin.collections\n",
      "public operator fun LongArray.contains(element: Long): Boolean defined in kotlin.collections\n",
      "public operator fun ShortArray.contains(element: Short): Boolean defined in kotlin.collections\n",
      "public operator fun <T> Iterable<String>.contains(element: String): Boolean defined in kotlin.collections\n",
      "public inline operator fun <K, V> Map<out String, ???>.contains(key: String): Boolean defined in kotlin.collections\n",
      "public inline operator fun CharRange.contains(element: Char?): Boolean defined in kotlin.ranges\n",
      "public operator fun ClosedRange<Byte>.contains(value: Double): Boolean defined in kotlin.ranges\n",
      "public operator fun ClosedRange<Byte>.contains(value: Float): Boolean defined in kotlin.ranges\n",
      "public operator fun ClosedRange<Byte>.contains(value: Int): Boolean defined in kotlin.ranges\n",
      "public operator fun ClosedRange<Byte>.contains(value: Long): Boolean defined in kotlin.ranges\n",
      "public operator fun ClosedRange<Byte>.contains(value: Short): Boolean defined in kotlin.ranges\n",
      "public operator fun ClosedRange<Double>.contains(value: Byte): Boolean defined in kotlin.ranges\n",
      "public operator fun ClosedRange<Double>.contains(value: Float): Boolean defined in kotlin.ranges\n",
      "public operator fun ClosedRange<Double>.contains(value: Int): Boolean defined in kotlin.ranges\n",
      "public operator fun ClosedRange<Double>.contains(value: Long): Boolean defined in kotlin.ranges\n",
      "public operator fun ClosedRange<Double>.contains(value: Short): Boolean defined in kotlin.ranges\n",
      "public operator fun ClosedRange<Float>.contains(value: Byte): Boolean defined in kotlin.ranges\n",
      "public operator fun ClosedRange<Float>.contains(value: Double): Boolean defined in kotlin.ranges\n",
      "public operator fun ClosedRange<Float>.contains(value: Int): Boolean defined in kotlin.ranges\n",
      "public operator fun ClosedRange<Float>.contains(value: Long): Boolean defined in kotlin.ranges\n",
      "public operator fun ClosedRange<Float>.contains(value: Short): Boolean defined in kotlin.ranges\n",
      "public operator fun ClosedRange<Int>.contains(value: Byte): Boolean defined in kotlin.ranges\n",
      "public operator fun ClosedRange<Int>.contains(value: Double): Boolean defined in kotlin.ranges\n",
      "public operator fun ClosedRange<Int>.contains(value: Float): Boolean defined in kotlin.ranges\n",
      "public operator fun ClosedRange<Int>.contains(value: Long): Boolean defined in kotlin.ranges\n",
      "public operator fun ClosedRange<Int>.contains(value: Short): Boolean defined in kotlin.ranges\n",
      "public operator fun ClosedRange<Long>.contains(value: Byte): Boolean defined in kotlin.ranges\n",
      "public operator fun ClosedRange<Long>.contains(value: Double): Boolean defined in kotlin.ranges\n",
      "public operator fun ClosedRange<Long>.contains(value: Float): Boolean defined in kotlin.ranges\n",
      "public operator fun ClosedRange<Long>.contains(value: Int): Boolean defined in kotlin.ranges\n",
      "public operator fun ClosedRange<Long>.contains(value: Short): Boolean defined in kotlin.ranges\n",
      "public operator fun ClosedRange<Short>.contains(value: Byte): Boolean defined in kotlin.ranges\n",
      "public operator fun ClosedRange<Short>.contains(value: Double): Boolean defined in kotlin.ranges\n",
      "public operator fun ClosedRange<Short>.contains(value: Float): Boolean defined in kotlin.ranges\n",
      "public operator fun ClosedRange<Short>.contains(value: Int): Boolean defined in kotlin.ranges\n",
      "public operator fun ClosedRange<Short>.contains(value: Long): Boolean defined in kotlin.ranges\n",
      "public inline operator fun IntRange.contains(element: Int?): Boolean defined in kotlin.ranges\n",
      "public inline operator fun LongRange.contains(element: Long?): Boolean defined in kotlin.ranges\n",
      "public operator fun UIntRange.contains(value: UByte): Boolean defined in kotlin.ranges\n",
      "public inline operator fun UIntRange.contains(element: UInt?): Boolean defined in kotlin.ranges\n",
      "public operator fun UIntRange.contains(value: ULong): Boolean defined in kotlin.ranges\n",
      "public operator fun UIntRange.contains(value: UShort): Boolean defined in kotlin.ranges\n",
      "public operator fun ULongRange.contains(value: UByte): Boolean defined in kotlin.ranges\n",
      "public operator fun ULongRange.contains(value: UInt): Boolean defined in kotlin.ranges\n",
      "public inline operator fun ULongRange.contains(element: ULong?): Boolean defined in kotlin.ranges\n",
      "public operator fun ULongRange.contains(value: UShort): Boolean defined in kotlin.ranges\n",
      "public operator fun <T> Sequence<String>.contains(element: String): Boolean defined in kotlin.sequences"
     ]
    }
   ],
   "source": [
    "test_ans.filter {it[\"category\"].isMatching{} }"
   ]
  },
  {
   "cell_type": "code",
   "execution_count": null,
   "metadata": {},
   "outputs": [],
   "source": []
  }
 ],
 "metadata": {
  "kernelspec": {
   "display_name": "Kotlin",
   "language": "kotlin",
   "name": "kotlin"
  },
  "language_info": {
   "codemirror_mode": "text/x-kotlin",
   "file_extension": "kt",
   "name": "kotlin"
  }
 },
 "nbformat": 4,
 "nbformat_minor": 2
}
