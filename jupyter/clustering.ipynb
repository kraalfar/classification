{
 "cells": [
  {
   "cell_type": "code",
   "execution_count": 77,
   "metadata": {},
   "outputs": [
    {
     "data": {
      "text/html": [
       "   <div id=\"WXAgcV\"></div>\n",
       "   <script type=\"text/javascript\">\n",
       "       if(!window.letsPlotCallQueue) {\n",
       "           window.letsPlotCallQueue = [];\n",
       "       }; \n",
       "       window.letsPlotCall = function(f) {\n",
       "           window.letsPlotCallQueue.push(f);\n",
       "       };\n",
       "       (function() {\n",
       "           var script = document.createElement(\"script\");\n",
       "           script.type = \"text/javascript\";\n",
       "           script.src = \"https://dl.bintray.com/jetbrains/lets-plot/lets-plot-1.0.0.min.js\";\n",
       "           script.onload = function() {\n",
       "               window.letsPlotCall = function(f) {f();};\n",
       "               window.letsPlotCallQueue.forEach(function(f) {f();});\n",
       "               window.letsPlotCallQueue = [];\n",
       "               \n",
       "               \n",
       "           };\n",
       "           script.onerror = function(event) {\n",
       "               window.letsPlotCall = function(f) {};\n",
       "               window.letsPlotCallQueue = [];\n",
       "               var div = document.createElement(\"div\");\n",
       "               div.style.color = 'darkred';\n",
       "               div.textContent = 'Error loading Lets-Plot JS';\n",
       "               document.getElementById(\"WXAgcV\").appendChild(div);\n",
       "           };\n",
       "           var e = document.getElementById(\"WXAgcV\");\n",
       "           e.appendChild(script);\n",
       "       })();\n",
       "   </script>"
      ]
     },
     "metadata": {},
     "output_type": "display_data"
    }
   ],
   "source": [
    "%use kotlin-statistics, krangl, kravis, klaxon, lets-plot"
   ]
  },
  {
   "cell_type": "code",
   "execution_count": 3,
   "metadata": {},
   "outputs": [],
   "source": [
    "import kotlin.math.*"
   ]
  },
  {
   "cell_type": "code",
   "execution_count": 4,
   "metadata": {},
   "outputs": [],
   "source": [
    "@file:Repository(\"https://dl.bintray.com/kyonifer/maven\")\n",
    "@file:DependsOn(\"com.kyonifer:koma-core-ejml:0.12\")\n",
    "@file:DependsOn(\"com.kyonifer:koma-plotting:0.12\")"
   ]
  },
  {
   "cell_type": "code",
   "execution_count": 5,
   "metadata": {},
   "outputs": [],
   "source": [
    "@file:Repository(\"https://repo1.maven.org/maven2\")\n",
    "@file:DependsOn(\"com.github.haifengl:smile-core:2.2.2\")"
   ]
  },
  {
   "cell_type": "code",
   "execution_count": 6,
   "metadata": {},
   "outputs": [],
   "source": [
    "import koma.extensions.*\n",
    "import koma.*"
   ]
  },
  {
   "cell_type": "code",
   "execution_count": 7,
   "metadata": {},
   "outputs": [],
   "source": [
    "import smile.math.distance.DynamicTimeWarping"
   ]
  },
  {
   "cell_type": "code",
   "execution_count": 8,
   "metadata": {},
   "outputs": [],
   "source": [
    "import smile.clustering.HierarchicalClustering\n",
    "import smile.clustering.linkage.CompleteLinkage"
   ]
  },
  {
   "cell_type": "code",
   "execution_count": 9,
   "metadata": {},
   "outputs": [],
   "source": [
    "open class Action(val time: Long, val group_id: String, val event_id: String, val dt: String) {\n",
    "    fun print() {\n",
    "        println(\"$time $group_id $event_id $dt\")\n",
    "    }\n",
    "\n",
    "    fun getEvent(): String {\n",
    "        return \"$group_id; $event_id; $dt\"\n",
    "    }\n",
    "}\n"
   ]
  },
  {
   "cell_type": "code",
   "execution_count": 10,
   "metadata": {},
   "outputs": [],
   "source": [
    "class Session(val id: String, val startTime: Long = 0) {\n",
    "    var actions: ArrayList<Action> = ArrayList()\n",
    "\n",
    "    fun add(time: Long, group: String, event: String, action: String) {\n",
    "        actions.add(Action(time,group,event, action))\n",
    "    }\n",
    "\n",
    "    fun print() {\n",
    "        println(id)\n",
    "        for (action in actions) {\n",
    "            action.print()\n",
    "        }\n",
    "    }\n",
    "\n",
    "    fun time(): Long {\n",
    "        return actions[actions.size - 1].time\n",
    "    }\n",
    "\n",
    "    fun events(): String {\n",
    "        val events = ArrayList<String>()\n",
    "        for (action in actions)\n",
    "            events.add(action.getEvent())\n",
    "        return events.joinToString(separator = \" , \")\n",
    "    }\n",
    "\n",
    "\n",
    "\n",
    "    fun times(): String {\n",
    "        val times = ArrayList<String>()\n",
    "        for (action in actions)\n",
    "            times.add(action.time.toString())\n",
    "        return times.joinToString(separator = \" , \")\n",
    "    }\n",
    "}\n"
   ]
  },
  {
   "cell_type": "code",
   "execution_count": 11,
   "metadata": {},
   "outputs": [],
   "source": [
    "fun sessionsFromTSV(path: String): ArrayList<Session> {\n",
    "    val df = DataFrame.readTSV(path)\n",
    "    val ses = ArrayList<Session>()\n",
    "    for (i in 0 until df.nrow) {\n",
    "        val events = df[\"events\"][i].toString().split(\" , \")\n",
    "//        if (events.size < 3)\n",
    "//            continue\n",
    "        val times = df[\"ms\"][i].toString().split(\" , \")\n",
    "        ses.add(Session(df[\"session_id\"][i].toString()))\n",
    "        for (j in events.indices) {\n",
    "            val params = events[j].split(\"_\", limit=3)\n",
    "//             ses[ses.size - 1].add(times[j].toLong(), params[0], params[1], params[2])\n",
    "            ses[ses.size - 1].add(-1, params[0], params[1], params[2])\n",
    "        }\n",
    "    }\n",
    "    return ses\n",
    "}"
   ]
  },
  {
   "cell_type": "code",
   "execution_count": 12,
   "metadata": {},
   "outputs": [],
   "source": [
    "class ActionDist : smile.math.distance.Distance<Action> {\n",
    "    override fun d(x: Action, y: Action): Double {\n",
    "        if (x.group_id != y.group_id)\n",
    "            return 1.0\n",
    "        if (x.event_id != y.event_id)\n",
    "            return 1.0\n",
    "        if (x.dt != y.dt)\n",
    "            return 1.0\n",
    "        return 0.0\n",
    "    }\n",
    "\n",
    "}"
   ]
  },
  {
   "cell_type": "code",
   "execution_count": 13,
   "metadata": {},
   "outputs": [],
   "source": [
    "val dtw = DynamicTimeWarping(ActionDist())\n",
    "\n",
    "fun DTWSession(s1: Session, s2: Session): Double {\n",
    "    val a1 = Array(s1.actions.size) { i -> s1.actions[i]}\n",
    "    val a2 = Array(s2.actions.size) { i -> s2.actions[i]}\n",
    "    \n",
    "    if (a1.size > 10 && a2.size > 10)\n",
    "        return 0.0\n",
    "    if (a1.size > 10 || a2.size > 10)\n",
    "        return 1.0\n",
    "    \n",
    "    return dtw.apply(a1, a2) / (a1.size + a2.size)\n",
    "//     return dtw.apply(a1, a2) / sqrt(a1.size + a2.size)\n",
    "}"
   ]
  },
  {
   "cell_type": "code",
   "execution_count": 14,
   "metadata": {},
   "outputs": [],
   "source": [
    "class DWTDist<T> : smile.math.distance.Distance<T> {\n",
    "        \n",
    "    override fun d(x: T, y: T): Double {\n",
    "        if (x is Session && y is Session)\n",
    "            return DTWSession(x, y)\n",
    "        return 1.0\n",
    "    }\n",
    "\n",
    "}\n",
    "val t = DWTDist<Session>()"
   ]
  },
  {
   "cell_type": "code",
   "execution_count": 130,
   "metadata": {},
   "outputs": [],
   "source": [
    "fun dist(s1: Session, s2: Session, tresh: Int=10): Double {\n",
    "    val a1 = ArrayList<String>()\n",
    "    val a2 = ArrayList<String>()\n",
    "\n",
    "    for (a in s1.actions) {\n",
    "        a1.add(a.event_id + \" \" + a.group_id + \" \" + a.dt)\n",
    "    }\n",
    "\n",
    "    for (a in s2.actions) {\n",
    "        a2.add(a.event_id + \" \" + a.group_id + \" \" + a.dt)\n",
    "    }\n",
    "\n",
    "    val h1 = a1.groupingBy { it }.eachCount()\n",
    "    val h2 = a2.groupingBy { it }.eachCount()\n",
    "\n",
    "    val keys = HashSet<String>()\n",
    "    keys.addAll(h1.keys)\n",
    "    keys.addAll(h2.keys)\n",
    "\n",
    "    val h3 = HashMap<String, Int>()\n",
    "    for (k in keys) {\n",
    "        h3[k] = min(h1.getOrDefault(k, 0), h2.getOrDefault(k, 0))\n",
    "    }\n",
    "\n",
    "    val v1 = h1.values.sum()\n",
    "    val v2 = h2.values.sum()\n",
    "    val v3 = h3.values.sum()\n",
    "\n",
    "//     val f1: Double = (1.0 * v3) / v1\n",
    "//     val f2: Double = (1.0 * v3) / v2\n",
    "\n",
    "//     if (f1 + f2 == 0.0)\n",
    "//         return 0.0\n",
    "//     return 2 * f1 * f2 / (f1 + f2)\n",
    "    if (v1 > tresh && v2 > tresh)\n",
    "        return 0.0\n",
    "    if (v1 > tresh || v2 > tresh)\n",
    "        return 1.0\n",
    "    \n",
    "    return 1.0 * (v1 + v2 - 2* v3) / (v1 + v2)\n",
    "\n",
    "}"
   ]
  },
  {
   "cell_type": "code",
   "execution_count": 16,
   "metadata": {},
   "outputs": [],
   "source": [
    "val ses = sessionsFromTSV(\"../data/test/test_data.tsv\")\n",
    "val df = DataFrame.readTSV(\"../data/test/test_data.tsv\")"
   ]
  },
  {
   "cell_type": "code",
   "execution_count": 43,
   "metadata": {},
   "outputs": [],
   "source": [
    "ses.shuffle()"
   ]
  },
  {
   "cell_type": "code",
   "execution_count": 44,
   "metadata": {},
   "outputs": [],
   "source": [
    "val d = Array<DoubleArray> (ses.size) {DoubleArray(ses.size)}"
   ]
  },
  {
   "cell_type": "code",
   "execution_count": 84,
   "metadata": {},
   "outputs": [],
   "source": [
    "val tresh = 100"
   ]
  },
  {
   "cell_type": "code",
   "execution_count": 131,
   "metadata": {},
   "outputs": [],
   "source": [
    "for (i in ses.indices) {\n",
    "    for (j in ses.indices) {\n",
    "        d[i][j] = dist(ses[i], ses[j], 100)\n",
    "    }\n",
    "}"
   ]
  },
  {
   "cell_type": "code",
   "execution_count": 132,
   "metadata": {
    "scrolled": true
   },
   "outputs": [],
   "source": [
    "val clusters = HierarchicalClustering.fit(CompleteLinkage.of(d))"
   ]
  },
  {
   "cell_type": "code",
   "execution_count": 141,
   "metadata": {},
   "outputs": [],
   "source": [
    "val clust = IntCol(\"clust\", clusters.partition(16))"
   ]
  },
  {
   "cell_type": "code",
   "execution_count": 142,
   "metadata": {},
   "outputs": [],
   "source": [
    "val ndf =df.addColumn(\"clust\") {clust}"
   ]
  },
  {
   "cell_type": "code",
   "execution_count": 50,
   "metadata": {
    "collapsed": true
   },
   "outputs": [
    {
     "data": {
      "text/html": [
       "<html><body><table><tr><th style=\"text-align:left\">session_id</th><th style=\"text-align:left\">ms</th><th style=\"text-align:left\">Category</th><th style=\"text-align:left\">events</th><th style=\"text-align:left\">clust</th></tr><tr><td style=\"text-align:left\" title=\"010320174dc3848-2e16-4311-b1d9-c375cdc5e870_0\">010320174dc3848-2e16-4311-b1d9-c375cdc5e870_0</td><td style=\"text-align:left\" title=\"9522\">9522</td><td style=\"text-align:left\" title=\"ide_start\">ide_start</td><td style=\"text-align:left\" title=\"event.log_whitelist.loaded_whitelist.loaded , lifecycle_ide.start_ide.start , ui.dialogs_show_com.intellij.openapi.progress.util.ProgressDialog$MyDialogWrapper , lifecycle_project.opened_project.opened , ui.dialogs_close_com.intellij.openapi.progress.util.ProgressDialog$MyDialogWrapper , lifecycle_project.opening.finished_project.opening.finished\">event.log_whitelist.loaded_whitelist.loaded , l...</td><td style=\"text-align:left\" title=\"0\">0</td></tr><tr><td style=\"text-align:left\" title=\"080519115073e28-5728-49ef-9c2b-32cf73599561_47\">080519115073e28-5728-49ef-9c2b-32cf73599561_47</td><td style=\"text-align:left\" title=\"73478\">73478</td><td style=\"text-align:left\" title=\"ide_close, ide_start, vcs\">ide_close, ide_start, vcs</td><td style=\"text-align:left\" title=\"ui.dialogs_show_com.intellij.openapi.ui.messages.MessageDialog , lifecycle_ide.close_ide.close , lifecycle_project.closed_project.closed , event.log_whitelist.loaded_whitelist.loaded , lifecycle_ide.start_ide.start , ui.dialogs_show_com.intellij.openapi.progress.util.ProgressDialog$MyDialogWrapper , lifecycle_project.opened_project.opened , toolwindow_activated_unknown , project.import_started_started , project.import_finished_finished , ui.dialogs_close_com.intellij.openapi.progress.util.ProgressDialog$MyDialogWrapper , lifecycle_project.opening.finished_project.opening.finished , project.import_finished_finished , project.import_started_started , project.import_started_started , project.import_finished_finished , project.import_finished_finished , project.import_started_started , project.import_started_started , project.import_finished_finished , project.import_finished_finished , project.import_started_started , project.import_finished_finished , project.import_started_started , startup_bootstrap_bootstrap , startup_splash_splash , startup_totalDuration_totalDuration , startup_appInit_appInit , actions_action.invoked_HideActiveWindow , toolbar_clicked_HideActiveWindow , toolwindow_activated_unknown , actions_action.invoked_Maven.Reimport , toolbar_clicked_Maven.Reimport , project.import_started_started , project.import_finished_finished , project.import_started_started , ui.event_BreadcrumbShowTooltip_BreadcrumbShowTooltip\">ui.dialogs_show_com.intellij.openapi.ui.message...</td><td style=\"text-align:left\" title=\"0\">0</td></tr><tr><td style=\"text-align:left\" title=\"2301203c6654363-c5e7-4353-83ed-d4dc97a35802_23\">2301203c6654363-c5e7-4353-83ed-d4dc97a35802_23</td><td style=\"text-align:left\" title=\"110010\">110010</td><td style=\"text-align:left\" title=\"ide_start\">ide_start</td><td style=\"text-align:left\" title=\"event.log_whitelist.loaded_whitelist.loaded , lifecycle_ide.start_ide.start , ui.dialogs_show_com.intellij.openapi.progress.util.ProgressDialog$MyDialogWrapper , lifecycle_project.opened_project.opened , toolwindow_activated_Project , ui.tips_dialog.shown_automatically , ui.tips_tip.shown_tip.shown , ui.dialogs_show_com.intellij.ide.util.TipDialog , ui.dialogs_close_com.intellij.ide.util.TipDialog , ui.dialogs_close_com.intellij.openapi.progress.util.ProgressDialog$MyDialogWrapper , project.import_started_started , project.import_finished_finished , lifecycle_project.opening.finished_project.opening.finished , startup_totalDuration_totalDuration , startup_bootstrap_bootstrap , startup_splash_splash , startup_appInit_appInit\">event.log_whitelist.loaded_whitelist.loaded , l...</td><td style=\"text-align:left\" title=\"0\">0</td></tr><tr><td style=\"text-align:left\" title=\"1802202292b047e-5416-4f1a-b91e-75e6b63518c4_6\">1802202292b047e-5416-4f1a-b91e-75e6b63518c4_6</td><td style=\"text-align:left\" title=\"70497\">70497</td><td style=\"text-align:left\" title=\"notifications\">notifications</td><td style=\"text-align:left\" title=\"actions_action.invoked_WelcomeScreen.ImportProject , actions_action.invoked_com.intellij.openapi.wm.impl.welcomeScreen.FlatWelcomeFrame$FlatWelcomeScreen$5 , ui.dialogs_show_com.intellij.openapi.progress.util.ProgressDialog$MyDialogWrapper , lifecycle_project.opened_project.opened , toolwindow_activated_Project , project.import_started_started , project.import_finished_finished , ui.dialogs_close_com.intellij.openapi.progress.util.ProgressDialog$MyDialogWrapper , lifecycle_project.opening.finished_project.opening.finished , vfs_refreshed_refreshed , startup_totalDuration_totalDuration , actions_action.invoked_ImportProject , ui.dialogs_show_com.intellij.ide.util.newProjectWizard.AddModuleWizard , ui.dialogs_close_com.intellij.ide.util.newProjectWizard.AddModuleWizard , project.import_started_started , ui.dialogs_show_com.intellij.openapi.progress.util.ProgressDialog$MyDialogWrapper , project.import_finished_finished , ui.dialogs_close_com.intellij.openapi.progress.util.ProgressDialog$MyDialogWrapper , project.import_started_started , ui.dialogs_show_com.intellij.openapi.progress.util.ProgressDialog$MyDialogWrapper , ui.dialogs_close_com.intellij.openapi.progress.util.ProgressDialog$MyDialogWrapper , lifecycle_project.closed_project.closed , lifecycle_project.opened_project.opened , ui.dialogs_show_com.intellij.openapi.progress.util.ProgressDialog$MyDialogWrapper , file.types.usage_open_Markdown , vfs_refreshed_refreshed , lifecycle_project.opening.finished_project.opening.finished\">actions_action.invoked_WelcomeScreen.ImportProj...</td><td style=\"text-align:left\" title=\"0\">0</td></tr><tr><td style=\"text-align:left\" title=\"0602201c6baf4ff-c013-40a0-960e-58b7c6c3b523_72\">0602201c6baf4ff-c013-40a0-960e-58b7c6c3b523_72</td><td style=\"text-align:left\" title=\"63052\">63052</td><td style=\"text-align:left\" title=\"ide_start\">ide_start</td><td style=\"text-align:left\" title=\"event.log_whitelist.loaded_whitelist.loaded , lifecycle_ide.start_ide.start , ui.dialogs_show_com.intellij.openapi.progress.util.ProgressDialog$MyDialogWrapper , lifecycle_project.opened_project.opened , project.import_started_started , ui.dialogs_close_com.intellij.openapi.progress.util.ProgressDialog$MyDialogWrapper , project.import_finished_finished , lifecycle_project.opening.finished_project.opening.finished , project.import_started_started , project.import_finished_finished , project.import_started_started , project.import_started_started , project.import_finished_finished , project.import_finished_finished , project.import_finished_finished , project.import_started_started , project.import_started_started , project.import_finished_finished , project.import_started_started , project.import_finished_finished , startup_appInit_appInit , startup_bootstrap_bootstrap , startup_totalDuration_totalDuration , startup_splash_splash\">event.log_whitelist.loaded_whitelist.loaded , l...</td><td style=\"text-align:left\" title=\"0\">0</td></tr><tr><td style=\"text-align:left\" title=\"2312191e0386684-bedf-43c4-b2ba-35c7e99673e6_6\">2312191e0386684-bedf-43c4-b2ba-35c7e99673e6_6</td><td style=\"text-align:left\" title=\"76995\">76995</td><td style=\"text-align:left\" title=\"coding, ide_start\">coding, ide_start</td><td style=\"text-align:left\" title=\"actions_action.invoked_EditorEnter , file.types.usage_edit_JAVA , actions_action.invoked_EditorDown , actions_action.invoked_EditorChooseLookupItem , productivity_feature.used_editing.completion.basic , completion_finished_finished , event.log_whitelist.loaded_whitelist.loaded , lifecycle_ide.start_ide.start , ui.dialogs_show_com.intellij.openapi.progress.util.ProgressDialog$MyDialogWrapper , lifecycle_project.opened_project.opened , toolwindow_activated_Project , ui.dialogs_close_com.intellij.openapi.progress.util.ProgressDialog$MyDialogWrapper , project.import_started_started , project.import_finished_finished , lifecycle_project.opening.finished_project.opening.finished , startup_appInit_appInit , startup_splash_splash , startup_bootstrap_bootstrap , startup_totalDuration_totalDuration , project.import_started_started , project.import_finished_finished , project.import_started_started , project.import_finished_finished , project.import_started_started , project.import_finished_finished , project.import_finished_finished , project.import_started_started , project.import_finished_finished , project.import_started_started , project.import_started_started , project.import_finished_finished\">actions_action.invoked_EditorEnter , file.types...</td><td style=\"text-align:left\" title=\"0\">0</td></tr><tr><td style=\"text-align:left\" title=\"2708191ab7da435-dddd-4e85-903e-bed08fd86f42_0\">2708191ab7da435-dddd-4e85-903e-bed08fd86f42_0</td><td style=\"text-align:left\" title=\"39066\">39066</td><td style=\"text-align:left\" title=\"ide_start, reading\">ide_start, reading</td><td style=\"text-align:left\" title=\"event.log_whitelist.loaded_whitelist.loaded , lifecycle_ide.start_ide.start , ui.dialogs_show_com.intellij.openapi.progress.util.ProgressDialog$MyDialogWrapper , lifecycle_project.opened_project.opened , toolwindow_activated_Project , toolwindow_activated_Terminal , ui.tips_dialog.shown_automatically , ui.tips_tip.shown_tip.shown , ui.dialogs_show_com.intellij.ide.util.TipDialog , project.import_started_started , project.import_finished_finished , ui.dialogs_close_com.intellij.ide.util.TipDialog , toolwindow_activated_Project , toolwindow_activated_Terminal , terminalShell_local.exec_local.exec , ui.dialogs_close_com.intellij.openapi.progress.util.ProgressDialog$MyDialogWrapper , lifecycle_project.opening.finished_project.opening.finished , toolwindow_activated_Project , project.import_finished_finished , project.import_started_started , project.import_started_started , project.import_finished_finished , project.import_started_started , project.import_finished_finished , project.import_started_started , project.import_finished_finished , project.import_started_started , project.import_finished_finished , project.import_finished_finished , project.import_started_started , startup_totalDuration_totalDuration , startup_appInit_appInit , startup_bootstrap_bootstrap , startup_splash_splash , actions_action.invoked_GotoDeclaration , productivity_feature.used_navigation.goto.declaration , file.types.usage_open_JAVA , productivity_feature.used_editing.select.word\">event.log_whitelist.loaded_whitelist.loaded , l...</td><td style=\"text-align:left\" title=\"0\">0</td></tr><tr><td style=\"text-align:left\" title=\"2502201f9e8e9f6-2864-4683-8656-ff505737faf5_0\">2502201f9e8e9f6-2864-4683-8656-ff505737faf5_0</td><td style=\"text-align:left\" title=\"33824\">33824</td><td style=\"text-align:left\" title=\"ide_start\">ide_start</td><td style=\"text-align:left\" title=\"event.log_whitelist.loaded_whitelist.loaded , lifecycle_ide.start_ide.start , ui.dialogs_show_com.intellij.openapi.progress.util.ProgressDialog$MyDialogWrapper , lifecycle_project.opened_project.opened , toolwindow_activated_Project , ui.tips_dialog.shown_automatically , ui.dialogs_show_com.intellij.ide.util.TipDialog , ui.tips_tip.shown_tip.shown , ui.dialogs_close_com.intellij.openapi.progress.util.ProgressDialog$MyDialogWrapper , lifecycle_project.opening.finished_project.opening.finished , startup_totalDuration_totalDuration , startup_appInit_appInit , startup_bootstrap_bootstrap , startup_splash_splash , project.import_started_started\">event.log_whitelist.loaded_whitelist.loaded , l...</td><td style=\"text-align:left\" title=\"0\">0</td></tr><tr><td style=\"text-align:left\" title=\"2008192a4cb0091-0b85-49f5-98ba-6422fde8c848_0\">2008192a4cb0091-0b85-49f5-98ba-6422fde8c848_0</td><td style=\"text-align:left\" title=\"46680\">46680</td><td style=\"text-align:left\" title=\"ide_start\">ide_start</td><td style=\"text-align:left\" title=\"lifecycle_ide.start_ide.start , event.log_whitelist.loaded_whitelist.loaded , ui.dialogs_show_com.intellij.openapi.progress.util.ProgressDialog$MyDialogWrapper , lifecycle_project.opened_project.opened , ui.dialogs_close_com.intellij.openapi.progress.util.ProgressDialog$MyDialogWrapper , ui.dialogs_show_com.intellij.openapi.progress.util.ProgressDialog$MyDialogWrapper , lifecycle_project.opened_project.opened , toolwindow_activated_Project , vfs_refreshed_refreshed , ui.dialogs_close_com.intellij.openapi.progress.util.ProgressDialog$MyDialogWrapper , lifecycle_project.opening.finished_project.opening.finished , lifecycle_project.opening.finished_project.opening.finished , vfs_refreshed_refreshed , startup_totalDuration_totalDuration , vfs_refreshed_refreshed , ui.dialogs_show_com.intellij.ide.a.k.h , ui.dialogs_close_com.intellij.ide.a.k.h , lifecycle_ide.close_ide.close , lifecycle_project.closed_project.closed , lifecycle_project.closed_project.closed\">lifecycle_ide.start_ide.start , event.log_white...</td><td style=\"text-align:left\" title=\"0\">0</td></tr><tr><td style=\"text-align:left\" title=\"1606191517c5450-298c-4291-9291-3506c726fba5_42\">1606191517c5450-298c-4291-9291-3506c726fba5_42</td><td style=\"text-align:left\" title=\"28625\">28625</td><td style=\"text-align:left\" title=\"ide_start\">ide_start</td><td style=\"text-align:left\" title=\"event.log_whitelist.loaded_whitelist.loaded , lifecycle_ide.start_ide.start , ui.dialogs_show_com.intellij.openapi.progress.util.ProgressDialog$MyDialogWrapper , project.import_started_started , project.import_finished_finished , ui.dialogs_close_com.intellij.openapi.progress.util.ProgressDialog$MyDialogWrapper , lifecycle_project.opened_project.opened , ui.tips_dialog.shown_automatically , ui.tips_tip.shown_tip.shown , ui.dialogs_show_com.intellij.ide.util.TipDialog , project.import_started_started , toolwindow_activated_Project , file.types.usage_open_Markdown , lifecycle_project.opening.finished_project.opening.finished , toolwindow_activated_unknown , project.import_finished_finished , ui.dialogs_close_com.intellij.ide.util.TipDialog , toolwindow_activated_Project , toolwindow_activated_unknown , project.import_started_started , project.import_finished_finished , project.import_started_started , project.import_finished_finished , project.import_started_started , project.import_finished_finished , project.import_started_started , project.import_started_started , project.import_finished_finished , project.import_finished_finished , project.import_started_started , project.import_started_started , project.import_finished_finished , project.import_started_started , project.import_finished_finished , project.import_finished_finished , project.import_finished_finished , project.import_started_started , startup_splash_splash , startup_bootstrap_bootstrap , startup_totalDuration_totalDuration , startup_appInit_appInit\">event.log_whitelist.loaded_whitelist.loaded , l...</td><td style=\"text-align:left\" title=\"0\">0</td></tr><tr><td style=\"text-align:left\" title=\"1606191517c5450-298c-4291-9291-3506c726fba5_45\">1606191517c5450-298c-4291-9291-3506c726fba5_45</td><td style=\"text-align:left\" title=\"56698\">56698</td><td style=\"text-align:left\" title=\"reading\">reading</td><td style=\"text-align:left\" title=\"ui.event_BreadcrumbShowTooltip_BreadcrumbShowTooltip , actions_action.invoked_OpenFile , ui.dialogs_show_com.intellij.openapi.fileChooser.ex.FileChooserDialogImpl , ui.dialogs_close_com.intellij.openapi.fileChooser.ex.FileChooserDialogImpl , ui.dialogs_show_com.intellij.openapi.progress.util.ProgressDialog$MyDialogWrapper , project.import_finished_finished , project.import_started_started , ui.dialogs_show_com.intellij.openapi.ui.messages.MessageDialog , ui.dialogs_close_com.intellij.openapi.progress.util.ProgressDialog$MyDialogWrapper , lifecycle_project.opened_project.opened , project.import_started_started , toolwindow_activated_Project , file.types.usage_open_Markdown , lifecycle_project.opening.finished_project.opening.finished , toolwindow_activated_unknown , project.import_finished_finished , project.import_started_started , project.import_finished_finished , toolwindow_activated_Project , project.import_started_started , project.import_started_started , project.import_finished_finished , project.import_finished_finished , project.import_started_started , project.import_finished_finished , project.import_started_started , project.import_finished_finished , project.import_started_started , project.import_finished_finished , project.import_started_started , project.import_finished_finished , project.import_started_started , project.import_finished_finished , project.import_finished_finished , project.import_started_started , toolwindow_activated_Project , actions_action.invoked_$Copy\">ui.event_BreadcrumbShowTooltip_BreadcrumbShowTo...</td><td style=\"text-align:left\" title=\"0\">0</td></tr><tr><td style=\"text-align:left\" title=\"1104191e052eb49-5603-4078-bb9f-124b4bb95b08_1\">1104191e052eb49-5603-4078-bb9f-124b4bb95b08_1</td><td style=\"text-align:left\" title=\"59179\">59179</td><td style=\"text-align:left\" title=\"ide_start\">ide_start</td><td style=\"text-align:left\" title=\"event.log_whitelist.loaded_whitelist.loaded , lifecycle_ide.start_ide.start , ui.dialogs_show_com.intellij.openapi.progress.util.ProgressDialog$MyDialogWrapper , lifecycle_project.opened_project.opened , toolwindow_activated_Project , ui.tips_dialog.shown_automatically , ui.tips_tip.shown_tip.shown , ui.dialogs_show_com.intellij.ide.util.TipDialog , ui.dialogs_close_com.intellij.openapi.progress.util.ProgressDialog$MyDialogWrapper , lifecycle_project.opening.finished_project.opening.finished , ui.dialogs_close_com.intellij.ide.util.TipDialog , file.types.usage_open_JAVA , grazi.count_language.detected_language.detected , ui.dialogs_show_com.intellij.openapi.ui.messages.MessageDialog , lifecycle_ide.close_ide.close , lifecycle_project.closed_project.closed\">event.log_whitelist.loaded_whitelist.loaded , l...</td><td style=\"text-align:left\" title=\"0\">0</td></tr><tr><td style=\"text-align:left\" title=\"13012018d428996-9ed3-455a-a324-ace997b4c6c1_0\">13012018d428996-9ed3-455a-a324-ace997b4c6c1_0</td><td style=\"text-align:left\" title=\"55204\">55204</td><td style=\"text-align:left\" title=\"ide_start\">ide_start</td><td style=\"text-align:left\" title=\"event.log_whitelist.loaded_whitelist.loaded , lifecycle_ide.start_ide.start , ui.dialogs_show_com.intellij.openapi.progress.util.ProgressDialog$MyDialogWrapper , lifecycle_project.opened_project.opened , toolwindow_activated_Project , project.import_started_started , project.import_finished_finished , ui.dialogs_close_com.intellij.openapi.progress.util.ProgressDialog$MyDialogWrapper , vfs_refreshed_refreshed , lifecycle_project.opening.finished_project.opening.finished , startup_splash_splash , startup_totalDuration_totalDuration , startup_appInit_appInit , startup_bootstrap_bootstrap\">event.log_whitelist.loaded_whitelist.loaded , l...</td><td style=\"text-align:left\" title=\"0\">0</td></tr><tr><td style=\"text-align:left\" title=\"0804192594ea032-a470-4400-9e1f-48b2524b31e1_0\">0804192594ea032-a470-4400-9e1f-48b2524b31e1_0</td><td style=\"text-align:left\" title=\"61513\">61513</td><td style=\"text-align:left\" title=\"ide_start, settings\">ide_start, settings</td><td style=\"text-align:left\" title=\"event.log_whitelist.loaded_whitelist.loaded , import.old.config_import.dialog.shown_import.dialog.shown , lifecycle_ide.start_ide.start , ui.dialogs_show_com.intellij.openapi.progress.util.ProgressDialog$MyDialogWrapper , lifecycle_project.opened_project.opened , toolwindow_activated_Event_Log , toolwindow_activated_Project , project.import_started_started , ui.dialogs_close_com.intellij.openapi.progress.util.ProgressDialog$MyDialogWrapper , lifecycle_project.opening.finished_project.opening.finished , toolwindow_activated_unknown , project.import_finished_finished , toolwindow_activated_validation.unmatched_rule , startup_bootstrap_bootstrap , startup_appInit_appInit , startup_splash_splash , startup_totalDuration_totalDuration , project.import_started_started , project.import_finished_finished , actions_action.invoked_EditCustomVmOptions , file.types.usage_open_PLAIN_TEXT , actions_action.invoked_EditCustomVmOptions\">event.log_whitelist.loaded_whitelist.loaded , i...</td><td style=\"text-align:left\" title=\"0\">0</td></tr><tr><td style=\"text-align:left\" title=\"27022012c79e308-1ef8-44da-918a-c413e8f86bc7_0\">27022012c79e308-1ef8-44da-918a-c413e8f86bc7_0</td><td style=\"text-align:left\" title=\"45771\">45771</td><td style=\"text-align:left\" title=\"ide_start\">ide_start</td><td style=\"text-align:left\" title=\"event.log_whitelist.loaded_whitelist.loaded , lifecycle_ide.start_ide.start , ui.dialogs_show_com.intellij.openapi.progress.util.ProgressDialog$MyDialogWrapper , lifecycle_project.opened_project.opened\">event.log_whitelist.loaded_whitelist.loaded , l...</td><td style=\"text-align:left\" title=\"0\">0</td></tr><tr><td style=\"text-align:left\" title=\"30071919d2d50dd-3188-46b3-8be0-038264b3f08a_9\">30071919d2d50dd-3188-46b3-8be0-038264b3f08a_9</td><td style=\"text-align:left\" title=\"37208\">37208</td><td style=\"text-align:left\" title=\"ide_start\">ide_start</td><td style=\"text-align:left\" title=\"event.log_whitelist.loaded_whitelist.loaded , lifecycle_ide.start_ide.start , ui.dialogs_show_com.intellij.openapi.progress.util.ProgressDialog$MyDialogWrapper , lifecycle_project.opened_project.opened\">event.log_whitelist.loaded_whitelist.loaded , l...</td><td style=\"text-align:left\" title=\"0\">0</td></tr></table></body></html>"
      ]
     },
     "execution_count": 50,
     "metadata": {},
     "output_type": "execute_result"
    }
   ],
   "source": [
    "ndf.filter {it[\"clust\"] eq 0}"
   ]
  },
  {
   "cell_type": "code",
   "execution_count": null,
   "metadata": {},
   "outputs": [],
   "source": []
  },
  {
   "cell_type": "code",
   "execution_count": 143,
   "metadata": {},
   "outputs": [],
   "source": [
    "// val gr = ndf.filterByRow {(it[\"clust\"] as Int) != 0}.groupBy(\"clust\").groups()\n",
    "val gr = ndf.groupBy(\"clust\").groups()\n",
    "\n",
    "\n",
    "var vl = HashMap<Int, Pair<String, Double>>()\n",
    "var good = 0.0\n",
    "var tot = 0.0\n",
    "for (g in gr) {\n",
    "    val ht = HashMap<String, Int>()\n",
    "    for (i in 0 until g.nrow) {\n",
    "        val cats = g[\"Category\"][i].toString().toLowerCase().split(\", \")\n",
    "        for (cat in cats) {\n",
    "            if (ht.contains(cat)) {\n",
    "                ht[cat] = ht.getOrDefault(cat, 0) + 1\n",
    "            }\n",
    "            else {\n",
    "                ht[cat] = 0\n",
    "            }\n",
    "        }\n",
    "    }\n",
    "    var k:String = \"lol\"\n",
    "    for (e in ht.keys) {\n",
    "        val pm:Int = ht.getOrDefault(k, 0)\n",
    "        val cv:Int = ht.getOrDefault(e, 0)\n",
    "        if (cv > pm) {\n",
    "            k = e\n",
    "        }\n",
    "    }\n",
    "    if (k != \"lol\") {\n",
    "        vl[g[\"clust\"][0] as Int] = Pair(k, 1.0 * ht.getOrDefault(k, 0) / g.nrow)\n",
    "        tot += g.nrow\n",
    "        good += ht.getOrDefault(k, 0)\n",
    "    }\n",
    "}"
   ]
  },
  {
   "cell_type": "code",
   "execution_count": 144,
   "metadata": {
    "scrolled": true
   },
   "outputs": [
    {
     "data": {
      "text/plain": [
       "{0=(vcs, 0.9), 1=(run_build_debug, 0.75), 2=(coding, 0.7777777777777778), 3=(coding, 0.8888888888888888), 4=(coding, 0.8), 5=(coding, 0.8333333333333334), 6=(coding, 0.9411764705882353), 7=(coding, 0.6), 8=(coding, 0.9787234042553191), 9=(coding, 0.9629629629629629), 10=(run_build_debug, 0.9411764705882353), 11=(ide_start, 0.5833333333333334), 12=(reading, 0.9285714285714286), 13=(coding, 0.4), 14=(coding, 0.3548387096774194), 15=(run_build_debug, 0.9772727272727273)}"
      ]
     },
     "execution_count": 144,
     "metadata": {},
     "output_type": "execute_result"
    }
   ],
   "source": [
    "vl // все"
   ]
  },
  {
   "cell_type": "code",
   "execution_count": 145,
   "metadata": {},
   "outputs": [
    {
     "data": {
      "text/plain": [
       "0.7212276214833759"
      ]
     },
     "execution_count": 145,
     "metadata": {},
     "output_type": "execute_result"
    }
   ],
   "source": [
    "good / tot"
   ]
  },
  {
   "cell_type": "code",
   "execution_count": 119,
   "metadata": {},
   "outputs": [
    {
     "data": {
      "text/plain": [
       "{0=(ide_start, 0.5555555555555556), 1=(coding, 0.971830985915493), 2=(run_build_debug, 0.9622641509433962), 3=(vcs, 0.9285714285714286), 4=(reading, 0.39634146341463417), 5=(coding, 0.9032258064516129)}"
      ]
     },
     "execution_count": 119,
     "metadata": {},
     "output_type": "execute_result"
    }
   ],
   "source": [
    "vl // только короткие"
   ]
  },
  {
   "cell_type": "code",
   "execution_count": 107,
   "metadata": {},
   "outputs": [
    {
     "data": {
      "text/plain": [
       "0.5692307692307692"
      ]
     },
     "execution_count": 107,
     "metadata": {},
     "output_type": "execute_result"
    }
   ],
   "source": [
    "good / tot"
   ]
  },
  {
   "cell_type": "code",
   "execution_count": 139,
   "metadata": {},
   "outputs": [],
   "source": [
    "var res = ArrayList<Double>()\n",
    "val x = ArrayList<Int>()\n",
    "for (t in 5 until 100 step 3) {\n",
    "    for (i in ses.indices) {\n",
    "        for (j in ses.indices) {\n",
    "            d[i][j] = dist(ses[i], ses[j], t)\n",
    "        }\n",
    "    }\n",
    "    val clusters = HierarchicalClustering.fit(CompleteLinkage.of(d))\n",
    "    val clust = IntCol(\"clust\", clusters.partition(1+5))\n",
    "    val ndf =df.addColumn(\"clust\") {clust}\n",
    "    \n",
    "    val gr = ndf.filterByRow {(it[\"clust\"] as Int) != 0}.groupBy(\"clust\").groups()\n",
    "    var good = 0.0\n",
    "    var tot = 0.0\n",
    "    for (g in gr) {\n",
    "        val ht = HashMap<String, Int>()\n",
    "        for (i in 0 until g.nrow) {\n",
    "            val cats = g[\"Category\"][i].toString().toLowerCase().split(\", \")\n",
    "            for (cat in cats) {\n",
    "                if (ht.contains(cat)) {\n",
    "                    ht[cat] = ht.getOrDefault(cat, 0) + 1\n",
    "                }\n",
    "                else {\n",
    "                    ht[cat] = 0\n",
    "                }\n",
    "            }\n",
    "        }\n",
    "        var k:String = \"lol\"\n",
    "        for (e in ht.keys) {\n",
    "            val pm:Int = ht.getOrDefault(k, 0)\n",
    "            val cv:Int = ht.getOrDefault(e, 0)\n",
    "            if (cv > pm) {\n",
    "                k = e\n",
    "            }\n",
    "        }\n",
    "        if (k != \"lol\") {\n",
    "            tot += g.nrow\n",
    "            good += ht.getOrDefault(k, 0)\n",
    "        }\n",
    "    }\n",
    "    res.add(good / tot)\n",
    "    x.add(t)\n",
    "}"
   ]
  },
  {
   "cell_type": "code",
   "execution_count": 140,
   "metadata": {},
   "outputs": [
    {
     "data": {
      "text/html": [
       "   <div id=\"k4A23T\"></div>\n",
       "   <script type=\"text/javascript\">\n",
       "       (function() {\n",
       "           var plotSpec={\n",
       "'mapping':{\n",
       "'x':\"x\",\n",
       "'y':\"y\"\n",
       "},\n",
       "'data':{\n",
       "'x':[5.0,8.0,11.0,14.0,17.0,20.0,23.0,26.0,29.0,32.0,35.0,38.0,41.0,44.0,47.0,50.0,53.0,56.0,59.0,62.0,65.0,68.0,71.0,74.0,77.0,80.0,83.0,86.0,89.0,92.0,95.0,98.0],\n",
       "'y':[0.4864864864864865,0.5333333333333333,0.5825242718446602,0.5589519650655022,0.5862068965517241,0.5770609318996416,0.5728813559322034,0.5886075949367089,0.5846153846153846,0.6342182890855457,0.6264367816091954,0.6333333333333333,0.6233062330623306,0.6229946524064172,0.6478494623655914,0.6640419947506562,0.6640419947506562,0.6640419947506562,0.6640419947506562,0.6640419947506562,0.6640419947506562,0.6640419947506562,0.6640419947506562,0.6640419947506562,0.6640419947506562,0.6640419947506562,0.6640419947506562,0.6640419947506562,0.6640419947506562,0.6640419947506562,0.6640419947506562,0.6640419947506562]\n",
       "},\n",
       "'kind':\"plot\",\n",
       "'scales':[],\n",
       "'layers':[{\n",
       "'stat':\"identity\",\n",
       "'mapping':{\n",
       "},\n",
       "'data':{\n",
       "},\n",
       "'position':\"identity\",\n",
       "'geom':\"line\"\n",
       "}]\n",
       "};\n",
       "           var plotContainer = document.getElementById(\"k4A23T\");\n",
       "           window.letsPlotCall(function() {{\n",
       "               LetsPlot.buildPlotFromProcessedSpecs(plotSpec, -1, -1, plotContainer);\n",
       "           }});\n",
       "       })();    \n",
       "   </script>"
      ]
     },
     "execution_count": 140,
     "metadata": {},
     "output_type": "execute_result"
    }
   ],
   "source": [
    "val pl = mapOf(\"x\" to x, \"y\" to res)\n",
    "val p = lets_plot(pl) {x = \"x\"; y = \"y\"}\n",
    "p + geom_line()"
   ]
  },
  {
   "cell_type": "code",
   "execution_count": null,
   "metadata": {},
   "outputs": [],
   "source": []
  }
 ],
 "metadata": {
  "kernelspec": {
   "display_name": "Kotlin",
   "language": "kotlin",
   "name": "kotlin"
  },
  "language_info": {
   "codemirror_mode": "text/x-kotlin",
   "file_extension": "kt",
   "name": "kotlin"
  }
 },
 "nbformat": 4,
 "nbformat_minor": 2
}
