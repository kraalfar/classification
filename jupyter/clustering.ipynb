{
 "cells": [
  {
   "cell_type": "code",
   "execution_count": 1,
   "metadata": {},
   "outputs": [],
   "source": [
    "%use kotlin-statistics, krangl, kravis, klaxon"
   ]
  },
  {
   "cell_type": "code",
   "execution_count": 2,
   "metadata": {},
   "outputs": [],
   "source": [
    "import kotlin.math.*"
   ]
  },
  {
   "cell_type": "code",
   "execution_count": 3,
   "metadata": {},
   "outputs": [],
   "source": [
    "@file:Repository(\"https://dl.bintray.com/kyonifer/maven\")\n",
    "@file:DependsOn(\"com.kyonifer:koma-core-ejml:0.12\")\n",
    "@file:DependsOn(\"com.kyonifer:koma-plotting:0.12\")"
   ]
  },
  {
   "cell_type": "code",
   "execution_count": 4,
   "metadata": {},
   "outputs": [],
   "source": [
    "// @file:Repository(\"https://repo1.maven.org/maven2\")\n",
    "@file:DependsOn(\"com.github.haifengl:smile-core:2.2.2\")"
   ]
  },
  {
   "cell_type": "code",
   "execution_count": 5,
   "metadata": {},
   "outputs": [],
   "source": [
    "import koma.extensions.*\n",
    "import koma.*"
   ]
  },
  {
   "cell_type": "code",
   "execution_count": 15,
   "metadata": {},
   "outputs": [],
   "source": [
    "import smile.math.distance.DynamicTimeWarping"
   ]
  },
  {
   "cell_type": "code",
   "execution_count": 25,
   "metadata": {},
   "outputs": [],
   "source": [
    "import smile.clustering.HierarchicalClustering\n",
    "import smile.clustering.linkage.CompleteLinkage"
   ]
  },
  {
   "cell_type": "code",
   "execution_count": 8,
   "metadata": {},
   "outputs": [],
   "source": [
    "class Action(val time: Long, val group_id: String, val event_id: String, val dt: String) {\n",
    "    fun print() {\n",
    "        println(\"$time $group_id $event_id $dt\")\n",
    "    }\n",
    "\n",
    "    fun getEvent(): String {\n",
    "        return \"$group_id; $event_id; $dt\"\n",
    "    }\n",
    "}\n"
   ]
  },
  {
   "cell_type": "code",
   "execution_count": 10,
   "metadata": {},
   "outputs": [],
   "source": [
    "class Session(val id: String, val startTime: Long = 0) {\n",
    "    var actions: ArrayList<Action> = ArrayList()\n",
    "\n",
    "    fun add(time: Long, group: String, event: String, action: String) {\n",
    "        actions.add(Action(time,group,event, action))\n",
    "    }\n",
    "\n",
    "    fun print() {\n",
    "        println(id)\n",
    "        for (action in actions) {\n",
    "            action.print()\n",
    "        }\n",
    "    }\n",
    "\n",
    "    fun time(): Long {\n",
    "        return actions[actions.size - 1].time\n",
    "    }\n",
    "\n",
    "    fun events(): String {\n",
    "        val events = ArrayList<String>()\n",
    "        for (action in actions)\n",
    "            events.add(action.getEvent())\n",
    "        return events.joinToString(separator = \" , \")\n",
    "    }\n",
    "\n",
    "\n",
    "\n",
    "    fun times(): String {\n",
    "        val times = ArrayList<String>()\n",
    "        for (action in actions)\n",
    "            times.add(action.time.toString())\n",
    "        return times.joinToString(separator = \" , \")\n",
    "    }\n",
    "}\n"
   ]
  },
  {
   "cell_type": "code",
   "execution_count": 11,
   "metadata": {},
   "outputs": [],
   "source": [
    "fun sessionsFromTSV(path: String): ArrayList<Session> {\n",
    "    val df = DataFrame.readTSV(path)\n",
    "    val ses = ArrayList<Session>()\n",
    "    for (i in 0 until df.nrow) {\n",
    "        val events = df[\"events\"][i].toString().split(\" , \")\n",
    "//        if (events.size < 3)\n",
    "//            continue\n",
    "        val times = df[\"timestamps\"][i].toString().split(\" , \")\n",
    "        ses.add(Session(df[\"session_id\"][i].toString()))\n",
    "        for (j in events.indices) {\n",
    "            val params = events[j].split(\" ;\")\n",
    "            ses[ses.size - 1].add(times[j].toLong(), params[0], params[1], params[2])\n",
    "        }\n",
    "    }\n",
    "    return ses\n",
    "}"
   ]
  },
  {
   "cell_type": "code",
   "execution_count": 12,
   "metadata": {},
   "outputs": [],
   "source": [
    "class ActionDist : smile.math.distance.Distance<Action> {\n",
    "    override fun d(x: Action, y: Action): Double {\n",
    "        var score = 1.0\n",
    "        if (x.group_id != y.group_id)\n",
    "            return score\n",
    "        score -= 1.0 / 2\n",
    "        if (x.event_id != y.event_id)\n",
    "            return score\n",
    "        score -= 1.0 / 4\n",
    "\n",
    "        if (x.dt != y.dt)\n",
    "            return score\n",
    "        return 0.0\n",
    "    }\n",
    "\n",
    "}"
   ]
  },
  {
   "cell_type": "code",
   "execution_count": 20,
   "metadata": {},
   "outputs": [],
   "source": [
    "val dtw = DynamicTimeWarping(ActionDist())\n",
    "\n",
    "fun DTWSession(s1: Session, s2: Session): Double {\n",
    "    val a1 = Array(s1.actions.size) { i -> s1.actions[i]}\n",
    "    val a2 = Array(s2.actions.size) { i -> s2.actions[i]}\n",
    "    return dtw.apply(a1, a2) / (a1.size + a2.size)\n",
    "}"
   ]
  },
  {
   "cell_type": "code",
   "execution_count": 31,
   "metadata": {},
   "outputs": [],
   "source": [
    "class DWTDist<T> : smile.math.distance.Distance<T> {\n",
    "    \n",
    "    public fun DWTDist(a: Int) {\n",
    "        print(a)\n",
    "    }\n",
    "    \n",
    "    override fun d(x: T, y: T): Double {\n",
    "        if (x is Session && y is Session)\n",
    "            return DTWSession(x, y)\n",
    "        return 1.0\n",
    "    }\n",
    "\n",
    "}"
   ]
  },
  {
   "cell_type": "code",
   "execution_count": 32,
   "metadata": {},
   "outputs": [],
   "source": [
    "val ses = sessionsFromTSV(\"../data/UI_1-2buckets_7march_session.tsv\")"
   ]
  },
  {
   "cell_type": "code",
   "execution_count": 34,
   "metadata": {},
   "outputs": [
    {
     "name": "stderr",
     "output_type": "stream",
     "text": [
      "java.lang.NoSuchMethodError: Line_34_jupyter$DWTDist: method <init>()V not found\n",
      "java.base/jdk.internal.reflect.NativeConstructorAccessorImpl.newInstance0(Native Method)\n",
      "java.base/jdk.internal.reflect.NativeConstructorAccessorImpl.newInstance(NativeConstructorAccessorImpl.java:62)\n",
      "java.base/jdk.internal.reflect.DelegatingConstructorAccessorImpl.newInstance(DelegatingConstructorAccessorImpl.java:45)\n",
      "java.base/java.lang.reflect.Constructor.newInstance(Constructor.java:490)\n",
      "kotlin.script.experimental.jvm.BasicJvmScriptEvaluator.evalWithConfigAndOtherScriptsResults(BasicJvmScriptEvaluator.kt:95)\n",
      "kotlin.script.experimental.jvm.BasicJvmScriptEvaluator.invoke$suspendImpl(BasicJvmScriptEvaluator.kt:40)\n",
      "kotlin.script.experimental.jvm.BasicJvmScriptEvaluator.invoke(BasicJvmScriptEvaluator.kt)\n",
      "kotlin.script.experimental.jvmhost.repl.JvmReplEvaluator$eval$$inlined$write$lambda$2.invokeSuspend(legacyReplEvaluation.kt:57)\n",
      "kotlin.coroutines.jvm.internal.BaseContinuationImpl.resumeWith(ContinuationImpl.kt:33)\n",
      "org.jetbrains.kotlin.mainKts.relocatedDeps.kotlinx.coroutines.DispatchedTask.run(Dispatched.kt:238)\n",
      "org.jetbrains.kotlin.mainKts.relocatedDeps.kotlinx.coroutines.EventLoopImplBase.processNextEvent(EventLoop.kt:116)\n",
      "org.jetbrains.kotlin.mainKts.relocatedDeps.kotlinx.coroutines.BlockingCoroutine.joinBlocking(Builders.kt:80)\n",
      "org.jetbrains.kotlin.mainKts.relocatedDeps.kotlinx.coroutines.BuildersKt__BuildersKt.runBlocking(Builders.kt:54)\n",
      "org.jetbrains.kotlin.mainKts.relocatedDeps.kotlinx.coroutines.BuildersKt.runBlocking(Unknown Source)\n",
      "org.jetbrains.kotlin.mainKts.relocatedDeps.kotlinx.coroutines.BuildersKt__BuildersKt.runBlocking$default(Builders.kt:36)\n",
      "org.jetbrains.kotlin.mainKts.relocatedDeps.kotlinx.coroutines.BuildersKt.runBlocking$default(Unknown Source)\n",
      "kotlin.script.experimental.jvmhost.repl.JvmReplEvaluator.eval(legacyReplEvaluation.kt:57)\n",
      "org.jetbrains.kotlin.cli.common.repl.ReplEvalAction$DefaultImpls.eval$default(ReplApi.kt:123)\n",
      "org.jetbrains.kotlin.jupyter.ReplForJupyter.doEval(repl.kt:266)\n",
      "org.jetbrains.kotlin.jupyter.ReplForJupyter.eval(repl.kt:199)\n",
      "org.jetbrains.kotlin.jupyter.ProtocolKt$shellMessagesHandler$res$1.invoke(protocol.kt:71)\n",
      "org.jetbrains.kotlin.jupyter.ProtocolKt$shellMessagesHandler$res$1.invoke(protocol.kt)\n",
      "org.jetbrains.kotlin.jupyter.ProtocolKt.evalWithIO(protocol.kt:201)\n",
      "org.jetbrains.kotlin.jupyter.ProtocolKt.shellMessagesHandler(protocol.kt:70)\n",
      "org.jetbrains.kotlin.jupyter.IkotlinKt.kernelServer(ikotlin.kt:104)\n",
      "org.jetbrains.kotlin.jupyter.IkotlinKt.main(ikotlin.kt:59)\n"
     ]
    }
   ],
   "source": [
    "val t = DWTDist<Session> ()"
   ]
  },
  {
   "cell_type": "code",
   "execution_count": 26,
   "metadata": {
    "scrolled": true
   },
   "outputs": [
    {
     "name": "stderr",
     "output_type": "stream",
     "text": [
      "java.lang.NoSuchMethodError: Line_20_jupyter$DWTDist: method <init>()V not found\n",
      "java.base/jdk.internal.reflect.NativeConstructorAccessorImpl.newInstance0(Native Method)\n",
      "java.base/jdk.internal.reflect.NativeConstructorAccessorImpl.newInstance(NativeConstructorAccessorImpl.java:62)\n",
      "java.base/jdk.internal.reflect.DelegatingConstructorAccessorImpl.newInstance(DelegatingConstructorAccessorImpl.java:45)\n",
      "java.base/java.lang.reflect.Constructor.newInstance(Constructor.java:490)\n",
      "kotlin.script.experimental.jvm.BasicJvmScriptEvaluator.evalWithConfigAndOtherScriptsResults(BasicJvmScriptEvaluator.kt:95)\n",
      "kotlin.script.experimental.jvm.BasicJvmScriptEvaluator.invoke$suspendImpl(BasicJvmScriptEvaluator.kt:40)\n",
      "kotlin.script.experimental.jvm.BasicJvmScriptEvaluator.invoke(BasicJvmScriptEvaluator.kt)\n",
      "kotlin.script.experimental.jvmhost.repl.JvmReplEvaluator$eval$$inlined$write$lambda$2.invokeSuspend(legacyReplEvaluation.kt:57)\n",
      "kotlin.coroutines.jvm.internal.BaseContinuationImpl.resumeWith(ContinuationImpl.kt:33)\n",
      "org.jetbrains.kotlin.mainKts.relocatedDeps.kotlinx.coroutines.DispatchedTask.run(Dispatched.kt:238)\n",
      "org.jetbrains.kotlin.mainKts.relocatedDeps.kotlinx.coroutines.EventLoopImplBase.processNextEvent(EventLoop.kt:116)\n",
      "org.jetbrains.kotlin.mainKts.relocatedDeps.kotlinx.coroutines.BlockingCoroutine.joinBlocking(Builders.kt:80)\n",
      "org.jetbrains.kotlin.mainKts.relocatedDeps.kotlinx.coroutines.BuildersKt__BuildersKt.runBlocking(Builders.kt:54)\n",
      "org.jetbrains.kotlin.mainKts.relocatedDeps.kotlinx.coroutines.BuildersKt.runBlocking(Unknown Source)\n",
      "org.jetbrains.kotlin.mainKts.relocatedDeps.kotlinx.coroutines.BuildersKt__BuildersKt.runBlocking$default(Builders.kt:36)\n",
      "org.jetbrains.kotlin.mainKts.relocatedDeps.kotlinx.coroutines.BuildersKt.runBlocking$default(Unknown Source)\n",
      "kotlin.script.experimental.jvmhost.repl.JvmReplEvaluator.eval(legacyReplEvaluation.kt:57)\n",
      "org.jetbrains.kotlin.cli.common.repl.ReplEvalAction$DefaultImpls.eval$default(ReplApi.kt:123)\n",
      "org.jetbrains.kotlin.jupyter.ReplForJupyter.doEval(repl.kt:266)\n",
      "org.jetbrains.kotlin.jupyter.ReplForJupyter.eval(repl.kt:199)\n",
      "org.jetbrains.kotlin.jupyter.ProtocolKt$shellMessagesHandler$res$1.invoke(protocol.kt:71)\n",
      "org.jetbrains.kotlin.jupyter.ProtocolKt$shellMessagesHandler$res$1.invoke(protocol.kt)\n",
      "org.jetbrains.kotlin.jupyter.ProtocolKt.evalWithIO(protocol.kt:201)\n",
      "org.jetbrains.kotlin.jupyter.ProtocolKt.shellMessagesHandler(protocol.kt:70)\n",
      "org.jetbrains.kotlin.jupyter.IkotlinKt.kernelServer(ikotlin.kt:104)\n",
      "org.jetbrains.kotlin.jupyter.IkotlinKt.main(ikotlin.kt:59)\n"
     ]
    }
   ],
   "source": [
    "val clusters = HierarchicalClustering.fit(CompleteLinkage.of(ses.toArray(), DWTDist()))"
   ]
  },
  {
   "cell_type": "code",
   "execution_count": null,
   "metadata": {},
   "outputs": [],
   "source": []
  }
 ],
 "metadata": {
  "kernelspec": {
   "display_name": "Kotlin",
   "language": "kotlin",
   "name": "kotlin"
  },
  "language_info": {
   "codemirror_mode": "text/x-kotlin",
   "file_extension": "kt",
   "name": "kotlin"
  }
 },
 "nbformat": 4,
 "nbformat_minor": 2
}
